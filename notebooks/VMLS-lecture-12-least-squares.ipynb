{
 "cells": [
  {
   "cell_type": "markdown",
   "metadata": {},
   "source": [
    "## Chapter 12 -- Least-squares estimation\n",
    "\n",
    "Modified by kmp 2022\n",
    "\n",
    "Sources:\n",
    "\n",
    "https://web.stanford.edu/~boyd/vmls/\n",
    "\n",
    "https://github.com/vbartle/VMLS-Companions\n",
    "\n",
    "Based on \"Boyd and Vandenberghe, 2021, Introduction to Applied Linear Algebra: Vectors, Matrices, and Least Squares - Julia Language Companion\" https://web.stanford.edu/~boyd/vmls/vmls-julia-companion.pdf\n"
   ]
  },
  {
   "cell_type": "code",
   "execution_count": 1,
   "metadata": {},
   "outputs": [],
   "source": [
    "using LinearAlgebra\n",
    "using VMLS"
   ]
  },
  {
   "cell_type": "markdown",
   "metadata": {},
   "source": [
    "### 12.1 Least squares problem\n",
    "We take the small least squares problem of Figure [12.1](https://web.stanford.edu/~boyd/vmls/vmls.pdf#figure.12.1) in VMLS and check that $‖Ax̂− b‖$ is less than $‖Ax−b‖$ for some other value of $x$. "
   ]
  },
  {
   "cell_type": "code",
   "execution_count": 2,
   "metadata": {},
   "outputs": [
    {
     "data": {
      "text/plain": [
       "3-element Vector{Float64}:\n",
       " -0.33333333333333337\n",
       " -0.6666666666666666\n",
       "  0.33333333333333337"
      ]
     },
     "metadata": {},
     "output_type": "display_data"
    }
   ],
   "source": [
    "A = [2 0; -1 1; 0 2]\n",
    "b = [1, 0, -1]\n",
    "xhat = [1/3, -1/3]\n",
    "rhat = A*xhat -b"
   ]
  },
  {
   "cell_type": "code",
   "execution_count": 3,
   "metadata": {},
   "outputs": [
    {
     "data": {
      "text/plain": [
       "0.816496580927726"
      ]
     },
     "execution_count": 3,
     "metadata": {},
     "output_type": "execute_result"
    }
   ],
   "source": [
    "norm(rhat)"
   ]
  },
  {
   "cell_type": "code",
   "execution_count": 3,
   "metadata": {},
   "outputs": [
    {
     "data": {
      "text/plain": [
       "3-element Vector{Float64}:\n",
       "  0.0\n",
       " -1.0\n",
       "  0.0"
      ]
     },
     "metadata": {},
     "output_type": "display_data"
    }
   ],
   "source": [
    "x = [1/2, -1/2]\n",
    "r = A*x -b"
   ]
  },
  {
   "cell_type": "code",
   "execution_count": 4,
   "metadata": {},
   "outputs": [
    {
     "data": {
      "text/plain": [
       "1.0"
      ]
     },
     "metadata": {},
     "output_type": "display_data"
    }
   ],
   "source": [
    "norm(r)"
   ]
  },
  {
   "cell_type": "markdown",
   "metadata": {},
   "source": [
    "### 12.2 Solution\n",
    "**Least squares solution formula.** Let us check the solution formulas ([12.5](https://web.stanford.edu/~boyd/vmls/vmls.pdf#equation.12.2.5) and\n",
    "[12.6](https://web.stanford.edu/~boyd/vmls/vmls.pdf#equation.12.2.6)) in VMLS, $x̂ = (A^TA)^{−1}A^T b = A^†b$ for the small example of Figure [12.1](https://web.stanford.edu/~boyd/vmls/vmls.pdf#figure.12.1)) (where $x̂ = (\\frac{1}{3},\\frac{1}{3})$)."
   ]
  },
  {
   "cell_type": "code",
   "execution_count": 5,
   "metadata": {},
   "outputs": [
    {
     "data": {
      "text/plain": [
       "2-element Vector{Float64}:\n",
       "  0.33333333333333337\n",
       " -0.33333333333333337"
      ]
     },
     "metadata": {},
     "output_type": "display_data"
    }
   ],
   "source": [
    "inv(A'*A)*A'*b"
   ]
  },
  {
   "cell_type": "code",
   "execution_count": 6,
   "metadata": {},
   "outputs": [
    {
     "data": {
      "text/plain": [
       "2-element Vector{Float64}:\n",
       "  0.3333333333333333\n",
       " -0.3333333333333335"
      ]
     },
     "metadata": {},
     "output_type": "display_data"
    }
   ],
   "source": [
    "pinv(A)*b"
   ]
  },
  {
   "cell_type": "code",
   "execution_count": 7,
   "metadata": {},
   "outputs": [
    {
     "data": {
      "text/plain": [
       "2-element Vector{Float64}:\n",
       " -2.220446049250313e-16\n",
       "  2.220446049250313e-16"
      ]
     },
     "metadata": {},
     "output_type": "display_data"
    }
   ],
   "source": [
    "(A'*A)*xhat - A'*b # Check that normal equations hold"
   ]
  },
  {
   "cell_type": "markdown",
   "metadata": {},
   "source": [
    "**Orthogonality principle.** The orthogonality principle ([12.9](https://web.stanford.edu/~boyd/vmls/vmls.pdf#equation.12.2.9)) for the same example. "
   ]
  },
  {
   "cell_type": "code",
   "execution_count": 8,
   "metadata": {},
   "outputs": [
    {
     "data": {
      "text/plain": [
       "2.220446049250313e-16"
      ]
     },
     "metadata": {},
     "output_type": "display_data"
    }
   ],
   "source": [
    "z = [-1.1, 2.3]\n",
    "(A*z)'*rhat"
   ]
  },
  {
   "cell_type": "code",
   "execution_count": 9,
   "metadata": {},
   "outputs": [
    {
     "data": {
      "text/plain": [
       "-6.661338147750939e-16"
      ]
     },
     "metadata": {},
     "output_type": "display_data"
    }
   ],
   "source": [
    "z = [5.3, -1.2]\n",
    "(A*z)'*rhat"
   ]
  },
  {
   "cell_type": "markdown",
   "metadata": {},
   "source": [
    "### 12.3 Solving least squares problems\n",
    "Julia uses the **`backslash operator`** to denote the least squares approximation: **`xhat = A\\b`**. The same operator is used to solve square systems of linear equations, and we will see more uses in later chapters."
   ]
  },
  {
   "cell_type": "code",
   "execution_count": 10,
   "metadata": {},
   "outputs": [
    {
     "data": {
      "text/plain": [
       "(2.883452748915865e-16, 8.100192776297439e-16, 7.003987656754784e-16)"
      ]
     },
     "metadata": {},
     "output_type": "display_data"
    }
   ],
   "source": [
    "A = randn(100,20) \n",
    "b = randn(100)\n",
    "\n",
    "x1 = A\\b                 # Least squares using backslash operator\n",
    "\n",
    "x2 = inv(A'*A)*(A'*b)    # Using formula\n",
    "\n",
    "x3 = pinv(A)*b           # Using pseudo-inverse\n",
    "\n",
    "Q, R = qr(A)\n",
    "Q = Matrix(Q)\n",
    "x4 = R\\(Q'*b);           # Using QR factorization\n",
    "\n",
    "norm(x1-x2),norm(x2-x3),norm(x3-x4)"
   ]
  },
  {
   "cell_type": "markdown",
   "metadata": {},
   "source": [
    "**Complexity.** The complexity of solving the least squares problem with $m×n$ matrix $A$ is around $2mn^2$ flops."
   ]
  },
  {
   "cell_type": "code",
   "execution_count": 13,
   "metadata": {},
   "outputs": [
    {
     "name": "stdout",
     "output_type": "stream",
     "text": [
      "  0.107341 seconds (3.03 k allocations: 11.875 MiB)"
     ]
    },
    {
     "name": "stdout",
     "output_type": "stream",
     "text": [
      "\n",
      "  0.219614 seconds (3.03 k allocations: 19.520 MiB, 1.31% gc time)"
     ]
    },
    {
     "name": "stdout",
     "output_type": "stream",
     "text": [
      "\n",
      "  0.416566 seconds (6.03 k allocations: 31.312 MiB, 1.07% gc time)\n"
     ]
    }
   ],
   "source": [
    "m = 2000\n",
    "n = 500\n",
    "A = randn(m,n)\n",
    "b = randn(m)\n",
    "\n",
    "@time x = A\\b;\n",
    "\n",
    "m = 4000\n",
    "n = 500;\n",
    "A = randn(m,n)\n",
    "b = randn(m)\n",
    "\n",
    "@time x = A\\b\n",
    "\n",
    "m = 2000\n",
    "n = 1000\n",
    "A = randn(m,n)\n",
    "b = randn(m)\n",
    "\n",
    "@time x = A\\b;"
   ]
  },
  {
   "cell_type": "markdown",
   "metadata": {},
   "source": [
    "We can see that doubling $m$ approximately doubles the computation time, and\n",
    "doubling $n$ increases it by around a factor of four. The times above can be used to\n",
    "guess the speed of the computer on which it was carried out. For example, using\n",
    "the last problem solved, the number of flops is around $2mn2 = 4 · 10^9$, and it took\n",
    "around $0.4$ seconds. This suggests a speed of around $10 Gflop/sec$."
   ]
  },
  {
   "cell_type": "markdown",
   "metadata": {},
   "source": [
    "**Matrix least squares.** Let us solve multiple least squares problems with the same matrix $A$ and different vector $b$."
   ]
  },
  {
   "cell_type": "code",
   "execution_count": 14,
   "metadata": {},
   "outputs": [
    {
     "data": {
      "text/plain": [
       "1.755937635632159e-16"
      ]
     },
     "metadata": {},
     "output_type": "display_data"
    }
   ],
   "source": [
    "A = randn(1000,100)\n",
    "B = randn(1000,10);\n",
    "X = A\\B\n",
    "\n",
    "# Check that third column of X is least squares solution\n",
    "# with third column of B\n",
    "x3 = A\\B[:,3];\n",
    "norm(X[:,3]-x3)"
   ]
  },
  {
   "cell_type": "markdown",
   "metadata": {},
   "source": [
    "### 12.4 Examples\n",
    "**Advertising purchases.** We work out the solution of the optimal advertising purchase problem on page [234](https://web.stanford.edu/~boyd/vmls/vmls.pdf#section*.284) of VMLS."
   ]
  },
  {
   "cell_type": "code",
   "execution_count": 19,
   "metadata": {},
   "outputs": [
    {
     "data": {
      "text/plain": [
       "3-element Vector{Float64}:\n",
       "   62.07662454385101\n",
       "   99.98500402826197\n",
       " 1442.8374625412223"
      ]
     },
     "metadata": {},
     "output_type": "display_data"
    }
   ],
   "source": [
    "R = [\n",
    "0.97 1.86 0.41;\n",
    "1.23 2.18 0.53;\n",
    "0.80 1.24 0.62;\n",
    "1.29 0.98 0.51;\n",
    "1.10 1.23 0.69;\n",
    "0.67 0.34 0.54;\n",
    "0.87 0.26 0.62;\n",
    "1.10 0.16 0.48;\n",
    "1.92 0.22 0.71;\n",
    "1.29 0.12 0.62\n",
    "]\n",
    "\n",
    "m, n = size(R)\n",
    "vdes = 1e3 * ones(m)\n",
    "\n",
    "s = R \\ vdes"
   ]
  },
  {
   "cell_type": "code",
   "execution_count": 16,
   "metadata": {},
   "outputs": [
    {
     "data": {
      "text/plain": [
       "132.63819026326527"
      ]
     },
     "metadata": {},
     "output_type": "display_data"
    }
   ],
   "source": [
    "rms(R*s - vdes)"
   ]
  },
  {
   "cell_type": "markdown",
   "metadata": {},
   "source": [
    "**Illumination.** The following code constructs and solves the illumination problem on page [234](https://web.stanford.edu/~boyd/vmls/vmls.pdf#section*.285) and plots two histograms with the pixel intensity distributions (Figure 12.1)."
   ]
  },
  {
   "cell_type": "code",
   "execution_count": 21,
   "metadata": {},
   "outputs": [
    {
     "data": {
      "text/plain": [
       "0.1403904813427606"
      ]
     },
     "metadata": {},
     "output_type": "display_data"
    }
   ],
   "source": [
    "n = 10          # number of lamps\n",
    "lamps = [       # x, y positions of lamps and height above floor\n",
    "    4.1 20.4 4;\n",
    "    14.1 21.3 3.5;\n",
    "    22.6 17.1 6;\n",
    "    5.5 12.3 4.0;\n",
    "    12.2 9.7 4.0;\n",
    "    15.3 13.8 6;\n",
    "    21.3 10.5 5.5;\n",
    "    3.9 3.3 5.0;\n",
    "    13.1 4.3 5.0;\n",
    "    20.3 4.2 4.5 ]\n",
    "\n",
    "N = 25          # grid size\n",
    "m = N*N         # number of pixels\n",
    "\n",
    "# construct m x 2 matrix with coordinates of pixel centers\n",
    "pixels = hcat( \n",
    "    reshape( collect(0.5: 1 : N) * ones(1,N), m, 1), \n",
    "    reshape( ones(N,1) * collect(0.5: 1 : N)', m, 1))\n",
    "\n",
    "# The m x n matrix A maps lamp powers to pixel intensities.\n",
    "# A[i,j] is inversely proportional to the squared distance of\n",
    "# lamp j to pixel i.\n",
    "A = zeros(m,n)\n",
    "for i=1:m\n",
    "    for j=1:n\n",
    "        A[i,j] = 1.0 / norm([pixels[i,:]; 0] - lamps[j,:])^2;\n",
    "        end\n",
    "    end\n",
    "A = (m/sum(A)) * A; # scale elements of A\n",
    "\n",
    "# Least squares solution\n",
    "x = A \\ ones(m,1);\n",
    "rms_ls = rms(A*x .- 1)"
   ]
  },
  {
   "cell_type": "code",
   "execution_count": 23,
   "metadata": {},
   "outputs": [
    {
     "data": {
      "image/png": "[encoded data removed]",
      "image/svg+xml": "<?xml version=\"1.0\" encoding=\"utf-8\"?>\n<svg xmlns=\"http://www.w3.org/2000/svg\" xmlns:xlink=\"http://www.w3.org/1999/xlink\" width=\"400\" height=\"200\" viewBox=\"0 0 1600 800\">\n<defs>\n  <clipPath id=\"clip1400\">\n    <rect x=\"0\" y=\"0\" width=\"1600\" height=\"800\"/>\n  </clipPath>\n</defs>\n<path clip-path=\"url(#clip1400)\" d=\"\nM0 800 L1600 800 L1600 0 L0 0  Z\n  \" fill=\"#ffffff\" fill-rule=\"evenodd\" fill-opacity=\"1\"/>\n<defs>\n  <clipPath id=\"clip1401\">\n    <rect x=\"320\" y=\"0\" width=\"1121\" height=\"800\"/>\n  </clipPath>\n</defs>\n<path clip-path=\"url(#clip1400)\" d=\"\nM161.598 686.448 L1552.76 686.448 L1552.76 47.2441 L161.598 47.2441  Z\n  \" fill=\"#ffffff\" fill-rule=\"evenodd\" fill-opacity=\"1\"/>\n<defs>\n  <clipPath id=\"clip1402\">\n    <rect x=\"161\" y=\"47\" width=\"1392\" height=\"640\"/>\n  </clipPath>\n</defs>\n<polyline clip-path=\"url(#clip1402)\" style=\"stroke:#000000; stroke-width:2; stroke-opacity:0.1; fill:none\" points=\"\n  361.927,686.448 361.927,47.2441 \n  \"/>\n<polyline clip-path=\"url(#clip1402)\" style=\"stroke:#000000; stroke-width:2; stroke-opacity:0.1; fill:none\" points=\"\n  609.552,686.448 609.552,47.2441 \n  \"/>\n<polyline clip-path=\"url(#clip1402)\" style=\"stroke:#000000; stroke-width:2; stroke-opacity:0.1; fill:none\" points=\"\n  857.177,686.448 857.177,47.2441 \n  \"/>\n<polyline clip-path=\"url(#clip1402)\" style=\"stroke:#000000; stroke-width:2; stroke-opacity:0.1; fill:none\" points=\"\n  1104.8,686.448 1104.8,47.2441 \n  \"/>\n<polyline clip-path=\"url(#clip1402)\" style=\"stroke:#000000; stroke-width:2; stroke-opacity:0.1; fill:none\" points=\"\n  1352.43,686.448 1352.43,47.2441 \n  \"/>\n<polyline clip-path=\"url(#clip1402)\" style=\"stroke:#000000; stroke-width:2; stroke-opacity:0.1; fill:none\" points=\"\n  161.598,686.448 1552.76,686.448 \n  \"/>\n<polyline clip-path=\"url(#clip1402)\" style=\"stroke:#000000; stroke-width:2; stroke-opacity:0.1; fill:none\" points=\"\n  161.598,579.914 1552.76,579.914 \n  \"/>\n<polyline clip-path=\"url(#clip1402)\" style=\"stroke:#000000; stroke-width:2; stroke-opacity:0.1; fill:none\" points=\"\n  161.598,473.38 1552.76,473.38 \n  \"/>\n<polyline clip-path=\"url(#clip1402)\" style=\"stroke:#000000; stroke-width:2; stroke-opacity:0.1; fill:none\" points=\"\n  161.598,366.846 1552.76,366.846 \n  \"/>\n<polyline clip-path=\"url(#clip1402)\" style=\"stroke:#000000; stroke-width:2; stroke-opacity:0.1; fill:none\" points=\"\n  161.598,260.312 1552.76,260.312 \n  \"/>\n<polyline clip-path=\"url(#clip1402)\" style=\"stroke:#000000; stroke-width:2; stroke-opacity:0.1; fill:none\" points=\"\n  161.598,153.778 1552.76,153.778 \n  \"/>\n<polyline clip-path=\"url(#clip1402)\" style=\"stroke:#000000; stroke-width:2; stroke-opacity:0.1; fill:none\" points=\"\n  161.598,153.778 1552.76,153.778 \n  \"/>\n<polyline clip-path=\"url(#clip1400)\" style=\"stroke:#000000; stroke-width:4; stroke-opacity:1; fill:none\" points=\"\n  161.598,686.448 1552.76,686.448 \n  \"/>\n<polyline clip-path=\"url(#clip1400)\" style=\"stroke:#000000; stroke-width:4; stroke-opacity:1; fill:none\" points=\"\n  161.598,686.448 161.598,47.2441 \n  \"/>\n<polyline clip-path=\"url(#clip1400)\" style=\"stroke:#000000; stroke-width:4; stroke-opacity:1; fill:none\" points=\"\n  361.927,686.448 361.927,678.777 \n  \"/>\n<polyline clip-path=\"url(#clip1400)\" style=\"stroke:#000000; stroke-width:4; stroke-opacity:1; fill:none\" points=\"\n  609.552,686.448 609.552,678.777 \n  \"/>\n<polyline clip-path=\"url(#clip1400)\" style=\"stroke:#000000; stroke-width:4; stroke-opacity:1; fill:none\" points=\"\n  857.177,686.448 857.177,678.777 \n  \"/>\n<polyline clip-path=\"url(#clip1400)\" style=\"stroke:#000000; stroke-width:4; stroke-opacity:1; fill:none\" points=\"\n  1104.8,686.448 1104.8,678.777 \n  \"/>\n<polyline clip-path=\"url(#clip1400)\" style=\"stroke:#000000; stroke-width:4; stroke-opacity:1; fill:none\" points=\"\n  1352.43,686.448 1352.43,678.777 \n  \"/>\n<polyline clip-path=\"url(#clip1400)\" style=\"stroke:#000000; stroke-width:4; stroke-opacity:1; fill:none\" points=\"\n  161.598,686.448 178.292,686.448 \n  \"/>\n<polyline clip-path=\"url(#clip1400)\" style=\"stroke:#000000; stroke-width:4; stroke-opacity:1; fill:none\" points=\"\n  161.598,579.914 178.292,579.914 \n  \"/>\n<polyline clip-path=\"url(#clip1400)\" style=\"stroke:#000000; stroke-width:4; stroke-opacity:1; fill:none\" points=\"\n  161.598,473.38 178.292,473.38 \n  \"/>\n<polyline clip-path=\"url(#clip1400)\" style=\"stroke:#000000; stroke-width:4; stroke-opacity:1; fill:none\" points=\"\n  161.598,366.846 178.292,366.846 \n  \"/>\n<polyline clip-path=\"url(#clip1400)\" style=\"stroke:#000000; stroke-width:4; stroke-opacity:1; fill:none\" points=\"\n  161.598,260.312 178.292,260.312 \n  \"/>\n<polyline clip-path=\"url(#clip1400)\" style=\"stroke:#000000; stroke-width:4; stroke-opacity:1; fill:none\" points=\"\n  161.598,153.778 178.292,153.778 \n  \"/>\n<polyline clip-path=\"url(#clip1400)\" style=\"stroke:#000000; stroke-width:4; stroke-opacity:1; fill:none\" points=\"\n  161.598,153.778 178.292,153.778 \n  \"/>\n<path clip-path=\"url(#clip1400)\" d=\"M 0 0 M330.434 704.439 Q326.823 704.439 324.994 708.003 Q323.189 711.545 323.189 718.675 Q323.189 725.781 324.994 729.346 Q326.823 732.887 330.434 732.887 Q334.068 732.887 335.874 729.346 Q337.702 725.781 337.702 718.675 Q337.702 711.545 335.874 708.003 Q334.068 704.439 330.434 704.439 M330.434 700.735 Q336.244 700.735 339.3 705.341 Q342.378 709.925 342.378 718.675 Q342.378 727.401 339.3 732.008 Q336.244 736.591 330.434 736.591 Q324.624 736.591 321.545 732.008 Q318.49 727.401 318.49 718.675 Q318.49 709.925 321.545 705.341 Q324.624 700.735 330.434 700.735 Z\" fill=\"#000000\" fill-rule=\"evenodd\" fill-opacity=\"1\" /><path clip-path=\"url(#clip1400)\" d=\"M 0 0 M347.448 730.04 L352.332 730.04 L352.332 735.92 L347.448 735.92 L347.448 730.04 Z\" fill=\"#000000\" fill-rule=\"evenodd\" fill-opacity=\"1\" /><path clip-path=\"url(#clip1400)\" d=\"M 0 0 M357.448 701.36 L375.804 701.36 L375.804 705.295 L361.73 705.295 L361.73 713.767 Q362.749 713.42 363.767 713.258 Q364.786 713.073 365.804 713.073 Q371.591 713.073 374.971 716.244 Q378.35 719.415 378.35 724.832 Q378.35 730.411 374.878 733.512 Q371.406 736.591 365.087 736.591 Q362.911 736.591 360.642 736.221 Q358.397 735.85 355.989 735.11 L355.989 730.411 Q358.073 731.545 360.295 732.1 Q362.517 732.656 364.994 732.656 Q368.999 732.656 371.337 730.55 Q373.675 728.443 373.675 724.832 Q373.675 721.221 371.337 719.114 Q368.999 717.008 364.994 717.008 Q363.119 717.008 361.244 717.425 Q359.392 717.841 357.448 718.721 L357.448 701.36 Z\" fill=\"#000000\" fill-rule=\"evenodd\" fill-opacity=\"1\" /><path clip-path=\"url(#clip1400)\" d=\"M 0 0 M393.42 704.439 Q389.809 704.439 387.98 708.003 Q386.174 711.545 386.174 718.675 Q386.174 725.781 387.98 729.346 Q389.809 732.887 393.42 732.887 Q397.054 732.887 398.86 729.346 Q400.688 725.781 400.688 718.675 Q400.688 711.545 398.86 708.003 Q397.054 704.439 393.42 704.439 M393.42 700.735 Q399.23 700.735 402.285 705.341 Q405.364 709.925 405.364 718.675 Q405.364 727.401 402.285 732.008 Q399.23 736.591 393.42 736.591 Q387.61 736.591 384.531 732.008 Q381.475 727.401 381.475 718.675 Q381.475 709.925 384.531 705.341 Q387.61 700.735 393.42 700.735 Z\" fill=\"#000000\" fill-rule=\"evenodd\" fill-opacity=\"1\" /><path clip-path=\"url(#clip1400)\" d=\"M 0 0 M578.51 704.439 Q574.899 704.439 573.071 708.003 Q571.265 711.545 571.265 718.675 Q571.265 725.781 573.071 729.346 Q574.899 732.887 578.51 732.887 Q582.145 732.887 583.95 729.346 Q585.779 725.781 585.779 718.675 Q585.779 711.545 583.95 708.003 Q582.145 704.439 578.51 704.439 M578.51 700.735 Q584.321 700.735 587.376 705.341 Q590.455 709.925 590.455 718.675 Q590.455 727.401 587.376 732.008 Q584.321 736.591 578.51 736.591 Q572.7 736.591 569.622 732.008 Q566.566 727.401 566.566 718.675 Q566.566 709.925 569.622 705.341 Q572.7 700.735 578.51 700.735 Z\" fill=\"#000000\" fill-rule=\"evenodd\" fill-opacity=\"1\" /><path clip-path=\"url(#clip1400)\" d=\"M 0 0 M595.524 730.04 L600.409 730.04 L600.409 735.92 L595.524 735.92 L595.524 730.04 Z\" fill=\"#000000\" fill-rule=\"evenodd\" fill-opacity=\"1\" /><path clip-path=\"url(#clip1400)\" d=\"M 0 0 M604.297 701.36 L626.519 701.36 L626.519 703.351 L613.973 735.92 L609.089 735.92 L620.895 705.295 L604.297 705.295 L604.297 701.36 Z\" fill=\"#000000\" fill-rule=\"evenodd\" fill-opacity=\"1\" /><path clip-path=\"url(#clip1400)\" d=\"M 0 0 M631.635 701.36 L649.992 701.36 L649.992 705.295 L635.918 705.295 L635.918 713.767 Q636.936 713.42 637.955 713.258 Q638.973 713.073 639.992 713.073 Q645.779 713.073 649.158 716.244 Q652.538 719.415 652.538 724.832 Q652.538 730.411 649.066 733.512 Q645.593 736.591 639.274 736.591 Q637.098 736.591 634.83 736.221 Q632.584 735.85 630.177 735.11 L630.177 730.411 Q632.26 731.545 634.482 732.1 Q636.705 732.656 639.181 732.656 Q643.186 732.656 645.524 730.55 Q647.862 728.443 647.862 724.832 Q647.862 721.221 645.524 719.114 Q643.186 717.008 639.181 717.008 Q637.306 717.008 635.431 717.425 Q633.58 717.841 631.635 718.721 L631.635 701.36 Z\" fill=\"#000000\" fill-rule=\"evenodd\" fill-opacity=\"1\" /><path clip-path=\"url(#clip1400)\" d=\"M 0 0 M815.568 731.985 L823.207 731.985 L823.207 705.619 L814.897 707.286 L814.897 703.027 L823.161 701.36 L827.837 701.36 L827.837 731.985 L835.476 731.985 L835.476 735.92 L815.568 735.92 L815.568 731.985 Z\" fill=\"#000000\" fill-rule=\"evenodd\" fill-opacity=\"1\" /><path clip-path=\"url(#clip1400)\" d=\"M 0 0 M840.545 730.04 L845.429 730.04 L845.429 735.92 L840.545 735.92 L840.545 730.04 Z\" fill=\"#000000\" fill-rule=\"evenodd\" fill-opacity=\"1\" /><path clip-path=\"url(#clip1400)\" d=\"M 0 0 M860.499 704.439 Q856.888 704.439 855.059 708.003 Q853.253 711.545 853.253 718.675 Q853.253 725.781 855.059 729.346 Q856.888 732.887 860.499 732.887 Q864.133 732.887 865.939 729.346 Q867.767 725.781 867.767 718.675 Q867.767 711.545 865.939 708.003 Q864.133 704.439 860.499 704.439 M860.499 700.735 Q866.309 700.735 869.364 705.341 Q872.443 709.925 872.443 718.675 Q872.443 727.401 869.364 732.008 Q866.309 736.591 860.499 736.591 Q854.689 736.591 851.61 732.008 Q848.554 727.401 848.554 718.675 Q848.554 709.925 851.61 705.341 Q854.689 700.735 860.499 700.735 Z\" fill=\"#000000\" fill-rule=\"evenodd\" fill-opacity=\"1\" /><path clip-path=\"url(#clip1400)\" d=\"M 0 0 M887.513 704.439 Q883.901 704.439 882.073 708.003 Q880.267 711.545 880.267 718.675 Q880.267 725.781 882.073 729.346 Q883.901 732.887 887.513 732.887 Q891.147 732.887 892.952 729.346 Q894.781 725.781 894.781 718.675 Q894.781 711.545 892.952 708.003 Q891.147 704.439 887.513 704.439 M887.513 700.735 Q893.323 700.735 896.378 705.341 Q899.457 709.925 899.457 718.675 Q899.457 727.401 896.378 732.008 Q893.323 736.591 887.513 736.591 Q881.702 736.591 878.624 732.008 Q875.568 727.401 875.568 718.675 Q875.568 709.925 878.624 705.341 Q881.702 700.735 887.513 700.735 Z\" fill=\"#000000\" fill-rule=\"evenodd\" fill-opacity=\"1\" /><path clip-path=\"url(#clip1400)\" d=\"M 0 0 M1064.49 731.985 L1072.13 731.985 L1072.13 705.619 L1063.82 707.286 L1063.82 703.027 L1072.08 701.36 L1076.76 701.36 L1076.76 731.985 L1084.4 731.985 L1084.4 735.92 L1064.49 735.92 L1064.49 731.985 Z\" fill=\"#000000\" fill-rule=\"evenodd\" fill-opacity=\"1\" /><path clip-path=\"url(#clip1400)\" d=\"M 0 0 M1089.47 730.04 L1094.35 730.04 L1094.35 735.92 L1089.47 735.92 L1089.47 730.04 Z\" fill=\"#000000\" fill-rule=\"evenodd\" fill-opacity=\"1\" /><path clip-path=\"url(#clip1400)\" d=\"M 0 0 M1103.45 731.985 L1119.77 731.985 L1119.77 735.92 L1097.82 735.92 L1097.82 731.985 Q1100.49 729.23 1105.07 724.6 Q1109.67 719.948 1110.86 718.605 Q1113.1 716.082 1113.98 714.346 Q1114.88 712.587 1114.88 710.897 Q1114.88 708.142 1112.94 706.406 Q1111.02 704.67 1107.92 704.67 Q1105.72 704.67 1103.26 705.434 Q1100.83 706.198 1098.05 707.749 L1098.05 703.027 Q1100.88 701.892 1103.33 701.314 Q1105.79 700.735 1107.82 700.735 Q1113.19 700.735 1116.39 703.42 Q1119.58 706.105 1119.58 710.596 Q1119.58 712.726 1118.77 714.647 Q1117.98 716.545 1115.88 719.138 Q1115.3 719.809 1112.2 723.026 Q1109.1 726.221 1103.45 731.985 Z\" fill=\"#000000\" fill-rule=\"evenodd\" fill-opacity=\"1\" /><path clip-path=\"url(#clip1400)\" d=\"M 0 0 M1124.88 701.36 L1143.24 701.36 L1143.24 705.295 L1129.17 705.295 L1129.17 713.767 Q1130.18 713.42 1131.2 713.258 Q1132.22 713.073 1133.24 713.073 Q1139.03 713.073 1142.41 716.244 Q1145.79 719.415 1145.79 724.832 Q1145.79 730.411 1142.31 733.512 Q1138.84 736.591 1132.52 736.591 Q1130.35 736.591 1128.08 736.221 Q1125.83 735.85 1123.42 735.11 L1123.42 730.411 Q1125.51 731.545 1127.73 732.1 Q1129.95 732.656 1132.43 732.656 Q1136.43 732.656 1138.77 730.55 Q1141.11 728.443 1141.11 724.832 Q1141.11 721.221 1138.77 719.114 Q1136.43 717.008 1132.43 717.008 Q1130.55 717.008 1128.68 717.425 Q1126.83 717.841 1124.88 718.721 L1124.88 701.36 Z\" fill=\"#000000\" fill-rule=\"evenodd\" fill-opacity=\"1\" /><path clip-path=\"url(#clip1400)\" d=\"M 0 0 M1311.32 731.985 L1318.96 731.985 L1318.96 705.619 L1310.65 707.286 L1310.65 703.027 L1318.91 701.36 L1323.58 701.36 L1323.58 731.985 L1331.22 731.985 L1331.22 735.92 L1311.32 735.92 L1311.32 731.985 Z\" fill=\"#000000\" fill-rule=\"evenodd\" fill-opacity=\"1\" /><path clip-path=\"url(#clip1400)\" d=\"M 0 0 M1336.29 730.04 L1341.18 730.04 L1341.18 735.92 L1336.29 735.92 L1336.29 730.04 Z\" fill=\"#000000\" fill-rule=\"evenodd\" fill-opacity=\"1\" /><path clip-path=\"url(#clip1400)\" d=\"M 0 0 M1346.29 701.36 L1364.65 701.36 L1364.65 705.295 L1350.58 705.295 L1350.58 713.767 Q1351.59 713.42 1352.61 713.258 Q1353.63 713.073 1354.65 713.073 Q1360.44 713.073 1363.82 716.244 Q1367.2 719.415 1367.2 724.832 Q1367.2 730.411 1363.72 733.512 Q1360.25 736.591 1353.93 736.591 Q1351.76 736.591 1349.49 736.221 Q1347.24 735.85 1344.83 735.11 L1344.83 730.411 Q1346.92 731.545 1349.14 732.1 Q1351.36 732.656 1353.84 732.656 Q1357.84 732.656 1360.18 730.55 Q1362.52 728.443 1362.52 724.832 Q1362.52 721.221 1360.18 719.114 Q1357.84 717.008 1353.84 717.008 Q1351.96 717.008 1350.09 717.425 Q1348.24 717.841 1346.29 718.721 L1346.29 701.36 Z\" fill=\"#000000\" fill-rule=\"evenodd\" fill-opacity=\"1\" /><path clip-path=\"url(#clip1400)\" d=\"M 0 0 M1382.27 704.439 Q1378.65 704.439 1376.83 708.003 Q1375.02 711.545 1375.02 718.675 Q1375.02 725.781 1376.83 729.346 Q1378.65 732.887 1382.27 732.887 Q1385.9 732.887 1387.7 729.346 Q1389.53 725.781 1389.53 718.675 Q1389.53 711.545 1387.7 708.003 Q1385.9 704.439 1382.27 704.439 M1382.27 700.735 Q1388.08 700.735 1391.13 705.341 Q1394.21 709.925 1394.21 718.675 Q1394.21 727.401 1391.13 732.008 Q1388.08 736.591 1382.27 736.591 Q1376.45 736.591 1373.38 732.008 Q1370.32 727.401 1370.32 718.675 Q1370.32 709.925 1373.38 705.341 Q1376.45 700.735 1382.27 700.735 Z\" fill=\"#000000\" fill-rule=\"evenodd\" fill-opacity=\"1\" /><path clip-path=\"url(#clip1400)\" d=\"M 0 0 M133.654 672.247 Q130.043 672.247 128.214 675.811 Q126.408 679.353 126.408 686.483 Q126.408 693.589 128.214 697.154 Q130.043 700.695 133.654 700.695 Q137.288 700.695 139.094 697.154 Q140.922 693.589 140.922 686.483 Q140.922 679.353 139.094 675.811 Q137.288 672.247 133.654 672.247 M133.654 668.543 Q139.464 668.543 142.52 673.149 Q145.598 677.733 145.598 686.483 Q145.598 695.209 142.52 699.816 Q139.464 704.399 133.654 704.399 Q127.844 704.399 124.765 699.816 Q121.709 695.209 121.709 686.483 Q121.709 677.733 124.765 673.149 Q127.844 668.543 133.654 668.543 Z\" fill=\"#000000\" fill-rule=\"evenodd\" fill-opacity=\"1\" /><path clip-path=\"url(#clip1400)\" d=\"M 0 0 M102.265 593.259 L118.584 593.259 L118.584 597.194 L96.6401 597.194 L96.6401 593.259 Q99.3022 590.504 103.885 585.875 Q108.492 581.222 109.672 579.879 Q111.918 577.356 112.797 575.62 Q113.7 573.861 113.7 572.171 Q113.7 569.416 111.756 567.68 Q109.835 565.944 106.733 565.944 Q104.534 565.944 102.08 566.708 Q99.6494 567.472 96.8716 569.023 L96.8716 564.301 Q99.6957 563.166 102.149 562.588 Q104.603 562.009 106.64 562.009 Q112.01 562.009 115.205 564.694 Q118.399 567.379 118.399 571.87 Q118.399 574 117.589 575.921 Q116.802 577.819 114.696 580.412 Q114.117 581.083 111.015 584.3 Q107.913 587.495 102.265 593.259 Z\" fill=\"#000000\" fill-rule=\"evenodd\" fill-opacity=\"1\" /><path clip-path=\"url(#clip1400)\" d=\"M 0 0 M133.654 565.713 Q130.043 565.713 128.214 569.277 Q126.408 572.819 126.408 579.949 Q126.408 587.055 128.214 590.62 Q130.043 594.162 133.654 594.162 Q137.288 594.162 139.094 590.62 Q140.922 587.055 140.922 579.949 Q140.922 572.819 139.094 569.277 Q137.288 565.713 133.654 565.713 M133.654 562.009 Q139.464 562.009 142.52 566.615 Q145.598 571.199 145.598 579.949 Q145.598 588.675 142.52 593.282 Q139.464 597.865 133.654 597.865 Q127.844 597.865 124.765 593.282 Q121.709 588.675 121.709 579.949 Q121.709 571.199 124.765 566.615 Q127.844 562.009 133.654 562.009 Z\" fill=\"#000000\" fill-rule=\"evenodd\" fill-opacity=\"1\" /><path clip-path=\"url(#clip1400)\" d=\"M 0 0 M109.001 460.174 L97.1957 478.623 L109.001 478.623 L109.001 460.174 M107.774 456.1 L113.654 456.1 L113.654 478.623 L118.584 478.623 L118.584 482.512 L113.654 482.512 L113.654 490.66 L109.001 490.66 L109.001 482.512 L93.3994 482.512 L93.3994 477.998 L107.774 456.1 Z\" fill=\"#000000\" fill-rule=\"evenodd\" fill-opacity=\"1\" /><path clip-path=\"url(#clip1400)\" d=\"M 0 0 M133.654 459.179 Q130.043 459.179 128.214 462.743 Q126.408 466.285 126.408 473.415 Q126.408 480.521 128.214 484.086 Q130.043 487.628 133.654 487.628 Q137.288 487.628 139.094 484.086 Q140.922 480.521 140.922 473.415 Q140.922 466.285 139.094 462.743 Q137.288 459.179 133.654 459.179 M133.654 455.475 Q139.464 455.475 142.52 460.081 Q145.598 464.665 145.598 473.415 Q145.598 482.141 142.52 486.748 Q139.464 491.331 133.654 491.331 Q127.844 491.331 124.765 486.748 Q121.709 482.141 121.709 473.415 Q121.709 464.665 124.765 460.081 Q127.844 455.475 133.654 455.475 Z\" fill=\"#000000\" fill-rule=\"evenodd\" fill-opacity=\"1\" /><path clip-path=\"url(#clip1400)\" d=\"M 0 0 M107.057 364.983 Q103.909 364.983 102.057 367.135 Q100.228 369.288 100.228 373.038 Q100.228 376.765 102.057 378.941 Q103.909 381.094 107.057 381.094 Q110.205 381.094 112.034 378.941 Q113.885 376.765 113.885 373.038 Q113.885 369.288 112.034 367.135 Q110.205 364.983 107.057 364.983 M116.339 350.33 L116.339 354.589 Q114.58 353.756 112.774 353.316 Q110.992 352.876 109.233 352.876 Q104.603 352.876 102.149 356.001 Q99.7188 359.126 99.3716 365.446 Q100.737 363.432 102.798 362.367 Q104.858 361.279 107.335 361.279 Q112.543 361.279 115.552 364.45 Q118.584 367.598 118.584 373.038 Q118.584 378.362 115.436 381.58 Q112.288 384.797 107.057 384.797 Q101.061 384.797 97.8901 380.214 Q94.7189 375.608 94.7189 366.881 Q94.7189 358.686 98.6077 353.825 Q102.497 348.941 109.047 348.941 Q110.807 348.941 112.589 349.288 Q114.395 349.635 116.339 350.33 Z\" fill=\"#000000\" fill-rule=\"evenodd\" fill-opacity=\"1\" /><path clip-path=\"url(#clip1400)\" d=\"M 0 0 M133.654 352.645 Q130.043 352.645 128.214 356.209 Q126.408 359.751 126.408 366.881 Q126.408 373.987 128.214 377.552 Q130.043 381.094 133.654 381.094 Q137.288 381.094 139.094 377.552 Q140.922 373.987 140.922 366.881 Q140.922 359.751 139.094 356.209 Q137.288 352.645 133.654 352.645 M133.654 348.941 Q139.464 348.941 142.52 353.547 Q145.598 358.131 145.598 366.881 Q145.598 375.608 142.52 380.214 Q139.464 384.797 133.654 384.797 Q127.844 384.797 124.765 380.214 Q121.709 375.608 121.709 366.881 Q121.709 358.131 124.765 353.547 Q127.844 348.941 133.654 348.941 Z\" fill=\"#000000\" fill-rule=\"evenodd\" fill-opacity=\"1\" /><path clip-path=\"url(#clip1400)\" d=\"M 0 0 M106.733 261.18 Q103.399 261.18 101.478 262.962 Q99.5799 264.745 99.5799 267.87 Q99.5799 270.995 101.478 272.777 Q103.399 274.56 106.733 274.56 Q110.066 274.56 111.987 272.777 Q113.909 270.972 113.909 267.87 Q113.909 264.745 111.987 262.962 Q110.089 261.18 106.733 261.18 M102.057 259.189 Q99.0475 258.449 97.3577 256.388 Q95.6911 254.328 95.6911 251.365 Q95.6911 247.222 98.6309 244.814 Q101.594 242.407 106.733 242.407 Q111.895 242.407 114.834 244.814 Q117.774 247.222 117.774 251.365 Q117.774 254.328 116.084 256.388 Q114.418 258.449 111.432 259.189 Q114.811 259.976 116.686 262.268 Q118.584 264.56 118.584 267.87 Q118.584 272.893 115.506 275.578 Q112.45 278.263 106.733 278.263 Q101.015 278.263 97.9364 275.578 Q94.8809 272.893 94.8809 267.87 Q94.8809 264.56 96.779 262.268 Q98.6772 259.976 102.057 259.189 M100.344 251.805 Q100.344 254.49 102.01 255.995 Q103.7 257.5 106.733 257.5 Q109.742 257.5 111.432 255.995 Q113.145 254.49 113.145 251.805 Q113.145 249.12 111.432 247.615 Q109.742 246.111 106.733 246.111 Q103.7 246.111 102.01 247.615 Q100.344 249.12 100.344 251.805 Z\" fill=\"#000000\" fill-rule=\"evenodd\" fill-opacity=\"1\" /><path clip-path=\"url(#clip1400)\" d=\"M 0 0 M133.654 246.111 Q130.043 246.111 128.214 249.676 Q126.408 253.217 126.408 260.347 Q126.408 267.453 128.214 271.018 Q130.043 274.56 133.654 274.56 Q137.288 274.56 139.094 271.018 Q140.922 267.453 140.922 260.347 Q140.922 253.217 139.094 249.676 Q137.288 246.111 133.654 246.111 M133.654 242.407 Q139.464 242.407 142.52 247.013 Q145.598 251.597 145.598 260.347 Q145.598 269.074 142.52 273.68 Q139.464 278.263 133.654 278.263 Q127.844 278.263 124.765 273.68 Q121.709 269.074 121.709 260.347 Q121.709 251.597 124.765 247.013 Q127.844 242.407 133.654 242.407 Z\" fill=\"#000000\" fill-rule=\"evenodd\" fill-opacity=\"1\" /><path clip-path=\"url(#clip1400)\" d=\"M 0 0 M71.6634 167.123 L79.3023 167.123 L79.3023 140.757 L70.9921 142.424 L70.9921 138.165 L79.256 136.498 L83.9319 136.498 L83.9319 167.123 L91.5707 167.123 L91.5707 171.058 L71.6634 171.058 L71.6634 167.123 Z\" fill=\"#000000\" fill-rule=\"evenodd\" fill-opacity=\"1\" /><path clip-path=\"url(#clip1400)\" d=\"M 0 0 M106.64 139.577 Q103.029 139.577 101.2 143.142 Q99.3948 146.683 99.3948 153.813 Q99.3948 160.919 101.2 164.484 Q103.029 168.026 106.64 168.026 Q110.274 168.026 112.08 164.484 Q113.909 160.919 113.909 153.813 Q113.909 146.683 112.08 143.142 Q110.274 139.577 106.64 139.577 M106.64 135.873 Q112.45 135.873 115.506 140.48 Q118.584 145.063 118.584 153.813 Q118.584 162.54 115.506 167.146 Q112.45 171.729 106.64 171.729 Q100.83 171.729 97.7512 167.146 Q94.6957 162.54 94.6957 153.813 Q94.6957 145.063 97.7512 140.48 Q100.83 135.873 106.64 135.873 Z\" fill=\"#000000\" fill-rule=\"evenodd\" fill-opacity=\"1\" /><path clip-path=\"url(#clip1400)\" d=\"M 0 0 M133.654 139.577 Q130.043 139.577 128.214 143.142 Q126.408 146.683 126.408 153.813 Q126.408 160.919 128.214 164.484 Q130.043 168.026 133.654 168.026 Q137.288 168.026 139.094 164.484 Q140.922 160.919 140.922 153.813 Q140.922 146.683 139.094 143.142 Q137.288 139.577 133.654 139.577 M133.654 135.873 Q139.464 135.873 142.52 140.48 Q145.598 145.063 145.598 153.813 Q145.598 162.54 142.52 167.146 Q139.464 171.729 133.654 171.729 Q127.844 171.729 124.765 167.146 Q121.709 162.54 121.709 153.813 Q121.709 145.063 124.765 140.48 Q127.844 135.873 133.654 135.873 Z\" fill=\"#000000\" fill-rule=\"evenodd\" fill-opacity=\"1\" /><path clip-path=\"url(#clip1400)\" d=\"M 0 0 M71.6634 167.123 L79.3023 167.123 L79.3023 140.757 L70.9921 142.424 L70.9921 138.165 L79.256 136.498 L83.9319 136.498 L83.9319 167.123 L91.5707 167.123 L91.5707 171.058 L71.6634 171.058 L71.6634 167.123 Z\" fill=\"#000000\" fill-rule=\"evenodd\" fill-opacity=\"1\" /><path clip-path=\"url(#clip1400)\" d=\"M 0 0 M106.64 139.577 Q103.029 139.577 101.2 143.142 Q99.3948 146.683 99.3948 153.813 Q99.3948 160.919 101.2 164.484 Q103.029 168.026 106.64 168.026 Q110.274 168.026 112.08 164.484 Q113.909 160.919 113.909 153.813 Q113.909 146.683 112.08 143.142 Q110.274 139.577 106.64 139.577 M106.64 135.873 Q112.45 135.873 115.506 140.48 Q118.584 145.063 118.584 153.813 Q118.584 162.54 115.506 167.146 Q112.45 171.729 106.64 171.729 Q100.83 171.729 97.7512 167.146 Q94.6957 162.54 94.6957 153.813 Q94.6957 145.063 97.7512 140.48 Q100.83 135.873 106.64 135.873 Z\" fill=\"#000000\" fill-rule=\"evenodd\" fill-opacity=\"1\" /><path clip-path=\"url(#clip1400)\" d=\"M 0 0 M133.654 139.577 Q130.043 139.577 128.214 143.142 Q126.408 146.683 126.408 153.813 Q126.408 160.919 128.214 164.484 Q130.043 168.026 133.654 168.026 Q137.288 168.026 139.094 164.484 Q140.922 160.919 140.922 153.813 Q140.922 146.683 139.094 143.142 Q137.288 139.577 133.654 139.577 M133.654 135.873 Q139.464 135.873 142.52 140.48 Q145.598 145.063 145.598 153.813 Q145.598 162.54 142.52 167.146 Q139.464 171.729 133.654 171.729 Q127.844 171.729 124.765 167.146 Q121.709 162.54 121.709 153.813 Q121.709 145.063 124.765 140.48 Q127.844 135.873 133.654 135.873 Z\" fill=\"#000000\" fill-rule=\"evenodd\" fill-opacity=\"1\" /><path clip-path=\"url(#clip1402)\" d=\"\nM238.114 686.448 L238.114 686.448 L287.639 686.448 L287.639 686.448 L238.114 686.448 L238.114 686.448  Z\n  \" fill=\"#009af9\" fill-rule=\"evenodd\" fill-opacity=\"1\"/>\n<polyline clip-path=\"url(#clip1402)\" style=\"stroke:#000000; stroke-width:4; stroke-opacity:1; fill:none\" points=\"\n  238.114,686.448 238.114,686.448 287.639,686.448 238.114,686.448 \n  \"/>\n<path clip-path=\"url(#clip1402)\" d=\"\nM287.639 686.448 L287.639 686.448 L337.164 686.448 L337.164 686.448 L287.639 686.448 L287.639 686.448  Z\n  \" fill=\"#009af9\" fill-rule=\"evenodd\" fill-opacity=\"1\"/>\n<polyline clip-path=\"url(#clip1402)\" style=\"stroke:#000000; stroke-width:4; stroke-opacity:1; fill:none\" points=\"\n  287.639,686.448 287.639,686.448 337.164,686.448 287.639,686.448 \n  \"/>\n<path clip-path=\"url(#clip1402)\" d=\"\nM337.164 686.448 L337.164 686.448 L386.689 686.448 L386.689 686.448 L337.164 686.448 L337.164 686.448  Z\n  \" fill=\"#009af9\" fill-rule=\"evenodd\" fill-opacity=\"1\"/>\n<polyline clip-path=\"url(#clip1402)\" style=\"stroke:#000000; stroke-width:4; stroke-opacity:1; fill:none\" points=\"\n  337.164,686.448 337.164,686.448 386.689,686.448 337.164,686.448 \n  \"/>\n<path clip-path=\"url(#clip1402)\" d=\"\nM386.689 665.141 L386.689 686.448 L436.214 686.448 L436.214 665.141 L386.689 665.141 L386.689 665.141  Z\n  \" fill=\"#009af9\" fill-rule=\"evenodd\" fill-opacity=\"1\"/>\n<polyline clip-path=\"url(#clip1402)\" style=\"stroke:#000000; stroke-width:4; stroke-opacity:1; fill:none\" points=\"\n  386.689,665.141 386.689,686.448 436.214,686.448 436.214,665.141 386.689,665.141 \n  \"/>\n<path clip-path=\"url(#clip1402)\" d=\"\nM436.214 665.141 L436.214 686.448 L485.739 686.448 L485.739 665.141 L436.214 665.141 L436.214 665.141  Z\n  \" fill=\"#009af9\" fill-rule=\"evenodd\" fill-opacity=\"1\"/>\n<polyline clip-path=\"url(#clip1402)\" style=\"stroke:#000000; stroke-width:4; stroke-opacity:1; fill:none\" points=\"\n  436.214,665.141 436.214,686.448 485.739,686.448 485.739,665.141 436.214,665.141 \n  \"/>\n<path clip-path=\"url(#clip1402)\" d=\"\nM485.739 649.161 L485.739 686.448 L535.264 686.448 L535.264 649.161 L485.739 649.161 L485.739 649.161  Z\n  \" fill=\"#009af9\" fill-rule=\"evenodd\" fill-opacity=\"1\"/>\n<polyline clip-path=\"url(#clip1402)\" style=\"stroke:#000000; stroke-width:4; stroke-opacity:1; fill:none\" points=\"\n  485.739,649.161 485.739,686.448 535.264,686.448 535.264,649.161 485.739,649.161 \n  \"/>\n<path clip-path=\"url(#clip1402)\" d=\"\nM535.264 569.261 L535.264 686.448 L584.789 686.448 L584.789 569.261 L535.264 569.261 L535.264 569.261  Z\n  \" fill=\"#009af9\" fill-rule=\"evenodd\" fill-opacity=\"1\"/>\n<polyline clip-path=\"url(#clip1402)\" style=\"stroke:#000000; stroke-width:4; stroke-opacity:1; fill:none\" points=\"\n  535.264,569.261 535.264,686.448 584.789,686.448 584.789,569.261 535.264,569.261 \n  \"/>\n<path clip-path=\"url(#clip1402)\" d=\"\nM584.789 590.567 L584.789 686.448 L634.314 686.448 L634.314 590.567 L584.789 590.567 L584.789 590.567  Z\n  \" fill=\"#009af9\" fill-rule=\"evenodd\" fill-opacity=\"1\"/>\n<polyline clip-path=\"url(#clip1402)\" style=\"stroke:#000000; stroke-width:4; stroke-opacity:1; fill:none\" points=\"\n  584.789,590.567 584.789,686.448 634.314,686.448 634.314,590.567 584.789,590.567 \n  \"/>\n<path clip-path=\"url(#clip1402)\" d=\"\nM634.314 430.766 L634.314 686.448 L683.84 686.448 L683.84 430.766 L634.314 430.766 L634.314 430.766  Z\n  \" fill=\"#009af9\" fill-rule=\"evenodd\" fill-opacity=\"1\"/>\n<polyline clip-path=\"url(#clip1402)\" style=\"stroke:#000000; stroke-width:4; stroke-opacity:1; fill:none\" points=\"\n  634.314,430.766 634.314,686.448 683.84,686.448 683.84,430.766 634.314,430.766 \n  \"/>\n<path clip-path=\"url(#clip1402)\" d=\"\nM683.84 553.28 L683.84 686.448 L733.365 686.448 L733.365 553.28 L683.84 553.28 L683.84 553.28  Z\n  \" fill=\"#009af9\" fill-rule=\"evenodd\" fill-opacity=\"1\"/>\n<polyline clip-path=\"url(#clip1402)\" style=\"stroke:#000000; stroke-width:4; stroke-opacity:1; fill:none\" points=\"\n  683.84,553.28 683.84,686.448 733.365,686.448 733.365,553.28 683.84,553.28 \n  \"/>\n<path clip-path=\"url(#clip1402)\" d=\"\nM733.365 457.4 L733.365 686.448 L782.89 686.448 L782.89 457.4 L733.365 457.4 L733.365 457.4  Z\n  \" fill=\"#009af9\" fill-rule=\"evenodd\" fill-opacity=\"1\"/>\n<polyline clip-path=\"url(#clip1402)\" style=\"stroke:#000000; stroke-width:4; stroke-opacity:1; fill:none\" points=\"\n  733.365,457.4 733.365,686.448 782.89,686.448 782.89,457.4 733.365,457.4 \n  \"/>\n<path clip-path=\"url(#clip1402)\" d=\"\nM782.89 196.392 L782.89 686.448 L832.415 686.448 L832.415 196.392 L782.89 196.392 L782.89 196.392  Z\n  \" fill=\"#009af9\" fill-rule=\"evenodd\" fill-opacity=\"1\"/>\n<polyline clip-path=\"url(#clip1402)\" style=\"stroke:#000000; stroke-width:4; stroke-opacity:1; fill:none\" points=\"\n  782.89,196.392 782.89,686.448 832.415,686.448 832.415,196.392 782.89,196.392 \n  \"/>\n<path clip-path=\"url(#clip1402)\" d=\"\nM832.415 89.8577 L832.415 686.448 L881.94 686.448 L881.94 89.8577 L832.415 89.8577 L832.415 89.8577  Z\n  \" fill=\"#009af9\" fill-rule=\"evenodd\" fill-opacity=\"1\"/>\n<polyline clip-path=\"url(#clip1402)\" style=\"stroke:#000000; stroke-width:4; stroke-opacity:1; fill:none\" points=\"\n  832.415,89.8577 832.415,686.448 881.94,686.448 881.94,89.8577 832.415,89.8577 \n  \"/>\n<path clip-path=\"url(#clip1402)\" d=\"\nM881.94 159.105 L881.94 686.448 L931.465 686.448 L931.465 159.105 L881.94 159.105 L881.94 159.105  Z\n  \" fill=\"#009af9\" fill-rule=\"evenodd\" fill-opacity=\"1\"/>\n<polyline clip-path=\"url(#clip1402)\" style=\"stroke:#000000; stroke-width:4; stroke-opacity:1; fill:none\" points=\"\n  881.94,159.105 881.94,686.448 931.465,686.448 931.465,159.105 881.94,159.105 \n  \"/>\n<path clip-path=\"url(#clip1402)\" d=\"\nM931.465 345.539 L931.465 686.448 L980.99 686.448 L980.99 345.539 L931.465 345.539 L931.465 345.539  Z\n  \" fill=\"#009af9\" fill-rule=\"evenodd\" fill-opacity=\"1\"/>\n<polyline clip-path=\"url(#clip1402)\" style=\"stroke:#000000; stroke-width:4; stroke-opacity:1; fill:none\" points=\"\n  931.465,345.539 931.465,686.448 980.99,686.448 980.99,345.539 931.465,345.539 \n  \"/>\n<path clip-path=\"url(#clip1402)\" d=\"\nM980.99 441.42 L980.99 686.448 L1030.51 686.448 L1030.51 441.42 L980.99 441.42 L980.99 441.42  Z\n  \" fill=\"#009af9\" fill-rule=\"evenodd\" fill-opacity=\"1\"/>\n<polyline clip-path=\"url(#clip1402)\" style=\"stroke:#000000; stroke-width:4; stroke-opacity:1; fill:none\" points=\"\n  980.99,441.42 980.99,686.448 1030.51,686.448 1030.51,441.42 980.99,441.42 \n  \"/>\n<path clip-path=\"url(#clip1402)\" d=\"\nM1030.51 542.627 L1030.51 686.448 L1080.04 686.448 L1080.04 542.627 L1030.51 542.627 L1030.51 542.627  Z\n  \" fill=\"#009af9\" fill-rule=\"evenodd\" fill-opacity=\"1\"/>\n<polyline clip-path=\"url(#clip1402)\" style=\"stroke:#000000; stroke-width:4; stroke-opacity:1; fill:none\" points=\"\n  1030.51,542.627 1030.51,686.448 1080.04,686.448 1080.04,542.627 1030.51,542.627 \n  \"/>\n<path clip-path=\"url(#clip1402)\" d=\"\nM1080.04 633.181 L1080.04 686.448 L1129.56 686.448 L1129.56 633.181 L1080.04 633.181 L1080.04 633.181  Z\n  \" fill=\"#009af9\" fill-rule=\"evenodd\" fill-opacity=\"1\"/>\n<polyline clip-path=\"url(#clip1402)\" style=\"stroke:#000000; stroke-width:4; stroke-opacity:1; fill:none\" points=\"\n  1080.04,633.181 1080.04,686.448 1129.56,686.448 1129.56,633.181 1080.04,633.181 \n  \"/>\n<path clip-path=\"url(#clip1402)\" d=\"\nM1129.56 675.794 L1129.56 686.448 L1179.09 686.448 L1179.09 675.794 L1129.56 675.794 L1129.56 675.794  Z\n  \" fill=\"#009af9\" fill-rule=\"evenodd\" fill-opacity=\"1\"/>\n<polyline clip-path=\"url(#clip1402)\" style=\"stroke:#000000; stroke-width:4; stroke-opacity:1; fill:none\" points=\"\n  1129.56,675.794 1129.56,686.448 1179.09,686.448 1179.09,675.794 1129.56,675.794 \n  \"/>\n<path clip-path=\"url(#clip1402)\" d=\"\nM1179.09 675.794 L1179.09 686.448 L1228.61 686.448 L1228.61 675.794 L1179.09 675.794 L1179.09 675.794  Z\n  \" fill=\"#009af9\" fill-rule=\"evenodd\" fill-opacity=\"1\"/>\n<polyline clip-path=\"url(#clip1402)\" style=\"stroke:#000000; stroke-width:4; stroke-opacity:1; fill:none\" points=\"\n  1179.09,675.794 1179.09,686.448 1228.61,686.448 1228.61,675.794 1179.09,675.794 \n  \"/>\n<path clip-path=\"url(#clip1402)\" d=\"\nM1228.61 686.448 L1228.61 686.448 L1278.14 686.448 L1278.14 686.448 L1228.61 686.448 L1228.61 686.448  Z\n  \" fill=\"#009af9\" fill-rule=\"evenodd\" fill-opacity=\"1\"/>\n<polyline clip-path=\"url(#clip1402)\" style=\"stroke:#000000; stroke-width:4; stroke-opacity:1; fill:none\" points=\"\n  1228.61,686.448 1228.61,686.448 1278.14,686.448 1228.61,686.448 \n  \"/>\n<path clip-path=\"url(#clip1402)\" d=\"\nM1278.14 686.448 L1278.14 686.448 L1327.66 686.448 L1327.66 686.448 L1278.14 686.448 L1278.14 686.448  Z\n  \" fill=\"#009af9\" fill-rule=\"evenodd\" fill-opacity=\"1\"/>\n<polyline clip-path=\"url(#clip1402)\" style=\"stroke:#000000; stroke-width:4; stroke-opacity:1; fill:none\" points=\"\n  1278.14,686.448 1278.14,686.448 1327.66,686.448 1278.14,686.448 \n  \"/>\n<path clip-path=\"url(#clip1402)\" d=\"\nM1327.66 686.448 L1327.66 686.448 L1377.19 686.448 L1377.19 686.448 L1327.66 686.448 L1327.66 686.448  Z\n  \" fill=\"#009af9\" fill-rule=\"evenodd\" fill-opacity=\"1\"/>\n<polyline clip-path=\"url(#clip1402)\" style=\"stroke:#000000; stroke-width:4; stroke-opacity:1; fill:none\" points=\"\n  1327.66,686.448 1327.66,686.448 1377.19,686.448 1327.66,686.448 \n  \"/>\n<path clip-path=\"url(#clip1402)\" d=\"\nM1377.19 686.448 L1377.19 686.448 L1426.71 686.448 L1426.71 686.448 L1377.19 686.448 L1377.19 686.448  Z\n  \" fill=\"#009af9\" fill-rule=\"evenodd\" fill-opacity=\"1\"/>\n<polyline clip-path=\"url(#clip1402)\" style=\"stroke:#000000; stroke-width:4; stroke-opacity:1; fill:none\" points=\"\n  1377.19,686.448 1377.19,686.448 1426.71,686.448 1377.19,686.448 \n  \"/>\n<path clip-path=\"url(#clip1402)\" d=\"\nM1426.71 686.448 L1426.71 686.448 L1476.24 686.448 L1476.24 686.448 L1426.71 686.448 L1426.71 686.448  Z\n  \" fill=\"#009af9\" fill-rule=\"evenodd\" fill-opacity=\"1\"/>\n<polyline clip-path=\"url(#clip1402)\" style=\"stroke:#000000; stroke-width:4; stroke-opacity:1; fill:none\" points=\"\n  1426.71,686.448 1426.71,686.448 1476.24,686.448 1426.71,686.448 \n  \"/>\n</svg>\n",
      "text/html": [
       "<?xml version=\"1.0\" encoding=\"utf-8\"?>\n",
       "<svg xmlns=\"http://www.w3.org/2000/svg\" xmlns:xlink=\"http://www.w3.org/1999/xlink\" width=\"400\" height=\"200\" viewBox=\"0 0 1600 800\">\n",
       "<defs>\n",
       "  <clipPath id=\"clip1700\">\n",
       "    <rect x=\"0\" y=\"0\" width=\"1600\" height=\"800\"/>\n",
       "  </clipPath>\n",
       "</defs>\n",
       "<path clip-path=\"url(#clip1700)\" d=\"\n",
       "M0 800 L1600 800 L1600 0 L0 0  Z\n",
       "  \" fill=\"#ffffff\" fill-rule=\"evenodd\" fill-opacity=\"1\"/>\n",
       "<defs>\n",
       "  <clipPath id=\"clip1701\">\n",
       "    <rect x=\"320\" y=\"0\" width=\"1121\" height=\"800\"/>\n",
       "  </clipPath>\n",
       "</defs>\n",
       "<path clip-path=\"url(#clip1700)\" d=\"\n",
       "M153.598 703.088 L1552.76 703.088 L1552.76 47.2441 L153.598 47.2441  Z\n",
       "  \" fill=\"#ffffff\" fill-rule=\"evenodd\" fill-opacity=\"1\"/>\n",
       "<defs>\n",
       "  <clipPath id=\"clip1702\">\n",
       "    <rect x=\"153\" y=\"47\" width=\"1400\" height=\"657\"/>\n",
       "  </clipPath>\n",
       "</defs>\n",
       "<polyline clip-path=\"url(#clip1702)\" style=\"stroke:#000000; stroke-width:2; stroke-opacity:0.1; fill:none\" points=\"\n",
       "  355.079,703.088 355.079,47.2441 \n",
       "  \"/>\n",
       "<polyline clip-path=\"url(#clip1702)\" style=\"stroke:#000000; stroke-width:2; stroke-opacity:0.1; fill:none\" points=\"\n",
       "  604.128,703.088 604.128,47.2441 \n",
       "  \"/>\n",
       "<polyline clip-path=\"url(#clip1702)\" style=\"stroke:#000000; stroke-width:2; stroke-opacity:0.1; fill:none\" points=\"\n",
       "  853.177,703.088 853.177,47.2441 \n",
       "  \"/>\n",
       "<polyline clip-path=\"url(#clip1702)\" style=\"stroke:#000000; stroke-width:2; stroke-opacity:0.1; fill:none\" points=\"\n",
       "  1102.23,703.088 1102.23,47.2441 \n",
       "  \"/>\n",
       "<polyline clip-path=\"url(#clip1702)\" style=\"stroke:#000000; stroke-width:2; stroke-opacity:0.1; fill:none\" points=\"\n",
       "  1351.28,703.088 1351.28,47.2441 \n",
       "  \"/>\n",
       "<polyline clip-path=\"url(#clip1702)\" style=\"stroke:#000000; stroke-width:2; stroke-opacity:0.1; fill:none\" points=\"\n",
       "  153.598,703.088 1552.76,703.088 \n",
       "  \"/>\n",
       "<polyline clip-path=\"url(#clip1702)\" style=\"stroke:#000000; stroke-width:2; stroke-opacity:0.1; fill:none\" points=\"\n",
       "  153.598,593.781 1552.76,593.781 \n",
       "  \"/>\n",
       "<polyline clip-path=\"url(#clip1702)\" style=\"stroke:#000000; stroke-width:2; stroke-opacity:0.1; fill:none\" points=\"\n",
       "  153.598,484.473 1552.76,484.473 \n",
       "  \"/>\n",
       "<polyline clip-path=\"url(#clip1702)\" style=\"stroke:#000000; stroke-width:2; stroke-opacity:0.1; fill:none\" points=\"\n",
       "  153.598,375.166 1552.76,375.166 \n",
       "  \"/>\n",
       "<polyline clip-path=\"url(#clip1702)\" style=\"stroke:#000000; stroke-width:2; stroke-opacity:0.1; fill:none\" points=\"\n",
       "  153.598,265.859 1552.76,265.859 \n",
       "  \"/>\n",
       "<polyline clip-path=\"url(#clip1702)\" style=\"stroke:#000000; stroke-width:2; stroke-opacity:0.1; fill:none\" points=\"\n",
       "  153.598,156.551 1552.76,156.551 \n",
       "  \"/>\n",
       "<polyline clip-path=\"url(#clip1702)\" style=\"stroke:#000000; stroke-width:2; stroke-opacity:0.1; fill:none\" points=\"\n",
       "  153.598,156.551 1552.76,156.551 \n",
       "  \"/>\n",
       "<polyline clip-path=\"url(#clip1700)\" style=\"stroke:#000000; stroke-width:4; stroke-opacity:1; fill:none\" points=\"\n",
       "  153.598,703.088 1552.76,703.088 \n",
       "  \"/>\n",
       "<polyline clip-path=\"url(#clip1700)\" style=\"stroke:#000000; stroke-width:4; stroke-opacity:1; fill:none\" points=\"\n",
       "  153.598,703.088 153.598,47.2441 \n",
       "  \"/>\n",
       "<polyline clip-path=\"url(#clip1700)\" style=\"stroke:#000000; stroke-width:4; stroke-opacity:1; fill:none\" points=\"\n",
       "  355.079,703.088 355.079,695.218 \n",
       "  \"/>\n",
       "<polyline clip-path=\"url(#clip1700)\" style=\"stroke:#000000; stroke-width:4; stroke-opacity:1; fill:none\" points=\"\n",
       "  604.128,703.088 604.128,695.218 \n",
       "  \"/>\n",
       "<polyline clip-path=\"url(#clip1700)\" style=\"stroke:#000000; stroke-width:4; stroke-opacity:1; fill:none\" points=\"\n",
       "  853.177,703.088 853.177,695.218 \n",
       "  \"/>\n",
       "<polyline clip-path=\"url(#clip1700)\" style=\"stroke:#000000; stroke-width:4; stroke-opacity:1; fill:none\" points=\"\n",
       "  1102.23,703.088 1102.23,695.218 \n",
       "  \"/>\n",
       "<polyline clip-path=\"url(#clip1700)\" style=\"stroke:#000000; stroke-width:4; stroke-opacity:1; fill:none\" points=\"\n",
       "  1351.28,703.088 1351.28,695.218 \n",
       "  \"/>\n",
       "<polyline clip-path=\"url(#clip1700)\" style=\"stroke:#000000; stroke-width:4; stroke-opacity:1; fill:none\" points=\"\n",
       "  153.598,703.088 170.388,703.088 \n",
       "  \"/>\n",
       "<polyline clip-path=\"url(#clip1700)\" style=\"stroke:#000000; stroke-width:4; stroke-opacity:1; fill:none\" points=\"\n",
       "  153.598,593.781 170.388,593.781 \n",
       "  \"/>\n",
       "<polyline clip-path=\"url(#clip1700)\" style=\"stroke:#000000; stroke-width:4; stroke-opacity:1; fill:none\" points=\"\n",
       "  153.598,484.473 170.388,484.473 \n",
       "  \"/>\n",
       "<polyline clip-path=\"url(#clip1700)\" style=\"stroke:#000000; stroke-width:4; stroke-opacity:1; fill:none\" points=\"\n",
       "  153.598,375.166 170.388,375.166 \n",
       "  \"/>\n",
       "<polyline clip-path=\"url(#clip1700)\" style=\"stroke:#000000; stroke-width:4; stroke-opacity:1; fill:none\" points=\"\n",
       "  153.598,265.859 170.388,265.859 \n",
       "  \"/>\n",
       "<polyline clip-path=\"url(#clip1700)\" style=\"stroke:#000000; stroke-width:4; stroke-opacity:1; fill:none\" points=\"\n",
       "  153.598,156.551 170.388,156.551 \n",
       "  \"/>\n",
       "<polyline clip-path=\"url(#clip1700)\" style=\"stroke:#000000; stroke-width:4; stroke-opacity:1; fill:none\" points=\"\n",
       "  153.598,156.551 170.388,156.551 \n",
       "  \"/>\n",
       "<path clip-path=\"url(#clip1700)\" d=\"M 0 0 M323.586 721.079 Q319.975 721.079 318.146 724.643 Q316.341 728.185 316.341 735.315 Q316.341 742.421 318.146 745.986 Q319.975 749.527 323.586 749.527 Q327.22 749.527 329.026 745.986 Q330.855 742.421 330.855 735.315 Q330.855 728.185 329.026 724.643 Q327.22 721.079 323.586 721.079 M323.586 717.375 Q329.396 717.375 332.452 721.981 Q335.53 726.565 335.53 735.315 Q335.53 744.041 332.452 748.648 Q329.396 753.231 323.586 753.231 Q317.776 753.231 314.697 748.648 Q311.642 744.041 311.642 735.315 Q311.642 726.565 314.697 721.981 Q317.776 717.375 323.586 717.375 Z\" fill=\"#000000\" fill-rule=\"evenodd\" fill-opacity=\"1\" /><path clip-path=\"url(#clip1700)\" d=\"M 0 0 M340.6 746.68 L345.484 746.68 L345.484 752.56 L340.6 752.56 L340.6 746.68 Z\" fill=\"#000000\" fill-rule=\"evenodd\" fill-opacity=\"1\" /><path clip-path=\"url(#clip1700)\" d=\"M 0 0 M350.6 718 L368.956 718 L368.956 721.935 L354.882 721.935 L354.882 730.407 Q355.901 730.06 356.919 729.898 Q357.938 729.713 358.956 729.713 Q364.743 729.713 368.123 732.884 Q371.502 736.055 371.502 741.472 Q371.502 747.051 368.03 750.152 Q364.558 753.231 358.239 753.231 Q356.063 753.231 353.794 752.861 Q351.549 752.49 349.141 751.75 L349.141 747.051 Q351.225 748.185 353.447 748.74 Q355.669 749.296 358.146 749.296 Q362.151 749.296 364.489 747.19 Q366.827 745.083 366.827 741.472 Q366.827 737.861 364.489 735.754 Q362.151 733.648 358.146 733.648 Q356.271 733.648 354.396 734.065 Q352.544 734.481 350.6 735.361 L350.6 718 Z\" fill=\"#000000\" fill-rule=\"evenodd\" fill-opacity=\"1\" /><path clip-path=\"url(#clip1700)\" d=\"M 0 0 M386.572 721.079 Q382.961 721.079 381.132 724.643 Q379.326 728.185 379.326 735.315 Q379.326 742.421 381.132 745.986 Q382.961 749.527 386.572 749.527 Q390.206 749.527 392.012 745.986 Q393.84 742.421 393.84 735.315 Q393.84 728.185 392.012 724.643 Q390.206 721.079 386.572 721.079 M386.572 717.375 Q392.382 717.375 395.437 721.981 Q398.516 726.565 398.516 735.315 Q398.516 744.041 395.437 748.648 Q392.382 753.231 386.572 753.231 Q380.762 753.231 377.683 748.648 Q374.627 744.041 374.627 735.315 Q374.627 726.565 377.683 721.981 Q380.762 717.375 386.572 717.375 Z\" fill=\"#000000\" fill-rule=\"evenodd\" fill-opacity=\"1\" /><path clip-path=\"url(#clip1700)\" d=\"M 0 0 M573.086 721.079 Q569.475 721.079 567.647 724.643 Q565.841 728.185 565.841 735.315 Q565.841 742.421 567.647 745.986 Q569.475 749.527 573.086 749.527 Q576.721 749.527 578.526 745.986 Q580.355 742.421 580.355 735.315 Q580.355 728.185 578.526 724.643 Q576.721 721.079 573.086 721.079 M573.086 717.375 Q578.897 717.375 581.952 721.981 Q585.031 726.565 585.031 735.315 Q585.031 744.041 581.952 748.648 Q578.897 753.231 573.086 753.231 Q567.276 753.231 564.198 748.648 Q561.142 744.041 561.142 735.315 Q561.142 726.565 564.198 721.981 Q567.276 717.375 573.086 717.375 Z\" fill=\"#000000\" fill-rule=\"evenodd\" fill-opacity=\"1\" /><path clip-path=\"url(#clip1700)\" d=\"M 0 0 M590.1 746.68 L594.985 746.68 L594.985 752.56 L590.1 752.56 L590.1 746.68 Z\" fill=\"#000000\" fill-rule=\"evenodd\" fill-opacity=\"1\" /><path clip-path=\"url(#clip1700)\" d=\"M 0 0 M598.873 718 L621.095 718 L621.095 719.991 L608.549 752.56 L603.665 752.56 L615.471 721.935 L598.873 721.935 L598.873 718 Z\" fill=\"#000000\" fill-rule=\"evenodd\" fill-opacity=\"1\" /><path clip-path=\"url(#clip1700)\" d=\"M 0 0 M626.211 718 L644.568 718 L644.568 721.935 L630.494 721.935 L630.494 730.407 Q631.512 730.06 632.531 729.898 Q633.549 729.713 634.568 729.713 Q640.355 729.713 643.734 732.884 Q647.114 736.055 647.114 741.472 Q647.114 747.051 643.642 750.152 Q640.169 753.231 633.85 753.231 Q631.674 753.231 629.406 752.861 Q627.16 752.49 624.753 751.75 L624.753 747.051 Q626.836 748.185 629.058 748.74 Q631.281 749.296 633.757 749.296 Q637.762 749.296 640.1 747.19 Q642.438 745.083 642.438 741.472 Q642.438 737.861 640.1 735.754 Q637.762 733.648 633.757 733.648 Q631.882 733.648 630.007 734.065 Q628.156 734.481 626.211 735.361 L626.211 718 Z\" fill=\"#000000\" fill-rule=\"evenodd\" fill-opacity=\"1\" /><path clip-path=\"url(#clip1700)\" d=\"M 0 0 M811.568 748.625 L819.207 748.625 L819.207 722.259 L810.897 723.926 L810.897 719.667 L819.161 718 L823.837 718 L823.837 748.625 L831.476 748.625 L831.476 752.56 L811.568 752.56 L811.568 748.625 Z\" fill=\"#000000\" fill-rule=\"evenodd\" fill-opacity=\"1\" /><path clip-path=\"url(#clip1700)\" d=\"M 0 0 M836.545 746.68 L841.429 746.68 L841.429 752.56 L836.545 752.56 L836.545 746.68 Z\" fill=\"#000000\" fill-rule=\"evenodd\" fill-opacity=\"1\" /><path clip-path=\"url(#clip1700)\" d=\"M 0 0 M856.499 721.079 Q852.888 721.079 851.059 724.643 Q849.253 728.185 849.253 735.315 Q849.253 742.421 851.059 745.986 Q852.888 749.527 856.499 749.527 Q860.133 749.527 861.939 745.986 Q863.767 742.421 863.767 735.315 Q863.767 728.185 861.939 724.643 Q860.133 721.079 856.499 721.079 M856.499 717.375 Q862.309 717.375 865.364 721.981 Q868.443 726.565 868.443 735.315 Q868.443 744.041 865.364 748.648 Q862.309 753.231 856.499 753.231 Q850.689 753.231 847.61 748.648 Q844.554 744.041 844.554 735.315 Q844.554 726.565 847.61 721.981 Q850.689 717.375 856.499 717.375 Z\" fill=\"#000000\" fill-rule=\"evenodd\" fill-opacity=\"1\" /><path clip-path=\"url(#clip1700)\" d=\"M 0 0 M883.513 721.079 Q879.901 721.079 878.073 724.643 Q876.267 728.185 876.267 735.315 Q876.267 742.421 878.073 745.986 Q879.901 749.527 883.513 749.527 Q887.147 749.527 888.952 745.986 Q890.781 742.421 890.781 735.315 Q890.781 728.185 888.952 724.643 Q887.147 721.079 883.513 721.079 M883.513 717.375 Q889.323 717.375 892.378 721.981 Q895.457 726.565 895.457 735.315 Q895.457 744.041 892.378 748.648 Q889.323 753.231 883.513 753.231 Q877.702 753.231 874.624 748.648 Q871.568 744.041 871.568 735.315 Q871.568 726.565 874.624 721.981 Q877.702 717.375 883.513 717.375 Z\" fill=\"#000000\" fill-rule=\"evenodd\" fill-opacity=\"1\" /><path clip-path=\"url(#clip1700)\" d=\"M 0 0 M1061.91 748.625 L1069.55 748.625 L1069.55 722.259 L1061.24 723.926 L1061.24 719.667 L1069.51 718 L1074.18 718 L1074.18 748.625 L1081.82 748.625 L1081.82 752.56 L1061.91 752.56 L1061.91 748.625 Z\" fill=\"#000000\" fill-rule=\"evenodd\" fill-opacity=\"1\" /><path clip-path=\"url(#clip1700)\" d=\"M 0 0 M1086.89 746.68 L1091.77 746.68 L1091.77 752.56 L1086.89 752.56 L1086.89 746.68 Z\" fill=\"#000000\" fill-rule=\"evenodd\" fill-opacity=\"1\" /><path clip-path=\"url(#clip1700)\" d=\"M 0 0 M1100.87 748.625 L1117.19 748.625 L1117.19 752.56 L1095.25 752.56 L1095.25 748.625 Q1097.91 745.87 1102.49 741.24 Q1107.1 736.588 1108.28 735.245 Q1110.52 732.722 1111.4 730.986 Q1112.31 729.227 1112.31 727.537 Q1112.31 724.782 1110.36 723.046 Q1108.44 721.31 1105.34 721.31 Q1103.14 721.31 1100.69 722.074 Q1098.26 722.838 1095.48 724.389 L1095.48 719.667 Q1098.3 718.532 1100.76 717.954 Q1103.21 717.375 1105.25 717.375 Q1110.62 717.375 1113.81 720.06 Q1117.01 722.745 1117.01 727.236 Q1117.01 729.366 1116.2 731.287 Q1115.41 733.185 1113.3 735.778 Q1112.72 736.449 1109.62 739.666 Q1106.52 742.861 1100.87 748.625 Z\" fill=\"#000000\" fill-rule=\"evenodd\" fill-opacity=\"1\" /><path clip-path=\"url(#clip1700)\" d=\"M 0 0 M1122.31 718 L1140.66 718 L1140.66 721.935 L1126.59 721.935 L1126.59 730.407 Q1127.61 730.06 1128.63 729.898 Q1129.64 729.713 1130.66 729.713 Q1136.45 729.713 1139.83 732.884 Q1143.21 736.055 1143.21 741.472 Q1143.21 747.051 1139.74 750.152 Q1136.27 753.231 1129.95 753.231 Q1127.77 753.231 1125.5 752.861 Q1123.26 752.49 1120.85 751.75 L1120.85 747.051 Q1122.93 748.185 1125.15 748.74 Q1127.38 749.296 1129.85 749.296 Q1133.86 749.296 1136.2 747.19 Q1138.53 745.083 1138.53 741.472 Q1138.53 737.861 1136.2 735.754 Q1133.86 733.648 1129.85 733.648 Q1127.98 733.648 1126.1 734.065 Q1124.25 734.481 1122.31 735.361 L1122.31 718 Z\" fill=\"#000000\" fill-rule=\"evenodd\" fill-opacity=\"1\" /><path clip-path=\"url(#clip1700)\" d=\"M 0 0 M1310.16 748.625 L1317.8 748.625 L1317.8 722.259 L1309.49 723.926 L1309.49 719.667 L1317.76 718 L1322.43 718 L1322.43 748.625 L1330.07 748.625 L1330.07 752.56 L1310.16 752.56 L1310.16 748.625 Z\" fill=\"#000000\" fill-rule=\"evenodd\" fill-opacity=\"1\" /><path clip-path=\"url(#clip1700)\" d=\"M 0 0 M1335.14 746.68 L1340.03 746.68 L1340.03 752.56 L1335.14 752.56 L1335.14 746.68 Z\" fill=\"#000000\" fill-rule=\"evenodd\" fill-opacity=\"1\" /><path clip-path=\"url(#clip1700)\" d=\"M 0 0 M1345.14 718 L1363.5 718 L1363.5 721.935 L1349.42 721.935 L1349.42 730.407 Q1350.44 730.06 1351.46 729.898 Q1352.48 729.713 1353.5 729.713 Q1359.28 729.713 1362.66 732.884 Q1366.04 736.055 1366.04 741.472 Q1366.04 747.051 1362.57 750.152 Q1359.1 753.231 1352.78 753.231 Q1350.6 753.231 1348.34 752.861 Q1346.09 752.49 1343.68 751.75 L1343.68 747.051 Q1345.77 748.185 1347.99 748.74 Q1350.21 749.296 1352.69 749.296 Q1356.69 749.296 1359.03 747.19 Q1361.37 745.083 1361.37 741.472 Q1361.37 737.861 1359.03 735.754 Q1356.69 733.648 1352.69 733.648 Q1350.81 733.648 1348.94 734.065 Q1347.09 734.481 1345.14 735.361 L1345.14 718 Z\" fill=\"#000000\" fill-rule=\"evenodd\" fill-opacity=\"1\" /><path clip-path=\"url(#clip1700)\" d=\"M 0 0 M1381.11 721.079 Q1377.5 721.079 1375.67 724.643 Q1373.87 728.185 1373.87 735.315 Q1373.87 742.421 1375.67 745.986 Q1377.5 749.527 1381.11 749.527 Q1384.75 749.527 1386.55 745.986 Q1388.38 742.421 1388.38 735.315 Q1388.38 728.185 1386.55 724.643 Q1384.75 721.079 1381.11 721.079 M1381.11 717.375 Q1386.92 717.375 1389.98 721.981 Q1393.06 726.565 1393.06 735.315 Q1393.06 744.041 1389.98 748.648 Q1386.92 753.231 1381.11 753.231 Q1375.3 753.231 1372.22 748.648 Q1369.17 744.041 1369.17 735.315 Q1369.17 726.565 1372.22 721.981 Q1375.3 717.375 1381.11 717.375 Z\" fill=\"#000000\" fill-rule=\"evenodd\" fill-opacity=\"1\" /><path clip-path=\"url(#clip1700)\" d=\"M 0 0 M125.654 688.887 Q122.043 688.887 120.214 692.451 Q118.408 695.993 118.408 703.123 Q118.408 710.229 120.214 713.794 Q122.043 717.335 125.654 717.335 Q129.288 717.335 131.094 713.794 Q132.922 710.229 132.922 703.123 Q132.922 695.993 131.094 692.451 Q129.288 688.887 125.654 688.887 M125.654 685.183 Q131.464 685.183 134.52 689.789 Q137.598 694.373 137.598 703.123 Q137.598 711.849 134.52 716.456 Q131.464 721.039 125.654 721.039 Q119.844 721.039 116.765 716.456 Q113.709 711.849 113.709 703.123 Q113.709 694.373 116.765 689.789 Q119.844 685.183 125.654 685.183 Z\" fill=\"#000000\" fill-rule=\"evenodd\" fill-opacity=\"1\" /><path clip-path=\"url(#clip1700)\" d=\"M 0 0 M94.2651 607.125 L110.584 607.125 L110.584 611.061 L88.6401 611.061 L88.6401 607.125 Q91.3022 604.371 95.8855 599.741 Q100.492 595.088 101.672 593.746 Q103.918 591.223 104.797 589.487 Q105.7 587.727 105.7 586.038 Q105.7 583.283 103.756 581.547 Q101.835 579.811 98.7327 579.811 Q96.5336 579.811 94.0799 580.575 Q91.6494 581.339 88.8716 582.889 L88.8716 578.167 Q91.6957 577.033 94.1494 576.454 Q96.6031 575.876 98.6401 575.876 Q104.01 575.876 107.205 578.561 Q110.399 581.246 110.399 585.737 Q110.399 587.866 109.589 589.788 Q108.802 591.686 106.696 594.278 Q106.117 594.95 103.015 598.167 Q99.9132 601.362 94.2651 607.125 Z\" fill=\"#000000\" fill-rule=\"evenodd\" fill-opacity=\"1\" /><path clip-path=\"url(#clip1700)\" d=\"M 0 0 M125.654 579.579 Q122.043 579.579 120.214 583.144 Q118.408 586.686 118.408 593.815 Q118.408 600.922 120.214 604.487 Q122.043 608.028 125.654 608.028 Q129.288 608.028 131.094 604.487 Q132.922 600.922 132.922 593.815 Q132.922 586.686 131.094 583.144 Q129.288 579.579 125.654 579.579 M125.654 575.876 Q131.464 575.876 134.52 580.482 Q137.598 585.065 137.598 593.815 Q137.598 602.542 134.52 607.149 Q131.464 611.732 125.654 611.732 Q119.844 611.732 116.765 607.149 Q113.709 602.542 113.709 593.815 Q113.709 585.065 116.765 580.482 Q119.844 575.876 125.654 575.876 Z\" fill=\"#000000\" fill-rule=\"evenodd\" fill-opacity=\"1\" /><path clip-path=\"url(#clip1700)\" d=\"M 0 0 M101.001 471.267 L89.1957 489.716 L101.001 489.716 L101.001 471.267 M99.7743 467.193 L105.654 467.193 L105.654 489.716 L110.584 489.716 L110.584 493.605 L105.654 493.605 L105.654 501.753 L101.001 501.753 L101.001 493.605 L85.3994 493.605 L85.3994 489.091 L99.7743 467.193 Z\" fill=\"#000000\" fill-rule=\"evenodd\" fill-opacity=\"1\" /><path clip-path=\"url(#clip1700)\" d=\"M 0 0 M125.654 470.272 Q122.043 470.272 120.214 473.837 Q118.408 477.378 118.408 484.508 Q118.408 491.614 120.214 495.179 Q122.043 498.721 125.654 498.721 Q129.288 498.721 131.094 495.179 Q132.922 491.614 132.922 484.508 Q132.922 477.378 131.094 473.837 Q129.288 470.272 125.654 470.272 M125.654 466.568 Q131.464 466.568 134.52 471.175 Q137.598 475.758 137.598 484.508 Q137.598 493.235 134.52 497.841 Q131.464 502.425 125.654 502.425 Q119.844 502.425 116.765 497.841 Q113.709 493.235 113.709 484.508 Q113.709 475.758 116.765 471.175 Q119.844 466.568 125.654 466.568 Z\" fill=\"#000000\" fill-rule=\"evenodd\" fill-opacity=\"1\" /><path clip-path=\"url(#clip1700)\" d=\"M 0 0 M99.0567 373.303 Q95.9086 373.303 94.0568 375.455 Q92.2281 377.608 92.2281 381.358 Q92.2281 385.085 94.0568 387.261 Q95.9086 389.414 99.0567 389.414 Q102.205 389.414 104.034 387.261 Q105.885 385.085 105.885 381.358 Q105.885 377.608 104.034 375.455 Q102.205 373.303 99.0567 373.303 M108.339 358.65 L108.339 362.909 Q106.58 362.076 104.774 361.636 Q102.992 361.196 101.233 361.196 Q96.6031 361.196 94.1494 364.321 Q91.7188 367.446 91.3716 373.766 Q92.7373 371.752 94.7975 370.687 Q96.8577 369.599 99.3345 369.599 Q104.543 369.599 107.552 372.77 Q110.584 375.918 110.584 381.358 Q110.584 386.682 107.436 389.9 Q104.288 393.117 99.0567 393.117 Q93.0614 393.117 89.8901 388.534 Q86.7189 383.928 86.7189 375.201 Q86.7189 367.006 90.6077 362.145 Q94.4966 357.261 101.047 357.261 Q102.807 357.261 104.589 357.608 Q106.395 357.955 108.339 358.65 Z\" fill=\"#000000\" fill-rule=\"evenodd\" fill-opacity=\"1\" /><path clip-path=\"url(#clip1700)\" d=\"M 0 0 M125.654 360.965 Q122.043 360.965 120.214 364.529 Q118.408 368.071 118.408 375.201 Q118.408 382.307 120.214 385.872 Q122.043 389.414 125.654 389.414 Q129.288 389.414 131.094 385.872 Q132.922 382.307 132.922 375.201 Q132.922 368.071 131.094 364.529 Q129.288 360.965 125.654 360.965 M125.654 357.261 Q131.464 357.261 134.52 361.867 Q137.598 366.451 137.598 375.201 Q137.598 383.928 134.52 388.534 Q131.464 393.117 125.654 393.117 Q119.844 393.117 116.765 388.534 Q113.709 383.928 113.709 375.201 Q113.709 366.451 116.765 361.867 Q119.844 357.261 125.654 357.261 Z\" fill=\"#000000\" fill-rule=\"evenodd\" fill-opacity=\"1\" /><path clip-path=\"url(#clip1700)\" d=\"M 0 0 M98.7327 266.727 Q95.3994 266.727 93.4781 268.509 Q91.5799 270.292 91.5799 273.417 Q91.5799 276.542 93.4781 278.324 Q95.3994 280.106 98.7327 280.106 Q102.066 280.106 103.987 278.324 Q105.909 276.518 105.909 273.417 Q105.909 270.292 103.987 268.509 Q102.089 266.727 98.7327 266.727 M94.0568 264.736 Q91.0475 263.995 89.3577 261.935 Q87.6911 259.875 87.6911 256.912 Q87.6911 252.768 90.6309 250.361 Q93.5938 247.954 98.7327 247.954 Q103.895 247.954 106.834 250.361 Q109.774 252.768 109.774 256.912 Q109.774 259.875 108.084 261.935 Q106.418 263.995 103.432 264.736 Q106.811 265.523 108.686 267.815 Q110.584 270.106 110.584 273.417 Q110.584 278.44 107.506 281.125 Q104.45 283.81 98.7327 283.81 Q93.0151 283.81 89.9364 281.125 Q86.8809 278.44 86.8809 273.417 Q86.8809 270.106 88.779 267.815 Q90.6772 265.523 94.0568 264.736 M92.3438 257.352 Q92.3438 260.037 94.0105 261.542 Q95.7003 263.046 98.7327 263.046 Q101.742 263.046 103.432 261.542 Q105.145 260.037 105.145 257.352 Q105.145 254.667 103.432 253.162 Q101.742 251.657 98.7327 251.657 Q95.7003 251.657 94.0105 253.162 Q92.3438 254.667 92.3438 257.352 Z\" fill=\"#000000\" fill-rule=\"evenodd\" fill-opacity=\"1\" /><path clip-path=\"url(#clip1700)\" d=\"M 0 0 M125.654 251.657 Q122.043 251.657 120.214 255.222 Q118.408 258.764 118.408 265.893 Q118.408 273 120.214 276.565 Q122.043 280.106 125.654 280.106 Q129.288 280.106 131.094 276.565 Q132.922 273 132.922 265.893 Q132.922 258.764 131.094 255.222 Q129.288 251.657 125.654 251.657 M125.654 247.954 Q131.464 247.954 134.52 252.56 Q137.598 257.143 137.598 265.893 Q137.598 274.62 134.52 279.227 Q131.464 283.81 125.654 283.81 Q119.844 283.81 116.765 279.227 Q113.709 274.62 113.709 265.893 Q113.709 257.143 116.765 252.56 Q119.844 247.954 125.654 247.954 Z\" fill=\"#000000\" fill-rule=\"evenodd\" fill-opacity=\"1\" /><path clip-path=\"url(#clip1700)\" d=\"M 0 0 M63.6634 169.896 L71.3023 169.896 L71.3023 143.531 L62.9921 145.197 L62.9921 140.938 L71.256 139.271 L75.9319 139.271 L75.9319 169.896 L83.5707 169.896 L83.5707 173.831 L63.6634 173.831 L63.6634 169.896 Z\" fill=\"#000000\" fill-rule=\"evenodd\" fill-opacity=\"1\" /><path clip-path=\"url(#clip1700)\" d=\"M 0 0 M98.6401 142.35 Q95.029 142.35 93.2003 145.915 Q91.3948 149.457 91.3948 156.586 Q91.3948 163.693 93.2003 167.257 Q95.029 170.799 98.6401 170.799 Q102.274 170.799 104.08 167.257 Q105.909 163.693 105.909 156.586 Q105.909 149.457 104.08 145.915 Q102.274 142.35 98.6401 142.35 M98.6401 138.646 Q104.45 138.646 107.506 143.253 Q110.584 147.836 110.584 156.586 Q110.584 165.313 107.506 169.919 Q104.45 174.503 98.6401 174.503 Q92.8299 174.503 89.7512 169.919 Q86.6957 165.313 86.6957 156.586 Q86.6957 147.836 89.7512 143.253 Q92.8299 138.646 98.6401 138.646 Z\" fill=\"#000000\" fill-rule=\"evenodd\" fill-opacity=\"1\" /><path clip-path=\"url(#clip1700)\" d=\"M 0 0 M125.654 142.35 Q122.043 142.35 120.214 145.915 Q118.408 149.457 118.408 156.586 Q118.408 163.693 120.214 167.257 Q122.043 170.799 125.654 170.799 Q129.288 170.799 131.094 167.257 Q132.922 163.693 132.922 156.586 Q132.922 149.457 131.094 145.915 Q129.288 142.35 125.654 142.35 M125.654 138.646 Q131.464 138.646 134.52 143.253 Q137.598 147.836 137.598 156.586 Q137.598 165.313 134.52 169.919 Q131.464 174.503 125.654 174.503 Q119.844 174.503 116.765 169.919 Q113.709 165.313 113.709 156.586 Q113.709 147.836 116.765 143.253 Q119.844 138.646 125.654 138.646 Z\" fill=\"#000000\" fill-rule=\"evenodd\" fill-opacity=\"1\" /><path clip-path=\"url(#clip1700)\" d=\"M 0 0 M63.6634 169.896 L71.3023 169.896 L71.3023 143.531 L62.9921 145.197 L62.9921 140.938 L71.256 139.271 L75.9319 139.271 L75.9319 169.896 L83.5707 169.896 L83.5707 173.831 L63.6634 173.831 L63.6634 169.896 Z\" fill=\"#000000\" fill-rule=\"evenodd\" fill-opacity=\"1\" /><path clip-path=\"url(#clip1700)\" d=\"M 0 0 M98.6401 142.35 Q95.029 142.35 93.2003 145.915 Q91.3948 149.457 91.3948 156.586 Q91.3948 163.693 93.2003 167.257 Q95.029 170.799 98.6401 170.799 Q102.274 170.799 104.08 167.257 Q105.909 163.693 105.909 156.586 Q105.909 149.457 104.08 145.915 Q102.274 142.35 98.6401 142.35 M98.6401 138.646 Q104.45 138.646 107.506 143.253 Q110.584 147.836 110.584 156.586 Q110.584 165.313 107.506 169.919 Q104.45 174.503 98.6401 174.503 Q92.8299 174.503 89.7512 169.919 Q86.6957 165.313 86.6957 156.586 Q86.6957 147.836 89.7512 143.253 Q92.8299 138.646 98.6401 138.646 Z\" fill=\"#000000\" fill-rule=\"evenodd\" fill-opacity=\"1\" /><path clip-path=\"url(#clip1700)\" d=\"M 0 0 M125.654 142.35 Q122.043 142.35 120.214 145.915 Q118.408 149.457 118.408 156.586 Q118.408 163.693 120.214 167.257 Q122.043 170.799 125.654 170.799 Q129.288 170.799 131.094 167.257 Q132.922 163.693 132.922 156.586 Q132.922 149.457 131.094 145.915 Q129.288 142.35 125.654 142.35 M125.654 138.646 Q131.464 138.646 134.52 143.253 Q137.598 147.836 137.598 156.586 Q137.598 165.313 134.52 169.919 Q131.464 174.503 125.654 174.503 Q119.844 174.503 116.765 169.919 Q113.709 165.313 113.709 156.586 Q113.709 147.836 116.765 143.253 Q119.844 138.646 125.654 138.646 Z\" fill=\"#000000\" fill-rule=\"evenodd\" fill-opacity=\"1\" /><path clip-path=\"url(#clip1702)\" d=\"\n",
       "M230.554 703.088 L230.554 703.088 L280.364 703.088 L280.364 703.088 L230.554 703.088 L230.554 703.088  Z\n",
       "  \" fill=\"#009af9\" fill-rule=\"evenodd\" fill-opacity=\"1\"/>\n",
       "<polyline clip-path=\"url(#clip1702)\" style=\"stroke:#000000; stroke-width:4; stroke-opacity:1; fill:none\" points=\"\n",
       "  230.554,703.088 230.554,703.088 280.364,703.088 230.554,703.088 \n",
       "  \"/>\n",
       "<path clip-path=\"url(#clip1702)\" d=\"\n",
       "M280.364 703.088 L280.364 703.088 L330.174 703.088 L330.174 703.088 L280.364 703.088 L280.364 703.088  Z\n",
       "  \" fill=\"#009af9\" fill-rule=\"evenodd\" fill-opacity=\"1\"/>\n",
       "<polyline clip-path=\"url(#clip1702)\" style=\"stroke:#000000; stroke-width:4; stroke-opacity:1; fill:none\" points=\"\n",
       "  280.364,703.088 280.364,703.088 330.174,703.088 280.364,703.088 \n",
       "  \"/>\n",
       "<path clip-path=\"url(#clip1702)\" d=\"\n",
       "M330.174 703.088 L330.174 703.088 L379.984 703.088 L379.984 703.088 L330.174 703.088 L330.174 703.088  Z\n",
       "  \" fill=\"#009af9\" fill-rule=\"evenodd\" fill-opacity=\"1\"/>\n",
       "<polyline clip-path=\"url(#clip1702)\" style=\"stroke:#000000; stroke-width:4; stroke-opacity:1; fill:none\" points=\"\n",
       "  330.174,703.088 330.174,703.088 379.984,703.088 330.174,703.088 \n",
       "  \"/>\n",
       "<path clip-path=\"url(#clip1702)\" d=\"\n",
       "M379.984 681.226 L379.984 703.088 L429.794 703.088 L429.794 681.226 L379.984 681.226 L379.984 681.226  Z\n",
       "  \" fill=\"#009af9\" fill-rule=\"evenodd\" fill-opacity=\"1\"/>\n",
       "<polyline clip-path=\"url(#clip1702)\" style=\"stroke:#000000; stroke-width:4; stroke-opacity:1; fill:none\" points=\"\n",
       "  379.984,681.226 379.984,703.088 429.794,703.088 429.794,681.226 379.984,681.226 \n",
       "  \"/>\n",
       "<path clip-path=\"url(#clip1702)\" d=\"\n",
       "M429.794 681.226 L429.794 703.088 L479.603 703.088 L479.603 681.226 L429.794 681.226 L429.794 681.226  Z\n",
       "  \" fill=\"#009af9\" fill-rule=\"evenodd\" fill-opacity=\"1\"/>\n",
       "<polyline clip-path=\"url(#clip1702)\" style=\"stroke:#000000; stroke-width:4; stroke-opacity:1; fill:none\" points=\"\n",
       "  429.794,681.226 429.794,703.088 479.603,703.088 479.603,681.226 429.794,681.226 \n",
       "  \"/>\n",
       "<path clip-path=\"url(#clip1702)\" d=\"\n",
       "M479.603 664.83 L479.603 703.088 L529.413 703.088 L529.413 664.83 L479.603 664.83 L479.603 664.83  Z\n",
       "  \" fill=\"#009af9\" fill-rule=\"evenodd\" fill-opacity=\"1\"/>\n",
       "<polyline clip-path=\"url(#clip1702)\" style=\"stroke:#000000; stroke-width:4; stroke-opacity:1; fill:none\" points=\"\n",
       "  479.603,664.83 479.603,703.088 529.413,703.088 529.413,664.83 479.603,664.83 \n",
       "  \"/>\n",
       "<path clip-path=\"url(#clip1702)\" d=\"\n",
       "M529.413 582.85 L529.413 703.088 L579.223 703.088 L579.223 582.85 L529.413 582.85 L529.413 582.85  Z\n",
       "  \" fill=\"#009af9\" fill-rule=\"evenodd\" fill-opacity=\"1\"/>\n",
       "<polyline clip-path=\"url(#clip1702)\" style=\"stroke:#000000; stroke-width:4; stroke-opacity:1; fill:none\" points=\"\n",
       "  529.413,582.85 529.413,703.088 579.223,703.088 579.223,582.85 529.413,582.85 \n",
       "  \"/>\n",
       "<path clip-path=\"url(#clip1702)\" d=\"\n",
       "M579.223 604.711 L579.223 703.088 L629.033 703.088 L629.033 604.711 L579.223 604.711 L579.223 604.711  Z\n",
       "  \" fill=\"#009af9\" fill-rule=\"evenodd\" fill-opacity=\"1\"/>\n",
       "<polyline clip-path=\"url(#clip1702)\" style=\"stroke:#000000; stroke-width:4; stroke-opacity:1; fill:none\" points=\"\n",
       "  579.223,604.711 579.223,703.088 629.033,703.088 629.033,604.711 579.223,604.711 \n",
       "  \"/>\n",
       "<path clip-path=\"url(#clip1702)\" d=\"\n",
       "M629.033 440.75 L629.033 703.088 L678.843 703.088 L678.843 440.75 L629.033 440.75 L629.033 440.75  Z\n",
       "  \" fill=\"#009af9\" fill-rule=\"evenodd\" fill-opacity=\"1\"/>\n",
       "<polyline clip-path=\"url(#clip1702)\" style=\"stroke:#000000; stroke-width:4; stroke-opacity:1; fill:none\" points=\"\n",
       "  629.033,440.75 629.033,703.088 678.843,703.088 678.843,440.75 629.033,440.75 \n",
       "  \"/>\n",
       "<path clip-path=\"url(#clip1702)\" d=\"\n",
       "M678.843 566.454 L678.843 703.088 L728.653 703.088 L728.653 566.454 L678.843 566.454 L678.843 566.454  Z\n",
       "  \" fill=\"#009af9\" fill-rule=\"evenodd\" fill-opacity=\"1\"/>\n",
       "<polyline clip-path=\"url(#clip1702)\" style=\"stroke:#000000; stroke-width:4; stroke-opacity:1; fill:none\" points=\"\n",
       "  678.843,566.454 678.843,703.088 728.653,703.088 728.653,566.454 678.843,566.454 \n",
       "  \"/>\n",
       "<path clip-path=\"url(#clip1702)\" d=\"\n",
       "M728.653 468.077 L728.653 703.088 L778.462 703.088 L778.462 468.077 L728.653 468.077 L728.653 468.077  Z\n",
       "  \" fill=\"#009af9\" fill-rule=\"evenodd\" fill-opacity=\"1\"/>\n",
       "<polyline clip-path=\"url(#clip1702)\" style=\"stroke:#000000; stroke-width:4; stroke-opacity:1; fill:none\" points=\"\n",
       "  728.653,468.077 728.653,703.088 778.462,703.088 778.462,468.077 728.653,468.077 \n",
       "  \"/>\n",
       "<path clip-path=\"url(#clip1702)\" d=\"\n",
       "M778.462 200.274 L778.462 703.088 L828.272 703.088 L828.272 200.274 L778.462 200.274 L778.462 200.274  Z\n",
       "  \" fill=\"#009af9\" fill-rule=\"evenodd\" fill-opacity=\"1\"/>\n",
       "<polyline clip-path=\"url(#clip1702)\" style=\"stroke:#000000; stroke-width:4; stroke-opacity:1; fill:none\" points=\"\n",
       "  778.462,200.274 778.462,703.088 828.272,703.088 828.272,200.274 778.462,200.274 \n",
       "  \"/>\n",
       "<path clip-path=\"url(#clip1702)\" d=\"\n",
       "M828.272 90.967 L828.272 703.088 L878.082 703.088 L878.082 90.967 L828.272 90.967 L828.272 90.967  Z\n",
       "  \" fill=\"#009af9\" fill-rule=\"evenodd\" fill-opacity=\"1\"/>\n",
       "<polyline clip-path=\"url(#clip1702)\" style=\"stroke:#000000; stroke-width:4; stroke-opacity:1; fill:none\" points=\"\n",
       "  828.272,90.967 828.272,703.088 878.082,703.088 878.082,90.967 828.272,90.967 \n",
       "  \"/>\n",
       "<path clip-path=\"url(#clip1702)\" d=\"\n",
       "M878.082 162.017 L878.082 703.088 L927.892 703.088 L927.892 162.017 L878.082 162.017 L878.082 162.017  Z\n",
       "  \" fill=\"#009af9\" fill-rule=\"evenodd\" fill-opacity=\"1\"/>\n",
       "<polyline clip-path=\"url(#clip1702)\" style=\"stroke:#000000; stroke-width:4; stroke-opacity:1; fill:none\" points=\"\n",
       "  878.082,162.017 878.082,703.088 927.892,703.088 927.892,162.017 878.082,162.017 \n",
       "  \"/>\n",
       "<path clip-path=\"url(#clip1702)\" d=\"\n",
       "M927.892 353.305 L927.892 703.088 L977.702 703.088 L977.702 353.305 L927.892 353.305 L927.892 353.305  Z\n",
       "  \" fill=\"#009af9\" fill-rule=\"evenodd\" fill-opacity=\"1\"/>\n",
       "<polyline clip-path=\"url(#clip1702)\" style=\"stroke:#000000; stroke-width:4; stroke-opacity:1; fill:none\" points=\"\n",
       "  927.892,353.305 927.892,703.088 977.702,703.088 977.702,353.305 927.892,353.305 \n",
       "  \"/>\n",
       "<path clip-path=\"url(#clip1702)\" d=\"\n",
       "M977.702 451.681 L977.702 703.088 L1027.51 703.088 L1027.51 451.681 L977.702 451.681 L977.702 451.681  Z\n",
       "  \" fill=\"#009af9\" fill-rule=\"evenodd\" fill-opacity=\"1\"/>\n",
       "<polyline clip-path=\"url(#clip1702)\" style=\"stroke:#000000; stroke-width:4; stroke-opacity:1; fill:none\" points=\"\n",
       "  977.702,451.681 977.702,703.088 1027.51,703.088 1027.51,451.681 977.702,451.681 \n",
       "  \"/>\n",
       "<path clip-path=\"url(#clip1702)\" d=\"\n",
       "M1027.51 555.523 L1027.51 703.088 L1077.32 703.088 L1077.32 555.523 L1027.51 555.523 L1027.51 555.523  Z\n",
       "  \" fill=\"#009af9\" fill-rule=\"evenodd\" fill-opacity=\"1\"/>\n",
       "<polyline clip-path=\"url(#clip1702)\" style=\"stroke:#000000; stroke-width:4; stroke-opacity:1; fill:none\" points=\"\n",
       "  1027.51,555.523 1027.51,703.088 1077.32,703.088 1077.32,555.523 1027.51,555.523 \n",
       "  \"/>\n",
       "<path clip-path=\"url(#clip1702)\" d=\"\n",
       "M1077.32 648.434 L1077.32 703.088 L1127.13 703.088 L1127.13 648.434 L1077.32 648.434 L1077.32 648.434  Z\n",
       "  \" fill=\"#009af9\" fill-rule=\"evenodd\" fill-opacity=\"1\"/>\n",
       "<polyline clip-path=\"url(#clip1702)\" style=\"stroke:#000000; stroke-width:4; stroke-opacity:1; fill:none\" points=\"\n",
       "  1077.32,648.434 1077.32,703.088 1127.13,703.088 1127.13,648.434 1077.32,648.434 \n",
       "  \"/>\n",
       "<path clip-path=\"url(#clip1702)\" d=\"\n",
       "M1127.13 692.157 L1127.13 703.088 L1176.94 703.088 L1176.94 692.157 L1127.13 692.157 L1127.13 692.157  Z\n",
       "  \" fill=\"#009af9\" fill-rule=\"evenodd\" fill-opacity=\"1\"/>\n",
       "<polyline clip-path=\"url(#clip1702)\" style=\"stroke:#000000; stroke-width:4; stroke-opacity:1; fill:none\" points=\"\n",
       "  1127.13,692.157 1127.13,703.088 1176.94,703.088 1176.94,692.157 1127.13,692.157 \n",
       "  \"/>\n",
       "<path clip-path=\"url(#clip1702)\" d=\"\n",
       "M1176.94 692.157 L1176.94 703.088 L1226.75 703.088 L1226.75 692.157 L1176.94 692.157 L1176.94 692.157  Z\n",
       "  \" fill=\"#009af9\" fill-rule=\"evenodd\" fill-opacity=\"1\"/>\n",
       "<polyline clip-path=\"url(#clip1702)\" style=\"stroke:#000000; stroke-width:4; stroke-opacity:1; fill:none\" points=\"\n",
       "  1176.94,692.157 1176.94,703.088 1226.75,703.088 1226.75,692.157 1176.94,692.157 \n",
       "  \"/>\n",
       "<path clip-path=\"url(#clip1702)\" d=\"\n",
       "M1226.75 703.088 L1226.75 703.088 L1276.56 703.088 L1276.56 703.088 L1226.75 703.088 L1226.75 703.088  Z\n",
       "  \" fill=\"#009af9\" fill-rule=\"evenodd\" fill-opacity=\"1\"/>\n",
       "<polyline clip-path=\"url(#clip1702)\" style=\"stroke:#000000; stroke-width:4; stroke-opacity:1; fill:none\" points=\"\n",
       "  1226.75,703.088 1226.75,703.088 1276.56,703.088 1226.75,703.088 \n",
       "  \"/>\n",
       "<path clip-path=\"url(#clip1702)\" d=\"\n",
       "M1276.56 703.088 L1276.56 703.088 L1326.37 703.088 L1326.37 703.088 L1276.56 703.088 L1276.56 703.088  Z\n",
       "  \" fill=\"#009af9\" fill-rule=\"evenodd\" fill-opacity=\"1\"/>\n",
       "<polyline clip-path=\"url(#clip1702)\" style=\"stroke:#000000; stroke-width:4; stroke-opacity:1; fill:none\" points=\"\n",
       "  1276.56,703.088 1276.56,703.088 1326.37,703.088 1276.56,703.088 \n",
       "  \"/>\n",
       "<path clip-path=\"url(#clip1702)\" d=\"\n",
       "M1326.37 703.088 L1326.37 703.088 L1376.18 703.088 L1376.18 703.088 L1326.37 703.088 L1326.37 703.088  Z\n",
       "  \" fill=\"#009af9\" fill-rule=\"evenodd\" fill-opacity=\"1\"/>\n",
       "<polyline clip-path=\"url(#clip1702)\" style=\"stroke:#000000; stroke-width:4; stroke-opacity:1; fill:none\" points=\"\n",
       "  1326.37,703.088 1326.37,703.088 1376.18,703.088 1326.37,703.088 \n",
       "  \"/>\n",
       "<path clip-path=\"url(#clip1702)\" d=\"\n",
       "M1376.18 703.088 L1376.18 703.088 L1425.99 703.088 L1425.99 703.088 L1376.18 703.088 L1376.18 703.088  Z\n",
       "  \" fill=\"#009af9\" fill-rule=\"evenodd\" fill-opacity=\"1\"/>\n",
       "<polyline clip-path=\"url(#clip1702)\" style=\"stroke:#000000; stroke-width:4; stroke-opacity:1; fill:none\" points=\"\n",
       "  1376.18,703.088 1376.18,703.088 1425.99,703.088 1376.18,703.088 \n",
       "  \"/>\n",
       "<path clip-path=\"url(#clip1702)\" d=\"\n",
       "M1425.99 703.088 L1425.99 703.088 L1475.8 703.088 L1475.8 703.088 L1425.99 703.088 L1425.99 703.088  Z\n",
       "  \" fill=\"#009af9\" fill-rule=\"evenodd\" fill-opacity=\"1\"/>\n",
       "<polyline clip-path=\"url(#clip1702)\" style=\"stroke:#000000; stroke-width:4; stroke-opacity:1; fill:none\" points=\"\n",
       "  1425.99,703.088 1425.99,703.088 1475.8,703.088 1425.99,703.088 \n",
       "  \"/>\n",
       "</svg>\n"
      ],
      "text/plain": [
       "Plot{Plots.GRBackend() n=1}"
      ]
     },
     "metadata": {},
     "output_type": "display_data"
    }
   ],
   "source": [
    "using Plots\n",
    "histogram(A*x, bins = (0.375:0.05:1.625), legend = false, ylim = (0,120), size = [400, 200])"
   ]
  },
  {
   "cell_type": "code",
   "execution_count": 24,
   "metadata": {},
   "outputs": [
    {
     "data": {
      "text/plain": [
       "0.2417413185380788"
      ]
     },
     "metadata": {},
     "output_type": "display_data"
    }
   ],
   "source": [
    "# Intensity if all lamp powers are one\n",
    "rms_uniform = rms(A*ones(n,1) .- 1)"
   ]
  },
  {
   "cell_type": "code",
   "execution_count": 25,
   "metadata": {},
   "outputs": [
    {
     "data": {
      "image/png": "[encoded data removed]",
      "image/svg+xml": "<?xml version=\"1.0\" encoding=\"utf-8\"?>\n<svg xmlns=\"http://www.w3.org/2000/svg\" xmlns:xlink=\"http://www.w3.org/1999/xlink\" width=\"400\" height=\"200\" viewBox=\"0 0 1600 800\">\n<defs>\n  <clipPath id=\"clip2000\">\n    <rect x=\"0\" y=\"0\" width=\"1600\" height=\"800\"/>\n  </clipPath>\n</defs>\n<path clip-path=\"url(#clip2000)\" d=\"\nM0 800 L1600 800 L1600 0 L0 0  Z\n  \" fill=\"#ffffff\" fill-rule=\"evenodd\" fill-opacity=\"1\"/>\n<defs>\n  <clipPath id=\"clip2001\">\n    <rect x=\"320\" y=\"0\" width=\"1121\" height=\"800\"/>\n  </clipPath>\n</defs>\n<path clip-path=\"url(#clip2000)\" d=\"\nM153.598 703.088 L1552.76 703.088 L1552.76 47.2441 L153.598 47.2441  Z\n  \" fill=\"#ffffff\" fill-rule=\"evenodd\" fill-opacity=\"1\"/>\n<defs>\n  <clipPath id=\"clip2002\">\n    <rect x=\"153\" y=\"47\" width=\"1400\" height=\"657\"/>\n  </clipPath>\n</defs>\n<polyline clip-path=\"url(#clip2002)\" style=\"stroke:#000000; stroke-width:2; stroke-opacity:0.1; fill:none\" points=\"\n  355.079,703.088 355.079,47.2441 \n  \"/>\n<polyline clip-path=\"url(#clip2002)\" style=\"stroke:#000000; stroke-width:2; stroke-opacity:0.1; fill:none\" points=\"\n  604.128,703.088 604.128,47.2441 \n  \"/>\n<polyline clip-path=\"url(#clip2002)\" style=\"stroke:#000000; stroke-width:2; stroke-opacity:0.1; fill:none\" points=\"\n  853.177,703.088 853.177,47.2441 \n  \"/>\n<polyline clip-path=\"url(#clip2002)\" style=\"stroke:#000000; stroke-width:2; stroke-opacity:0.1; fill:none\" points=\"\n  1102.23,703.088 1102.23,47.2441 \n  \"/>\n<polyline clip-path=\"url(#clip2002)\" style=\"stroke:#000000; stroke-width:2; stroke-opacity:0.1; fill:none\" points=\"\n  1351.28,703.088 1351.28,47.2441 \n  \"/>\n<polyline clip-path=\"url(#clip2002)\" style=\"stroke:#000000; stroke-width:2; stroke-opacity:0.1; fill:none\" points=\"\n  153.598,703.088 1552.76,703.088 \n  \"/>\n<polyline clip-path=\"url(#clip2002)\" style=\"stroke:#000000; stroke-width:2; stroke-opacity:0.1; fill:none\" points=\"\n  153.598,593.781 1552.76,593.781 \n  \"/>\n<polyline clip-path=\"url(#clip2002)\" style=\"stroke:#000000; stroke-width:2; stroke-opacity:0.1; fill:none\" points=\"\n  153.598,484.473 1552.76,484.473 \n  \"/>\n<polyline clip-path=\"url(#clip2002)\" style=\"stroke:#000000; stroke-width:2; stroke-opacity:0.1; fill:none\" points=\"\n  153.598,375.166 1552.76,375.166 \n  \"/>\n<polyline clip-path=\"url(#clip2002)\" style=\"stroke:#000000; stroke-width:2; stroke-opacity:0.1; fill:none\" points=\"\n  153.598,265.859 1552.76,265.859 \n  \"/>\n<polyline clip-path=\"url(#clip2002)\" style=\"stroke:#000000; stroke-width:2; stroke-opacity:0.1; fill:none\" points=\"\n  153.598,156.551 1552.76,156.551 \n  \"/>\n<polyline clip-path=\"url(#clip2002)\" style=\"stroke:#000000; stroke-width:2; stroke-opacity:0.1; fill:none\" points=\"\n  153.598,156.551 1552.76,156.551 \n  \"/>\n<polyline clip-path=\"url(#clip2000)\" style=\"stroke:#000000; stroke-width:4; stroke-opacity:1; fill:none\" points=\"\n  153.598,703.088 1552.76,703.088 \n  \"/>\n<polyline clip-path=\"url(#clip2000)\" style=\"stroke:#000000; stroke-width:4; stroke-opacity:1; fill:none\" points=\"\n  153.598,703.088 153.598,47.2441 \n  \"/>\n<polyline clip-path=\"url(#clip2000)\" style=\"stroke:#000000; stroke-width:4; stroke-opacity:1; fill:none\" points=\"\n  355.079,703.088 355.079,695.218 \n  \"/>\n<polyline clip-path=\"url(#clip2000)\" style=\"stroke:#000000; stroke-width:4; stroke-opacity:1; fill:none\" points=\"\n  604.128,703.088 604.128,695.218 \n  \"/>\n<polyline clip-path=\"url(#clip2000)\" style=\"stroke:#000000; stroke-width:4; stroke-opacity:1; fill:none\" points=\"\n  853.177,703.088 853.177,695.218 \n  \"/>\n<polyline clip-path=\"url(#clip2000)\" style=\"stroke:#000000; stroke-width:4; stroke-opacity:1; fill:none\" points=\"\n  1102.23,703.088 1102.23,695.218 \n  \"/>\n<polyline clip-path=\"url(#clip2000)\" style=\"stroke:#000000; stroke-width:4; stroke-opacity:1; fill:none\" points=\"\n  1351.28,703.088 1351.28,695.218 \n  \"/>\n<polyline clip-path=\"url(#clip2000)\" style=\"stroke:#000000; stroke-width:4; stroke-opacity:1; fill:none\" points=\"\n  153.598,703.088 170.388,703.088 \n  \"/>\n<polyline clip-path=\"url(#clip2000)\" style=\"stroke:#000000; stroke-width:4; stroke-opacity:1; fill:none\" points=\"\n  153.598,593.781 170.388,593.781 \n  \"/>\n<polyline clip-path=\"url(#clip2000)\" style=\"stroke:#000000; stroke-width:4; stroke-opacity:1; fill:none\" points=\"\n  153.598,484.473 170.388,484.473 \n  \"/>\n<polyline clip-path=\"url(#clip2000)\" style=\"stroke:#000000; stroke-width:4; stroke-opacity:1; fill:none\" points=\"\n  153.598,375.166 170.388,375.166 \n  \"/>\n<polyline clip-path=\"url(#clip2000)\" style=\"stroke:#000000; stroke-width:4; stroke-opacity:1; fill:none\" points=\"\n  153.598,265.859 170.388,265.859 \n  \"/>\n<polyline clip-path=\"url(#clip2000)\" style=\"stroke:#000000; stroke-width:4; stroke-opacity:1; fill:none\" points=\"\n  153.598,156.551 170.388,156.551 \n  \"/>\n<polyline clip-path=\"url(#clip2000)\" style=\"stroke:#000000; stroke-width:4; stroke-opacity:1; fill:none\" points=\"\n  153.598,156.551 170.388,156.551 \n  \"/>\n<path clip-path=\"url(#clip2000)\" d=\"M 0 0 M323.586 721.079 Q319.975 721.079 318.146 724.643 Q316.341 728.185 316.341 735.315 Q316.341 742.421 318.146 745.986 Q319.975 749.527 323.586 749.527 Q327.22 749.527 329.026 745.986 Q330.855 742.421 330.855 735.315 Q330.855 728.185 329.026 724.643 Q327.22 721.079 323.586 721.079 M323.586 717.375 Q329.396 717.375 332.452 721.981 Q335.53 726.565 335.53 735.315 Q335.53 744.041 332.452 748.648 Q329.396 753.231 323.586 753.231 Q317.776 753.231 314.697 748.648 Q311.642 744.041 311.642 735.315 Q311.642 726.565 314.697 721.981 Q317.776 717.375 323.586 717.375 Z\" fill=\"#000000\" fill-rule=\"evenodd\" fill-opacity=\"1\" /><path clip-path=\"url(#clip2000)\" d=\"M 0 0 M340.6 746.68 L345.484 746.68 L345.484 752.56 L340.6 752.56 L340.6 746.68 Z\" fill=\"#000000\" fill-rule=\"evenodd\" fill-opacity=\"1\" /><path clip-path=\"url(#clip2000)\" d=\"M 0 0 M350.6 718 L368.956 718 L368.956 721.935 L354.882 721.935 L354.882 730.407 Q355.901 730.06 356.919 729.898 Q357.938 729.713 358.956 729.713 Q364.743 729.713 368.123 732.884 Q371.502 736.055 371.502 741.472 Q371.502 747.051 368.03 750.152 Q364.558 753.231 358.239 753.231 Q356.063 753.231 353.794 752.861 Q351.549 752.49 349.141 751.75 L349.141 747.051 Q351.225 748.185 353.447 748.74 Q355.669 749.296 358.146 749.296 Q362.151 749.296 364.489 747.19 Q366.827 745.083 366.827 741.472 Q366.827 737.861 364.489 735.754 Q362.151 733.648 358.146 733.648 Q356.271 733.648 354.396 734.065 Q352.544 734.481 350.6 735.361 L350.6 718 Z\" fill=\"#000000\" fill-rule=\"evenodd\" fill-opacity=\"1\" /><path clip-path=\"url(#clip2000)\" d=\"M 0 0 M386.572 721.079 Q382.961 721.079 381.132 724.643 Q379.326 728.185 379.326 735.315 Q379.326 742.421 381.132 745.986 Q382.961 749.527 386.572 749.527 Q390.206 749.527 392.012 745.986 Q393.84 742.421 393.84 735.315 Q393.84 728.185 392.012 724.643 Q390.206 721.079 386.572 721.079 M386.572 717.375 Q392.382 717.375 395.437 721.981 Q398.516 726.565 398.516 735.315 Q398.516 744.041 395.437 748.648 Q392.382 753.231 386.572 753.231 Q380.762 753.231 377.683 748.648 Q374.627 744.041 374.627 735.315 Q374.627 726.565 377.683 721.981 Q380.762 717.375 386.572 717.375 Z\" fill=\"#000000\" fill-rule=\"evenodd\" fill-opacity=\"1\" /><path clip-path=\"url(#clip2000)\" d=\"M 0 0 M573.086 721.079 Q569.475 721.079 567.647 724.643 Q565.841 728.185 565.841 735.315 Q565.841 742.421 567.647 745.986 Q569.475 749.527 573.086 749.527 Q576.721 749.527 578.526 745.986 Q580.355 742.421 580.355 735.315 Q580.355 728.185 578.526 724.643 Q576.721 721.079 573.086 721.079 M573.086 717.375 Q578.897 717.375 581.952 721.981 Q585.031 726.565 585.031 735.315 Q585.031 744.041 581.952 748.648 Q578.897 753.231 573.086 753.231 Q567.276 753.231 564.198 748.648 Q561.142 744.041 561.142 735.315 Q561.142 726.565 564.198 721.981 Q567.276 717.375 573.086 717.375 Z\" fill=\"#000000\" fill-rule=\"evenodd\" fill-opacity=\"1\" /><path clip-path=\"url(#clip2000)\" d=\"M 0 0 M590.1 746.68 L594.985 746.68 L594.985 752.56 L590.1 752.56 L590.1 746.68 Z\" fill=\"#000000\" fill-rule=\"evenodd\" fill-opacity=\"1\" /><path clip-path=\"url(#clip2000)\" d=\"M 0 0 M598.873 718 L621.095 718 L621.095 719.991 L608.549 752.56 L603.665 752.56 L615.471 721.935 L598.873 721.935 L598.873 718 Z\" fill=\"#000000\" fill-rule=\"evenodd\" fill-opacity=\"1\" /><path clip-path=\"url(#clip2000)\" d=\"M 0 0 M626.211 718 L644.568 718 L644.568 721.935 L630.494 721.935 L630.494 730.407 Q631.512 730.06 632.531 729.898 Q633.549 729.713 634.568 729.713 Q640.355 729.713 643.734 732.884 Q647.114 736.055 647.114 741.472 Q647.114 747.051 643.642 750.152 Q640.169 753.231 633.85 753.231 Q631.674 753.231 629.406 752.861 Q627.16 752.49 624.753 751.75 L624.753 747.051 Q626.836 748.185 629.058 748.74 Q631.281 749.296 633.757 749.296 Q637.762 749.296 640.1 747.19 Q642.438 745.083 642.438 741.472 Q642.438 737.861 640.1 735.754 Q637.762 733.648 633.757 733.648 Q631.882 733.648 630.007 734.065 Q628.156 734.481 626.211 735.361 L626.211 718 Z\" fill=\"#000000\" fill-rule=\"evenodd\" fill-opacity=\"1\" /><path clip-path=\"url(#clip2000)\" d=\"M 0 0 M811.568 748.625 L819.207 748.625 L819.207 722.259 L810.897 723.926 L810.897 719.667 L819.161 718 L823.837 718 L823.837 748.625 L831.476 748.625 L831.476 752.56 L811.568 752.56 L811.568 748.625 Z\" fill=\"#000000\" fill-rule=\"evenodd\" fill-opacity=\"1\" /><path clip-path=\"url(#clip2000)\" d=\"M 0 0 M836.545 746.68 L841.429 746.68 L841.429 752.56 L836.545 752.56 L836.545 746.68 Z\" fill=\"#000000\" fill-rule=\"evenodd\" fill-opacity=\"1\" /><path clip-path=\"url(#clip2000)\" d=\"M 0 0 M856.499 721.079 Q852.888 721.079 851.059 724.643 Q849.253 728.185 849.253 735.315 Q849.253 742.421 851.059 745.986 Q852.888 749.527 856.499 749.527 Q860.133 749.527 861.939 745.986 Q863.767 742.421 863.767 735.315 Q863.767 728.185 861.939 724.643 Q860.133 721.079 856.499 721.079 M856.499 717.375 Q862.309 717.375 865.364 721.981 Q868.443 726.565 868.443 735.315 Q868.443 744.041 865.364 748.648 Q862.309 753.231 856.499 753.231 Q850.689 753.231 847.61 748.648 Q844.554 744.041 844.554 735.315 Q844.554 726.565 847.61 721.981 Q850.689 717.375 856.499 717.375 Z\" fill=\"#000000\" fill-rule=\"evenodd\" fill-opacity=\"1\" /><path clip-path=\"url(#clip2000)\" d=\"M 0 0 M883.513 721.079 Q879.901 721.079 878.073 724.643 Q876.267 728.185 876.267 735.315 Q876.267 742.421 878.073 745.986 Q879.901 749.527 883.513 749.527 Q887.147 749.527 888.952 745.986 Q890.781 742.421 890.781 735.315 Q890.781 728.185 888.952 724.643 Q887.147 721.079 883.513 721.079 M883.513 717.375 Q889.323 717.375 892.378 721.981 Q895.457 726.565 895.457 735.315 Q895.457 744.041 892.378 748.648 Q889.323 753.231 883.513 753.231 Q877.702 753.231 874.624 748.648 Q871.568 744.041 871.568 735.315 Q871.568 726.565 874.624 721.981 Q877.702 717.375 883.513 717.375 Z\" fill=\"#000000\" fill-rule=\"evenodd\" fill-opacity=\"1\" /><path clip-path=\"url(#clip2000)\" d=\"M 0 0 M1061.91 748.625 L1069.55 748.625 L1069.55 722.259 L1061.24 723.926 L1061.24 719.667 L1069.51 718 L1074.18 718 L1074.18 748.625 L1081.82 748.625 L1081.82 752.56 L1061.91 752.56 L1061.91 748.625 Z\" fill=\"#000000\" fill-rule=\"evenodd\" fill-opacity=\"1\" /><path clip-path=\"url(#clip2000)\" d=\"M 0 0 M1086.89 746.68 L1091.77 746.68 L1091.77 752.56 L1086.89 752.56 L1086.89 746.68 Z\" fill=\"#000000\" fill-rule=\"evenodd\" fill-opacity=\"1\" /><path clip-path=\"url(#clip2000)\" d=\"M 0 0 M1100.87 748.625 L1117.19 748.625 L1117.19 752.56 L1095.25 752.56 L1095.25 748.625 Q1097.91 745.87 1102.49 741.24 Q1107.1 736.588 1108.28 735.245 Q1110.52 732.722 1111.4 730.986 Q1112.31 729.227 1112.31 727.537 Q1112.31 724.782 1110.36 723.046 Q1108.44 721.31 1105.34 721.31 Q1103.14 721.31 1100.69 722.074 Q1098.26 722.838 1095.48 724.389 L1095.48 719.667 Q1098.3 718.532 1100.76 717.954 Q1103.21 717.375 1105.25 717.375 Q1110.62 717.375 1113.81 720.06 Q1117.01 722.745 1117.01 727.236 Q1117.01 729.366 1116.2 731.287 Q1115.41 733.185 1113.3 735.778 Q1112.72 736.449 1109.62 739.666 Q1106.52 742.861 1100.87 748.625 Z\" fill=\"#000000\" fill-rule=\"evenodd\" fill-opacity=\"1\" /><path clip-path=\"url(#clip2000)\" d=\"M 0 0 M1122.31 718 L1140.66 718 L1140.66 721.935 L1126.59 721.935 L1126.59 730.407 Q1127.61 730.06 1128.63 729.898 Q1129.64 729.713 1130.66 729.713 Q1136.45 729.713 1139.83 732.884 Q1143.21 736.055 1143.21 741.472 Q1143.21 747.051 1139.74 750.152 Q1136.27 753.231 1129.95 753.231 Q1127.77 753.231 1125.5 752.861 Q1123.26 752.49 1120.85 751.75 L1120.85 747.051 Q1122.93 748.185 1125.15 748.74 Q1127.38 749.296 1129.85 749.296 Q1133.86 749.296 1136.2 747.19 Q1138.53 745.083 1138.53 741.472 Q1138.53 737.861 1136.2 735.754 Q1133.86 733.648 1129.85 733.648 Q1127.98 733.648 1126.1 734.065 Q1124.25 734.481 1122.31 735.361 L1122.31 718 Z\" fill=\"#000000\" fill-rule=\"evenodd\" fill-opacity=\"1\" /><path clip-path=\"url(#clip2000)\" d=\"M 0 0 M1310.16 748.625 L1317.8 748.625 L1317.8 722.259 L1309.49 723.926 L1309.49 719.667 L1317.76 718 L1322.43 718 L1322.43 748.625 L1330.07 748.625 L1330.07 752.56 L1310.16 752.56 L1310.16 748.625 Z\" fill=\"#000000\" fill-rule=\"evenodd\" fill-opacity=\"1\" /><path clip-path=\"url(#clip2000)\" d=\"M 0 0 M1335.14 746.68 L1340.03 746.68 L1340.03 752.56 L1335.14 752.56 L1335.14 746.68 Z\" fill=\"#000000\" fill-rule=\"evenodd\" fill-opacity=\"1\" /><path clip-path=\"url(#clip2000)\" d=\"M 0 0 M1345.14 718 L1363.5 718 L1363.5 721.935 L1349.42 721.935 L1349.42 730.407 Q1350.44 730.06 1351.46 729.898 Q1352.48 729.713 1353.5 729.713 Q1359.28 729.713 1362.66 732.884 Q1366.04 736.055 1366.04 741.472 Q1366.04 747.051 1362.57 750.152 Q1359.1 753.231 1352.78 753.231 Q1350.6 753.231 1348.34 752.861 Q1346.09 752.49 1343.68 751.75 L1343.68 747.051 Q1345.77 748.185 1347.99 748.74 Q1350.21 749.296 1352.69 749.296 Q1356.69 749.296 1359.03 747.19 Q1361.37 745.083 1361.37 741.472 Q1361.37 737.861 1359.03 735.754 Q1356.69 733.648 1352.69 733.648 Q1350.81 733.648 1348.94 734.065 Q1347.09 734.481 1345.14 735.361 L1345.14 718 Z\" fill=\"#000000\" fill-rule=\"evenodd\" fill-opacity=\"1\" /><path clip-path=\"url(#clip2000)\" d=\"M 0 0 M1381.11 721.079 Q1377.5 721.079 1375.67 724.643 Q1373.87 728.185 1373.87 735.315 Q1373.87 742.421 1375.67 745.986 Q1377.5 749.527 1381.11 749.527 Q1384.75 749.527 1386.55 745.986 Q1388.38 742.421 1388.38 735.315 Q1388.38 728.185 1386.55 724.643 Q1384.75 721.079 1381.11 721.079 M1381.11 717.375 Q1386.92 717.375 1389.98 721.981 Q1393.06 726.565 1393.06 735.315 Q1393.06 744.041 1389.98 748.648 Q1386.92 753.231 1381.11 753.231 Q1375.3 753.231 1372.22 748.648 Q1369.17 744.041 1369.17 735.315 Q1369.17 726.565 1372.22 721.981 Q1375.3 717.375 1381.11 717.375 Z\" fill=\"#000000\" fill-rule=\"evenodd\" fill-opacity=\"1\" /><path clip-path=\"url(#clip2000)\" d=\"M 0 0 M125.654 688.887 Q122.043 688.887 120.214 692.451 Q118.408 695.993 118.408 703.123 Q118.408 710.229 120.214 713.794 Q122.043 717.335 125.654 717.335 Q129.288 717.335 131.094 713.794 Q132.922 710.229 132.922 703.123 Q132.922 695.993 131.094 692.451 Q129.288 688.887 125.654 688.887 M125.654 685.183 Q131.464 685.183 134.52 689.789 Q137.598 694.373 137.598 703.123 Q137.598 711.849 134.52 716.456 Q131.464 721.039 125.654 721.039 Q119.844 721.039 116.765 716.456 Q113.709 711.849 113.709 703.123 Q113.709 694.373 116.765 689.789 Q119.844 685.183 125.654 685.183 Z\" fill=\"#000000\" fill-rule=\"evenodd\" fill-opacity=\"1\" /><path clip-path=\"url(#clip2000)\" d=\"M 0 0 M94.2651 607.125 L110.584 607.125 L110.584 611.061 L88.6401 611.061 L88.6401 607.125 Q91.3022 604.371 95.8855 599.741 Q100.492 595.088 101.672 593.746 Q103.918 591.223 104.797 589.487 Q105.7 587.727 105.7 586.038 Q105.7 583.283 103.756 581.547 Q101.835 579.811 98.7327 579.811 Q96.5336 579.811 94.0799 580.575 Q91.6494 581.339 88.8716 582.889 L88.8716 578.167 Q91.6957 577.033 94.1494 576.454 Q96.6031 575.876 98.6401 575.876 Q104.01 575.876 107.205 578.561 Q110.399 581.246 110.399 585.737 Q110.399 587.866 109.589 589.788 Q108.802 591.686 106.696 594.278 Q106.117 594.95 103.015 598.167 Q99.9132 601.362 94.2651 607.125 Z\" fill=\"#000000\" fill-rule=\"evenodd\" fill-opacity=\"1\" /><path clip-path=\"url(#clip2000)\" d=\"M 0 0 M125.654 579.579 Q122.043 579.579 120.214 583.144 Q118.408 586.686 118.408 593.815 Q118.408 600.922 120.214 604.487 Q122.043 608.028 125.654 608.028 Q129.288 608.028 131.094 604.487 Q132.922 600.922 132.922 593.815 Q132.922 586.686 131.094 583.144 Q129.288 579.579 125.654 579.579 M125.654 575.876 Q131.464 575.876 134.52 580.482 Q137.598 585.065 137.598 593.815 Q137.598 602.542 134.52 607.149 Q131.464 611.732 125.654 611.732 Q119.844 611.732 116.765 607.149 Q113.709 602.542 113.709 593.815 Q113.709 585.065 116.765 580.482 Q119.844 575.876 125.654 575.876 Z\" fill=\"#000000\" fill-rule=\"evenodd\" fill-opacity=\"1\" /><path clip-path=\"url(#clip2000)\" d=\"M 0 0 M101.001 471.267 L89.1957 489.716 L101.001 489.716 L101.001 471.267 M99.7743 467.193 L105.654 467.193 L105.654 489.716 L110.584 489.716 L110.584 493.605 L105.654 493.605 L105.654 501.753 L101.001 501.753 L101.001 493.605 L85.3994 493.605 L85.3994 489.091 L99.7743 467.193 Z\" fill=\"#000000\" fill-rule=\"evenodd\" fill-opacity=\"1\" /><path clip-path=\"url(#clip2000)\" d=\"M 0 0 M125.654 470.272 Q122.043 470.272 120.214 473.837 Q118.408 477.378 118.408 484.508 Q118.408 491.614 120.214 495.179 Q122.043 498.721 125.654 498.721 Q129.288 498.721 131.094 495.179 Q132.922 491.614 132.922 484.508 Q132.922 477.378 131.094 473.837 Q129.288 470.272 125.654 470.272 M125.654 466.568 Q131.464 466.568 134.52 471.175 Q137.598 475.758 137.598 484.508 Q137.598 493.235 134.52 497.841 Q131.464 502.425 125.654 502.425 Q119.844 502.425 116.765 497.841 Q113.709 493.235 113.709 484.508 Q113.709 475.758 116.765 471.175 Q119.844 466.568 125.654 466.568 Z\" fill=\"#000000\" fill-rule=\"evenodd\" fill-opacity=\"1\" /><path clip-path=\"url(#clip2000)\" d=\"M 0 0 M99.0567 373.303 Q95.9086 373.303 94.0568 375.455 Q92.2281 377.608 92.2281 381.358 Q92.2281 385.085 94.0568 387.261 Q95.9086 389.414 99.0567 389.414 Q102.205 389.414 104.034 387.261 Q105.885 385.085 105.885 381.358 Q105.885 377.608 104.034 375.455 Q102.205 373.303 99.0567 373.303 M108.339 358.65 L108.339 362.909 Q106.58 362.076 104.774 361.636 Q102.992 361.196 101.233 361.196 Q96.6031 361.196 94.1494 364.321 Q91.7188 367.446 91.3716 373.766 Q92.7373 371.752 94.7975 370.687 Q96.8577 369.599 99.3345 369.599 Q104.543 369.599 107.552 372.77 Q110.584 375.918 110.584 381.358 Q110.584 386.682 107.436 389.9 Q104.288 393.117 99.0567 393.117 Q93.0614 393.117 89.8901 388.534 Q86.7189 383.928 86.7189 375.201 Q86.7189 367.006 90.6077 362.145 Q94.4966 357.261 101.047 357.261 Q102.807 357.261 104.589 357.608 Q106.395 357.955 108.339 358.65 Z\" fill=\"#000000\" fill-rule=\"evenodd\" fill-opacity=\"1\" /><path clip-path=\"url(#clip2000)\" d=\"M 0 0 M125.654 360.965 Q122.043 360.965 120.214 364.529 Q118.408 368.071 118.408 375.201 Q118.408 382.307 120.214 385.872 Q122.043 389.414 125.654 389.414 Q129.288 389.414 131.094 385.872 Q132.922 382.307 132.922 375.201 Q132.922 368.071 131.094 364.529 Q129.288 360.965 125.654 360.965 M125.654 357.261 Q131.464 357.261 134.52 361.867 Q137.598 366.451 137.598 375.201 Q137.598 383.928 134.52 388.534 Q131.464 393.117 125.654 393.117 Q119.844 393.117 116.765 388.534 Q113.709 383.928 113.709 375.201 Q113.709 366.451 116.765 361.867 Q119.844 357.261 125.654 357.261 Z\" fill=\"#000000\" fill-rule=\"evenodd\" fill-opacity=\"1\" /><path clip-path=\"url(#clip2000)\" d=\"M 0 0 M98.7327 266.727 Q95.3994 266.727 93.4781 268.509 Q91.5799 270.292 91.5799 273.417 Q91.5799 276.542 93.4781 278.324 Q95.3994 280.106 98.7327 280.106 Q102.066 280.106 103.987 278.324 Q105.909 276.518 105.909 273.417 Q105.909 270.292 103.987 268.509 Q102.089 266.727 98.7327 266.727 M94.0568 264.736 Q91.0475 263.995 89.3577 261.935 Q87.6911 259.875 87.6911 256.912 Q87.6911 252.768 90.6309 250.361 Q93.5938 247.954 98.7327 247.954 Q103.895 247.954 106.834 250.361 Q109.774 252.768 109.774 256.912 Q109.774 259.875 108.084 261.935 Q106.418 263.995 103.432 264.736 Q106.811 265.523 108.686 267.815 Q110.584 270.106 110.584 273.417 Q110.584 278.44 107.506 281.125 Q104.45 283.81 98.7327 283.81 Q93.0151 283.81 89.9364 281.125 Q86.8809 278.44 86.8809 273.417 Q86.8809 270.106 88.779 267.815 Q90.6772 265.523 94.0568 264.736 M92.3438 257.352 Q92.3438 260.037 94.0105 261.542 Q95.7003 263.046 98.7327 263.046 Q101.742 263.046 103.432 261.542 Q105.145 260.037 105.145 257.352 Q105.145 254.667 103.432 253.162 Q101.742 251.657 98.7327 251.657 Q95.7003 251.657 94.0105 253.162 Q92.3438 254.667 92.3438 257.352 Z\" fill=\"#000000\" fill-rule=\"evenodd\" fill-opacity=\"1\" /><path clip-path=\"url(#clip2000)\" d=\"M 0 0 M125.654 251.657 Q122.043 251.657 120.214 255.222 Q118.408 258.764 118.408 265.893 Q118.408 273 120.214 276.565 Q122.043 280.106 125.654 280.106 Q129.288 280.106 131.094 276.565 Q132.922 273 132.922 265.893 Q132.922 258.764 131.094 255.222 Q129.288 251.657 125.654 251.657 M125.654 247.954 Q131.464 247.954 134.52 252.56 Q137.598 257.143 137.598 265.893 Q137.598 274.62 134.52 279.227 Q131.464 283.81 125.654 283.81 Q119.844 283.81 116.765 279.227 Q113.709 274.62 113.709 265.893 Q113.709 257.143 116.765 252.56 Q119.844 247.954 125.654 247.954 Z\" fill=\"#000000\" fill-rule=\"evenodd\" fill-opacity=\"1\" /><path clip-path=\"url(#clip2000)\" d=\"M 0 0 M63.6634 169.896 L71.3023 169.896 L71.3023 143.531 L62.9921 145.197 L62.9921 140.938 L71.256 139.271 L75.9319 139.271 L75.9319 169.896 L83.5707 169.896 L83.5707 173.831 L63.6634 173.831 L63.6634 169.896 Z\" fill=\"#000000\" fill-rule=\"evenodd\" fill-opacity=\"1\" /><path clip-path=\"url(#clip2000)\" d=\"M 0 0 M98.6401 142.35 Q95.029 142.35 93.2003 145.915 Q91.3948 149.457 91.3948 156.586 Q91.3948 163.693 93.2003 167.257 Q95.029 170.799 98.6401 170.799 Q102.274 170.799 104.08 167.257 Q105.909 163.693 105.909 156.586 Q105.909 149.457 104.08 145.915 Q102.274 142.35 98.6401 142.35 M98.6401 138.646 Q104.45 138.646 107.506 143.253 Q110.584 147.836 110.584 156.586 Q110.584 165.313 107.506 169.919 Q104.45 174.503 98.6401 174.503 Q92.8299 174.503 89.7512 169.919 Q86.6957 165.313 86.6957 156.586 Q86.6957 147.836 89.7512 143.253 Q92.8299 138.646 98.6401 138.646 Z\" fill=\"#000000\" fill-rule=\"evenodd\" fill-opacity=\"1\" /><path clip-path=\"url(#clip2000)\" d=\"M 0 0 M125.654 142.35 Q122.043 142.35 120.214 145.915 Q118.408 149.457 118.408 156.586 Q118.408 163.693 120.214 167.257 Q122.043 170.799 125.654 170.799 Q129.288 170.799 131.094 167.257 Q132.922 163.693 132.922 156.586 Q132.922 149.457 131.094 145.915 Q129.288 142.35 125.654 142.35 M125.654 138.646 Q131.464 138.646 134.52 143.253 Q137.598 147.836 137.598 156.586 Q137.598 165.313 134.52 169.919 Q131.464 174.503 125.654 174.503 Q119.844 174.503 116.765 169.919 Q113.709 165.313 113.709 156.586 Q113.709 147.836 116.765 143.253 Q119.844 138.646 125.654 138.646 Z\" fill=\"#000000\" fill-rule=\"evenodd\" fill-opacity=\"1\" /><path clip-path=\"url(#clip2000)\" d=\"M 0 0 M63.6634 169.896 L71.3023 169.896 L71.3023 143.531 L62.9921 145.197 L62.9921 140.938 L71.256 139.271 L75.9319 139.271 L75.9319 169.896 L83.5707 169.896 L83.5707 173.831 L63.6634 173.831 L63.6634 169.896 Z\" fill=\"#000000\" fill-rule=\"evenodd\" fill-opacity=\"1\" /><path clip-path=\"url(#clip2000)\" d=\"M 0 0 M98.6401 142.35 Q95.029 142.35 93.2003 145.915 Q91.3948 149.457 91.3948 156.586 Q91.3948 163.693 93.2003 167.257 Q95.029 170.799 98.6401 170.799 Q102.274 170.799 104.08 167.257 Q105.909 163.693 105.909 156.586 Q105.909 149.457 104.08 145.915 Q102.274 142.35 98.6401 142.35 M98.6401 138.646 Q104.45 138.646 107.506 143.253 Q110.584 147.836 110.584 156.586 Q110.584 165.313 107.506 169.919 Q104.45 174.503 98.6401 174.503 Q92.8299 174.503 89.7512 169.919 Q86.6957 165.313 86.6957 156.586 Q86.6957 147.836 89.7512 143.253 Q92.8299 138.646 98.6401 138.646 Z\" fill=\"#000000\" fill-rule=\"evenodd\" fill-opacity=\"1\" /><path clip-path=\"url(#clip2000)\" d=\"M 0 0 M125.654 142.35 Q122.043 142.35 120.214 145.915 Q118.408 149.457 118.408 156.586 Q118.408 163.693 120.214 167.257 Q122.043 170.799 125.654 170.799 Q129.288 170.799 131.094 167.257 Q132.922 163.693 132.922 156.586 Q132.922 149.457 131.094 145.915 Q129.288 142.35 125.654 142.35 M125.654 138.646 Q131.464 138.646 134.52 143.253 Q137.598 147.836 137.598 156.586 Q137.598 165.313 134.52 169.919 Q131.464 174.503 125.654 174.503 Q119.844 174.503 116.765 169.919 Q113.709 165.313 113.709 156.586 Q113.709 147.836 116.765 143.253 Q119.844 138.646 125.654 138.646 Z\" fill=\"#000000\" fill-rule=\"evenodd\" fill-opacity=\"1\" /><path clip-path=\"url(#clip2002)\" d=\"\nM230.554 697.623 L230.554 703.088 L280.364 703.088 L280.364 697.623 L230.554 697.623 L230.554 697.623  Z\n  \" fill=\"#009af9\" fill-rule=\"evenodd\" fill-opacity=\"1\"/>\n<polyline clip-path=\"url(#clip2002)\" style=\"stroke:#000000; stroke-width:4; stroke-opacity:1; fill:none\" points=\"\n  230.554,697.623 230.554,703.088 280.364,703.088 280.364,697.623 230.554,697.623 \n  \"/>\n<path clip-path=\"url(#clip2002)\" d=\"\nM280.364 681.226 L280.364 703.088 L330.174 703.088 L330.174 681.226 L280.364 681.226 L280.364 681.226  Z\n  \" fill=\"#009af9\" fill-rule=\"evenodd\" fill-opacity=\"1\"/>\n<polyline clip-path=\"url(#clip2002)\" style=\"stroke:#000000; stroke-width:4; stroke-opacity:1; fill:none\" points=\"\n  280.364,681.226 280.364,703.088 330.174,703.088 330.174,681.226 280.364,681.226 \n  \"/>\n<path clip-path=\"url(#clip2002)\" d=\"\nM330.174 664.83 L330.174 703.088 L379.984 703.088 L379.984 664.83 L330.174 664.83 L330.174 664.83  Z\n  \" fill=\"#009af9\" fill-rule=\"evenodd\" fill-opacity=\"1\"/>\n<polyline clip-path=\"url(#clip2002)\" style=\"stroke:#000000; stroke-width:4; stroke-opacity:1; fill:none\" points=\"\n  330.174,664.83 330.174,703.088 379.984,703.088 379.984,664.83 330.174,664.83 \n  \"/>\n<path clip-path=\"url(#clip2002)\" d=\"\nM379.984 659.365 L379.984 703.088 L429.794 703.088 L429.794 659.365 L379.984 659.365 L379.984 659.365  Z\n  \" fill=\"#009af9\" fill-rule=\"evenodd\" fill-opacity=\"1\"/>\n<polyline clip-path=\"url(#clip2002)\" style=\"stroke:#000000; stroke-width:4; stroke-opacity:1; fill:none\" points=\"\n  379.984,659.365 379.984,703.088 429.794,703.088 429.794,659.365 379.984,659.365 \n  \"/>\n<path clip-path=\"url(#clip2002)\" d=\"\nM429.794 626.573 L429.794 703.088 L479.603 703.088 L479.603 626.573 L429.794 626.573 L429.794 626.573  Z\n  \" fill=\"#009af9\" fill-rule=\"evenodd\" fill-opacity=\"1\"/>\n<polyline clip-path=\"url(#clip2002)\" style=\"stroke:#000000; stroke-width:4; stroke-opacity:1; fill:none\" points=\"\n  429.794,626.573 429.794,703.088 479.603,703.088 479.603,626.573 429.794,626.573 \n  \"/>\n<path clip-path=\"url(#clip2002)\" d=\"\nM479.603 571.919 L479.603 703.088 L529.413 703.088 L529.413 571.919 L479.603 571.919 L479.603 571.919  Z\n  \" fill=\"#009af9\" fill-rule=\"evenodd\" fill-opacity=\"1\"/>\n<polyline clip-path=\"url(#clip2002)\" style=\"stroke:#000000; stroke-width:4; stroke-opacity:1; fill:none\" points=\"\n  479.603,571.919 479.603,703.088 529.413,703.088 529.413,571.919 479.603,571.919 \n  \"/>\n<path clip-path=\"url(#clip2002)\" d=\"\nM529.413 517.265 L529.413 703.088 L579.223 703.088 L579.223 517.265 L529.413 517.265 L529.413 517.265  Z\n  \" fill=\"#009af9\" fill-rule=\"evenodd\" fill-opacity=\"1\"/>\n<polyline clip-path=\"url(#clip2002)\" style=\"stroke:#000000; stroke-width:4; stroke-opacity:1; fill:none\" points=\"\n  529.413,517.265 529.413,703.088 579.223,703.088 579.223,517.265 529.413,517.265 \n  \"/>\n<path clip-path=\"url(#clip2002)\" d=\"\nM579.223 544.592 L579.223 703.088 L629.033 703.088 L629.033 544.592 L579.223 544.592 L579.223 544.592  Z\n  \" fill=\"#009af9\" fill-rule=\"evenodd\" fill-opacity=\"1\"/>\n<polyline clip-path=\"url(#clip2002)\" style=\"stroke:#000000; stroke-width:4; stroke-opacity:1; fill:none\" points=\"\n  579.223,544.592 579.223,703.088 629.033,703.088 629.033,544.592 579.223,544.592 \n  \"/>\n<path clip-path=\"url(#clip2002)\" d=\"\nM629.033 418.889 L629.033 703.088 L678.843 703.088 L678.843 418.889 L629.033 418.889 L629.033 418.889  Z\n  \" fill=\"#009af9\" fill-rule=\"evenodd\" fill-opacity=\"1\"/>\n<polyline clip-path=\"url(#clip2002)\" style=\"stroke:#000000; stroke-width:4; stroke-opacity:1; fill:none\" points=\"\n  629.033,418.889 629.033,703.088 678.843,703.088 678.843,418.889 629.033,418.889 \n  \"/>\n<path clip-path=\"url(#clip2002)\" d=\"\nM678.843 544.592 L678.843 703.088 L728.653 703.088 L728.653 544.592 L678.843 544.592 L678.843 544.592  Z\n  \" fill=\"#009af9\" fill-rule=\"evenodd\" fill-opacity=\"1\"/>\n<polyline clip-path=\"url(#clip2002)\" style=\"stroke:#000000; stroke-width:4; stroke-opacity:1; fill:none\" points=\"\n  678.843,544.592 678.843,703.088 728.653,703.088 728.653,544.592 678.843,544.592 \n  \"/>\n<path clip-path=\"url(#clip2002)\" d=\"\nM728.653 446.216 L728.653 703.088 L778.462 703.088 L778.462 446.216 L728.653 446.216 L728.653 446.216  Z\n  \" fill=\"#009af9\" fill-rule=\"evenodd\" fill-opacity=\"1\"/>\n<polyline clip-path=\"url(#clip2002)\" style=\"stroke:#000000; stroke-width:4; stroke-opacity:1; fill:none\" points=\"\n  728.653,446.216 728.653,703.088 778.462,703.088 778.462,446.216 728.653,446.216 \n  \"/>\n<path clip-path=\"url(#clip2002)\" d=\"\nM778.462 528.196 L778.462 703.088 L828.272 703.088 L828.272 528.196 L778.462 528.196 L778.462 528.196  Z\n  \" fill=\"#009af9\" fill-rule=\"evenodd\" fill-opacity=\"1\"/>\n<polyline clip-path=\"url(#clip2002)\" style=\"stroke:#000000; stroke-width:4; stroke-opacity:1; fill:none\" points=\"\n  778.462,528.196 778.462,703.088 828.272,703.088 828.272,528.196 778.462,528.196 \n  \"/>\n<path clip-path=\"url(#clip2002)\" d=\"\nM828.272 451.681 L828.272 703.088 L878.082 703.088 L878.082 451.681 L828.272 451.681 L828.272 451.681  Z\n  \" fill=\"#009af9\" fill-rule=\"evenodd\" fill-opacity=\"1\"/>\n<polyline clip-path=\"url(#clip2002)\" style=\"stroke:#000000; stroke-width:4; stroke-opacity:1; fill:none\" points=\"\n  828.272,451.681 828.272,703.088 878.082,703.088 878.082,451.681 828.272,451.681 \n  \"/>\n<path clip-path=\"url(#clip2002)\" d=\"\nM878.082 479.008 L878.082 703.088 L927.892 703.088 L927.892 479.008 L878.082 479.008 L878.082 479.008  Z\n  \" fill=\"#009af9\" fill-rule=\"evenodd\" fill-opacity=\"1\"/>\n<polyline clip-path=\"url(#clip2002)\" style=\"stroke:#000000; stroke-width:4; stroke-opacity:1; fill:none\" points=\"\n  878.082,479.008 878.082,703.088 927.892,703.088 927.892,479.008 878.082,479.008 \n  \"/>\n<path clip-path=\"url(#clip2002)\" d=\"\nM927.892 457.146 L927.892 703.088 L977.702 703.088 L977.702 457.146 L927.892 457.146 L927.892 457.146  Z\n  \" fill=\"#009af9\" fill-rule=\"evenodd\" fill-opacity=\"1\"/>\n<polyline clip-path=\"url(#clip2002)\" style=\"stroke:#000000; stroke-width:4; stroke-opacity:1; fill:none\" points=\"\n  927.892,457.146 927.892,703.088 977.702,703.088 977.702,457.146 927.892,457.146 \n  \"/>\n<path clip-path=\"url(#clip2002)\" d=\"\nM977.702 429.82 L977.702 703.088 L1027.51 703.088 L1027.51 429.82 L977.702 429.82 L977.702 429.82  Z\n  \" fill=\"#009af9\" fill-rule=\"evenodd\" fill-opacity=\"1\"/>\n<polyline clip-path=\"url(#clip2002)\" style=\"stroke:#000000; stroke-width:4; stroke-opacity:1; fill:none\" points=\"\n  977.702,429.82 977.702,703.088 1027.51,703.088 1027.51,429.82 977.702,429.82 \n  \"/>\n<path clip-path=\"url(#clip2002)\" d=\"\nM1027.51 457.146 L1027.51 703.088 L1077.32 703.088 L1077.32 457.146 L1027.51 457.146 L1027.51 457.146  Z\n  \" fill=\"#009af9\" fill-rule=\"evenodd\" fill-opacity=\"1\"/>\n<polyline clip-path=\"url(#clip2002)\" style=\"stroke:#000000; stroke-width:4; stroke-opacity:1; fill:none\" points=\"\n  1027.51,457.146 1027.51,703.088 1077.32,703.088 1077.32,457.146 1027.51,457.146 \n  \"/>\n<path clip-path=\"url(#clip2002)\" d=\"\nM1077.32 522.731 L1077.32 703.088 L1127.13 703.088 L1127.13 522.731 L1077.32 522.731 L1077.32 522.731  Z\n  \" fill=\"#009af9\" fill-rule=\"evenodd\" fill-opacity=\"1\"/>\n<polyline clip-path=\"url(#clip2002)\" style=\"stroke:#000000; stroke-width:4; stroke-opacity:1; fill:none\" points=\"\n  1077.32,522.731 1077.32,703.088 1127.13,703.088 1127.13,522.731 1077.32,522.731 \n  \"/>\n<path clip-path=\"url(#clip2002)\" d=\"\nM1127.13 544.592 L1127.13 703.088 L1176.94 703.088 L1176.94 544.592 L1127.13 544.592 L1127.13 544.592  Z\n  \" fill=\"#009af9\" fill-rule=\"evenodd\" fill-opacity=\"1\"/>\n<polyline clip-path=\"url(#clip2002)\" style=\"stroke:#000000; stroke-width:4; stroke-opacity:1; fill:none\" points=\"\n  1127.13,544.592 1127.13,703.088 1176.94,703.088 1176.94,544.592 1127.13,544.592 \n  \"/>\n<path clip-path=\"url(#clip2002)\" d=\"\nM1176.94 593.781 L1176.94 703.088 L1226.75 703.088 L1226.75 593.781 L1176.94 593.781 L1176.94 593.781  Z\n  \" fill=\"#009af9\" fill-rule=\"evenodd\" fill-opacity=\"1\"/>\n<polyline clip-path=\"url(#clip2002)\" style=\"stroke:#000000; stroke-width:4; stroke-opacity:1; fill:none\" points=\"\n  1176.94,593.781 1176.94,703.088 1226.75,703.088 1226.75,593.781 1176.94,593.781 \n  \"/>\n<path clip-path=\"url(#clip2002)\" d=\"\nM1226.75 632.038 L1226.75 703.088 L1276.56 703.088 L1276.56 632.038 L1226.75 632.038 L1226.75 632.038  Z\n  \" fill=\"#009af9\" fill-rule=\"evenodd\" fill-opacity=\"1\"/>\n<polyline clip-path=\"url(#clip2002)\" style=\"stroke:#000000; stroke-width:4; stroke-opacity:1; fill:none\" points=\"\n  1226.75,632.038 1226.75,703.088 1276.56,703.088 1276.56,632.038 1226.75,632.038 \n  \"/>\n<path clip-path=\"url(#clip2002)\" d=\"\nM1276.56 659.365 L1276.56 703.088 L1326.37 703.088 L1326.37 659.365 L1276.56 659.365 L1276.56 659.365  Z\n  \" fill=\"#009af9\" fill-rule=\"evenodd\" fill-opacity=\"1\"/>\n<polyline clip-path=\"url(#clip2002)\" style=\"stroke:#000000; stroke-width:4; stroke-opacity:1; fill:none\" points=\"\n  1276.56,659.365 1276.56,703.088 1326.37,703.088 1326.37,659.365 1276.56,659.365 \n  \"/>\n<path clip-path=\"url(#clip2002)\" d=\"\nM1326.37 664.83 L1326.37 703.088 L1376.18 703.088 L1376.18 664.83 L1326.37 664.83 L1326.37 664.83  Z\n  \" fill=\"#009af9\" fill-rule=\"evenodd\" fill-opacity=\"1\"/>\n<polyline clip-path=\"url(#clip2002)\" style=\"stroke:#000000; stroke-width:4; stroke-opacity:1; fill:none\" points=\"\n  1326.37,664.83 1326.37,703.088 1376.18,703.088 1376.18,664.83 1326.37,664.83 \n  \"/>\n<path clip-path=\"url(#clip2002)\" d=\"\nM1376.18 670.296 L1376.18 703.088 L1425.99 703.088 L1425.99 670.296 L1376.18 670.296 L1376.18 670.296  Z\n  \" fill=\"#009af9\" fill-rule=\"evenodd\" fill-opacity=\"1\"/>\n<polyline clip-path=\"url(#clip2002)\" style=\"stroke:#000000; stroke-width:4; stroke-opacity:1; fill:none\" points=\"\n  1376.18,670.296 1376.18,703.088 1425.99,703.088 1425.99,670.296 1376.18,670.296 \n  \"/>\n<path clip-path=\"url(#clip2002)\" d=\"\nM1425.99 697.623 L1425.99 703.088 L1475.8 703.088 L1475.8 697.623 L1425.99 697.623 L1425.99 697.623  Z\n  \" fill=\"#009af9\" fill-rule=\"evenodd\" fill-opacity=\"1\"/>\n<polyline clip-path=\"url(#clip2002)\" style=\"stroke:#000000; stroke-width:4; stroke-opacity:1; fill:none\" points=\"\n  1425.99,697.623 1425.99,703.088 1475.8,703.088 1475.8,697.623 1425.99,697.623 \n  \"/>\n</svg>\n",
      "text/html": [
       "<?xml version=\"1.0\" encoding=\"utf-8\"?>\n",
       "<svg xmlns=\"http://www.w3.org/2000/svg\" xmlns:xlink=\"http://www.w3.org/1999/xlink\" width=\"400\" height=\"200\" viewBox=\"0 0 1600 800\">\n",
       "<defs>\n",
       "  <clipPath id=\"clip2300\">\n",
       "    <rect x=\"0\" y=\"0\" width=\"1600\" height=\"800\"/>\n",
       "  </clipPath>\n",
       "</defs>\n",
       "<path clip-path=\"url(#clip2300)\" d=\"\n",
       "M0 800 L1600 800 L1600 0 L0 0  Z\n",
       "  \" fill=\"#ffffff\" fill-rule=\"evenodd\" fill-opacity=\"1\"/>\n",
       "<defs>\n",
       "  <clipPath id=\"clip2301\">\n",
       "    <rect x=\"320\" y=\"0\" width=\"1121\" height=\"800\"/>\n",
       "  </clipPath>\n",
       "</defs>\n",
       "<path clip-path=\"url(#clip2300)\" d=\"\n",
       "M153.598 703.088 L1552.76 703.088 L1552.76 47.2441 L153.598 47.2441  Z\n",
       "  \" fill=\"#ffffff\" fill-rule=\"evenodd\" fill-opacity=\"1\"/>\n",
       "<defs>\n",
       "  <clipPath id=\"clip2302\">\n",
       "    <rect x=\"153\" y=\"47\" width=\"1400\" height=\"657\"/>\n",
       "  </clipPath>\n",
       "</defs>\n",
       "<polyline clip-path=\"url(#clip2302)\" style=\"stroke:#000000; stroke-width:2; stroke-opacity:0.1; fill:none\" points=\"\n",
       "  355.079,703.088 355.079,47.2441 \n",
       "  \"/>\n",
       "<polyline clip-path=\"url(#clip2302)\" style=\"stroke:#000000; stroke-width:2; stroke-opacity:0.1; fill:none\" points=\"\n",
       "  604.128,703.088 604.128,47.2441 \n",
       "  \"/>\n",
       "<polyline clip-path=\"url(#clip2302)\" style=\"stroke:#000000; stroke-width:2; stroke-opacity:0.1; fill:none\" points=\"\n",
       "  853.177,703.088 853.177,47.2441 \n",
       "  \"/>\n",
       "<polyline clip-path=\"url(#clip2302)\" style=\"stroke:#000000; stroke-width:2; stroke-opacity:0.1; fill:none\" points=\"\n",
       "  1102.23,703.088 1102.23,47.2441 \n",
       "  \"/>\n",
       "<polyline clip-path=\"url(#clip2302)\" style=\"stroke:#000000; stroke-width:2; stroke-opacity:0.1; fill:none\" points=\"\n",
       "  1351.28,703.088 1351.28,47.2441 \n",
       "  \"/>\n",
       "<polyline clip-path=\"url(#clip2302)\" style=\"stroke:#000000; stroke-width:2; stroke-opacity:0.1; fill:none\" points=\"\n",
       "  153.598,703.088 1552.76,703.088 \n",
       "  \"/>\n",
       "<polyline clip-path=\"url(#clip2302)\" style=\"stroke:#000000; stroke-width:2; stroke-opacity:0.1; fill:none\" points=\"\n",
       "  153.598,593.781 1552.76,593.781 \n",
       "  \"/>\n",
       "<polyline clip-path=\"url(#clip2302)\" style=\"stroke:#000000; stroke-width:2; stroke-opacity:0.1; fill:none\" points=\"\n",
       "  153.598,484.473 1552.76,484.473 \n",
       "  \"/>\n",
       "<polyline clip-path=\"url(#clip2302)\" style=\"stroke:#000000; stroke-width:2; stroke-opacity:0.1; fill:none\" points=\"\n",
       "  153.598,375.166 1552.76,375.166 \n",
       "  \"/>\n",
       "<polyline clip-path=\"url(#clip2302)\" style=\"stroke:#000000; stroke-width:2; stroke-opacity:0.1; fill:none\" points=\"\n",
       "  153.598,265.859 1552.76,265.859 \n",
       "  \"/>\n",
       "<polyline clip-path=\"url(#clip2302)\" style=\"stroke:#000000; stroke-width:2; stroke-opacity:0.1; fill:none\" points=\"\n",
       "  153.598,156.551 1552.76,156.551 \n",
       "  \"/>\n",
       "<polyline clip-path=\"url(#clip2302)\" style=\"stroke:#000000; stroke-width:2; stroke-opacity:0.1; fill:none\" points=\"\n",
       "  153.598,156.551 1552.76,156.551 \n",
       "  \"/>\n",
       "<polyline clip-path=\"url(#clip2300)\" style=\"stroke:#000000; stroke-width:4; stroke-opacity:1; fill:none\" points=\"\n",
       "  153.598,703.088 1552.76,703.088 \n",
       "  \"/>\n",
       "<polyline clip-path=\"url(#clip2300)\" style=\"stroke:#000000; stroke-width:4; stroke-opacity:1; fill:none\" points=\"\n",
       "  153.598,703.088 153.598,47.2441 \n",
       "  \"/>\n",
       "<polyline clip-path=\"url(#clip2300)\" style=\"stroke:#000000; stroke-width:4; stroke-opacity:1; fill:none\" points=\"\n",
       "  355.079,703.088 355.079,695.218 \n",
       "  \"/>\n",
       "<polyline clip-path=\"url(#clip2300)\" style=\"stroke:#000000; stroke-width:4; stroke-opacity:1; fill:none\" points=\"\n",
       "  604.128,703.088 604.128,695.218 \n",
       "  \"/>\n",
       "<polyline clip-path=\"url(#clip2300)\" style=\"stroke:#000000; stroke-width:4; stroke-opacity:1; fill:none\" points=\"\n",
       "  853.177,703.088 853.177,695.218 \n",
       "  \"/>\n",
       "<polyline clip-path=\"url(#clip2300)\" style=\"stroke:#000000; stroke-width:4; stroke-opacity:1; fill:none\" points=\"\n",
       "  1102.23,703.088 1102.23,695.218 \n",
       "  \"/>\n",
       "<polyline clip-path=\"url(#clip2300)\" style=\"stroke:#000000; stroke-width:4; stroke-opacity:1; fill:none\" points=\"\n",
       "  1351.28,703.088 1351.28,695.218 \n",
       "  \"/>\n",
       "<polyline clip-path=\"url(#clip2300)\" style=\"stroke:#000000; stroke-width:4; stroke-opacity:1; fill:none\" points=\"\n",
       "  153.598,703.088 170.388,703.088 \n",
       "  \"/>\n",
       "<polyline clip-path=\"url(#clip2300)\" style=\"stroke:#000000; stroke-width:4; stroke-opacity:1; fill:none\" points=\"\n",
       "  153.598,593.781 170.388,593.781 \n",
       "  \"/>\n",
       "<polyline clip-path=\"url(#clip2300)\" style=\"stroke:#000000; stroke-width:4; stroke-opacity:1; fill:none\" points=\"\n",
       "  153.598,484.473 170.388,484.473 \n",
       "  \"/>\n",
       "<polyline clip-path=\"url(#clip2300)\" style=\"stroke:#000000; stroke-width:4; stroke-opacity:1; fill:none\" points=\"\n",
       "  153.598,375.166 170.388,375.166 \n",
       "  \"/>\n",
       "<polyline clip-path=\"url(#clip2300)\" style=\"stroke:#000000; stroke-width:4; stroke-opacity:1; fill:none\" points=\"\n",
       "  153.598,265.859 170.388,265.859 \n",
       "  \"/>\n",
       "<polyline clip-path=\"url(#clip2300)\" style=\"stroke:#000000; stroke-width:4; stroke-opacity:1; fill:none\" points=\"\n",
       "  153.598,156.551 170.388,156.551 \n",
       "  \"/>\n",
       "<polyline clip-path=\"url(#clip2300)\" style=\"stroke:#000000; stroke-width:4; stroke-opacity:1; fill:none\" points=\"\n",
       "  153.598,156.551 170.388,156.551 \n",
       "  \"/>\n",
       "<path clip-path=\"url(#clip2300)\" d=\"M 0 0 M323.586 721.079 Q319.975 721.079 318.146 724.643 Q316.341 728.185 316.341 735.315 Q316.341 742.421 318.146 745.986 Q319.975 749.527 323.586 749.527 Q327.22 749.527 329.026 745.986 Q330.855 742.421 330.855 735.315 Q330.855 728.185 329.026 724.643 Q327.22 721.079 323.586 721.079 M323.586 717.375 Q329.396 717.375 332.452 721.981 Q335.53 726.565 335.53 735.315 Q335.53 744.041 332.452 748.648 Q329.396 753.231 323.586 753.231 Q317.776 753.231 314.697 748.648 Q311.642 744.041 311.642 735.315 Q311.642 726.565 314.697 721.981 Q317.776 717.375 323.586 717.375 Z\" fill=\"#000000\" fill-rule=\"evenodd\" fill-opacity=\"1\" /><path clip-path=\"url(#clip2300)\" d=\"M 0 0 M340.6 746.68 L345.484 746.68 L345.484 752.56 L340.6 752.56 L340.6 746.68 Z\" fill=\"#000000\" fill-rule=\"evenodd\" fill-opacity=\"1\" /><path clip-path=\"url(#clip2300)\" d=\"M 0 0 M350.6 718 L368.956 718 L368.956 721.935 L354.882 721.935 L354.882 730.407 Q355.901 730.06 356.919 729.898 Q357.938 729.713 358.956 729.713 Q364.743 729.713 368.123 732.884 Q371.502 736.055 371.502 741.472 Q371.502 747.051 368.03 750.152 Q364.558 753.231 358.239 753.231 Q356.063 753.231 353.794 752.861 Q351.549 752.49 349.141 751.75 L349.141 747.051 Q351.225 748.185 353.447 748.74 Q355.669 749.296 358.146 749.296 Q362.151 749.296 364.489 747.19 Q366.827 745.083 366.827 741.472 Q366.827 737.861 364.489 735.754 Q362.151 733.648 358.146 733.648 Q356.271 733.648 354.396 734.065 Q352.544 734.481 350.6 735.361 L350.6 718 Z\" fill=\"#000000\" fill-rule=\"evenodd\" fill-opacity=\"1\" /><path clip-path=\"url(#clip2300)\" d=\"M 0 0 M386.572 721.079 Q382.961 721.079 381.132 724.643 Q379.326 728.185 379.326 735.315 Q379.326 742.421 381.132 745.986 Q382.961 749.527 386.572 749.527 Q390.206 749.527 392.012 745.986 Q393.84 742.421 393.84 735.315 Q393.84 728.185 392.012 724.643 Q390.206 721.079 386.572 721.079 M386.572 717.375 Q392.382 717.375 395.437 721.981 Q398.516 726.565 398.516 735.315 Q398.516 744.041 395.437 748.648 Q392.382 753.231 386.572 753.231 Q380.762 753.231 377.683 748.648 Q374.627 744.041 374.627 735.315 Q374.627 726.565 377.683 721.981 Q380.762 717.375 386.572 717.375 Z\" fill=\"#000000\" fill-rule=\"evenodd\" fill-opacity=\"1\" /><path clip-path=\"url(#clip2300)\" d=\"M 0 0 M573.086 721.079 Q569.475 721.079 567.647 724.643 Q565.841 728.185 565.841 735.315 Q565.841 742.421 567.647 745.986 Q569.475 749.527 573.086 749.527 Q576.721 749.527 578.526 745.986 Q580.355 742.421 580.355 735.315 Q580.355 728.185 578.526 724.643 Q576.721 721.079 573.086 721.079 M573.086 717.375 Q578.897 717.375 581.952 721.981 Q585.031 726.565 585.031 735.315 Q585.031 744.041 581.952 748.648 Q578.897 753.231 573.086 753.231 Q567.276 753.231 564.198 748.648 Q561.142 744.041 561.142 735.315 Q561.142 726.565 564.198 721.981 Q567.276 717.375 573.086 717.375 Z\" fill=\"#000000\" fill-rule=\"evenodd\" fill-opacity=\"1\" /><path clip-path=\"url(#clip2300)\" d=\"M 0 0 M590.1 746.68 L594.985 746.68 L594.985 752.56 L590.1 752.56 L590.1 746.68 Z\" fill=\"#000000\" fill-rule=\"evenodd\" fill-opacity=\"1\" /><path clip-path=\"url(#clip2300)\" d=\"M 0 0 M598.873 718 L621.095 718 L621.095 719.991 L608.549 752.56 L603.665 752.56 L615.471 721.935 L598.873 721.935 L598.873 718 Z\" fill=\"#000000\" fill-rule=\"evenodd\" fill-opacity=\"1\" /><path clip-path=\"url(#clip2300)\" d=\"M 0 0 M626.211 718 L644.568 718 L644.568 721.935 L630.494 721.935 L630.494 730.407 Q631.512 730.06 632.531 729.898 Q633.549 729.713 634.568 729.713 Q640.355 729.713 643.734 732.884 Q647.114 736.055 647.114 741.472 Q647.114 747.051 643.642 750.152 Q640.169 753.231 633.85 753.231 Q631.674 753.231 629.406 752.861 Q627.16 752.49 624.753 751.75 L624.753 747.051 Q626.836 748.185 629.058 748.74 Q631.281 749.296 633.757 749.296 Q637.762 749.296 640.1 747.19 Q642.438 745.083 642.438 741.472 Q642.438 737.861 640.1 735.754 Q637.762 733.648 633.757 733.648 Q631.882 733.648 630.007 734.065 Q628.156 734.481 626.211 735.361 L626.211 718 Z\" fill=\"#000000\" fill-rule=\"evenodd\" fill-opacity=\"1\" /><path clip-path=\"url(#clip2300)\" d=\"M 0 0 M811.568 748.625 L819.207 748.625 L819.207 722.259 L810.897 723.926 L810.897 719.667 L819.161 718 L823.837 718 L823.837 748.625 L831.476 748.625 L831.476 752.56 L811.568 752.56 L811.568 748.625 Z\" fill=\"#000000\" fill-rule=\"evenodd\" fill-opacity=\"1\" /><path clip-path=\"url(#clip2300)\" d=\"M 0 0 M836.545 746.68 L841.429 746.68 L841.429 752.56 L836.545 752.56 L836.545 746.68 Z\" fill=\"#000000\" fill-rule=\"evenodd\" fill-opacity=\"1\" /><path clip-path=\"url(#clip2300)\" d=\"M 0 0 M856.499 721.079 Q852.888 721.079 851.059 724.643 Q849.253 728.185 849.253 735.315 Q849.253 742.421 851.059 745.986 Q852.888 749.527 856.499 749.527 Q860.133 749.527 861.939 745.986 Q863.767 742.421 863.767 735.315 Q863.767 728.185 861.939 724.643 Q860.133 721.079 856.499 721.079 M856.499 717.375 Q862.309 717.375 865.364 721.981 Q868.443 726.565 868.443 735.315 Q868.443 744.041 865.364 748.648 Q862.309 753.231 856.499 753.231 Q850.689 753.231 847.61 748.648 Q844.554 744.041 844.554 735.315 Q844.554 726.565 847.61 721.981 Q850.689 717.375 856.499 717.375 Z\" fill=\"#000000\" fill-rule=\"evenodd\" fill-opacity=\"1\" /><path clip-path=\"url(#clip2300)\" d=\"M 0 0 M883.513 721.079 Q879.901 721.079 878.073 724.643 Q876.267 728.185 876.267 735.315 Q876.267 742.421 878.073 745.986 Q879.901 749.527 883.513 749.527 Q887.147 749.527 888.952 745.986 Q890.781 742.421 890.781 735.315 Q890.781 728.185 888.952 724.643 Q887.147 721.079 883.513 721.079 M883.513 717.375 Q889.323 717.375 892.378 721.981 Q895.457 726.565 895.457 735.315 Q895.457 744.041 892.378 748.648 Q889.323 753.231 883.513 753.231 Q877.702 753.231 874.624 748.648 Q871.568 744.041 871.568 735.315 Q871.568 726.565 874.624 721.981 Q877.702 717.375 883.513 717.375 Z\" fill=\"#000000\" fill-rule=\"evenodd\" fill-opacity=\"1\" /><path clip-path=\"url(#clip2300)\" d=\"M 0 0 M1061.91 748.625 L1069.55 748.625 L1069.55 722.259 L1061.24 723.926 L1061.24 719.667 L1069.51 718 L1074.18 718 L1074.18 748.625 L1081.82 748.625 L1081.82 752.56 L1061.91 752.56 L1061.91 748.625 Z\" fill=\"#000000\" fill-rule=\"evenodd\" fill-opacity=\"1\" /><path clip-path=\"url(#clip2300)\" d=\"M 0 0 M1086.89 746.68 L1091.77 746.68 L1091.77 752.56 L1086.89 752.56 L1086.89 746.68 Z\" fill=\"#000000\" fill-rule=\"evenodd\" fill-opacity=\"1\" /><path clip-path=\"url(#clip2300)\" d=\"M 0 0 M1100.87 748.625 L1117.19 748.625 L1117.19 752.56 L1095.25 752.56 L1095.25 748.625 Q1097.91 745.87 1102.49 741.24 Q1107.1 736.588 1108.28 735.245 Q1110.52 732.722 1111.4 730.986 Q1112.31 729.227 1112.31 727.537 Q1112.31 724.782 1110.36 723.046 Q1108.44 721.31 1105.34 721.31 Q1103.14 721.31 1100.69 722.074 Q1098.26 722.838 1095.48 724.389 L1095.48 719.667 Q1098.3 718.532 1100.76 717.954 Q1103.21 717.375 1105.25 717.375 Q1110.62 717.375 1113.81 720.06 Q1117.01 722.745 1117.01 727.236 Q1117.01 729.366 1116.2 731.287 Q1115.41 733.185 1113.3 735.778 Q1112.72 736.449 1109.62 739.666 Q1106.52 742.861 1100.87 748.625 Z\" fill=\"#000000\" fill-rule=\"evenodd\" fill-opacity=\"1\" /><path clip-path=\"url(#clip2300)\" d=\"M 0 0 M1122.31 718 L1140.66 718 L1140.66 721.935 L1126.59 721.935 L1126.59 730.407 Q1127.61 730.06 1128.63 729.898 Q1129.64 729.713 1130.66 729.713 Q1136.45 729.713 1139.83 732.884 Q1143.21 736.055 1143.21 741.472 Q1143.21 747.051 1139.74 750.152 Q1136.27 753.231 1129.95 753.231 Q1127.77 753.231 1125.5 752.861 Q1123.26 752.49 1120.85 751.75 L1120.85 747.051 Q1122.93 748.185 1125.15 748.74 Q1127.38 749.296 1129.85 749.296 Q1133.86 749.296 1136.2 747.19 Q1138.53 745.083 1138.53 741.472 Q1138.53 737.861 1136.2 735.754 Q1133.86 733.648 1129.85 733.648 Q1127.98 733.648 1126.1 734.065 Q1124.25 734.481 1122.31 735.361 L1122.31 718 Z\" fill=\"#000000\" fill-rule=\"evenodd\" fill-opacity=\"1\" /><path clip-path=\"url(#clip2300)\" d=\"M 0 0 M1310.16 748.625 L1317.8 748.625 L1317.8 722.259 L1309.49 723.926 L1309.49 719.667 L1317.76 718 L1322.43 718 L1322.43 748.625 L1330.07 748.625 L1330.07 752.56 L1310.16 752.56 L1310.16 748.625 Z\" fill=\"#000000\" fill-rule=\"evenodd\" fill-opacity=\"1\" /><path clip-path=\"url(#clip2300)\" d=\"M 0 0 M1335.14 746.68 L1340.03 746.68 L1340.03 752.56 L1335.14 752.56 L1335.14 746.68 Z\" fill=\"#000000\" fill-rule=\"evenodd\" fill-opacity=\"1\" /><path clip-path=\"url(#clip2300)\" d=\"M 0 0 M1345.14 718 L1363.5 718 L1363.5 721.935 L1349.42 721.935 L1349.42 730.407 Q1350.44 730.06 1351.46 729.898 Q1352.48 729.713 1353.5 729.713 Q1359.28 729.713 1362.66 732.884 Q1366.04 736.055 1366.04 741.472 Q1366.04 747.051 1362.57 750.152 Q1359.1 753.231 1352.78 753.231 Q1350.6 753.231 1348.34 752.861 Q1346.09 752.49 1343.68 751.75 L1343.68 747.051 Q1345.77 748.185 1347.99 748.74 Q1350.21 749.296 1352.69 749.296 Q1356.69 749.296 1359.03 747.19 Q1361.37 745.083 1361.37 741.472 Q1361.37 737.861 1359.03 735.754 Q1356.69 733.648 1352.69 733.648 Q1350.81 733.648 1348.94 734.065 Q1347.09 734.481 1345.14 735.361 L1345.14 718 Z\" fill=\"#000000\" fill-rule=\"evenodd\" fill-opacity=\"1\" /><path clip-path=\"url(#clip2300)\" d=\"M 0 0 M1381.11 721.079 Q1377.5 721.079 1375.67 724.643 Q1373.87 728.185 1373.87 735.315 Q1373.87 742.421 1375.67 745.986 Q1377.5 749.527 1381.11 749.527 Q1384.75 749.527 1386.55 745.986 Q1388.38 742.421 1388.38 735.315 Q1388.38 728.185 1386.55 724.643 Q1384.75 721.079 1381.11 721.079 M1381.11 717.375 Q1386.92 717.375 1389.98 721.981 Q1393.06 726.565 1393.06 735.315 Q1393.06 744.041 1389.98 748.648 Q1386.92 753.231 1381.11 753.231 Q1375.3 753.231 1372.22 748.648 Q1369.17 744.041 1369.17 735.315 Q1369.17 726.565 1372.22 721.981 Q1375.3 717.375 1381.11 717.375 Z\" fill=\"#000000\" fill-rule=\"evenodd\" fill-opacity=\"1\" /><path clip-path=\"url(#clip2300)\" d=\"M 0 0 M125.654 688.887 Q122.043 688.887 120.214 692.451 Q118.408 695.993 118.408 703.123 Q118.408 710.229 120.214 713.794 Q122.043 717.335 125.654 717.335 Q129.288 717.335 131.094 713.794 Q132.922 710.229 132.922 703.123 Q132.922 695.993 131.094 692.451 Q129.288 688.887 125.654 688.887 M125.654 685.183 Q131.464 685.183 134.52 689.789 Q137.598 694.373 137.598 703.123 Q137.598 711.849 134.52 716.456 Q131.464 721.039 125.654 721.039 Q119.844 721.039 116.765 716.456 Q113.709 711.849 113.709 703.123 Q113.709 694.373 116.765 689.789 Q119.844 685.183 125.654 685.183 Z\" fill=\"#000000\" fill-rule=\"evenodd\" fill-opacity=\"1\" /><path clip-path=\"url(#clip2300)\" d=\"M 0 0 M94.2651 607.125 L110.584 607.125 L110.584 611.061 L88.6401 611.061 L88.6401 607.125 Q91.3022 604.371 95.8855 599.741 Q100.492 595.088 101.672 593.746 Q103.918 591.223 104.797 589.487 Q105.7 587.727 105.7 586.038 Q105.7 583.283 103.756 581.547 Q101.835 579.811 98.7327 579.811 Q96.5336 579.811 94.0799 580.575 Q91.6494 581.339 88.8716 582.889 L88.8716 578.167 Q91.6957 577.033 94.1494 576.454 Q96.6031 575.876 98.6401 575.876 Q104.01 575.876 107.205 578.561 Q110.399 581.246 110.399 585.737 Q110.399 587.866 109.589 589.788 Q108.802 591.686 106.696 594.278 Q106.117 594.95 103.015 598.167 Q99.9132 601.362 94.2651 607.125 Z\" fill=\"#000000\" fill-rule=\"evenodd\" fill-opacity=\"1\" /><path clip-path=\"url(#clip2300)\" d=\"M 0 0 M125.654 579.579 Q122.043 579.579 120.214 583.144 Q118.408 586.686 118.408 593.815 Q118.408 600.922 120.214 604.487 Q122.043 608.028 125.654 608.028 Q129.288 608.028 131.094 604.487 Q132.922 600.922 132.922 593.815 Q132.922 586.686 131.094 583.144 Q129.288 579.579 125.654 579.579 M125.654 575.876 Q131.464 575.876 134.52 580.482 Q137.598 585.065 137.598 593.815 Q137.598 602.542 134.52 607.149 Q131.464 611.732 125.654 611.732 Q119.844 611.732 116.765 607.149 Q113.709 602.542 113.709 593.815 Q113.709 585.065 116.765 580.482 Q119.844 575.876 125.654 575.876 Z\" fill=\"#000000\" fill-rule=\"evenodd\" fill-opacity=\"1\" /><path clip-path=\"url(#clip2300)\" d=\"M 0 0 M101.001 471.267 L89.1957 489.716 L101.001 489.716 L101.001 471.267 M99.7743 467.193 L105.654 467.193 L105.654 489.716 L110.584 489.716 L110.584 493.605 L105.654 493.605 L105.654 501.753 L101.001 501.753 L101.001 493.605 L85.3994 493.605 L85.3994 489.091 L99.7743 467.193 Z\" fill=\"#000000\" fill-rule=\"evenodd\" fill-opacity=\"1\" /><path clip-path=\"url(#clip2300)\" d=\"M 0 0 M125.654 470.272 Q122.043 470.272 120.214 473.837 Q118.408 477.378 118.408 484.508 Q118.408 491.614 120.214 495.179 Q122.043 498.721 125.654 498.721 Q129.288 498.721 131.094 495.179 Q132.922 491.614 132.922 484.508 Q132.922 477.378 131.094 473.837 Q129.288 470.272 125.654 470.272 M125.654 466.568 Q131.464 466.568 134.52 471.175 Q137.598 475.758 137.598 484.508 Q137.598 493.235 134.52 497.841 Q131.464 502.425 125.654 502.425 Q119.844 502.425 116.765 497.841 Q113.709 493.235 113.709 484.508 Q113.709 475.758 116.765 471.175 Q119.844 466.568 125.654 466.568 Z\" fill=\"#000000\" fill-rule=\"evenodd\" fill-opacity=\"1\" /><path clip-path=\"url(#clip2300)\" d=\"M 0 0 M99.0567 373.303 Q95.9086 373.303 94.0568 375.455 Q92.2281 377.608 92.2281 381.358 Q92.2281 385.085 94.0568 387.261 Q95.9086 389.414 99.0567 389.414 Q102.205 389.414 104.034 387.261 Q105.885 385.085 105.885 381.358 Q105.885 377.608 104.034 375.455 Q102.205 373.303 99.0567 373.303 M108.339 358.65 L108.339 362.909 Q106.58 362.076 104.774 361.636 Q102.992 361.196 101.233 361.196 Q96.6031 361.196 94.1494 364.321 Q91.7188 367.446 91.3716 373.766 Q92.7373 371.752 94.7975 370.687 Q96.8577 369.599 99.3345 369.599 Q104.543 369.599 107.552 372.77 Q110.584 375.918 110.584 381.358 Q110.584 386.682 107.436 389.9 Q104.288 393.117 99.0567 393.117 Q93.0614 393.117 89.8901 388.534 Q86.7189 383.928 86.7189 375.201 Q86.7189 367.006 90.6077 362.145 Q94.4966 357.261 101.047 357.261 Q102.807 357.261 104.589 357.608 Q106.395 357.955 108.339 358.65 Z\" fill=\"#000000\" fill-rule=\"evenodd\" fill-opacity=\"1\" /><path clip-path=\"url(#clip2300)\" d=\"M 0 0 M125.654 360.965 Q122.043 360.965 120.214 364.529 Q118.408 368.071 118.408 375.201 Q118.408 382.307 120.214 385.872 Q122.043 389.414 125.654 389.414 Q129.288 389.414 131.094 385.872 Q132.922 382.307 132.922 375.201 Q132.922 368.071 131.094 364.529 Q129.288 360.965 125.654 360.965 M125.654 357.261 Q131.464 357.261 134.52 361.867 Q137.598 366.451 137.598 375.201 Q137.598 383.928 134.52 388.534 Q131.464 393.117 125.654 393.117 Q119.844 393.117 116.765 388.534 Q113.709 383.928 113.709 375.201 Q113.709 366.451 116.765 361.867 Q119.844 357.261 125.654 357.261 Z\" fill=\"#000000\" fill-rule=\"evenodd\" fill-opacity=\"1\" /><path clip-path=\"url(#clip2300)\" d=\"M 0 0 M98.7327 266.727 Q95.3994 266.727 93.4781 268.509 Q91.5799 270.292 91.5799 273.417 Q91.5799 276.542 93.4781 278.324 Q95.3994 280.106 98.7327 280.106 Q102.066 280.106 103.987 278.324 Q105.909 276.518 105.909 273.417 Q105.909 270.292 103.987 268.509 Q102.089 266.727 98.7327 266.727 M94.0568 264.736 Q91.0475 263.995 89.3577 261.935 Q87.6911 259.875 87.6911 256.912 Q87.6911 252.768 90.6309 250.361 Q93.5938 247.954 98.7327 247.954 Q103.895 247.954 106.834 250.361 Q109.774 252.768 109.774 256.912 Q109.774 259.875 108.084 261.935 Q106.418 263.995 103.432 264.736 Q106.811 265.523 108.686 267.815 Q110.584 270.106 110.584 273.417 Q110.584 278.44 107.506 281.125 Q104.45 283.81 98.7327 283.81 Q93.0151 283.81 89.9364 281.125 Q86.8809 278.44 86.8809 273.417 Q86.8809 270.106 88.779 267.815 Q90.6772 265.523 94.0568 264.736 M92.3438 257.352 Q92.3438 260.037 94.0105 261.542 Q95.7003 263.046 98.7327 263.046 Q101.742 263.046 103.432 261.542 Q105.145 260.037 105.145 257.352 Q105.145 254.667 103.432 253.162 Q101.742 251.657 98.7327 251.657 Q95.7003 251.657 94.0105 253.162 Q92.3438 254.667 92.3438 257.352 Z\" fill=\"#000000\" fill-rule=\"evenodd\" fill-opacity=\"1\" /><path clip-path=\"url(#clip2300)\" d=\"M 0 0 M125.654 251.657 Q122.043 251.657 120.214 255.222 Q118.408 258.764 118.408 265.893 Q118.408 273 120.214 276.565 Q122.043 280.106 125.654 280.106 Q129.288 280.106 131.094 276.565 Q132.922 273 132.922 265.893 Q132.922 258.764 131.094 255.222 Q129.288 251.657 125.654 251.657 M125.654 247.954 Q131.464 247.954 134.52 252.56 Q137.598 257.143 137.598 265.893 Q137.598 274.62 134.52 279.227 Q131.464 283.81 125.654 283.81 Q119.844 283.81 116.765 279.227 Q113.709 274.62 113.709 265.893 Q113.709 257.143 116.765 252.56 Q119.844 247.954 125.654 247.954 Z\" fill=\"#000000\" fill-rule=\"evenodd\" fill-opacity=\"1\" /><path clip-path=\"url(#clip2300)\" d=\"M 0 0 M63.6634 169.896 L71.3023 169.896 L71.3023 143.531 L62.9921 145.197 L62.9921 140.938 L71.256 139.271 L75.9319 139.271 L75.9319 169.896 L83.5707 169.896 L83.5707 173.831 L63.6634 173.831 L63.6634 169.896 Z\" fill=\"#000000\" fill-rule=\"evenodd\" fill-opacity=\"1\" /><path clip-path=\"url(#clip2300)\" d=\"M 0 0 M98.6401 142.35 Q95.029 142.35 93.2003 145.915 Q91.3948 149.457 91.3948 156.586 Q91.3948 163.693 93.2003 167.257 Q95.029 170.799 98.6401 170.799 Q102.274 170.799 104.08 167.257 Q105.909 163.693 105.909 156.586 Q105.909 149.457 104.08 145.915 Q102.274 142.35 98.6401 142.35 M98.6401 138.646 Q104.45 138.646 107.506 143.253 Q110.584 147.836 110.584 156.586 Q110.584 165.313 107.506 169.919 Q104.45 174.503 98.6401 174.503 Q92.8299 174.503 89.7512 169.919 Q86.6957 165.313 86.6957 156.586 Q86.6957 147.836 89.7512 143.253 Q92.8299 138.646 98.6401 138.646 Z\" fill=\"#000000\" fill-rule=\"evenodd\" fill-opacity=\"1\" /><path clip-path=\"url(#clip2300)\" d=\"M 0 0 M125.654 142.35 Q122.043 142.35 120.214 145.915 Q118.408 149.457 118.408 156.586 Q118.408 163.693 120.214 167.257 Q122.043 170.799 125.654 170.799 Q129.288 170.799 131.094 167.257 Q132.922 163.693 132.922 156.586 Q132.922 149.457 131.094 145.915 Q129.288 142.35 125.654 142.35 M125.654 138.646 Q131.464 138.646 134.52 143.253 Q137.598 147.836 137.598 156.586 Q137.598 165.313 134.52 169.919 Q131.464 174.503 125.654 174.503 Q119.844 174.503 116.765 169.919 Q113.709 165.313 113.709 156.586 Q113.709 147.836 116.765 143.253 Q119.844 138.646 125.654 138.646 Z\" fill=\"#000000\" fill-rule=\"evenodd\" fill-opacity=\"1\" /><path clip-path=\"url(#clip2300)\" d=\"M 0 0 M63.6634 169.896 L71.3023 169.896 L71.3023 143.531 L62.9921 145.197 L62.9921 140.938 L71.256 139.271 L75.9319 139.271 L75.9319 169.896 L83.5707 169.896 L83.5707 173.831 L63.6634 173.831 L63.6634 169.896 Z\" fill=\"#000000\" fill-rule=\"evenodd\" fill-opacity=\"1\" /><path clip-path=\"url(#clip2300)\" d=\"M 0 0 M98.6401 142.35 Q95.029 142.35 93.2003 145.915 Q91.3948 149.457 91.3948 156.586 Q91.3948 163.693 93.2003 167.257 Q95.029 170.799 98.6401 170.799 Q102.274 170.799 104.08 167.257 Q105.909 163.693 105.909 156.586 Q105.909 149.457 104.08 145.915 Q102.274 142.35 98.6401 142.35 M98.6401 138.646 Q104.45 138.646 107.506 143.253 Q110.584 147.836 110.584 156.586 Q110.584 165.313 107.506 169.919 Q104.45 174.503 98.6401 174.503 Q92.8299 174.503 89.7512 169.919 Q86.6957 165.313 86.6957 156.586 Q86.6957 147.836 89.7512 143.253 Q92.8299 138.646 98.6401 138.646 Z\" fill=\"#000000\" fill-rule=\"evenodd\" fill-opacity=\"1\" /><path clip-path=\"url(#clip2300)\" d=\"M 0 0 M125.654 142.35 Q122.043 142.35 120.214 145.915 Q118.408 149.457 118.408 156.586 Q118.408 163.693 120.214 167.257 Q122.043 170.799 125.654 170.799 Q129.288 170.799 131.094 167.257 Q132.922 163.693 132.922 156.586 Q132.922 149.457 131.094 145.915 Q129.288 142.35 125.654 142.35 M125.654 138.646 Q131.464 138.646 134.52 143.253 Q137.598 147.836 137.598 156.586 Q137.598 165.313 134.52 169.919 Q131.464 174.503 125.654 174.503 Q119.844 174.503 116.765 169.919 Q113.709 165.313 113.709 156.586 Q113.709 147.836 116.765 143.253 Q119.844 138.646 125.654 138.646 Z\" fill=\"#000000\" fill-rule=\"evenodd\" fill-opacity=\"1\" /><path clip-path=\"url(#clip2302)\" d=\"\n",
       "M230.554 697.623 L230.554 703.088 L280.364 703.088 L280.364 697.623 L230.554 697.623 L230.554 697.623  Z\n",
       "  \" fill=\"#009af9\" fill-rule=\"evenodd\" fill-opacity=\"1\"/>\n",
       "<polyline clip-path=\"url(#clip2302)\" style=\"stroke:#000000; stroke-width:4; stroke-opacity:1; fill:none\" points=\"\n",
       "  230.554,697.623 230.554,703.088 280.364,703.088 280.364,697.623 230.554,697.623 \n",
       "  \"/>\n",
       "<path clip-path=\"url(#clip2302)\" d=\"\n",
       "M280.364 681.226 L280.364 703.088 L330.174 703.088 L330.174 681.226 L280.364 681.226 L280.364 681.226  Z\n",
       "  \" fill=\"#009af9\" fill-rule=\"evenodd\" fill-opacity=\"1\"/>\n",
       "<polyline clip-path=\"url(#clip2302)\" style=\"stroke:#000000; stroke-width:4; stroke-opacity:1; fill:none\" points=\"\n",
       "  280.364,681.226 280.364,703.088 330.174,703.088 330.174,681.226 280.364,681.226 \n",
       "  \"/>\n",
       "<path clip-path=\"url(#clip2302)\" d=\"\n",
       "M330.174 664.83 L330.174 703.088 L379.984 703.088 L379.984 664.83 L330.174 664.83 L330.174 664.83  Z\n",
       "  \" fill=\"#009af9\" fill-rule=\"evenodd\" fill-opacity=\"1\"/>\n",
       "<polyline clip-path=\"url(#clip2302)\" style=\"stroke:#000000; stroke-width:4; stroke-opacity:1; fill:none\" points=\"\n",
       "  330.174,664.83 330.174,703.088 379.984,703.088 379.984,664.83 330.174,664.83 \n",
       "  \"/>\n",
       "<path clip-path=\"url(#clip2302)\" d=\"\n",
       "M379.984 659.365 L379.984 703.088 L429.794 703.088 L429.794 659.365 L379.984 659.365 L379.984 659.365  Z\n",
       "  \" fill=\"#009af9\" fill-rule=\"evenodd\" fill-opacity=\"1\"/>\n",
       "<polyline clip-path=\"url(#clip2302)\" style=\"stroke:#000000; stroke-width:4; stroke-opacity:1; fill:none\" points=\"\n",
       "  379.984,659.365 379.984,703.088 429.794,703.088 429.794,659.365 379.984,659.365 \n",
       "  \"/>\n",
       "<path clip-path=\"url(#clip2302)\" d=\"\n",
       "M429.794 626.573 L429.794 703.088 L479.603 703.088 L479.603 626.573 L429.794 626.573 L429.794 626.573  Z\n",
       "  \" fill=\"#009af9\" fill-rule=\"evenodd\" fill-opacity=\"1\"/>\n",
       "<polyline clip-path=\"url(#clip2302)\" style=\"stroke:#000000; stroke-width:4; stroke-opacity:1; fill:none\" points=\"\n",
       "  429.794,626.573 429.794,703.088 479.603,703.088 479.603,626.573 429.794,626.573 \n",
       "  \"/>\n",
       "<path clip-path=\"url(#clip2302)\" d=\"\n",
       "M479.603 571.919 L479.603 703.088 L529.413 703.088 L529.413 571.919 L479.603 571.919 L479.603 571.919  Z\n",
       "  \" fill=\"#009af9\" fill-rule=\"evenodd\" fill-opacity=\"1\"/>\n",
       "<polyline clip-path=\"url(#clip2302)\" style=\"stroke:#000000; stroke-width:4; stroke-opacity:1; fill:none\" points=\"\n",
       "  479.603,571.919 479.603,703.088 529.413,703.088 529.413,571.919 479.603,571.919 \n",
       "  \"/>\n",
       "<path clip-path=\"url(#clip2302)\" d=\"\n",
       "M529.413 517.265 L529.413 703.088 L579.223 703.088 L579.223 517.265 L529.413 517.265 L529.413 517.265  Z\n",
       "  \" fill=\"#009af9\" fill-rule=\"evenodd\" fill-opacity=\"1\"/>\n",
       "<polyline clip-path=\"url(#clip2302)\" style=\"stroke:#000000; stroke-width:4; stroke-opacity:1; fill:none\" points=\"\n",
       "  529.413,517.265 529.413,703.088 579.223,703.088 579.223,517.265 529.413,517.265 \n",
       "  \"/>\n",
       "<path clip-path=\"url(#clip2302)\" d=\"\n",
       "M579.223 544.592 L579.223 703.088 L629.033 703.088 L629.033 544.592 L579.223 544.592 L579.223 544.592  Z\n",
       "  \" fill=\"#009af9\" fill-rule=\"evenodd\" fill-opacity=\"1\"/>\n",
       "<polyline clip-path=\"url(#clip2302)\" style=\"stroke:#000000; stroke-width:4; stroke-opacity:1; fill:none\" points=\"\n",
       "  579.223,544.592 579.223,703.088 629.033,703.088 629.033,544.592 579.223,544.592 \n",
       "  \"/>\n",
       "<path clip-path=\"url(#clip2302)\" d=\"\n",
       "M629.033 418.889 L629.033 703.088 L678.843 703.088 L678.843 418.889 L629.033 418.889 L629.033 418.889  Z\n",
       "  \" fill=\"#009af9\" fill-rule=\"evenodd\" fill-opacity=\"1\"/>\n",
       "<polyline clip-path=\"url(#clip2302)\" style=\"stroke:#000000; stroke-width:4; stroke-opacity:1; fill:none\" points=\"\n",
       "  629.033,418.889 629.033,703.088 678.843,703.088 678.843,418.889 629.033,418.889 \n",
       "  \"/>\n",
       "<path clip-path=\"url(#clip2302)\" d=\"\n",
       "M678.843 544.592 L678.843 703.088 L728.653 703.088 L728.653 544.592 L678.843 544.592 L678.843 544.592  Z\n",
       "  \" fill=\"#009af9\" fill-rule=\"evenodd\" fill-opacity=\"1\"/>\n",
       "<polyline clip-path=\"url(#clip2302)\" style=\"stroke:#000000; stroke-width:4; stroke-opacity:1; fill:none\" points=\"\n",
       "  678.843,544.592 678.843,703.088 728.653,703.088 728.653,544.592 678.843,544.592 \n",
       "  \"/>\n",
       "<path clip-path=\"url(#clip2302)\" d=\"\n",
       "M728.653 446.216 L728.653 703.088 L778.462 703.088 L778.462 446.216 L728.653 446.216 L728.653 446.216  Z\n",
       "  \" fill=\"#009af9\" fill-rule=\"evenodd\" fill-opacity=\"1\"/>\n",
       "<polyline clip-path=\"url(#clip2302)\" style=\"stroke:#000000; stroke-width:4; stroke-opacity:1; fill:none\" points=\"\n",
       "  728.653,446.216 728.653,703.088 778.462,703.088 778.462,446.216 728.653,446.216 \n",
       "  \"/>\n",
       "<path clip-path=\"url(#clip2302)\" d=\"\n",
       "M778.462 528.196 L778.462 703.088 L828.272 703.088 L828.272 528.196 L778.462 528.196 L778.462 528.196  Z\n",
       "  \" fill=\"#009af9\" fill-rule=\"evenodd\" fill-opacity=\"1\"/>\n",
       "<polyline clip-path=\"url(#clip2302)\" style=\"stroke:#000000; stroke-width:4; stroke-opacity:1; fill:none\" points=\"\n",
       "  778.462,528.196 778.462,703.088 828.272,703.088 828.272,528.196 778.462,528.196 \n",
       "  \"/>\n",
       "<path clip-path=\"url(#clip2302)\" d=\"\n",
       "M828.272 451.681 L828.272 703.088 L878.082 703.088 L878.082 451.681 L828.272 451.681 L828.272 451.681  Z\n",
       "  \" fill=\"#009af9\" fill-rule=\"evenodd\" fill-opacity=\"1\"/>\n",
       "<polyline clip-path=\"url(#clip2302)\" style=\"stroke:#000000; stroke-width:4; stroke-opacity:1; fill:none\" points=\"\n",
       "  828.272,451.681 828.272,703.088 878.082,703.088 878.082,451.681 828.272,451.681 \n",
       "  \"/>\n",
       "<path clip-path=\"url(#clip2302)\" d=\"\n",
       "M878.082 479.008 L878.082 703.088 L927.892 703.088 L927.892 479.008 L878.082 479.008 L878.082 479.008  Z\n",
       "  \" fill=\"#009af9\" fill-rule=\"evenodd\" fill-opacity=\"1\"/>\n",
       "<polyline clip-path=\"url(#clip2302)\" style=\"stroke:#000000; stroke-width:4; stroke-opacity:1; fill:none\" points=\"\n",
       "  878.082,479.008 878.082,703.088 927.892,703.088 927.892,479.008 878.082,479.008 \n",
       "  \"/>\n",
       "<path clip-path=\"url(#clip2302)\" d=\"\n",
       "M927.892 457.146 L927.892 703.088 L977.702 703.088 L977.702 457.146 L927.892 457.146 L927.892 457.146  Z\n",
       "  \" fill=\"#009af9\" fill-rule=\"evenodd\" fill-opacity=\"1\"/>\n",
       "<polyline clip-path=\"url(#clip2302)\" style=\"stroke:#000000; stroke-width:4; stroke-opacity:1; fill:none\" points=\"\n",
       "  927.892,457.146 927.892,703.088 977.702,703.088 977.702,457.146 927.892,457.146 \n",
       "  \"/>\n",
       "<path clip-path=\"url(#clip2302)\" d=\"\n",
       "M977.702 429.82 L977.702 703.088 L1027.51 703.088 L1027.51 429.82 L977.702 429.82 L977.702 429.82  Z\n",
       "  \" fill=\"#009af9\" fill-rule=\"evenodd\" fill-opacity=\"1\"/>\n",
       "<polyline clip-path=\"url(#clip2302)\" style=\"stroke:#000000; stroke-width:4; stroke-opacity:1; fill:none\" points=\"\n",
       "  977.702,429.82 977.702,703.088 1027.51,703.088 1027.51,429.82 977.702,429.82 \n",
       "  \"/>\n",
       "<path clip-path=\"url(#clip2302)\" d=\"\n",
       "M1027.51 457.146 L1027.51 703.088 L1077.32 703.088 L1077.32 457.146 L1027.51 457.146 L1027.51 457.146  Z\n",
       "  \" fill=\"#009af9\" fill-rule=\"evenodd\" fill-opacity=\"1\"/>\n",
       "<polyline clip-path=\"url(#clip2302)\" style=\"stroke:#000000; stroke-width:4; stroke-opacity:1; fill:none\" points=\"\n",
       "  1027.51,457.146 1027.51,703.088 1077.32,703.088 1077.32,457.146 1027.51,457.146 \n",
       "  \"/>\n",
       "<path clip-path=\"url(#clip2302)\" d=\"\n",
       "M1077.32 522.731 L1077.32 703.088 L1127.13 703.088 L1127.13 522.731 L1077.32 522.731 L1077.32 522.731  Z\n",
       "  \" fill=\"#009af9\" fill-rule=\"evenodd\" fill-opacity=\"1\"/>\n",
       "<polyline clip-path=\"url(#clip2302)\" style=\"stroke:#000000; stroke-width:4; stroke-opacity:1; fill:none\" points=\"\n",
       "  1077.32,522.731 1077.32,703.088 1127.13,703.088 1127.13,522.731 1077.32,522.731 \n",
       "  \"/>\n",
       "<path clip-path=\"url(#clip2302)\" d=\"\n",
       "M1127.13 544.592 L1127.13 703.088 L1176.94 703.088 L1176.94 544.592 L1127.13 544.592 L1127.13 544.592  Z\n",
       "  \" fill=\"#009af9\" fill-rule=\"evenodd\" fill-opacity=\"1\"/>\n",
       "<polyline clip-path=\"url(#clip2302)\" style=\"stroke:#000000; stroke-width:4; stroke-opacity:1; fill:none\" points=\"\n",
       "  1127.13,544.592 1127.13,703.088 1176.94,703.088 1176.94,544.592 1127.13,544.592 \n",
       "  \"/>\n",
       "<path clip-path=\"url(#clip2302)\" d=\"\n",
       "M1176.94 593.781 L1176.94 703.088 L1226.75 703.088 L1226.75 593.781 L1176.94 593.781 L1176.94 593.781  Z\n",
       "  \" fill=\"#009af9\" fill-rule=\"evenodd\" fill-opacity=\"1\"/>\n",
       "<polyline clip-path=\"url(#clip2302)\" style=\"stroke:#000000; stroke-width:4; stroke-opacity:1; fill:none\" points=\"\n",
       "  1176.94,593.781 1176.94,703.088 1226.75,703.088 1226.75,593.781 1176.94,593.781 \n",
       "  \"/>\n",
       "<path clip-path=\"url(#clip2302)\" d=\"\n",
       "M1226.75 632.038 L1226.75 703.088 L1276.56 703.088 L1276.56 632.038 L1226.75 632.038 L1226.75 632.038  Z\n",
       "  \" fill=\"#009af9\" fill-rule=\"evenodd\" fill-opacity=\"1\"/>\n",
       "<polyline clip-path=\"url(#clip2302)\" style=\"stroke:#000000; stroke-width:4; stroke-opacity:1; fill:none\" points=\"\n",
       "  1226.75,632.038 1226.75,703.088 1276.56,703.088 1276.56,632.038 1226.75,632.038 \n",
       "  \"/>\n",
       "<path clip-path=\"url(#clip2302)\" d=\"\n",
       "M1276.56 659.365 L1276.56 703.088 L1326.37 703.088 L1326.37 659.365 L1276.56 659.365 L1276.56 659.365  Z\n",
       "  \" fill=\"#009af9\" fill-rule=\"evenodd\" fill-opacity=\"1\"/>\n",
       "<polyline clip-path=\"url(#clip2302)\" style=\"stroke:#000000; stroke-width:4; stroke-opacity:1; fill:none\" points=\"\n",
       "  1276.56,659.365 1276.56,703.088 1326.37,703.088 1326.37,659.365 1276.56,659.365 \n",
       "  \"/>\n",
       "<path clip-path=\"url(#clip2302)\" d=\"\n",
       "M1326.37 664.83 L1326.37 703.088 L1376.18 703.088 L1376.18 664.83 L1326.37 664.83 L1326.37 664.83  Z\n",
       "  \" fill=\"#009af9\" fill-rule=\"evenodd\" fill-opacity=\"1\"/>\n",
       "<polyline clip-path=\"url(#clip2302)\" style=\"stroke:#000000; stroke-width:4; stroke-opacity:1; fill:none\" points=\"\n",
       "  1326.37,664.83 1326.37,703.088 1376.18,703.088 1376.18,664.83 1326.37,664.83 \n",
       "  \"/>\n",
       "<path clip-path=\"url(#clip2302)\" d=\"\n",
       "M1376.18 670.296 L1376.18 703.088 L1425.99 703.088 L1425.99 670.296 L1376.18 670.296 L1376.18 670.296  Z\n",
       "  \" fill=\"#009af9\" fill-rule=\"evenodd\" fill-opacity=\"1\"/>\n",
       "<polyline clip-path=\"url(#clip2302)\" style=\"stroke:#000000; stroke-width:4; stroke-opacity:1; fill:none\" points=\"\n",
       "  1376.18,670.296 1376.18,703.088 1425.99,703.088 1425.99,670.296 1376.18,670.296 \n",
       "  \"/>\n",
       "<path clip-path=\"url(#clip2302)\" d=\"\n",
       "M1425.99 697.623 L1425.99 703.088 L1475.8 703.088 L1475.8 697.623 L1425.99 697.623 L1425.99 697.623  Z\n",
       "  \" fill=\"#009af9\" fill-rule=\"evenodd\" fill-opacity=\"1\"/>\n",
       "<polyline clip-path=\"url(#clip2302)\" style=\"stroke:#000000; stroke-width:4; stroke-opacity:1; fill:none\" points=\"\n",
       "  1425.99,697.623 1425.99,703.088 1475.8,703.088 1475.8,697.623 1425.99,697.623 \n",
       "  \"/>\n",
       "</svg>\n"
      ],
      "text/plain": [
       "Plot{Plots.GRBackend() n=1}"
      ]
     },
     "metadata": {},
     "output_type": "display_data"
    }
   ],
   "source": [
    "histogram(A*ones(n,1), bins = (0.375:0.05:1.625),\n",
    "legend = false, ylim = (0,120), size = [400, 200])"
   ]
  },
  {
   "cell_type": "markdown",
   "metadata": {},
   "source": [
    "**Figure 12.1** Histogram of pixel illumination values using $p = 1$ (top) and $p̂$\n",
    "(bottom). The target intensity value is one."
   ]
  }
 ],
 "metadata": {
  "kernelspec": {
   "display_name": "Julia 1.8.0",
   "language": "julia",
   "name": "julia-1.8"
  },
  "language_info": {
   "file_extension": ".jl",
   "mimetype": "application/julia",
   "name": "julia",
   "version": "1.8.0"
  }
 },
 "nbformat": 4,
 "nbformat_minor": 2
}
