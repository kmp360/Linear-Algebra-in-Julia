{
 "cells": [
  {
   "cell_type": "markdown",
   "metadata": {},
   "source": [
    "## Chapter 10 -- Matrix multiplication\n",
    "\n",
    "Modified by kmp 2022\n",
    "\n",
    "Sources:\n",
    "\n",
    "https://web.stanford.edu/~boyd/vmls/\n",
    "\n",
    "https://github.com/vbartle/VMLS-Companions\n",
    "\n",
    "Based on \"Boyd and Vandenberghe, 2021, Introduction to Applied Linear Algebra: Vectors, Matrices, and Least Squares - Julia Language Companion\" https://web.stanford.edu/~boyd/vmls/vmls-julia-companion.pdf\n"
   ]
  },
  {
   "cell_type": "code",
   "execution_count": 1,
   "metadata": {},
   "outputs": [],
   "source": [
    "using LinearAlgebra\n",
    "using VMLS"
   ]
  },
  {
   "cell_type": "markdown",
   "metadata": {},
   "source": [
    "### 10.1 Matrix-matrix multiplication\n",
    "In Julia the product of matrices `A` and `B` is obtained with **`A*B`**. We calculate the matrix product on page [177](https://web.stanford.edu/~boyd/vmls/vmls.pdf#section.10.1) of VMLS. "
   ]
  },
  {
   "cell_type": "code",
   "execution_count": 2,
   "metadata": {},
   "outputs": [
    {
     "data": {
      "text/plain": [
       "2×3 Matrix{Float64}:\n",
       " -1.5   3.0  2.0\n",
       "  1.0  -1.0  0.0"
      ]
     },
     "metadata": {},
     "output_type": "display_data"
    }
   ],
   "source": [
    "A = [-1.5 3 2; 1 -1 0]"
   ]
  },
  {
   "cell_type": "code",
   "execution_count": 3,
   "metadata": {},
   "outputs": [
    {
     "data": {
      "text/plain": [
       "3×2 Matrix{Int64}:\n",
       " -1  -1\n",
       "  0  -2\n",
       "  1   0"
      ]
     },
     "metadata": {},
     "output_type": "display_data"
    }
   ],
   "source": [
    "B = [-1 -1; 0 -2; 1 0]"
   ]
  },
  {
   "cell_type": "code",
   "execution_count": 4,
   "metadata": {},
   "outputs": [
    {
     "data": {
      "text/plain": [
       "2×2 Matrix{Float64}:\n",
       "  3.5  -4.5\n",
       " -1.0   1.0"
      ]
     },
     "metadata": {},
     "output_type": "display_data"
    }
   ],
   "source": [
    "C = A*B"
   ]
  },
  {
   "cell_type": "markdown",
   "metadata": {},
   "source": [
    "**Gram matrix.** The **`Gram matrix`** of a matrix $A$ is the matrix $G = A^TA$. It is a **`symmetric` matrix** and the $i$, $j$ element $G_{ij}$ is the inner product of columns $i$ and $j$ of $A$."
   ]
  },
  {
   "cell_type": "code",
   "execution_count": 5,
   "metadata": {},
   "outputs": [
    {
     "data": {
      "text/plain": [
       "3×3 Matrix{Float64}:\n",
       " 14.0441    1.88877  -6.87592\n",
       "  1.88877   7.13524  -2.6368\n",
       " -6.87592  -2.6368   12.7168"
      ]
     },
     "metadata": {},
     "output_type": "display_data"
    }
   ],
   "source": [
    " A = randn(10,3)\n",
    " G = A'*A"
   ]
  },
  {
   "cell_type": "code",
   "execution_count": 9,
   "metadata": {},
   "outputs": [
    {
     "data": {
      "text/plain": [
       "(7.1352360117548015, 7.1352360117548015)"
      ]
     },
     "metadata": {},
     "output_type": "display_data"
    }
   ],
   "source": [
    "# G[i,i] is the norm of column i in A, squared \n",
    "G[2,2], norm(A[:,2])^2"
   ]
  },
  {
   "cell_type": "code",
   "execution_count": 10,
   "metadata": {},
   "outputs": [
    {
     "data": {
      "text/plain": [
       "(-6.875922622995323, -6.875922622995323)"
      ]
     },
     "metadata": {},
     "output_type": "display_data"
    }
   ],
   "source": [
    "# G[i,j} is inner product of columns i and j in A\n",
    "G[1,3], A[:,1]'*A[:,3]"
   ]
  },
  {
   "cell_type": "markdown",
   "metadata": {},
   "source": [
    "**Complexity of matrix triple product.** Let us check the associative property, which states that $(AB)C = A(BC)$ for any $m×n$ matrix $A$, any $n×p$ matrix $B$, and any $p × q$ matrix $B$. At the same time we will see that the left-hand and right-hand sides take very different amounts of time to compute."
   ]
  },
  {
   "cell_type": "code",
   "execution_count": 21,
   "metadata": {},
   "outputs": [
    {
     "name": "stdout",
     "output_type": "stream",
     "text": [
      "  0.123173 seconds (4 allocations: 61.035 MiB)\n",
      "  0.105685 seconds (4 allocations: 61.035 MiB)\n",
      "  0.024000 seconds (4 allocations: 31.281 MiB, 30.33% gc time)\n",
      "  0.014250 seconds (4 allocations: 31.281 MiB)\n",
      "  0.017380 seconds (4 allocations: 31.281 MiB)"
     ]
    },
    {
     "name": "stdout",
     "output_type": "stream",
     "text": [
      "\n"
     ]
    },
    {
     "data": {
      "text/plain": [
       "4.1821601865276813e-10"
      ]
     },
     "metadata": {},
     "output_type": "display_data"
    }
   ],
   "source": [
    "m = 2000\n",
    "n = 50\n",
    "q = 2000\n",
    "p = 2000\n",
    "\n",
    "A = randn(m,n)\n",
    "B = randn(n,p)\n",
    "C = randn(p,q)\n",
    "\n",
    "@time LHS = (A*B)*C\n",
    "@time (A*B)*C\n",
    "@time RHS = A*(B*C)\n",
    "@time A*(B*C)\n",
    "@time A*B*C # evaluated as (A*B)*C or as A*(B*C)?\n",
    "\n",
    "norm(LHS-RHS)"
   ]
  },
  {
   "cell_type": "markdown",
   "metadata": {},
   "source": [
    "We see that evaluating `(A*B)*C` takes around 10 times as much time as evaluating `A*(B*C)`, which is predicted from the complexities. In the last line we deduce that `A*B*C` is evaluated left to right, as `A*(B*C)`. Note that for these particular matrices, this is the (much) faster order to multiply the matrices.\n",
    "\n",
    "### 10.2 Composition of linear functions\n",
    "**Second difference matrix.** We compute the second difference matrix on page [184](https://web.stanford.edu/\\\\%7Eboyd/vmls/vmls.pdf#section*.221) of VMLS.  "
   ]
  },
  {
   "cell_type": "code",
   "execution_count": 51,
   "metadata": {},
   "outputs": [
    {
     "data": {
      "text/plain": [
       "4×5 Array{Float64,2}:\n",
       " -1.0   1.0   0.0   0.0  0.0\n",
       "  0.0  -1.0   1.0   0.0  0.0\n",
       "  0.0   0.0  -1.0   1.0  0.0\n",
       "  0.0   0.0   0.0  -1.0  1.0"
      ]
     },
     "execution_count": 51,
     "metadata": {},
     "output_type": "execute_result"
    }
   ],
   "source": [
    "d(n) = [-eye(n-1) zeros(n-1)] + [zeros(n-1) eye(n-1)]\n",
    "d(5)"
   ]
  },
  {
   "cell_type": "code",
   "execution_count": 52,
   "metadata": {},
   "outputs": [
    {
     "data": {
      "text/plain": [
       "3×5 Array{Float64,2}:\n",
       " 1.0  -2.0   1.0   0.0  0.0\n",
       " 0.0   1.0  -2.0   1.0  0.0\n",
       " 0.0   0.0   1.0  -2.0  1.0"
      ]
     },
     "execution_count": 52,
     "metadata": {},
     "output_type": "execute_result"
    }
   ],
   "source": [
    "d(4)\n",
    "Delta = d(4)*d(5) # Second difference matrix"
   ]
  },
  {
   "cell_type": "markdown",
   "metadata": {},
   "source": [
    "### 10.3 Matrix power\n",
    "The $k$th power of a square matrix $A$ is denoted by $A^k$ and is formed by using **`A^k`** in Julia. As an example, let us form the adjacency matrix of the directed graph on VMLS page [186](https://web.stanford.edu/~boyd/vmls/vmls.pdf#section*.226) and find out how many cycles of length $8$ there are, starting from each node. (A cycle is a path that starts and stops at the same node.) "
   ]
  },
  {
   "cell_type": "code",
   "execution_count": 22,
   "metadata": {},
   "outputs": [
    {
     "data": {
      "text/plain": [
       "5×5 Matrix{Int64}:\n",
       " 0  1  0  0  1\n",
       " 1  0  1  0  0\n",
       " 0  0  1  1  1\n",
       " 1  0  0  0  0\n",
       " 0  0  0  1  0"
      ]
     },
     "metadata": {},
     "output_type": "display_data"
    }
   ],
   "source": [
    "A = [0 1 0 0 1; 1 0 1 0 0; 0 0 1 1 1; 1 0 0 0 0; 0 0 0 1 0]"
   ]
  },
  {
   "cell_type": "code",
   "execution_count": 23,
   "metadata": {},
   "outputs": [
    {
     "data": {
      "text/plain": [
       "5×5 Matrix{Int64}:\n",
       " 1  0  1  1  0\n",
       " 0  1  1  1  2\n",
       " 1  0  1  2  1\n",
       " 0  1  0  0  1\n",
       " 1  0  0  0  0"
      ]
     },
     "metadata": {},
     "output_type": "display_data"
    }
   ],
   "source": [
    "A^2"
   ]
  },
  {
   "cell_type": "code",
   "execution_count": 24,
   "metadata": {},
   "outputs": [
    {
     "data": {
      "text/plain": [
       "5×5 Matrix{Int64}:\n",
       " 18  11  15  20  20\n",
       " 25  14  21  28  26\n",
       " 24  14  20  27  26\n",
       " 11   6   9  12  11\n",
       "  6   4   5   7   7"
      ]
     },
     "metadata": {},
     "output_type": "display_data"
    }
   ],
   "source": [
    "A^8"
   ]
  },
  {
   "cell_type": "code",
   "execution_count": 25,
   "metadata": {},
   "outputs": [
    {
     "data": {
      "text/plain": [
       "5-element Vector{Int64}:\n",
       " 18\n",
       " 14\n",
       " 20\n",
       " 12\n",
       "  7"
      ]
     },
     "metadata": {},
     "output_type": "display_data"
    }
   ],
   "source": [
    "number_of_cycles = diag(A^8)"
   ]
  },
  {
   "cell_type": "markdown",
   "metadata": {},
   "source": [
    "**Population dynamics.** The Julia code to create figure [10.2](https://web.stanford.edu/\\\\%7Eboyd/vmls/vmls.pdf#figure.10.2) in VMLS, plots the contribution to the total US population in $2020$ (ignoring immigration), for each age in $2010$. The Julia plot is in figure 10.1. The $20–25$ year olds have the highest contributing factor, around 1.5. This means that on average, each $20-25$ year old in $2010$ will be responsible for around $1.5$ individuals in $2020$. This takes into account any children they may have before then, and (as a very small effect) the few of them who will no longer be with us in $2020$."
   ]
  },
  {
   "cell_type": "code",
   "execution_count": 26,
   "metadata": {},
   "outputs": [
    {
     "data": {
      "image/png": "[encoded data removed]",
      "image/svg+xml": "<?xml version=\"1.0\" encoding=\"utf-8\"?>\n<svg xmlns=\"http://www.w3.org/2000/svg\" xmlns:xlink=\"http://www.w3.org/1999/xlink\" width=\"400\" height=\"200\" viewBox=\"0 0 1600 800\">\n<defs>\n  <clipPath id=\"clip4600\">\n    <rect x=\"0\" y=\"0\" width=\"1600\" height=\"800\"/>\n  </clipPath>\n</defs>\n<path clip-path=\"url(#clip4600)\" d=\"\nM0 800 L1600 800 L1600 0 L0 0  Z\n  \" fill=\"#ffffff\" fill-rule=\"evenodd\" fill-opacity=\"1\"/>\n<defs>\n  <clipPath id=\"clip4601\">\n    <rect x=\"320\" y=\"0\" width=\"1121\" height=\"800\"/>\n  </clipPath>\n</defs>\n<path clip-path=\"url(#clip4600)\" d=\"\nM211.116 623.18 L1552.76 623.18 L1552.76 47.2441 L211.116 47.2441  Z\n  \" fill=\"#ffffff\" fill-rule=\"evenodd\" fill-opacity=\"1\"/>\n<defs>\n  <clipPath id=\"clip4602\">\n    <rect x=\"211\" y=\"47\" width=\"1343\" height=\"577\"/>\n  </clipPath>\n</defs>\n<polyline clip-path=\"url(#clip4602)\" style=\"stroke:#000000; stroke-width:2; stroke-opacity:0.1; fill:none\" points=\"\n  236.302,623.18 236.302,47.2441 \n  \"/>\n<polyline clip-path=\"url(#clip4602)\" style=\"stroke:#000000; stroke-width:2; stroke-opacity:0.1; fill:none\" points=\"\n  555.923,623.18 555.923,47.2441 \n  \"/>\n<polyline clip-path=\"url(#clip4602)\" style=\"stroke:#000000; stroke-width:2; stroke-opacity:0.1; fill:none\" points=\"\n  875.544,623.18 875.544,47.2441 \n  \"/>\n<polyline clip-path=\"url(#clip4602)\" style=\"stroke:#000000; stroke-width:2; stroke-opacity:0.1; fill:none\" points=\"\n  1195.16,623.18 1195.16,47.2441 \n  \"/>\n<polyline clip-path=\"url(#clip4602)\" style=\"stroke:#000000; stroke-width:2; stroke-opacity:0.1; fill:none\" points=\"\n  1514.78,623.18 1514.78,47.2441 \n  \"/>\n<polyline clip-path=\"url(#clip4602)\" style=\"stroke:#000000; stroke-width:2; stroke-opacity:0.1; fill:none\" points=\"\n  211.116,606.88 1552.76,606.88 \n  \"/>\n<polyline clip-path=\"url(#clip4602)\" style=\"stroke:#000000; stroke-width:2; stroke-opacity:0.1; fill:none\" points=\"\n  211.116,425.312 1552.76,425.312 \n  \"/>\n<polyline clip-path=\"url(#clip4602)\" style=\"stroke:#000000; stroke-width:2; stroke-opacity:0.1; fill:none\" points=\"\n  211.116,243.744 1552.76,243.744 \n  \"/>\n<polyline clip-path=\"url(#clip4602)\" style=\"stroke:#000000; stroke-width:2; stroke-opacity:0.1; fill:none\" points=\"\n  211.116,62.1767 1552.76,62.1767 \n  \"/>\n<polyline clip-path=\"url(#clip4600)\" style=\"stroke:#000000; stroke-width:4; stroke-opacity:1; fill:none\" points=\"\n  211.116,623.18 1552.76,623.18 \n  \"/>\n<polyline clip-path=\"url(#clip4600)\" style=\"stroke:#000000; stroke-width:4; stroke-opacity:1; fill:none\" points=\"\n  211.116,623.18 211.116,47.2441 \n  \"/>\n<polyline clip-path=\"url(#clip4600)\" style=\"stroke:#000000; stroke-width:4; stroke-opacity:1; fill:none\" points=\"\n  236.302,623.18 236.302,616.269 \n  \"/>\n<polyline clip-path=\"url(#clip4600)\" style=\"stroke:#000000; stroke-width:4; stroke-opacity:1; fill:none\" points=\"\n  555.923,623.18 555.923,616.269 \n  \"/>\n<polyline clip-path=\"url(#clip4600)\" style=\"stroke:#000000; stroke-width:4; stroke-opacity:1; fill:none\" points=\"\n  875.544,623.18 875.544,616.269 \n  \"/>\n<polyline clip-path=\"url(#clip4600)\" style=\"stroke:#000000; stroke-width:4; stroke-opacity:1; fill:none\" points=\"\n  1195.16,623.18 1195.16,616.269 \n  \"/>\n<polyline clip-path=\"url(#clip4600)\" style=\"stroke:#000000; stroke-width:4; stroke-opacity:1; fill:none\" points=\"\n  1514.78,623.18 1514.78,616.269 \n  \"/>\n<polyline clip-path=\"url(#clip4600)\" style=\"stroke:#000000; stroke-width:4; stroke-opacity:1; fill:none\" points=\"\n  211.116,606.88 227.216,606.88 \n  \"/>\n<polyline clip-path=\"url(#clip4600)\" style=\"stroke:#000000; stroke-width:4; stroke-opacity:1; fill:none\" points=\"\n  211.116,425.312 227.216,425.312 \n  \"/>\n<polyline clip-path=\"url(#clip4600)\" style=\"stroke:#000000; stroke-width:4; stroke-opacity:1; fill:none\" points=\"\n  211.116,243.744 227.216,243.744 \n  \"/>\n<polyline clip-path=\"url(#clip4600)\" style=\"stroke:#000000; stroke-width:4; stroke-opacity:1; fill:none\" points=\"\n  211.116,62.1767 227.216,62.1767 \n  \"/>\n<path clip-path=\"url(#clip4600)\" d=\"M 0 0 M236.302 641.171 Q232.691 641.171 230.863 644.735 Q229.057 648.277 229.057 655.407 Q229.057 662.513 230.863 666.078 Q232.691 669.619 236.302 669.619 Q239.937 669.619 241.742 666.078 Q243.571 662.513 243.571 655.407 Q243.571 648.277 241.742 644.735 Q239.937 641.171 236.302 641.171 M236.302 637.467 Q242.113 637.467 245.168 642.073 Q248.247 646.657 248.247 655.407 Q248.247 664.133 245.168 668.74 Q242.113 673.323 236.302 673.323 Q230.492 673.323 227.414 668.74 Q224.358 664.133 224.358 655.407 Q224.358 646.657 227.414 642.073 Q230.492 637.467 236.302 637.467 Z\" fill=\"#000000\" fill-rule=\"evenodd\" fill-opacity=\"1\" /><path clip-path=\"url(#clip4600)\" d=\"M 0 0 M537.567 668.717 L553.886 668.717 L553.886 672.652 L531.942 672.652 L531.942 668.717 Q534.604 665.962 539.187 661.332 Q543.793 656.68 544.974 655.337 Q547.219 652.814 548.099 651.078 Q549.002 649.319 549.002 647.629 Q549.002 644.874 547.057 643.138 Q545.136 641.402 542.034 641.402 Q539.835 641.402 537.381 642.166 Q534.951 642.93 532.173 644.481 L532.173 639.759 Q534.997 638.624 537.451 638.046 Q539.905 637.467 541.942 637.467 Q547.312 637.467 550.506 640.152 Q553.701 642.837 553.701 647.328 Q553.701 649.458 552.891 651.379 Q552.104 653.277 549.997 655.87 Q549.418 656.541 546.317 659.758 Q543.215 662.953 537.567 668.717 Z\" fill=\"#000000\" fill-rule=\"evenodd\" fill-opacity=\"1\" /><path clip-path=\"url(#clip4600)\" d=\"M 0 0 M559.002 638.092 L577.358 638.092 L577.358 642.027 L563.284 642.027 L563.284 650.499 Q564.303 650.152 565.321 649.99 Q566.34 649.805 567.358 649.805 Q573.145 649.805 576.525 652.976 Q579.904 656.147 579.904 661.564 Q579.904 667.143 576.432 670.244 Q572.96 673.323 566.641 673.323 Q564.465 673.323 562.196 672.953 Q559.951 672.582 557.543 671.842 L557.543 667.143 Q559.627 668.277 561.849 668.832 Q564.071 669.388 566.548 669.388 Q570.553 669.388 572.891 667.282 Q575.229 665.175 575.229 661.564 Q575.229 657.953 572.891 655.846 Q570.553 653.74 566.548 653.74 Q564.673 653.74 562.798 654.157 Q560.946 654.573 559.002 655.453 L559.002 638.092 Z\" fill=\"#000000\" fill-rule=\"evenodd\" fill-opacity=\"1\" /><path clip-path=\"url(#clip4600)\" d=\"M 0 0 M852.315 638.092 L870.671 638.092 L870.671 642.027 L856.597 642.027 L856.597 650.499 Q857.616 650.152 858.634 649.99 Q859.653 649.805 860.671 649.805 Q866.458 649.805 869.838 652.976 Q873.217 656.147 873.217 661.564 Q873.217 667.143 869.745 670.244 Q866.273 673.323 859.954 673.323 Q857.778 673.323 855.509 672.953 Q853.264 672.582 850.856 671.842 L850.856 667.143 Q852.94 668.277 855.162 668.832 Q857.384 669.388 859.861 669.388 Q863.866 669.388 866.203 667.282 Q868.541 665.175 868.541 661.564 Q868.541 657.953 866.203 655.846 Q863.866 653.74 859.861 653.74 Q857.986 653.74 856.111 654.157 Q854.259 654.573 852.315 655.453 L852.315 638.092 Z\" fill=\"#000000\" fill-rule=\"evenodd\" fill-opacity=\"1\" /><path clip-path=\"url(#clip4600)\" d=\"M 0 0 M888.287 641.171 Q884.676 641.171 882.847 644.735 Q881.041 648.277 881.041 655.407 Q881.041 662.513 882.847 666.078 Q884.676 669.619 888.287 669.619 Q891.921 669.619 893.726 666.078 Q895.555 662.513 895.555 655.407 Q895.555 648.277 893.726 644.735 Q891.921 641.171 888.287 641.171 M888.287 637.467 Q894.097 637.467 897.152 642.073 Q900.231 646.657 900.231 655.407 Q900.231 664.133 897.152 668.74 Q894.097 673.323 888.287 673.323 Q882.477 673.323 879.398 668.74 Q876.342 664.133 876.342 655.407 Q876.342 646.657 879.398 642.073 Q882.477 637.467 888.287 637.467 Z\" fill=\"#000000\" fill-rule=\"evenodd\" fill-opacity=\"1\" /><path clip-path=\"url(#clip4600)\" d=\"M 0 0 M1171.04 638.092 L1193.27 638.092 L1193.27 640.083 L1180.72 672.652 L1175.84 672.652 L1187.64 642.027 L1171.04 642.027 L1171.04 638.092 Z\" fill=\"#000000\" fill-rule=\"evenodd\" fill-opacity=\"1\" /><path clip-path=\"url(#clip4600)\" d=\"M 0 0 M1198.38 638.092 L1216.74 638.092 L1216.74 642.027 L1202.66 642.027 L1202.66 650.499 Q1203.68 650.152 1204.7 649.99 Q1205.72 649.805 1206.74 649.805 Q1212.53 649.805 1215.9 652.976 Q1219.28 656.147 1219.28 661.564 Q1219.28 667.143 1215.81 670.244 Q1212.34 673.323 1206.02 673.323 Q1203.84 673.323 1201.58 672.953 Q1199.33 672.582 1196.92 671.842 L1196.92 667.143 Q1199.01 668.277 1201.23 668.832 Q1203.45 669.388 1205.93 669.388 Q1209.93 669.388 1212.27 667.282 Q1214.61 665.175 1214.61 661.564 Q1214.61 657.953 1212.27 655.846 Q1209.93 653.74 1205.93 653.74 Q1204.05 653.74 1202.18 654.157 Q1200.33 654.573 1198.38 655.453 L1198.38 638.092 Z\" fill=\"#000000\" fill-rule=\"evenodd\" fill-opacity=\"1\" /><path clip-path=\"url(#clip4600)\" d=\"M 0 0 M1478.15 668.717 L1485.79 668.717 L1485.79 642.351 L1477.48 644.018 L1477.48 639.759 L1485.75 638.092 L1490.42 638.092 L1490.42 668.717 L1498.06 668.717 L1498.06 672.652 L1478.15 672.652 L1478.15 668.717 Z\" fill=\"#000000\" fill-rule=\"evenodd\" fill-opacity=\"1\" /><path clip-path=\"url(#clip4600)\" d=\"M 0 0 M1513.13 641.171 Q1509.52 641.171 1507.69 644.735 Q1505.88 648.277 1505.88 655.407 Q1505.88 662.513 1507.69 666.078 Q1509.52 669.619 1513.13 669.619 Q1516.76 669.619 1518.57 666.078 Q1520.4 662.513 1520.4 655.407 Q1520.4 648.277 1518.57 644.735 Q1516.76 641.171 1513.13 641.171 M1513.13 637.467 Q1518.94 637.467 1522 642.073 Q1525.07 646.657 1525.07 655.407 Q1525.07 664.133 1522 668.74 Q1518.94 673.323 1513.13 673.323 Q1507.32 673.323 1504.24 668.74 Q1501.19 664.133 1501.19 655.407 Q1501.19 646.657 1504.24 642.073 Q1507.32 637.467 1513.13 637.467 Z\" fill=\"#000000\" fill-rule=\"evenodd\" fill-opacity=\"1\" /><path clip-path=\"url(#clip4600)\" d=\"M 0 0 M1540.14 641.171 Q1536.53 641.171 1534.7 644.735 Q1532.9 648.277 1532.9 655.407 Q1532.9 662.513 1534.7 666.078 Q1536.53 669.619 1540.14 669.619 Q1543.78 669.619 1545.58 666.078 Q1547.41 662.513 1547.41 655.407 Q1547.41 648.277 1545.58 644.735 Q1543.78 641.171 1540.14 641.171 M1540.14 637.467 Q1545.95 637.467 1549.01 642.073 Q1552.09 646.657 1552.09 655.407 Q1552.09 664.133 1549.01 668.74 Q1545.95 673.323 1540.14 673.323 Q1534.33 673.323 1531.25 668.74 Q1528.2 664.133 1528.2 655.407 Q1528.2 646.657 1531.25 642.073 Q1534.33 637.467 1540.14 637.467 Z\" fill=\"#000000\" fill-rule=\"evenodd\" fill-opacity=\"1\" /><path clip-path=\"url(#clip4600)\" d=\"M 0 0 M146.205 592.678 Q142.593 592.678 140.765 596.243 Q138.959 599.785 138.959 606.914 Q138.959 614.021 140.765 617.586 Q142.593 621.127 146.205 621.127 Q149.839 621.127 151.644 617.586 Q153.473 614.021 153.473 606.914 Q153.473 599.785 151.644 596.243 Q149.839 592.678 146.205 592.678 M146.205 588.975 Q152.015 588.975 155.07 593.581 Q158.149 598.165 158.149 606.914 Q158.149 615.641 155.07 620.248 Q152.015 624.831 146.205 624.831 Q140.394 624.831 137.316 620.248 Q134.26 615.641 134.26 606.914 Q134.26 598.165 137.316 593.581 Q140.394 588.975 146.205 588.975 Z\" fill=\"#000000\" fill-rule=\"evenodd\" fill-opacity=\"1\" /><path clip-path=\"url(#clip4600)\" d=\"M 0 0 M163.218 618.28 L168.103 618.28 L168.103 624.16 L163.218 624.16 L163.218 618.28 Z\" fill=\"#000000\" fill-rule=\"evenodd\" fill-opacity=\"1\" /><path clip-path=\"url(#clip4600)\" d=\"M 0 0 M183.172 592.678 Q179.561 592.678 177.732 596.243 Q175.927 599.785 175.927 606.914 Q175.927 614.021 177.732 617.586 Q179.561 621.127 183.172 621.127 Q186.806 621.127 188.612 617.586 Q190.44 614.021 190.44 606.914 Q190.44 599.785 188.612 596.243 Q186.806 592.678 183.172 592.678 M183.172 588.975 Q188.982 588.975 192.038 593.581 Q195.116 598.165 195.116 606.914 Q195.116 615.641 192.038 620.248 Q188.982 624.831 183.172 624.831 Q177.362 624.831 174.283 620.248 Q171.228 615.641 171.228 606.914 Q171.228 598.165 174.283 593.581 Q177.362 588.975 183.172 588.975 Z\" fill=\"#000000\" fill-rule=\"evenodd\" fill-opacity=\"1\" /><path clip-path=\"url(#clip4600)\" d=\"M 0 0 M147.2 411.111 Q143.589 411.111 141.76 414.676 Q139.955 418.217 139.955 425.347 Q139.955 432.453 141.76 436.018 Q143.589 439.56 147.2 439.56 Q150.834 439.56 152.64 436.018 Q154.468 432.453 154.468 425.347 Q154.468 418.217 152.64 414.676 Q150.834 411.111 147.2 411.111 M147.2 407.407 Q153.01 407.407 156.066 412.014 Q159.144 416.597 159.144 425.347 Q159.144 434.074 156.066 438.68 Q153.01 443.263 147.2 443.263 Q141.39 443.263 138.311 438.68 Q135.256 434.074 135.256 425.347 Q135.256 416.597 138.311 412.014 Q141.39 407.407 147.2 407.407 Z\" fill=\"#000000\" fill-rule=\"evenodd\" fill-opacity=\"1\" /><path clip-path=\"url(#clip4600)\" d=\"M 0 0 M164.214 436.712 L169.098 436.712 L169.098 442.592 L164.214 442.592 L164.214 436.712 Z\" fill=\"#000000\" fill-rule=\"evenodd\" fill-opacity=\"1\" /><path clip-path=\"url(#clip4600)\" d=\"M 0 0 M174.214 408.032 L192.57 408.032 L192.57 411.967 L178.496 411.967 L178.496 420.439 Q179.515 420.092 180.533 419.93 Q181.552 419.745 182.57 419.745 Q188.357 419.745 191.737 422.916 Q195.116 426.088 195.116 431.504 Q195.116 437.083 191.644 440.185 Q188.172 443.263 181.852 443.263 Q179.677 443.263 177.408 442.893 Q175.163 442.523 172.755 441.782 L172.755 437.083 Q174.839 438.217 177.061 438.773 Q179.283 439.328 181.76 439.328 Q185.765 439.328 188.102 437.222 Q190.44 435.115 190.44 431.504 Q190.44 427.893 188.102 425.787 Q185.765 423.68 181.76 423.68 Q179.885 423.68 178.01 424.097 Q176.158 424.513 174.214 425.393 L174.214 408.032 Z\" fill=\"#000000\" fill-rule=\"evenodd\" fill-opacity=\"1\" /><path clip-path=\"url(#clip4600)\" d=\"M 0 0 M138.242 257.089 L145.88 257.089 L145.88 230.724 L137.57 232.39 L137.57 228.131 L145.834 226.464 L150.51 226.464 L150.51 257.089 L158.149 257.089 L158.149 261.024 L138.242 261.024 L138.242 257.089 Z\" fill=\"#000000\" fill-rule=\"evenodd\" fill-opacity=\"1\" /><path clip-path=\"url(#clip4600)\" d=\"M 0 0 M163.218 255.145 L168.103 255.145 L168.103 261.024 L163.218 261.024 L163.218 255.145 Z\" fill=\"#000000\" fill-rule=\"evenodd\" fill-opacity=\"1\" /><path clip-path=\"url(#clip4600)\" d=\"M 0 0 M183.172 229.543 Q179.561 229.543 177.732 233.108 Q175.927 236.65 175.927 243.779 Q175.927 250.886 177.732 254.45 Q179.561 257.992 183.172 257.992 Q186.806 257.992 188.612 254.45 Q190.44 250.886 190.44 243.779 Q190.44 236.65 188.612 233.108 Q186.806 229.543 183.172 229.543 M183.172 225.839 Q188.982 225.839 192.038 230.446 Q195.116 235.029 195.116 243.779 Q195.116 252.506 192.038 257.112 Q188.982 261.696 183.172 261.696 Q177.362 261.696 174.283 257.112 Q171.228 252.506 171.228 243.779 Q171.228 235.029 174.283 230.446 Q177.362 225.839 183.172 225.839 Z\" fill=\"#000000\" fill-rule=\"evenodd\" fill-opacity=\"1\" /><path clip-path=\"url(#clip4600)\" d=\"M 0 0 M139.237 75.5215 L146.876 75.5215 L146.876 49.1559 L138.566 50.8226 L138.566 46.5633 L146.83 44.8967 L151.505 44.8967 L151.505 75.5215 L159.144 75.5215 L159.144 79.4567 L139.237 79.4567 L139.237 75.5215 Z\" fill=\"#000000\" fill-rule=\"evenodd\" fill-opacity=\"1\" /><path clip-path=\"url(#clip4600)\" d=\"M 0 0 M164.214 73.5771 L169.098 73.5771 L169.098 79.4567 L164.214 79.4567 L164.214 73.5771 Z\" fill=\"#000000\" fill-rule=\"evenodd\" fill-opacity=\"1\" /><path clip-path=\"url(#clip4600)\" d=\"M 0 0 M174.214 44.8967 L192.57 44.8967 L192.57 48.8318 L178.496 48.8318 L178.496 57.304 Q179.515 56.9568 180.533 56.7948 Q181.552 56.6096 182.57 56.6096 Q188.357 56.6096 191.737 59.7809 Q195.116 62.9521 195.116 68.3688 Q195.116 73.9474 191.644 77.0493 Q188.172 80.128 181.852 80.128 Q179.677 80.128 177.408 79.7576 Q175.163 79.3872 172.755 78.6465 L172.755 73.9474 Q174.839 75.0817 177.061 75.6373 Q179.283 76.1928 181.76 76.1928 Q185.765 76.1928 188.102 74.0863 Q190.44 71.9799 190.44 68.3688 Q190.44 64.7577 188.102 62.6512 Q185.765 60.5447 181.76 60.5447 Q179.885 60.5447 178.01 60.9614 Q176.158 61.3781 174.214 62.2577 L174.214 44.8967 Z\" fill=\"#000000\" fill-rule=\"evenodd\" fill-opacity=\"1\" /><path clip-path=\"url(#clip4600)\" d=\"M 0 0 M845.89 706.858 L837.169 730.506 L854.643 730.506 L845.89 706.858 M842.262 700.524 L849.551 700.524 L867.661 748.044 L860.977 748.044 L856.648 735.854 L835.228 735.854 L830.899 748.044 L824.12 748.044 L842.262 700.524 Z\" fill=\"#000000\" fill-rule=\"evenodd\" fill-opacity=\"1\" /><path clip-path=\"url(#clip4600)\" d=\"M 0 0 M897.262 729.806 Q897.262 723.44 894.62 719.939 Q892.01 716.438 887.267 716.438 Q882.557 716.438 879.915 719.939 Q877.305 723.44 877.305 729.806 Q877.305 736.14 879.915 739.641 Q882.557 743.142 887.267 743.142 Q892.01 743.142 894.62 739.641 Q897.262 736.14 897.262 729.806 M903.118 743.62 Q903.118 752.723 899.076 757.147 Q895.034 761.603 886.694 761.603 Q883.607 761.603 880.87 761.125 Q878.133 760.68 875.554 759.725 L875.554 754.028 Q878.133 755.428 880.647 756.096 Q883.162 756.765 885.771 756.765 Q891.532 756.765 894.397 753.741 Q897.262 750.749 897.262 744.67 L897.262 741.774 Q895.447 744.925 892.615 746.484 Q889.782 748.044 885.835 748.044 Q879.278 748.044 875.268 743.047 Q871.258 738.05 871.258 729.806 Q871.258 721.531 875.268 716.534 Q879.278 711.537 885.835 711.537 Q889.782 711.537 892.615 713.096 Q895.447 714.656 897.262 717.807 L897.262 712.396 L903.118 712.396 L903.118 743.62 Z\" fill=\"#000000\" fill-rule=\"evenodd\" fill-opacity=\"1\" /><path clip-path=\"url(#clip4600)\" d=\"M 0 0 M939.753 728.756 L939.753 731.62 L912.826 731.62 Q913.208 737.668 916.454 740.851 Q919.732 744.002 925.557 744.002 Q928.931 744.002 932.082 743.174 Q935.265 742.347 938.384 740.691 L938.384 746.23 Q935.233 747.566 931.923 748.267 Q928.613 748.967 925.207 748.967 Q916.677 748.967 911.68 744.002 Q906.715 739.036 906.715 730.57 Q906.715 721.817 911.425 716.693 Q916.168 711.537 924.188 711.537 Q931.382 711.537 935.551 716.183 Q939.753 720.799 939.753 728.756 M933.896 727.037 Q933.833 722.231 931.191 719.366 Q928.581 716.502 924.252 716.502 Q919.351 716.502 916.39 719.271 Q913.462 722.04 913.017 727.069 L933.896 727.037 Z\" fill=\"#000000\" fill-rule=\"evenodd\" fill-opacity=\"1\" /><path clip-path=\"url(#clip4600)\" d=\"M 0 0 M56.4842 422.343 L56.4842 395.034 L61.895 395.034 L61.895 415.913 L75.8996 415.913 L75.8996 397.071 L81.3104 397.071 L81.3104 415.913 L104.004 415.913 L104.004 422.343 L56.4842 422.343 Z\" fill=\"#000000\" fill-rule=\"evenodd\" fill-opacity=\"1\" /><path clip-path=\"url(#clip4600)\" d=\"M 0 0 M86.0847 378.674 Q86.0847 385.772 87.7079 388.509 Q89.3312 391.246 93.2461 391.246 Q96.3653 391.246 98.2114 389.209 Q100.026 387.14 100.026 383.607 Q100.026 378.737 96.5881 375.809 Q93.1188 372.849 87.3897 372.849 L86.0847 372.849 L86.0847 378.674 M83.6657 366.993 L104.004 366.993 L104.004 372.849 L98.5933 372.849 Q101.84 374.854 103.399 377.846 Q104.927 380.838 104.927 385.167 Q104.927 390.641 101.872 393.888 Q98.7843 397.103 93.6281 397.103 Q87.6125 397.103 84.5569 393.092 Q81.5014 389.05 81.5014 381.061 L81.5014 372.849 L80.9285 372.849 Q76.8862 372.849 74.6901 375.523 Q72.4621 378.165 72.4621 382.971 Q72.4621 386.026 73.1941 388.923 Q73.9262 391.819 75.3903 394.493 L69.9795 394.493 Q68.7381 391.278 68.1334 388.254 Q67.4968 385.231 67.4968 382.366 Q67.4968 374.632 71.5072 370.812 Q75.5176 366.993 83.6657 366.993 Z\" fill=\"#000000\" fill-rule=\"evenodd\" fill-opacity=\"1\" /><path clip-path=\"url(#clip4600)\" d=\"M 0 0 M69.7248 335.196 L75.1993 335.196 Q73.8307 337.679 73.1623 340.193 Q72.4621 342.676 72.4621 345.222 Q72.4621 350.919 76.0905 354.07 Q79.6872 357.221 86.212 357.221 Q92.7369 357.221 96.3653 354.07 Q99.9619 350.919 99.9619 345.222 Q99.9619 342.676 99.2935 340.193 Q98.5933 337.679 97.2247 335.196 L102.636 335.196 Q103.781 337.647 104.354 340.289 Q104.927 342.899 104.927 345.859 Q104.927 353.911 99.8664 358.654 Q94.8057 363.396 86.212 363.396 Q77.491 363.396 72.4939 358.622 Q67.4968 353.816 67.4968 345.477 Q67.4968 342.771 68.0697 340.193 Q68.6108 337.615 69.7248 335.196 Z\" fill=\"#000000\" fill-rule=\"evenodd\" fill-opacity=\"1\" /><path clip-path=\"url(#clip4600)\" d=\"M 0 0 M58.2347 323.26 L68.3562 323.26 L68.3562 311.197 L72.9077 311.197 L72.9077 323.26 L92.2594 323.26 Q96.6199 323.26 97.8613 322.083 Q99.1026 320.873 99.1026 317.213 L99.1026 311.197 L104.004 311.197 L104.004 317.213 Q104.004 323.992 101.49 326.571 Q98.9434 329.149 92.2594 329.149 L72.9077 329.149 L72.9077 333.445 L68.3562 333.445 L68.3562 329.149 L58.2347 329.149 L58.2347 323.26 Z\" fill=\"#000000\" fill-rule=\"evenodd\" fill-opacity=\"1\" /><path clip-path=\"url(#clip4600)\" d=\"M 0 0 M72.4621 291.241 Q72.4621 295.951 76.1542 298.689 Q79.8145 301.426 86.212 301.426 Q92.6095 301.426 96.3017 298.721 Q99.9619 295.983 99.9619 291.241 Q99.9619 286.562 96.2698 283.825 Q92.5777 281.088 86.212 281.088 Q79.8781 281.088 76.186 283.825 Q72.4621 286.562 72.4621 291.241 M67.4968 291.241 Q67.4968 283.602 72.4621 279.241 Q77.4273 274.881 86.212 274.881 Q94.9649 274.881 99.9619 279.241 Q104.927 283.602 104.927 291.241 Q104.927 298.912 99.9619 303.272 Q94.9649 307.601 86.212 307.601 Q77.4273 307.601 72.4621 303.272 Q67.4968 298.912 67.4968 291.241 Z\" fill=\"#000000\" fill-rule=\"evenodd\" fill-opacity=\"1\" /><path clip-path=\"url(#clip4600)\" d=\"M 0 0 M73.8307 248.081 Q73.2578 249.068 73.0032 250.246 Q72.7167 251.392 72.7167 252.792 Q72.7167 257.757 75.9632 260.431 Q79.1779 263.073 85.2253 263.073 L104.004 263.073 L104.004 268.961 L68.3562 268.961 L68.3562 263.073 L73.8944 263.073 Q70.6479 261.227 69.0883 258.266 Q67.4968 255.306 67.4968 251.073 Q67.4968 250.468 67.5923 249.736 Q67.656 249.004 67.8151 248.113 L73.8307 248.081 Z\" fill=\"#000000\" fill-rule=\"evenodd\" fill-opacity=\"1\" /><polyline clip-path=\"url(#clip4602)\" style=\"stroke:#009af9; stroke-width:4; stroke-opacity:1; fill:none\" points=\"\n  249.087,246.598 261.872,244.303 274.657,244.119 287.442,243.996 300.227,243.906 313.011,243.848 325.796,237.693 338.581,231.624 351.366,225.595 364.151,219.626 \n  376.936,213.69 389.72,197.752 402.505,181.914 415.29,166.09 428.075,150.274 440.86,134.467 453.644,121.43 466.429,108.374 479.214,95.2686 491.999,82.1003 \n  504.784,68.9016 517.569,67.8646 530.353,66.7807 543.138,65.7026 555.923,64.6362 568.708,63.5442 581.493,75.0465 594.278,86.5274 607.062,98.0495 619.847,109.585 \n  632.632,121.16 645.417,136.881 658.202,152.633 670.986,168.452 683.771,184.325 696.556,200.306 709.341,208.749 722.126,217.289 734.911,225.911 747.695,234.6 \n  760.48,243.39 773.265,246.106 786.05,248.884 798.835,251.747 811.62,254.694 824.404,257.68 837.189,259.007 849.974,260.428 862.759,261.89 875.544,263.462 \n  888.329,265.108 901.113,266.642 913.898,268.276 926.683,269.991 939.468,271.914 952.253,274.202 965.037,276.478 977.822,278.919 990.607,281.578 1003.39,284.588 \n  1016.18,287.844 1028.96,291.406 1041.75,295.231 1054.53,299.477 1067.32,304.019 1080.1,308.772 1092.89,314.211 1105.67,320.258 1118.46,326.649 1131.24,333.601 \n  1144.03,340.888 1156.81,349.02 1169.59,357.994 1182.38,367.684 1195.16,378.095 1207.95,389.565 1220.73,401.848 1233.52,414.799 1246.3,428.613 1259.09,442.886 \n  1271.87,458.224 1284.66,474.314 1297.44,489.684 1310.23,505.404 1323.01,520.598 1335.8,534.63 1348.58,547.774 1361.37,559.458 1374.15,569.33 1386.94,578.167 \n  1399.72,606.88 1412.51,606.88 1425.29,606.88 1438.08,606.88 1450.86,606.88 1463.65,606.88 1476.43,606.88 1489.22,606.88 1502,606.88 1514.78,606.88 \n  \n  \"/>\n</svg>\n",
      "text/html": [
       "<?xml version=\"1.0\" encoding=\"utf-8\"?>\n",
       "<svg xmlns=\"http://www.w3.org/2000/svg\" xmlns:xlink=\"http://www.w3.org/1999/xlink\" width=\"400\" height=\"200\" viewBox=\"0 0 1600 800\">\n",
       "<defs>\n",
       "  <clipPath id=\"clip4900\">\n",
       "    <rect x=\"0\" y=\"0\" width=\"1600\" height=\"800\"/>\n",
       "  </clipPath>\n",
       "</defs>\n",
       "<path clip-path=\"url(#clip4900)\" d=\"\n",
       "M0 800 L1600 800 L1600 0 L0 0  Z\n",
       "  \" fill=\"#ffffff\" fill-rule=\"evenodd\" fill-opacity=\"1\"/>\n",
       "<defs>\n",
       "  <clipPath id=\"clip4901\">\n",
       "    <rect x=\"320\" y=\"0\" width=\"1121\" height=\"800\"/>\n",
       "  </clipPath>\n",
       "</defs>\n",
       "<path clip-path=\"url(#clip4900)\" d=\"\n",
       "M191.236 651.7 L1552.76 651.7 L1552.76 47.2441 L191.236 47.2441  Z\n",
       "  \" fill=\"#ffffff\" fill-rule=\"evenodd\" fill-opacity=\"1\"/>\n",
       "<defs>\n",
       "  <clipPath id=\"clip4902\">\n",
       "    <rect x=\"191\" y=\"47\" width=\"1363\" height=\"605\"/>\n",
       "  </clipPath>\n",
       "</defs>\n",
       "<polyline clip-path=\"url(#clip4902)\" style=\"stroke:#000000; stroke-width:2; stroke-opacity:0.1; fill:none\" points=\"\n",
       "  216.796,651.7 216.796,47.2441 \n",
       "  \"/>\n",
       "<polyline clip-path=\"url(#clip4902)\" style=\"stroke:#000000; stroke-width:2; stroke-opacity:0.1; fill:none\" points=\"\n",
       "  541.152,651.7 541.152,47.2441 \n",
       "  \"/>\n",
       "<polyline clip-path=\"url(#clip4902)\" style=\"stroke:#000000; stroke-width:2; stroke-opacity:0.1; fill:none\" points=\"\n",
       "  865.509,651.7 865.509,47.2441 \n",
       "  \"/>\n",
       "<polyline clip-path=\"url(#clip4902)\" style=\"stroke:#000000; stroke-width:2; stroke-opacity:0.1; fill:none\" points=\"\n",
       "  1189.87,651.7 1189.87,47.2441 \n",
       "  \"/>\n",
       "<polyline clip-path=\"url(#clip4902)\" style=\"stroke:#000000; stroke-width:2; stroke-opacity:0.1; fill:none\" points=\"\n",
       "  1514.22,651.7 1514.22,47.2441 \n",
       "  \"/>\n",
       "<polyline clip-path=\"url(#clip4902)\" style=\"stroke:#000000; stroke-width:2; stroke-opacity:0.1; fill:none\" points=\"\n",
       "  191.236,634.593 1552.76,634.593 \n",
       "  \"/>\n",
       "<polyline clip-path=\"url(#clip4902)\" style=\"stroke:#000000; stroke-width:2; stroke-opacity:0.1; fill:none\" points=\"\n",
       "  191.236,444.034 1552.76,444.034 \n",
       "  \"/>\n",
       "<polyline clip-path=\"url(#clip4902)\" style=\"stroke:#000000; stroke-width:2; stroke-opacity:0.1; fill:none\" points=\"\n",
       "  191.236,253.475 1552.76,253.475 \n",
       "  \"/>\n",
       "<polyline clip-path=\"url(#clip4902)\" style=\"stroke:#000000; stroke-width:2; stroke-opacity:0.1; fill:none\" points=\"\n",
       "  191.236,62.9161 1552.76,62.9161 \n",
       "  \"/>\n",
       "<polyline clip-path=\"url(#clip4900)\" style=\"stroke:#000000; stroke-width:4; stroke-opacity:1; fill:none\" points=\"\n",
       "  191.236,651.7 1552.76,651.7 \n",
       "  \"/>\n",
       "<polyline clip-path=\"url(#clip4900)\" style=\"stroke:#000000; stroke-width:4; stroke-opacity:1; fill:none\" points=\"\n",
       "  191.236,651.7 191.236,47.2441 \n",
       "  \"/>\n",
       "<polyline clip-path=\"url(#clip4900)\" style=\"stroke:#000000; stroke-width:4; stroke-opacity:1; fill:none\" points=\"\n",
       "  216.796,651.7 216.796,644.446 \n",
       "  \"/>\n",
       "<polyline clip-path=\"url(#clip4900)\" style=\"stroke:#000000; stroke-width:4; stroke-opacity:1; fill:none\" points=\"\n",
       "  541.152,651.7 541.152,644.446 \n",
       "  \"/>\n",
       "<polyline clip-path=\"url(#clip4900)\" style=\"stroke:#000000; stroke-width:4; stroke-opacity:1; fill:none\" points=\"\n",
       "  865.509,651.7 865.509,644.446 \n",
       "  \"/>\n",
       "<polyline clip-path=\"url(#clip4900)\" style=\"stroke:#000000; stroke-width:4; stroke-opacity:1; fill:none\" points=\"\n",
       "  1189.87,651.7 1189.87,644.446 \n",
       "  \"/>\n",
       "<polyline clip-path=\"url(#clip4900)\" style=\"stroke:#000000; stroke-width:4; stroke-opacity:1; fill:none\" points=\"\n",
       "  1514.22,651.7 1514.22,644.446 \n",
       "  \"/>\n",
       "<polyline clip-path=\"url(#clip4900)\" style=\"stroke:#000000; stroke-width:4; stroke-opacity:1; fill:none\" points=\"\n",
       "  191.236,634.593 207.575,634.593 \n",
       "  \"/>\n",
       "<polyline clip-path=\"url(#clip4900)\" style=\"stroke:#000000; stroke-width:4; stroke-opacity:1; fill:none\" points=\"\n",
       "  191.236,444.034 207.575,444.034 \n",
       "  \"/>\n",
       "<polyline clip-path=\"url(#clip4900)\" style=\"stroke:#000000; stroke-width:4; stroke-opacity:1; fill:none\" points=\"\n",
       "  191.236,253.475 207.575,253.475 \n",
       "  \"/>\n",
       "<polyline clip-path=\"url(#clip4900)\" style=\"stroke:#000000; stroke-width:4; stroke-opacity:1; fill:none\" points=\"\n",
       "  191.236,62.9161 207.575,62.9161 \n",
       "  \"/>\n",
       "<path clip-path=\"url(#clip4900)\" d=\"M 0 0 M216.796 669.691 Q213.185 669.691 211.356 673.255 Q209.55 676.797 209.55 683.927 Q209.55 691.033 211.356 694.598 Q213.185 698.139 216.796 698.139 Q220.43 698.139 222.235 694.598 Q224.064 691.033 224.064 683.927 Q224.064 676.797 222.235 673.255 Q220.43 669.691 216.796 669.691 M216.796 665.987 Q222.606 665.987 225.661 670.593 Q228.74 675.177 228.74 683.927 Q228.74 692.653 225.661 697.26 Q222.606 701.843 216.796 701.843 Q210.985 701.843 207.907 697.26 Q204.851 692.653 204.851 683.927 Q204.851 675.177 207.907 670.593 Q210.985 665.987 216.796 665.987 Z\" fill=\"#000000\" fill-rule=\"evenodd\" fill-opacity=\"1\" /><path clip-path=\"url(#clip4900)\" d=\"M 0 0 M522.796 697.237 L539.115 697.237 L539.115 701.172 L517.171 701.172 L517.171 697.237 Q519.833 694.482 524.416 689.852 Q529.023 685.2 530.203 683.857 Q532.449 681.334 533.328 679.598 Q534.231 677.839 534.231 676.149 Q534.231 673.394 532.287 671.658 Q530.365 669.922 527.263 669.922 Q525.064 669.922 522.611 670.686 Q520.18 671.45 517.402 673.001 L517.402 668.279 Q520.226 667.144 522.68 666.566 Q525.134 665.987 527.171 665.987 Q532.541 665.987 535.736 668.672 Q538.93 671.357 538.93 675.848 Q538.93 677.978 538.12 679.899 Q537.333 681.797 535.226 684.39 Q534.648 685.061 531.546 688.278 Q528.444 691.473 522.796 697.237 Z\" fill=\"#000000\" fill-rule=\"evenodd\" fill-opacity=\"1\" /><path clip-path=\"url(#clip4900)\" d=\"M 0 0 M544.231 666.612 L562.587 666.612 L562.587 670.547 L548.513 670.547 L548.513 679.019 Q549.532 678.672 550.55 678.51 Q551.569 678.325 552.587 678.325 Q558.374 678.325 561.754 681.496 Q565.134 684.667 565.134 690.084 Q565.134 695.663 561.661 698.764 Q558.189 701.843 551.87 701.843 Q549.694 701.843 547.425 701.473 Q545.18 701.102 542.773 700.362 L542.773 695.663 Q544.856 696.797 547.078 697.352 Q549.3 697.908 551.777 697.908 Q555.782 697.908 558.12 695.802 Q560.458 693.695 560.458 690.084 Q560.458 686.473 558.12 684.366 Q555.782 682.26 551.777 682.26 Q549.902 682.26 548.027 682.677 Q546.175 683.093 544.231 683.973 L544.231 666.612 Z\" fill=\"#000000\" fill-rule=\"evenodd\" fill-opacity=\"1\" /><path clip-path=\"url(#clip4900)\" d=\"M 0 0 M842.28 666.612 L860.636 666.612 L860.636 670.547 L846.562 670.547 L846.562 679.019 Q847.581 678.672 848.599 678.51 Q849.618 678.325 850.636 678.325 Q856.423 678.325 859.803 681.496 Q863.183 684.667 863.183 690.084 Q863.183 695.663 859.71 698.764 Q856.238 701.843 849.919 701.843 Q847.743 701.843 845.474 701.473 Q843.229 701.102 840.822 700.362 L840.822 695.663 Q842.905 696.797 845.127 697.352 Q847.349 697.908 849.826 697.908 Q853.831 697.908 856.169 695.802 Q858.507 693.695 858.507 690.084 Q858.507 686.473 856.169 684.366 Q853.831 682.26 849.826 682.26 Q847.951 682.26 846.076 682.677 Q844.224 683.093 842.28 683.973 L842.28 666.612 Z\" fill=\"#000000\" fill-rule=\"evenodd\" fill-opacity=\"1\" /><path clip-path=\"url(#clip4900)\" d=\"M 0 0 M878.252 669.691 Q874.641 669.691 872.812 673.255 Q871.007 676.797 871.007 683.927 Q871.007 691.033 872.812 694.598 Q874.641 698.139 878.252 698.139 Q881.886 698.139 883.692 694.598 Q885.52 691.033 885.52 683.927 Q885.52 676.797 883.692 673.255 Q881.886 669.691 878.252 669.691 M878.252 665.987 Q884.062 665.987 887.118 670.593 Q890.196 675.177 890.196 683.927 Q890.196 692.653 887.118 697.26 Q884.062 701.843 878.252 701.843 Q872.442 701.843 869.363 697.26 Q866.308 692.653 866.308 683.927 Q866.308 675.177 869.363 670.593 Q872.442 665.987 878.252 665.987 Z\" fill=\"#000000\" fill-rule=\"evenodd\" fill-opacity=\"1\" /><path clip-path=\"url(#clip4900)\" d=\"M 0 0 M1165.75 666.612 L1187.97 666.612 L1187.97 668.603 L1175.42 701.172 L1170.54 701.172 L1182.34 670.547 L1165.75 670.547 L1165.75 666.612 Z\" fill=\"#000000\" fill-rule=\"evenodd\" fill-opacity=\"1\" /><path clip-path=\"url(#clip4900)\" d=\"M 0 0 M1193.08 666.612 L1211.44 666.612 L1211.44 670.547 L1197.37 670.547 L1197.37 679.019 Q1198.38 678.672 1199.4 678.51 Q1200.42 678.325 1201.44 678.325 Q1207.23 678.325 1210.61 681.496 Q1213.99 684.667 1213.99 690.084 Q1213.99 695.663 1210.51 698.764 Q1207.04 701.843 1200.72 701.843 Q1198.55 701.843 1196.28 701.473 Q1194.03 701.102 1191.62 700.362 L1191.62 695.663 Q1193.71 696.797 1195.93 697.352 Q1198.15 697.908 1200.63 697.908 Q1204.63 697.908 1206.97 695.802 Q1209.31 693.695 1209.31 690.084 Q1209.31 686.473 1206.97 684.366 Q1204.63 682.26 1200.63 682.26 Q1198.75 682.26 1196.88 682.677 Q1195.03 683.093 1193.08 683.973 L1193.08 666.612 Z\" fill=\"#000000\" fill-rule=\"evenodd\" fill-opacity=\"1\" /><path clip-path=\"url(#clip4900)\" d=\"M 0 0 M1477.59 697.237 L1485.23 697.237 L1485.23 670.871 L1476.92 672.538 L1476.92 668.279 L1485.18 666.612 L1489.86 666.612 L1489.86 697.237 L1497.5 697.237 L1497.5 701.172 L1477.59 701.172 L1477.59 697.237 Z\" fill=\"#000000\" fill-rule=\"evenodd\" fill-opacity=\"1\" /><path clip-path=\"url(#clip4900)\" d=\"M 0 0 M1512.57 669.691 Q1508.96 669.691 1507.13 673.255 Q1505.32 676.797 1505.32 683.927 Q1505.32 691.033 1507.13 694.598 Q1508.96 698.139 1512.57 698.139 Q1516.2 698.139 1518.01 694.598 Q1519.84 691.033 1519.84 683.927 Q1519.84 676.797 1518.01 673.255 Q1516.2 669.691 1512.57 669.691 M1512.57 665.987 Q1518.38 665.987 1521.43 670.593 Q1524.51 675.177 1524.51 683.927 Q1524.51 692.653 1521.43 697.26 Q1518.38 701.843 1512.57 701.843 Q1506.76 701.843 1503.68 697.26 Q1500.62 692.653 1500.62 683.927 Q1500.62 675.177 1503.68 670.593 Q1506.76 665.987 1512.57 665.987 Z\" fill=\"#000000\" fill-rule=\"evenodd\" fill-opacity=\"1\" /><path clip-path=\"url(#clip4900)\" d=\"M 0 0 M1539.58 669.691 Q1535.97 669.691 1534.14 673.255 Q1532.34 676.797 1532.34 683.927 Q1532.34 691.033 1534.14 694.598 Q1535.97 698.139 1539.58 698.139 Q1543.22 698.139 1545.02 694.598 Q1546.85 691.033 1546.85 683.927 Q1546.85 676.797 1545.02 673.255 Q1543.22 669.691 1539.58 669.691 M1539.58 665.987 Q1545.39 665.987 1548.45 670.593 Q1551.53 675.177 1551.53 683.927 Q1551.53 692.653 1548.45 697.26 Q1545.39 701.843 1539.58 701.843 Q1533.77 701.843 1530.69 697.26 Q1527.64 692.653 1527.64 683.927 Q1527.64 675.177 1530.69 670.593 Q1533.77 665.987 1539.58 665.987 Z\" fill=\"#000000\" fill-rule=\"evenodd\" fill-opacity=\"1\" /><path clip-path=\"url(#clip4900)\" d=\"M 0 0 M126.325 620.391 Q122.713 620.391 120.885 623.956 Q119.079 627.498 119.079 634.627 Q119.079 641.734 120.885 645.299 Q122.713 648.84 126.325 648.84 Q129.959 648.84 131.764 645.299 Q133.593 641.734 133.593 634.627 Q133.593 627.498 131.764 623.956 Q129.959 620.391 126.325 620.391 M126.325 616.688 Q132.135 616.688 135.19 621.294 Q138.269 625.877 138.269 634.627 Q138.269 643.354 135.19 647.961 Q132.135 652.544 126.325 652.544 Q120.514 652.544 117.436 647.961 Q114.38 643.354 114.38 634.627 Q114.38 625.877 117.436 621.294 Q120.514 616.688 126.325 616.688 Z\" fill=\"#000000\" fill-rule=\"evenodd\" fill-opacity=\"1\" /><path clip-path=\"url(#clip4900)\" d=\"M 0 0 M143.338 645.993 L148.223 645.993 L148.223 651.873 L143.338 651.873 L143.338 645.993 Z\" fill=\"#000000\" fill-rule=\"evenodd\" fill-opacity=\"1\" /><path clip-path=\"url(#clip4900)\" d=\"M 0 0 M163.292 620.391 Q159.681 620.391 157.852 623.956 Q156.047 627.498 156.047 634.627 Q156.047 641.734 157.852 645.299 Q159.681 648.84 163.292 648.84 Q166.926 648.84 168.732 645.299 Q170.56 641.734 170.56 634.627 Q170.56 627.498 168.732 623.956 Q166.926 620.391 163.292 620.391 M163.292 616.688 Q169.102 616.688 172.158 621.294 Q175.236 625.877 175.236 634.627 Q175.236 643.354 172.158 647.961 Q169.102 652.544 163.292 652.544 Q157.482 652.544 154.403 647.961 Q151.348 643.354 151.348 634.627 Q151.348 625.877 154.403 621.294 Q157.482 616.688 163.292 616.688 Z\" fill=\"#000000\" fill-rule=\"evenodd\" fill-opacity=\"1\" /><path clip-path=\"url(#clip4900)\" d=\"M 0 0 M127.32 429.832 Q123.709 429.832 121.88 433.397 Q120.075 436.939 120.075 444.069 Q120.075 451.175 121.88 454.74 Q123.709 458.281 127.32 458.281 Q130.954 458.281 132.76 454.74 Q134.588 451.175 134.588 444.069 Q134.588 436.939 132.76 433.397 Q130.954 429.832 127.32 429.832 M127.32 426.129 Q133.13 426.129 136.186 430.735 Q139.264 435.319 139.264 444.069 Q139.264 452.795 136.186 457.402 Q133.13 461.985 127.32 461.985 Q121.51 461.985 118.431 457.402 Q115.376 452.795 115.376 444.069 Q115.376 435.319 118.431 430.735 Q121.51 426.129 127.32 426.129 Z\" fill=\"#000000\" fill-rule=\"evenodd\" fill-opacity=\"1\" /><path clip-path=\"url(#clip4900)\" d=\"M 0 0 M144.334 455.434 L149.218 455.434 L149.218 461.314 L144.334 461.314 L144.334 455.434 Z\" fill=\"#000000\" fill-rule=\"evenodd\" fill-opacity=\"1\" /><path clip-path=\"url(#clip4900)\" d=\"M 0 0 M154.334 426.754 L172.69 426.754 L172.69 430.689 L158.616 430.689 L158.616 439.161 Q159.635 438.814 160.653 438.652 Q161.672 438.467 162.69 438.467 Q168.477 438.467 171.857 441.638 Q175.236 444.809 175.236 450.226 Q175.236 455.805 171.764 458.906 Q168.292 461.985 161.972 461.985 Q159.797 461.985 157.528 461.615 Q155.283 461.244 152.875 460.504 L152.875 455.805 Q154.959 456.939 157.181 457.494 Q159.403 458.05 161.88 458.05 Q165.885 458.05 168.222 455.943 Q170.56 453.837 170.56 450.226 Q170.56 446.615 168.222 444.508 Q165.885 442.402 161.88 442.402 Q160.005 442.402 158.13 442.819 Q156.278 443.235 154.334 444.115 L154.334 426.754 Z\" fill=\"#000000\" fill-rule=\"evenodd\" fill-opacity=\"1\" /><path clip-path=\"url(#clip4900)\" d=\"M 0 0 M118.362 266.82 L126 266.82 L126 240.454 L117.69 242.121 L117.69 237.862 L125.954 236.195 L130.63 236.195 L130.63 266.82 L138.269 266.82 L138.269 270.755 L118.362 270.755 L118.362 266.82 Z\" fill=\"#000000\" fill-rule=\"evenodd\" fill-opacity=\"1\" /><path clip-path=\"url(#clip4900)\" d=\"M 0 0 M143.338 264.875 L148.223 264.875 L148.223 270.755 L143.338 270.755 L143.338 264.875 Z\" fill=\"#000000\" fill-rule=\"evenodd\" fill-opacity=\"1\" /><path clip-path=\"url(#clip4900)\" d=\"M 0 0 M163.292 239.274 Q159.681 239.274 157.852 242.838 Q156.047 246.38 156.047 253.51 Q156.047 260.616 157.852 264.181 Q159.681 267.723 163.292 267.723 Q166.926 267.723 168.732 264.181 Q170.56 260.616 170.56 253.51 Q170.56 246.38 168.732 242.838 Q166.926 239.274 163.292 239.274 M163.292 235.57 Q169.102 235.57 172.158 240.176 Q175.236 244.76 175.236 253.51 Q175.236 262.236 172.158 266.843 Q169.102 271.426 163.292 271.426 Q157.482 271.426 154.403 266.843 Q151.348 262.236 151.348 253.51 Q151.348 244.76 154.403 240.176 Q157.482 235.57 163.292 235.57 Z\" fill=\"#000000\" fill-rule=\"evenodd\" fill-opacity=\"1\" /><path clip-path=\"url(#clip4900)\" d=\"M 0 0 M119.357 76.261 L126.996 76.261 L126.996 49.8954 L118.686 51.562 L118.686 47.3028 L126.95 45.6361 L131.625 45.6361 L131.625 76.261 L139.264 76.261 L139.264 80.1961 L119.357 80.1961 L119.357 76.261 Z\" fill=\"#000000\" fill-rule=\"evenodd\" fill-opacity=\"1\" /><path clip-path=\"url(#clip4900)\" d=\"M 0 0 M144.334 74.3165 L149.218 74.3165 L149.218 80.1961 L144.334 80.1961 L144.334 74.3165 Z\" fill=\"#000000\" fill-rule=\"evenodd\" fill-opacity=\"1\" /><path clip-path=\"url(#clip4900)\" d=\"M 0 0 M154.334 45.6361 L172.69 45.6361 L172.69 49.5713 L158.616 49.5713 L158.616 58.0435 Q159.635 57.6962 160.653 57.5342 Q161.672 57.349 162.69 57.349 Q168.477 57.349 171.857 60.5203 Q175.236 63.6916 175.236 69.1082 Q175.236 74.6869 171.764 77.7887 Q168.292 80.8674 161.972 80.8674 Q159.797 80.8674 157.528 80.4971 Q155.283 80.1267 152.875 79.3859 L152.875 74.6869 Q154.959 75.8212 157.181 76.3767 Q159.403 76.9323 161.88 76.9323 Q165.885 76.9323 168.222 74.8258 Q170.56 72.7193 170.56 69.1082 Q170.56 65.4971 168.222 63.3907 Q165.885 61.2842 161.88 61.2842 Q160.005 61.2842 158.13 61.7009 Q156.278 62.1175 154.334 62.9971 L154.334 45.6361 Z\" fill=\"#000000\" fill-rule=\"evenodd\" fill-opacity=\"1\" /><path clip-path=\"url(#clip4900)\" d=\"M 0 0 M835.95 735.378 L827.229 759.026 L844.703 759.026 L835.95 735.378 M832.322 729.044 L839.611 729.044 L857.721 776.564 L851.037 776.564 L846.708 764.374 L825.288 764.374 L820.959 776.564 L814.18 776.564 L832.322 729.044 Z\" fill=\"#000000\" fill-rule=\"evenodd\" fill-opacity=\"1\" /><path clip-path=\"url(#clip4900)\" d=\"M 0 0 M887.322 758.326 Q887.322 751.96 884.68 748.459 Q882.07 744.958 877.327 744.958 Q872.617 744.958 869.975 748.459 Q867.365 751.96 867.365 758.326 Q867.365 764.66 869.975 768.161 Q872.617 771.662 877.327 771.662 Q882.07 771.662 884.68 768.161 Q887.322 764.66 887.322 758.326 M893.178 772.14 Q893.178 781.243 889.136 785.667 Q885.094 790.123 876.754 790.123 Q873.667 790.123 870.93 789.645 Q868.193 789.2 865.614 788.245 L865.614 782.548 Q868.193 783.948 870.707 784.616 Q873.222 785.285 875.831 785.285 Q881.592 785.285 884.457 782.261 Q887.322 779.269 887.322 773.19 L887.322 770.294 Q885.507 773.445 882.675 775.004 Q879.842 776.564 875.895 776.564 Q869.338 776.564 865.328 771.567 Q861.318 766.57 861.318 758.326 Q861.318 750.051 865.328 745.054 Q869.338 740.057 875.895 740.057 Q879.842 740.057 882.675 741.616 Q885.507 743.176 887.322 746.327 L887.322 740.916 L893.178 740.916 L893.178 772.14 Z\" fill=\"#000000\" fill-rule=\"evenodd\" fill-opacity=\"1\" /><path clip-path=\"url(#clip4900)\" d=\"M 0 0 M929.813 757.276 L929.813 760.14 L902.886 760.14 Q903.268 766.188 906.514 769.371 Q909.792 772.522 915.617 772.522 Q918.991 772.522 922.142 771.694 Q925.325 770.867 928.444 769.211 L928.444 774.75 Q925.293 776.086 921.983 776.787 Q918.673 777.487 915.267 777.487 Q906.737 777.487 901.74 772.522 Q896.775 767.556 896.775 759.09 Q896.775 750.337 901.485 745.213 Q906.228 740.057 914.248 740.057 Q921.442 740.057 925.611 744.703 Q929.813 749.319 929.813 757.276 M923.956 755.557 Q923.893 750.751 921.251 747.886 Q918.641 745.022 914.312 745.022 Q909.411 745.022 906.45 747.791 Q903.522 750.56 903.077 755.589 L923.956 755.557 Z\" fill=\"#000000\" fill-rule=\"evenodd\" fill-opacity=\"1\" /><path clip-path=\"url(#clip4900)\" d=\"M 0 0 M36.6042 436.603 L36.6042 409.294 L42.015 409.294 L42.015 430.173 L56.0196 430.173 L56.0196 411.331 L61.4304 411.331 L61.4304 430.173 L84.1242 430.173 L84.1242 436.603 L36.6042 436.603 Z\" fill=\"#000000\" fill-rule=\"evenodd\" fill-opacity=\"1\" /><path clip-path=\"url(#clip4900)\" d=\"M 0 0 M66.2047 392.934 Q66.2047 400.032 67.8279 402.769 Q69.4512 405.506 73.3661 405.506 Q76.4853 405.506 78.3314 403.469 Q80.1456 401.4 80.1456 397.867 Q80.1456 392.997 76.7081 390.069 Q73.2388 387.109 67.5097 387.109 L66.2047 387.109 L66.2047 392.934 M63.7857 381.253 L84.1242 381.253 L84.1242 387.109 L78.7133 387.109 Q81.9598 389.114 83.5194 392.106 Q85.0472 395.098 85.0472 399.427 Q85.0472 404.901 81.9916 408.148 Q78.9043 411.363 73.7481 411.363 Q67.7325 411.363 64.6769 407.352 Q61.6214 403.31 61.6214 395.321 L61.6214 387.109 L61.0485 387.109 Q57.0062 387.109 54.8101 389.783 Q52.5821 392.425 52.5821 397.231 Q52.5821 400.286 53.3141 403.183 Q54.0462 406.079 55.5103 408.753 L50.0995 408.753 Q48.8581 405.538 48.2534 402.514 Q47.6168 399.491 47.6168 396.626 Q47.6168 388.892 51.6272 385.072 Q55.6376 381.253 63.7857 381.253 Z\" fill=\"#000000\" fill-rule=\"evenodd\" fill-opacity=\"1\" /><path clip-path=\"url(#clip4900)\" d=\"M 0 0 M49.8448 349.456 L55.3193 349.456 Q53.9507 351.939 53.2823 354.453 Q52.5821 356.936 52.5821 359.482 Q52.5821 365.179 56.2105 368.33 Q59.8072 371.481 66.332 371.481 Q72.8569 371.481 76.4853 368.33 Q80.0819 365.179 80.0819 359.482 Q80.0819 356.936 79.4135 354.453 Q78.7133 351.939 77.3447 349.456 L82.7555 349.456 Q83.9014 351.907 84.4743 354.549 Q85.0472 357.159 85.0472 360.119 Q85.0472 368.171 79.9864 372.914 Q74.9257 377.656 66.332 377.656 Q57.611 377.656 52.6139 372.882 Q47.6168 368.076 47.6168 359.737 Q47.6168 357.031 48.1897 354.453 Q48.7308 351.875 49.8448 349.456 Z\" fill=\"#000000\" fill-rule=\"evenodd\" fill-opacity=\"1\" /><path clip-path=\"url(#clip4900)\" d=\"M 0 0 M38.3547 337.52 L48.4762 337.52 L48.4762 325.457 L53.0277 325.457 L53.0277 337.52 L72.3794 337.52 Q76.7399 337.52 77.9813 336.343 Q79.2226 335.133 79.2226 331.473 L79.2226 325.457 L84.1242 325.457 L84.1242 331.473 Q84.1242 338.252 81.6097 340.831 Q79.0634 343.409 72.3794 343.409 L53.0277 343.409 L53.0277 347.705 L48.4762 347.705 L48.4762 343.409 L38.3547 343.409 L38.3547 337.52 Z\" fill=\"#000000\" fill-rule=\"evenodd\" fill-opacity=\"1\" /><path clip-path=\"url(#clip4900)\" d=\"M 0 0 M52.5821 305.501 Q52.5821 310.211 56.2742 312.949 Q59.9345 315.686 66.332 315.686 Q72.7295 315.686 76.4217 312.981 Q80.0819 310.243 80.0819 305.501 Q80.0819 300.822 76.3898 298.085 Q72.6977 295.348 66.332 295.348 Q59.9981 295.348 56.306 298.085 Q52.5821 300.822 52.5821 305.501 M47.6168 305.501 Q47.6168 297.862 52.5821 293.501 Q57.5473 289.141 66.332 289.141 Q75.0849 289.141 80.0819 293.501 Q85.0472 297.862 85.0472 305.501 Q85.0472 313.172 80.0819 317.532 Q75.0849 321.861 66.332 321.861 Q57.5473 321.861 52.5821 317.532 Q47.6168 313.172 47.6168 305.501 Z\" fill=\"#000000\" fill-rule=\"evenodd\" fill-opacity=\"1\" /><path clip-path=\"url(#clip4900)\" d=\"M 0 0 M53.9507 262.341 Q53.3778 263.328 53.1232 264.506 Q52.8367 265.652 52.8367 267.052 Q52.8367 272.017 56.0832 274.691 Q59.2979 277.333 65.3453 277.333 L84.1242 277.333 L84.1242 283.221 L48.4762 283.221 L48.4762 277.333 L54.0144 277.333 Q50.7679 275.487 49.2083 272.526 Q47.6168 269.566 47.6168 265.333 Q47.6168 264.728 47.7123 263.996 Q47.776 263.264 47.9351 262.373 L53.9507 262.341 Z\" fill=\"#000000\" fill-rule=\"evenodd\" fill-opacity=\"1\" /><polyline clip-path=\"url(#clip4902)\" style=\"stroke:#009af9; stroke-width:4; stroke-opacity:1; fill:none\" points=\"\n",
       "  229.77,256.47 242.744,254.061 255.718,253.868 268.693,253.739 281.667,253.644 294.641,253.584 307.615,247.124 320.59,240.754 333.564,234.426 346.538,228.162 \n",
       "  359.513,221.933 372.487,205.205 385.461,188.583 398.435,171.975 411.41,155.376 424.384,138.787 437.358,125.103 450.332,111.401 463.307,97.6467 476.281,83.8263 \n",
       "  489.255,69.974 502.229,68.8857 515.204,67.7481 528.178,66.6166 541.152,65.4974 554.127,64.3513 567.101,76.4232 580.075,88.4727 593.049,100.565 606.024,112.672 \n",
       "  618.998,124.821 631.972,141.319 644.946,157.852 657.921,174.455 670.895,191.113 683.869,207.886 696.844,216.746 709.818,225.71 722.792,234.758 735.766,243.878 \n",
       "  748.741,253.103 761.715,255.954 774.689,258.869 787.663,261.873 800.638,264.967 813.612,268.101 826.586,269.493 839.56,270.985 852.535,272.519 865.509,274.169 \n",
       "  878.483,275.896 891.458,277.506 904.432,279.221 917.406,281.021 930.38,283.04 943.355,285.441 956.329,287.829 969.303,290.392 982.277,293.182 995.252,296.341 \n",
       "  1008.23,299.758 1021.2,303.497 1034.17,307.511 1047.15,311.968 1060.12,316.734 1073.1,321.723 1086.07,327.431 1099.05,333.777 1112.02,340.485 1124.99,347.781 \n",
       "  1137.97,355.43 1150.94,363.964 1163.92,373.382 1176.89,383.552 1189.87,394.479 1202.84,406.517 1215.81,419.408 1228.79,433 1241.76,447.498 1254.74,462.478 \n",
       "  1267.71,478.576 1280.69,495.462 1293.66,511.593 1306.63,528.092 1319.61,544.038 1332.58,558.765 1345.56,572.56 1358.53,584.822 1371.51,595.183 1384.48,604.458 \n",
       "  1397.45,634.593 1410.43,634.593 1423.4,634.593 1436.38,634.593 1449.35,634.593 1462.33,634.593 1475.3,634.593 1488.27,634.593 1501.25,634.593 1514.22,634.593 \n",
       "  \n",
       "  \"/>\n",
       "</svg>\n"
      ],
      "text/plain": [
       "Plot{Plots.GRBackend() n=1}"
      ]
     },
     "metadata": {},
     "output_type": "display_data"
    }
   ],
   "source": [
    "D = population_data()\n",
    "birth = D[\"birth_rate\"]\n",
    "death = D[\"death_rate\"]\n",
    "\n",
    "# Dynamics matrix for populaion dynamics\n",
    "A = [birth'; diagonal(1 .- death[1:end-1]) zeros(length(death)-1)]\n",
    "\n",
    "# Contribution factor to total poulation in 2020\n",
    "# from each age in 2010\n",
    "cf = ones(100)'*(A^10)\n",
    "\n",
    "using Plots\n",
    "plot(cf', legend = false, xlabel = \"Age\", ylabel = \"Factor\", size = [400, 200])"
   ]
  },
  {
   "cell_type": "markdown",
   "metadata": {},
   "source": [
    "**Figure 10.1** Contribution factor per age in $2010$ to the total population in $2020$. The value for age i−1 is the i:th component of the row vector 1TA10."
   ]
  },
  {
   "cell_type": "markdown",
   "metadata": {},
   "source": [
    "\n",
    "### 10.4 QR factorization\n",
    "\n",
    "In Julia, the $QR$ factorization of a matrix $A$ can be found using **`qr(A)`**, which\n",
    "returns a tuple with the $Q$ and $R$ factors. However the matrix $Q$ is not returned as an array, but in a special compact format. It can be converted to a regular matrix variable using the command **`Matrix(Q)`**. Hence, the `QR` factorization as defined in VMLS is computed by a sequence of two commands:\n",
    "\n",
    "```julia\n",
    "    Q, R = qr(A)\n",
    "    Q = Matrix(Q)\n",
    "```"
   ]
  },
  {
   "cell_type": "markdown",
   "metadata": {},
   "source": [
    "The following example also illustates a second, but minor difference with the\n",
    "VMLS definition. The $R$ factor computed by Julia may have negative elements on\n",
    "the diagonal, as opposed to only positive elements if we follow the definition used\n",
    "in VMLS. The two definitions are equivalent, because if $R_{ii}$ is negative, one can\n",
    "change the sign of the ith row of R and the ith column of $Q$, to get an equivalent\n",
    "factorization with $R_{ii} > 0$. However this step is not needed in practice, since\n",
    "negative elements on the diagonal do not pose any problem in applications of the\n",
    "$QR$ factorization."
   ]
  },
  {
   "cell_type": "code",
   "execution_count": 27,
   "metadata": {},
   "outputs": [
    {
     "data": {
      "text/plain": [
       "4×4 Matrix{Float64}:\n",
       " 2.33611  -0.622461   0.0705774   0.245663\n",
       " 0.0       1.71475   -0.598399    0.359515\n",
       " 0.0       0.0       -1.20894     0.682029\n",
       " 0.0       0.0        0.0        -0.737792"
      ]
     },
     "metadata": {},
     "output_type": "display_data"
    }
   ],
   "source": [
    "A = randn(6,4)\n",
    "Q, R = qr(A)\n",
    "R"
   ]
  },
  {
   "cell_type": "code",
   "execution_count": 28,
   "metadata": {},
   "outputs": [
    {
     "data": {
      "text/plain": [
       "6×4 Matrix{Float64}:\n",
       " -0.809769   0.480742    0.220417    0.153453\n",
       " -0.292093  -0.273105   -0.553723    0.0396976\n",
       " -0.197084   0.0941398  -0.714676    0.114519\n",
       " -0.401305  -0.645205    0.0992267  -0.518422\n",
       " -0.178123   0.0866277   0.211468   -0.399433\n",
       "  0.165348   0.511512   -0.281922   -0.730379"
      ]
     },
     "metadata": {},
     "output_type": "display_data"
    }
   ],
   "source": [
    "Q = Matrix(Q)"
   ]
  },
  {
   "cell_type": "code",
   "execution_count": 29,
   "metadata": {},
   "outputs": [
    {
     "data": {
      "text/plain": [
       "1.0226353059951564e-15"
      ]
     },
     "metadata": {},
     "output_type": "display_data"
    }
   ],
   "source": [
    "norm(Q*R-A)"
   ]
  },
  {
   "cell_type": "code",
   "execution_count": 30,
   "metadata": {},
   "outputs": [
    {
     "data": {
      "text/plain": [
       "4×4 Matrix{Float64}:\n",
       "  1.0          -3.14271e-17   8.72334e-17  -8.63389e-17\n",
       " -3.14271e-17   1.0           2.66527e-16   2.20408e-17\n",
       "  8.72334e-17   2.66527e-16   1.0          -4.2401e-17\n",
       " -8.63389e-17   2.20408e-17  -4.2401e-17    1.0"
      ]
     },
     "metadata": {},
     "output_type": "display_data"
    }
   ],
   "source": [
    "Q'*Q"
   ]
  }
 ],
 "metadata": {
  "kernelspec": {
   "display_name": "Julia 1.8.0",
   "language": "julia",
   "name": "julia-1.8"
  },
  "language_info": {
   "file_extension": ".jl",
   "mimetype": "application/julia",
   "name": "julia",
   "version": "1.8.0"
  }
 },
 "nbformat": 4,
 "nbformat_minor": 2
}
