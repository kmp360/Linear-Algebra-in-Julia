{
 "cells": [
  {
   "cell_type": "markdown",
   "metadata": {},
   "source": [
    "Modified by kmp 2022\n",
    "\n",
    "Sources:\n",
    "\n",
    "https://web.stanford.edu/~boyd/vmls/\n",
    "\n",
    "https://github.com/vbartle/VMLS-Companions\n",
    "\n",
    "Based on \"Boyd and Vandenberghe, 2021, Introduction to Applied Linear Algebra: Vectors, Matrices, and Least Squares - Julia Language Companion\" https://web.stanford.edu/~boyd/vmls/vmls-julia-companion.pdf"
   ]
  },
  {
   "cell_type": "markdown",
   "metadata": {},
   "source": [
    "## 1.1 Vectors"
   ]
  },
  {
   "cell_type": "markdown",
   "metadata": {},
   "source": [
    "Real column vectors in Julia are represented by one-dimensional **`array objects, Array{Float64, 1}`**.\n",
    "\n",
    "A column vector is constructed by giving the list of elements surrounded by square brackets, with the elmeents separated by commas or semicolons **`[a[1]; a[2]; ... ; a[n]]`**. \n",
    "\n",
    "The **`assignment operator =`** is used to give a **`variable name`** to the array. The **`length`** function returns the **number of components** of the vector."
   ]
  },
  {
   "cell_type": "code",
   "execution_count": null,
   "metadata": {},
   "outputs": [],
   "source": [
    "x = [-1.1; 0.0; 3.9; -7.2]"
   ]
  },
  {
   "cell_type": "code",
   "execution_count": null,
   "metadata": {},
   "outputs": [],
   "source": [
    "length(x)"
   ]
  },
  {
   "cell_type": "markdown",
   "metadata": {},
   "source": [
    "The **`Array{Float64,1}`** displayed by Julia above each array tells us that the array is one-dimensional and its entries are floating point numbers that use 64 bits.\n",
    "\n",
    "**Some common mistakes:** Do not forget the commas or semicolons between entries, and be sure to use square brackets and not parentheses. Otherwise you will get things that make sense in Julia, but are not vectors."
   ]
  },
  {
   "cell_type": "code",
   "execution_count": null,
   "metadata": {},
   "outputs": [],
   "source": [
    "a = [1 2 3]   # row vector or 1×3 Matrix{Int64}"
   ]
  },
  {
   "cell_type": "code",
   "execution_count": null,
   "metadata": {},
   "outputs": [],
   "source": [
    "b = (1, 2, 3)   # comma seperated list or a tuple"
   ]
  },
  {
   "cell_type": "markdown",
   "metadata": {},
   "source": [
    "Here `a` is a **`row vector`**, which we will encounter later; `b` is a tuple or list consisting of three scalars (numbers). "
   ]
  },
  {
   "cell_type": "markdown",
   "metadata": {},
   "source": [
    "### Indexing\n",
    "\n",
    "A specific element $x_i$ is retrieved by the expression **`x[i]`** where **`i`** is the index (which runs to 1 to $n$, for an $n$-vector). \n",
    "\n",
    "**Array indexing can also be used on the left-hand side of an assignment statement, to change the value of a specific element, that is arrays and vectors are `mutable`**. "
   ]
  },
  {
   "cell_type": "code",
   "execution_count": null,
   "metadata": {},
   "outputs": [],
   "source": [
    "x = [-1.1, 0.0, 3.6, -7.2]\n",
    "x[3]"
   ]
  },
  {
   "cell_type": "code",
   "execution_count": null,
   "metadata": {},
   "outputs": [],
   "source": [
    "x[3] = 4.0\n",
    "x"
   ]
  },
  {
   "cell_type": "markdown",
   "metadata": {},
   "source": [
    "The special index **`begin`** and **`end`** refers to the first and last index of a vector, respectively."
   ]
  },
  {
   "cell_type": "code",
   "execution_count": null,
   "metadata": {},
   "outputs": [],
   "source": [
    "x[begin], x[end], x[length(x)]      # list evaluation"
   ]
  },
  {
   "cell_type": "markdown",
   "metadata": {},
   "source": [
    "### Assignment versus copying\n",
    " Matlab or Octave users may be surprised by the behavior of an assignment **`y = x`** if **`x`** is an array. This expression gives a new name (or reference) **`y`** to the same **`Array object`** already referenced by **`x`**, so-called **`aliasing`**. It does not create a new copy of the array object **`x`**. Therefore, changes made to **`x`** or **`y`** will be visible in both because **`x`** and **`x`** are two different variable names referencing the same object in memory."
   ]
  },
  {
   "cell_type": "code",
   "execution_count": null,
   "metadata": {},
   "outputs": [],
   "source": [
    "x = [-1.1, 0.0, 3.6, -7.2]\n",
    "y = x       # aliasing or more than one variable name/reference to the same object\n",
    "x[3] = 4.0\n",
    "y           # the x[3] assignment also changes y[3]"
   ]
  },
  {
   "cell_type": "code",
   "execution_count": null,
   "metadata": {},
   "outputs": [],
   "source": [
    "y[1] = 2.0\n",
    "x"
   ]
  },
  {
   "cell_type": "markdown",
   "metadata": {},
   "source": [
    "To create a new copy of an array, the function **`copy`** should be used."
   ]
  },
  {
   "cell_type": "code",
   "execution_count": null,
   "metadata": {},
   "outputs": [],
   "source": [
    "x = [-1.1, 0.0, 3.6, -7.2]\n",
    "y = copy(x)\n",
    "x[3] = 4.0\n",
    "y"
   ]
  },
  {
   "cell_type": "code",
   "execution_count": null,
   "metadata": {},
   "outputs": [],
   "source": [
    "y[1] = 2.0\n",
    "x"
   ]
  },
  {
   "cell_type": "code",
   "execution_count": null,
   "metadata": {},
   "outputs": [],
   "source": [
    "x == y, x === y"
   ]
  },
  {
   "cell_type": "markdown",
   "metadata": {},
   "source": [
    "### Vector equality\n",
    "\n",
    " **`Equality`** of vectors is checked using the relational operator **`==`**. For two vectors (arrays) **`a`** and **`b`**, the Julia expression **`a == b`** evaluates to **`true`** iff (if and only if) the vectors (arrays) are equal, i.e., they have the same length and identical components, and **`false`** otherwise."
   ]
  },
  {
   "cell_type": "code",
   "execution_count": null,
   "metadata": {},
   "outputs": [],
   "source": [
    "x = [-1.1, 0.0, 3.6, -7.2]\n",
    "y = copy(x)\n",
    "y[3] = 4.0\n",
    "y == x"
   ]
  },
  {
   "cell_type": "code",
   "execution_count": null,
   "metadata": {},
   "outputs": [],
   "source": [
    "z = x\n",
    "z[3] = 4.0\n",
    "z == x"
   ]
  },
  {
   "cell_type": "markdown",
   "metadata": {},
   "source": [
    "### Scalars versus one-component vectors\n",
    "\n",
    " In the mathematical notation used in VMLS, a one-component vector **`[a[1]]`** is considered the same as the number, or **`scalar, a[1]`**.  In Julia, however, one-component vectors are not the same as scalars. Julia distinguishes between the 1-vector (array) `[1.3]` and the scalar `1.3`. They are different **`data types`**."
   ]
  },
  {
   "cell_type": "code",
   "execution_count": null,
   "metadata": {},
   "outputs": [],
   "source": [
    "x = [1.3]"
   ]
  },
  {
   "cell_type": "code",
   "execution_count": null,
   "metadata": {},
   "outputs": [],
   "source": [
    "y = 1.3"
   ]
  },
  {
   "cell_type": "code",
   "execution_count": null,
   "metadata": {},
   "outputs": [],
   "source": [
    "x == y"
   ]
  },
  {
   "cell_type": "code",
   "execution_count": null,
   "metadata": {},
   "outputs": [],
   "source": [
    "x[1] == y"
   ]
  },
  {
   "cell_type": "markdown",
   "metadata": {},
   "source": [
    "In the last line, `x[1]` is the first (and only) entry of `x`, which is indeed equal to the scalar `1.3`.\n",
    "\n",
    "### Block or stacked vectors\n",
    "\n",
    " To construct a block vector in Julia, you can use **`vcat`** (vertical concatenation) or the **`semicolon (;) operator`**.\n",
    " \n",
    " Let us construct the block vector $z = [x;y]$ with $x = [1;-2]$ and $y = [1;1;0]$ using the two methods."
   ]
  },
  {
   "cell_type": "code",
   "execution_count": null,
   "metadata": {},
   "outputs": [],
   "source": [
    "x = [1; -2]\n",
    "y = [1; 1; 0]\n",
    "z = [x; y]      # Concatenate using semicolon"
   ]
  },
  {
   "cell_type": "code",
   "execution_count": null,
   "metadata": {},
   "outputs": [],
   "source": [
    "z = vcat(x,y)"
   ]
  },
  {
   "cell_type": "markdown",
   "metadata": {},
   "source": [
    "As in mathematical notation, you can stack vectors with scalars, e.g., `[1; x; 0]` to create (1, x, 0).\n",
    "\n",
    "**Some common mistakes:** There are a few Julia operations that look similar but do not construct a block or stacked vector. For example, `z = (x, y)` creates a list or tuple of the two vectors; `z = [x, y]` creates an array of the two column vectors, if they are of the same length. Both of these are valid Julia expressions, but neither of them is the stacked vector `[x; y]`.\n",
    "\n",
    "### Subvectors and slicing\n",
    "\n",
    " As in the mathematical notation used in VMLS, the Julia expression **`r:s`** denotes the **`index range` $r, r + 1,...,s$**. Here, it is assumed that both `r` and `s` are positive integers with `r` the smaller of the two.\n",
    " \n",
    " VMLS uses **$x_{r:s}$** to denote the slice of the vector x from index r to s. In Julia you can extract a **`subvector or slice of a vector`** using an index range as the argument and you can also use index ranges to assign a slice of a vector:"
   ]
  },
  {
   "cell_type": "code",
   "execution_count": null,
   "metadata": {},
   "outputs": [],
   "source": [
    "x = [9, 4, 3, 0, 5]\n",
    "y = x[2:4]"
   ]
  },
  {
   "cell_type": "code",
   "execution_count": null,
   "metadata": {},
   "outputs": [],
   "source": [
    "x[4:5] = [-2, -3]; # Reassign the 4 and 5 components of x\n",
    "x"
   ]
  },
  {
   "cell_type": "markdown",
   "metadata": {},
   "source": [
    "### Julia indexing into arrays\n",
    "\n",
    " Julia **`slicing and subjectoring`** is more general than the mathematical notation used in VMLS. For example, one can use a number range with a third argument, that gives the stride, which is the increment between successive indexes. For example, the index range `1:2:5` is the list of numbers `1, 3, 5`. The expressiong `x[1:2:5]` extracts the vector `[9, 3, 5]`, i.e., the first, third, and fifth components of x. You can also use an index range that runs backward. For any vector `z`, the Julia expressiong `z[end:-1:1]` is the reversed vector, i.e., the vector with the same coefficients, but in opposite order. \n",
    "\n",
    "**Vector of first differences.** Let us use slicing to create the (n-1)-vector d defined by $d_i = x_{i+1} - x_i$ for $i = 1,...,n - 1$, where x is an n-vector. The vector d is called the vector of first differences of x."
   ]
  },
  {
   "cell_type": "code",
   "execution_count": null,
   "metadata": {},
   "outputs": [],
   "source": [
    "x = [1, 0, 0, -2, 2]\n",
    "d = x[2:end] - x[1:end-1]"
   ]
  },
  {
   "cell_type": "markdown",
   "metadata": {},
   "source": [
    "### List of vectors\n",
    "\n",
    " An ordered list of n-vectors might be denoted in VMLS as $a_1,...,a_k$ or $a^{(1)},...,a^{(k)}$ or just as $a,b,c$. There are several ways to represent lists of vectors in Julia. If we give the elements of the list, separated by commas, and surrounded by square brackets, we form a **`one-dimensional array of vectors`**. If instead we use parentheses as delimiters, we obtain a **`tuple, or a comma seperated list`**. "
   ]
  },
  {
   "cell_type": "code",
   "execution_count": null,
   "metadata": {},
   "outputs": [],
   "source": [
    "x = [1.0, 0]\n",
    "y = [1.0,-1.0]\n",
    "z = [0,1.0]\n",
    "list = [x, y, z]"
   ]
  },
  {
   "cell_type": "code",
   "execution_count": null,
   "metadata": {},
   "outputs": [],
   "source": [
    "list[2]     # second element of list"
   ]
  },
  {
   "cell_type": "code",
   "execution_count": null,
   "metadata": {},
   "outputs": [],
   "source": [
    "list[2][1]    # first component of the second element of list"
   ]
  },
  {
   "cell_type": "code",
   "execution_count": null,
   "metadata": {},
   "outputs": [],
   "source": [
    "list = (x,y,z)"
   ]
  },
  {
   "cell_type": "code",
   "execution_count": null,
   "metadata": {},
   "outputs": [],
   "source": [
    "list[3]"
   ]
  },
  {
   "cell_type": "code",
   "execution_count": null,
   "metadata": {},
   "outputs": [],
   "source": [
    "list[3][2]"
   ]
  },
  {
   "cell_type": "markdown",
   "metadata": {},
   "source": [
    "Note the difference between `[x, y, z]`, **an array of arrays**, and `[x; y; z]`, **an array of numbers**, obtained by concatenation. To extract the i:th vector from the list of vectors, use `list[i]`. To get the j:th component of the i:th vector in the list, use `list[i][j]`.\n",
    "\n",
    "In Julia a **`zero vector of dimension n`** is created using `zeros(n)`."
   ]
  },
  {
   "cell_type": "code",
   "execution_count": null,
   "metadata": {},
   "outputs": [],
   "source": [
    "zeros(3)"
   ]
  },
  {
   "cell_type": "code",
   "execution_count": null,
   "metadata": {},
   "outputs": [],
   "source": [
    "ones(3)"
   ]
  },
  {
   "cell_type": "markdown",
   "metadata": {},
   "source": [
    "The expression **`zeros(length(a))`** creates a vector with the same size as the vector **`a`**, and similarly for **`ones(length(a))`**.\n",
    "\n",
    "**Standard unit vectors:** There is no built-in Julia function for creating **$e_i$**, the i:th unit vector of dimension n. THe following code creates **$e_i$**, with i = 2 and n = 4."
   ]
  },
  {
   "cell_type": "code",
   "execution_count": null,
   "metadata": {},
   "outputs": [],
   "source": [
    "i = 2, n = 4\n",
    "ei = zeros(n)   # create a zero vector\n",
    "ei[i] = 1       # set ith entry to 1\n",
    "ei"
   ]
  },
  {
   "cell_type": "markdown",
   "metadata": {},
   "source": [
    "Here is another way to create **$e_i$** using concatenation, using a Julia **`inline` or `short-form function definition`**:"
   ]
  },
  {
   "cell_type": "code",
   "execution_count": null,
   "metadata": {},
   "outputs": [],
   "source": [
    "unit_vector(i,n) = [zeros(i-1); 1; zeros(n-i)]"
   ]
  },
  {
   "cell_type": "code",
   "execution_count": null,
   "metadata": {},
   "outputs": [],
   "source": [
    "unit_vector(2,4)"
   ]
  },
  {
   "cell_type": "markdown",
   "metadata": {},
   "source": [
    "In Julia, the **`ones vector of dimension n`**, denoted $\\textbf1_n$ or just $\\textbf1$ in VMLS, is created using **`ones(n)`**."
   ]
  },
  {
   "cell_type": "code",
   "execution_count": null,
   "metadata": {},
   "outputs": [],
   "source": [
    "ones(2)"
   ]
  },
  {
   "cell_type": "markdown",
   "metadata": {},
   "source": [
    "### Random vectors\n",
    "\n",
    "It is sometimes useful to generate random vectors, for example, to test an identity or some algorithm. In Julia, **`rand(n)`** generates a random vector of dimension n with components that are uniformly distributed between 0 and 1. Each time this function is called or evaluated, it gives a different vector. The variant **`randn(n)`** (with the extra 'n' for **`normal`**) gives an n-vector with components that come from the **`standard normal (Gaussian) distribution`**.\n",
    "\n",
    "Every time you evaluate these functions, you generate a different random vector. In particular, you will obtain different entries in the vectors below when you re-run the code."
   ]
  },
  {
   "cell_type": "code",
   "execution_count": null,
   "metadata": {},
   "outputs": [],
   "source": [
    "rand(2)"
   ]
  },
  {
   "cell_type": "code",
   "execution_count": null,
   "metadata": {},
   "outputs": [],
   "source": [
    "rand(2)"
   ]
  },
  {
   "cell_type": "markdown",
   "metadata": {},
   "source": [
    "### Plotting\n",
    "\n",
    "There are several external packages for creating plots in Julia. One such package is **`Plots.jl`**, which you must add (install) via Julia's package manager control system:\n",
    "\n",
    "```Julia\n",
    "\n",
    "    julia> ]\n",
    "    (@v1.8) pkg> add Plots\n",
    "\n",
    "```\n",
    "https://github.com/JuliaPlots\n",
    "\n",
    "https://docs.juliaplots.org/stable/\n",
    "\n",
    "Assuming the Plots package has been installed, you import it into Julia for use, using the command **`using Plots`**. After that you can access the Julia commands that create or manipulate plots. \n",
    "\n",
    "For example, we can plot the temperature time series in Figure 1.3 of VMLS using the code below; the last line saves the plot in a file ```temperature.pdf```. The result is shown in Figure 1.1."
   ]
  },
  {
   "cell_type": "code",
   "execution_count": null,
   "metadata": {},
   "outputs": [],
   "source": [
    "using Plots     # only need to do this once per session"
   ]
  },
  {
   "cell_type": "code",
   "execution_count": null,
   "metadata": {},
   "outputs": [],
   "source": [
    "temps = [71, 71, 68, 69, 68, 69,68, 74, 77, 82, 85, 86, 88, 86, 85, 86, 84, 79, 77, 75, 73, 71, 70, 70, 69, 69, 69, 69, 67, 68, 68, 73, 76, 77, 82, 84, 84, 81, 80, 78, 79, 78, 73, 72, 70, 70, 68, 67];"
   ]
  },
  {
   "cell_type": "code",
   "execution_count": null,
   "metadata": {},
   "outputs": [],
   "source": [
    "plot(temps, marker = :circle, legend = false, grid = true)\n",
    "# savefig(\"temperature.pdf\")"
   ]
  },
  {
   "cell_type": "markdown",
   "metadata": {},
   "source": [
    "**Figure 1.1** Hourly temperature in downtown Los Angeles on August 5 and 6, 2015 (starting at 12:47AM, ending at 11:47PM)."
   ]
  },
  {
   "cell_type": "markdown",
   "metadata": {},
   "source": [
    "## 1.2 Vector addition"
   ]
  },
  {
   "cell_type": "markdown",
   "metadata": {},
   "source": [
    "**Vector additionand subtracktion**. If `x` and `y` are vectors of the same size, `x + y` and `x - y` give their sum and difference, respectively."
   ]
  },
  {
   "cell_type": "code",
   "execution_count": null,
   "metadata": {},
   "outputs": [],
   "source": [
    "[0, 7, 3] + [1, 2, -5] "
   ]
  },
  {
   "cell_type": "code",
   "execution_count": null,
   "metadata": {},
   "outputs": [],
   "source": [
    "[13, 9] - [11, 19] "
   ]
  },
  {
   "cell_type": "markdown",
   "metadata": {},
   "source": [
    "## 1.3 Scalar-vector multiplication"
   ]
  },
  {
   "cell_type": "markdown",
   "metadata": {},
   "source": [
    "**Scalar-vector multiplication and division.** If `a` is a number and `x` a vector, you can express the scalar-vector product either as `a*x` or `x*a`. Julia allows you to write `2.0x` for `2.0*x`. **This is unambiguous because variable names cannot start with a number**. You can carry out scalar-vector division in a similar way, as `x/a`, or the less familiar looking expression `a\\x`."
   ]
  },
  {
   "cell_type": "code",
   "execution_count": null,
   "metadata": {},
   "outputs": [],
   "source": [
    "x = [0, 2, -1]\n",
    "2.2*x, x*2.2 "
   ]
  },
  {
   "cell_type": "code",
   "execution_count": null,
   "metadata": {},
   "outputs": [],
   "source": [
    "x/3, 3\\x "
   ]
  },
  {
   "cell_type": "markdown",
   "metadata": {},
   "source": [
    "**Scalar-vector addition.** In Julia you can add a scalar ```a``` and a vector ```x``` using ```x .+ a```. The dot that precedes the plus symbol tells Julia to apply the operation to each element. The meaning is that the scalar is added or subtracted to each element. In VMLS this is denoted as, e.g., $x+a1$, where $x$ is an n-vector and $a$ is a scalar. In Julia you can also carry out scalar-vector addition with the scalar on the left."
   ]
  },
  {
   "cell_type": "code",
   "execution_count": null,
   "metadata": {},
   "outputs": [],
   "source": [
    "[1.1, -3.7, 0.3] .- 1.4"
   ]
  },
  {
   "cell_type": "code",
   "execution_count": null,
   "metadata": {},
   "outputs": [],
   "source": [
    "0.7 .+ [1, -1]"
   ]
  },
  {
   "cell_type": "markdown",
   "metadata": {},
   "source": [
    "### Componentwise operations\n",
    "Julia supports methods for carrying out an operation on every element or component of a vector. To do this we add a period or dot before the operator. For example, if x and y are vectors of the same length, then `x.*y, x./y, x.\\y, x.^y` are elementwise vector-vector operations. They result in vectors of the same dimension or length as x and y, and $i$th element $x_iy_, x_i/y_i, y_i/x_i$, and $x^y_i$, respectively.\n",
    "\n",
    "As an example of elementwise division, the 3-vector of asset returns `r` from the vectors of initial and final prices of assets (see page 22 in VMLS)."
   ]
  },
  {
   "cell_type": "code",
   "execution_count": null,
   "metadata": {},
   "outputs": [],
   "source": [
    "p_initial = [22.15, 89.32, 56.77];\n",
    "p_final = [23.05, 87.32, 57.12];\n",
    "r = (p_final - p_initial) ./ p_initial"
   ]
  },
  {
   "cell_type": "markdown",
   "metadata": {},
   "source": [
    "**Elementwise operations with a scalar.** Elementwise operations work when one of the arguments is a scalar, in which case it is interpreted as the scalar times a ones vector of the appropriate dimension. Scalar-vector addition, described above, is a special case of this. If `a` is a scalar and `x` is a vector then `x.^a` is a vector with ith element $x^a_i$, and `a.^x` is a vector with elements $a^{xi}$. Like scalar-vector addition, the dot notation for elementwise operations is not standard mathematical notation and we do not use it in VMLS. \n",
    "\n",
    "We can also use the period notation with a function that has a name, to let Julia know that the function should be applied elementwise. In this case we add the period *after* the function name to indicate that it should be applied elementwise. For example, if `x` is a vector, we can form `sin.(x)` to apply the $sine$ function to each element of `x`.\n",
    "\n",
    "The equality test operator `==` (and other relational operators like `<`, `>=`) can be made to work elementwise by preceding it with a period: `x == y` tells us whether or not `x` and `y` are the same vector; `x .== y` is a vector whose entries tell us whether the corresponding entries in `x` and `y` are the same. "
   ]
  },
  {
   "cell_type": "code",
   "execution_count": null,
   "metadata": {},
   "outputs": [],
   "source": [
    "w = [1, 2, 2]; z = [1 ,2 ,3]\n",
    "w == z, w .== z"
   ]
  },
  {
   "cell_type": "markdown",
   "metadata": {},
   "source": [
    "You can combine this with Julia's slicing to extract the subvector of entries that satisfy some logical condition. For example `x[abs.(x).>1]` gives the subvector of `x` consisting of the entries larger than one in magnitude. "
   ]
  },
  {
   "cell_type": "code",
   "execution_count": null,
   "metadata": {},
   "outputs": [],
   "source": [
    "x = [1.1, .5, -1.5, -0.3]\n",
    "x[abs.(x) .> 1]"
   ]
  },
  {
   "cell_type": "markdown",
   "metadata": {},
   "source": [
    "**Dot notation also works with assignment**, allowing you to assign multiple entries of a vector to a scalar value. For example:"
   ]
  },
  {
   "cell_type": "code",
   "execution_count": null,
   "metadata": {},
   "outputs": [],
   "source": [
    "x = rand(4)"
   ]
  },
  {
   "cell_type": "code",
   "execution_count": null,
   "metadata": {},
   "outputs": [],
   "source": [
    "x[1:2] = [-1, 1]\n",
    "x"
   ]
  },
  {
   "cell_type": "code",
   "execution_count": null,
   "metadata": {},
   "outputs": [],
   "source": [
    "x[2:3] .= 1.3\n",
    "x"
   ]
  },
  {
   "cell_type": "markdown",
   "metadata": {},
   "source": [
    "**Linear combination.** You can form a linear combination in Julia using scalar-vector multiplication and addition."
   ]
  },
  {
   "cell_type": "code",
   "execution_count": null,
   "metadata": {},
   "outputs": [],
   "source": [
    "a = [1, 2]; b = [ 3, 4]\n",
    "alpha = -0.5; beta = 1.5;\n",
    "c = alpha*a + beta*b"
   ]
  },
  {
   "cell_type": "markdown",
   "metadata": {},
   "source": [
    "To illustrate some additional Julia syntax, we create a function that takes a list of coefficients and a list of vectors as its arguments, and returns the linear combination. The lists can be represented by tuples or arrays. "
   ]
  },
  {
   "cell_type": "code",
   "execution_count": null,
   "metadata": {},
   "outputs": [],
   "source": [
    "function lincomb(coeff, vectors)\n",
    "    n = length(vectors[1]) # Length of vectors\n",
    "    a = zeros(n)\n",
    "    for i = 1:length(vectors)\n",
    "        a = a + coeff[i] * vectors[i];\n",
    "    end\n",
    "    return a\n",
    "end"
   ]
  },
  {
   "cell_type": "code",
   "execution_count": null,
   "metadata": {},
   "outputs": [],
   "source": [
    "lincomb((-0.5,1.5), ([1,2], [3,4]))"
   ]
  },
  {
   "cell_type": "markdown",
   "metadata": {},
   "source": [
    "A more concise definition of the function, using comprehension syntax, is the following:"
   ]
  },
  {
   "cell_type": "code",
   "execution_count": null,
   "metadata": {},
   "outputs": [],
   "source": [
    "function lincomb(coeff,vectors)\n",
    "    return sum(coeff[i] * vectors[i] for i = 1:length(vectors))\n",
    "end\n",
    "lincomb((-0.5,1.5), ([1,2], [3,4]))"
   ]
  },
  {
   "cell_type": "markdown",
   "metadata": {},
   "source": [
    "### Checking properties\n",
    "\n",
    "For instance, to check the distributive property $$\\beta(a+b) = \\beta a + \\beta b$$ which holds for any two n-vectors $a$ and $b$, and any scalar $\\beta$, with $n=3$, and randomly generated $a$, $b$, and $\\beta$. We use the `lincomb` function we just defined. This computation does not show that the property always holds; it only shows that it holds for the specific vectors chosen. "
   ]
  },
  {
   "cell_type": "code",
   "execution_count": null,
   "metadata": {},
   "outputs": [],
   "source": [
    "a = rand(3); b = rand(3)\n",
    "beta = randn()\n",
    "a, b, beta"
   ]
  },
  {
   "cell_type": "code",
   "execution_count": null,
   "metadata": {},
   "outputs": [],
   "source": [
    "lhs = beta*(a+b)"
   ]
  },
  {
   "cell_type": "code",
   "execution_count": null,
   "metadata": {},
   "outputs": [],
   "source": [
    "rhs = beta*a + beta * b"
   ]
  },
  {
   "cell_type": "markdown",
   "metadata": {},
   "source": [
    "Although the two vectors lhs and rhs are displayed as the same, they might not be exactly the same, due to small round-off errors in floating point computations. When we check an identity using random numbers, we can expect that the left-hand and right-hand sides of the identity are not exactly the same, but very close to each other."
   ]
  },
  {
   "cell_type": "markdown",
   "metadata": {},
   "source": [
    "## 1.4 Inner product"
   ]
  },
  {
   "cell_type": "markdown",
   "metadata": {},
   "source": [
    "The inner product of n-vectors $x$ and $y$ is denoted as $x^Ty$. In Julia, the inner product of `x` and `y` is given by `x'*y`."
   ]
  },
  {
   "cell_type": "code",
   "execution_count": null,
   "metadata": {},
   "outputs": [],
   "source": [
    "x = [-1,2,2]; y = [1, 0, -3];\n",
    "x'*y"
   ]
  },
  {
   "cell_type": "markdown",
   "metadata": {},
   "source": [
    "As an example, the following code snippet finds the **net present value (NPV)** of a cash flow vector $c$, with per-period interest rate $r$:"
   ]
  },
  {
   "cell_type": "code",
   "execution_count": null,
   "metadata": {},
   "outputs": [],
   "source": [
    "c = [0.1, 0.1, 0.1, 1.1]   # cash flow vector\n",
    "n = length(c)\n",
    "r = 0.05                   # 5% per-period interest rate\n",
    "d = (1+r) .^ - (0:n-1)"
   ]
  },
  {
   "cell_type": "code",
   "execution_count": null,
   "metadata": {},
   "outputs": [],
   "source": [
    "NPV = c'*d"
   ]
  },
  {
   "cell_type": "markdown",
   "metadata": {},
   "source": [
    "In the fourth line, to get the vector ```d``` we raise the scalar ```1+r``` elementwise to the powers given in the array ```(0:n-1)```, which expands to ```[0,1,...,n-1]```.\n",
    "\n",
    "**Total school-age population.** Suppose that the 100-vector ``x`` gives the age distribution of some population, with $x_i$ the number of people of age ```i-1```, for $i = 1,...100$. The total number of people with age between 5 and 18 (inclusive) is given by $x_6+x_7+...+x_{18}+x_{19}$. We can express this as $s^Tx$, where $s$ is the vector with entries for ```i = 6,...,19``` and zero otherwise. In Julia, this is expressed as"
   ]
  },
  {
   "cell_type": "code",
   "execution_count": null,
   "metadata": {},
   "outputs": [],
   "source": [
    "[rand(1:1000) for i in 1:100]"
   ]
  },
  {
   "cell_type": "code",
   "execution_count": null,
   "metadata": {},
   "outputs": [],
   "source": [
    "s = [zeros(5); ones(14); zeros(81)]\n",
    "x_ages = [rand(1:1000) for i in 1:100]     # array comprehension\n",
    "school_age_pop = Int(s'*x_ages)"
   ]
  },
  {
   "cell_type": "markdown",
   "metadata": {},
   "source": [
    "Several other expressions can be used to evaluate this quantity, for example, the expression ```sum(x[6:19])```, using the Julia function ```sum```, which gives the sum of the entries of a vector. "
   ]
  },
  {
   "cell_type": "markdown",
   "metadata": {},
   "source": [
    "## 1.5 Complexity of vector computations\n",
    "**Floating point operators**. For any two numbers $a$ and $b$, we have $(a+b)(a-b) = a^2-b^2$. When a computer calculates the left-hand and right-hand side, for specific numbers $a$ and $b$, they need not be exactly the same, due to small floating point roud-off errors. But they should be very nearly the same:"
   ]
  },
  {
   "cell_type": "code",
   "execution_count": null,
   "metadata": {},
   "outputs": [],
   "source": [
    "a, b = rand(), rand()\n",
    "lhs, rhs = (a+b) * (a-b), a^2 - b^2"
   ]
  },
  {
   "cell_type": "code",
   "execution_count": null,
   "metadata": {},
   "outputs": [],
   "source": [
    "abs(lhs-rhs)"
   ]
  },
  {
   "cell_type": "markdown",
   "metadata": {},
   "source": [
    "**Complexity**. You can time a Julia command by adding the `macro @time` before the command. The timer is not necessarily accurate for very small times, say, measured in microseconds $(10^{-6} seconds)$. Also, you should run the command more than once; it can be a lot faster on the second of subsequent runs because Julia compiled the code on the first run. "
   ]
  },
  {
   "cell_type": "code",
   "execution_count": null,
   "metadata": {},
   "outputs": [],
   "source": [
    "a, b = randn(10^5), randn(10^5)\n",
    "@time a'*b"
   ]
  },
  {
   "cell_type": "code",
   "execution_count": null,
   "metadata": {},
   "outputs": [],
   "source": [
    "c, d = randn(10^8), randn(10^8)\n",
    "@time c'*d"
   ]
  },
  {
   "cell_type": "markdown",
   "metadata": {},
   "source": [
    "### Sparse vectors\n",
    "\n",
    "Functions for creating and manipulating sparse vectors, i.e., vectors with many zeros, are contained in the Julia package **`SparseArrays`**, so you need to install this package before you can use them."
   ]
  },
  {
   "cell_type": "markdown",
   "metadata": {},
   "source": [
    "Spare vectors are stored as sparse arrays, i.e., arrays in which only the nonzero elements are stored. In Julia you can create a sparse vector from lists of the indices and values using the `sparsevec` function. You can also first create a sparse vector of zeros (using `spzeros(n)`) and then assign values to the nonzero entries. A sparse vector can be created from a non-sparse vector using `sparse(x)`, which returns a sparse version of `x`.\n",
    "\n",
    "`nnz(x)` gives the number of nonzero elmeents of a sparse vector. Sparse vectors are overloaded to work as you imagine; for example, all the usual vector operations work, and they are automatically recast as non-sparse vectors when appropriate. "
   ]
  },
  {
   "cell_type": "code",
   "execution_count": null,
   "metadata": {},
   "outputs": [],
   "source": [
    "using SparseArrays "
   ]
  },
  {
   "cell_type": "code",
   "execution_count": null,
   "metadata": {},
   "outputs": [],
   "source": [
    "a = sparsevec([123456, 123457],[1.0,-1.0], 10^8)"
   ]
  },
  {
   "cell_type": "code",
   "execution_count": null,
   "metadata": {},
   "outputs": [],
   "source": [
    "length(a)"
   ]
  },
  {
   "cell_type": "code",
   "execution_count": null,
   "metadata": {},
   "outputs": [],
   "source": [
    "nnz(a)"
   ]
  },
  {
   "cell_type": "code",
   "execution_count": null,
   "metadata": {},
   "outputs": [],
   "source": [
    "b = randn(10^8) # ordinary (non-sparse vector)\n",
    "@time 2*a;     # computed efficiently!"
   ]
  },
  {
   "cell_type": "code",
   "execution_count": null,
   "metadata": {},
   "outputs": [],
   "source": [
    "@time 2*b;"
   ]
  },
  {
   "cell_type": "code",
   "execution_count": null,
   "metadata": {},
   "outputs": [],
   "source": [
    "@time a'*b;"
   ]
  },
  {
   "cell_type": "code",
   "execution_count": null,
   "metadata": {},
   "outputs": [],
   "source": [
    "@time b'*b;"
   ]
  },
  {
   "cell_type": "code",
   "execution_count": null,
   "metadata": {},
   "outputs": [],
   "source": [
    "@time c = a + b"
   ]
  },
  {
   "cell_type": "code",
   "execution_count": null,
   "metadata": {},
   "outputs": [],
   "source": [
    "@time c = Vector(a + b)"
   ]
  }
 ],
 "metadata": {
  "@webio": {
   "lastCommId": null,
   "lastKernelId": null
  },
  "kernelspec": {
   "display_name": "Julia 1.8.0",
   "language": "julia",
   "name": "julia-1.8"
  },
  "language_info": {
   "file_extension": ".jl",
   "mimetype": "application/julia",
   "name": "julia",
   "version": "1.8.0"
  }
 },
 "nbformat": 4,
 "nbformat_minor": 2
}
