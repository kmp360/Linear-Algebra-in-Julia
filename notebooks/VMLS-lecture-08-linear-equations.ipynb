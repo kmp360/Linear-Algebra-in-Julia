{
 "cells": [
  {
   "cell_type": "markdown",
   "metadata": {},
   "source": [
    "## Chapter 08 -- Linear equations\n",
    "\n",
    "Modified by kmp 2022\n",
    "\n",
    "Sources:\n",
    "\n",
    "https://web.stanford.edu/~boyd/vmls/\n",
    "\n",
    "https://github.com/vbartle/VMLS-Companions\n",
    "\n",
    "Based on \"Boyd and Vandenberghe, 2021, Introduction to Applied Linear Algebra: Vectors, Matrices, and Least Squares - Julia Language Companion\" https://web.stanford.edu/~boyd/vmls/vmls-julia-companion.pdf\n"
   ]
  },
  {
   "cell_type": "code",
   "execution_count": 2,
   "metadata": {},
   "outputs": [],
   "source": [
    "using LinearAlgebra\n",
    "using VMLS"
   ]
  },
  {
   "cell_type": "markdown",
   "metadata": {},
   "source": [
    "### 8.1 Linear and affine functions\n",
    "\n",
    "A matrix-vector product function:"
   ]
  },
  {
   "cell_type": "code",
   "execution_count": 3,
   "metadata": {},
   "outputs": [
    {
     "data": {
      "text/plain": [
       "2×3 Matrix{Float64}:\n",
       " -0.1   2.8  -1.6\n",
       "  2.3  -0.6  -3.6"
      ]
     },
     "metadata": {},
     "output_type": "display_data"
    }
   ],
   "source": [
    "A = [-0.1 2.8 -1.6; 2.3 -0.6 -3.6] # define 2x3 matrix A"
   ]
  },
  {
   "cell_type": "code",
   "execution_count": 4,
   "metadata": {},
   "outputs": [
    {
     "data": {
      "text/plain": [
       "f (generic function with 1 method)"
      ]
     },
     "metadata": {},
     "output_type": "display_data"
    }
   ],
   "source": [
    "f(x) = A*x # Define matrix-vector product function"
   ]
  },
  {
   "cell_type": "code",
   "execution_count": 6,
   "metadata": {},
   "outputs": [
    {
     "data": {
      "text/plain": [
       "([9.469999999999999, 16.75], [9.47, 16.75], 1.7763568394002505e-15)"
      ]
     },
     "metadata": {},
     "output_type": "display_data"
    }
   ],
   "source": [
    "x = [1, 2, 3]; y= [-3, -1, 2];\n",
    "alpha = 0.5; beta = -1.6;\n",
    "\n",
    "lhs = f(alpha*x+beta*y)\n",
    "rhs = alpha*f(x)+beta*f(y)\n",
    "\n",
    "lhs, rhs, norm(lhs-rhs)  # linearity or superposition implies lhs == rhs"
   ]
  },
  {
   "cell_type": "code",
   "execution_count": 7,
   "metadata": {},
   "outputs": [
    {
     "data": {
      "text/plain": [
       "([2.8, -0.6], [2.8, -0.6])"
      ]
     },
     "metadata": {},
     "output_type": "display_data"
    }
   ],
   "source": [
    "f([0,1,0]), A[:, 2] # second column of A"
   ]
  },
  {
   "cell_type": "markdown",
   "metadata": {},
   "source": [
    "**De-meaning matrix.** Let us create a de-meaning matrix and check that it works on a vector."
   ]
  },
  {
   "cell_type": "code",
   "execution_count": 9,
   "metadata": {},
   "outputs": [
    {
     "data": {
      "text/plain": [
       "5.438959822042073e-16"
      ]
     },
     "metadata": {},
     "output_type": "display_data"
    }
   ],
   "source": [
    "de_mean(n) = eye(n) .- 1/n; # de-meaning matrix\n",
    "\n",
    "x = [0.2, 2.3, 1.0];\n",
    "\n",
    "ex1 = de_mean(length(x))*x # de-mean using matrix multiplication\n",
    "\n",
    "ex2 = x .- avg(x) # de-mean by subtracting mean\n",
    "\n",
    "norm(ex1 - ex2)"
   ]
  },
  {
   "cell_type": "markdown",
   "metadata": {},
   "source": [
    "**Examples of functions that are not linear.** The componentwise absolute value and the sort function are examples of nonlinear functions. These functions are easily computed by **`abs`** and **`sort`**. \n",
    "\n",
    "By default, the **`sort`** function sorts in increasing order, but this can be changed by adding an optional keyword argument **`rev = false`**."
   ]
  },
  {
   "cell_type": "code",
   "execution_count": 10,
   "metadata": {},
   "outputs": [
    {
     "data": {
      "text/plain": [
       "f (generic function with 1 method)"
      ]
     },
     "metadata": {},
     "output_type": "display_data"
    }
   ],
   "source": [
    "f(x) = abs.(x) # componentwise absolute value"
   ]
  },
  {
   "cell_type": "code",
   "execution_count": 11,
   "metadata": {},
   "outputs": [
    {
     "data": {
      "text/plain": [
       "2-element Vector{Int64}:\n",
       " 1\n",
       " 2"
      ]
     },
     "metadata": {},
     "output_type": "display_data"
    }
   ],
   "source": [
    "x = [1, 0]; y = [0, 1]; alpha = -1; beta = 2;\n",
    "\n",
    "f(alpha*x + beta*y)"
   ]
  },
  {
   "cell_type": "code",
   "execution_count": 12,
   "metadata": {},
   "outputs": [
    {
     "data": {
      "text/plain": [
       "2-element Vector{Int64}:\n",
       " -1\n",
       "  2"
      ]
     },
     "metadata": {},
     "output_type": "display_data"
    }
   ],
   "source": [
    "alpha*f(x) + beta*f(y)"
   ]
  },
  {
   "cell_type": "code",
   "execution_count": 13,
   "metadata": {},
   "outputs": [
    {
     "data": {
      "text/plain": [
       "2-element Vector{Int64}:\n",
       "  2\n",
       " -1"
      ]
     },
     "metadata": {},
     "output_type": "display_data"
    }
   ],
   "source": [
    "f(x) = sort(x, rev = true) # sort in decreasing order\n",
    "f(alpha*x + beta*y)"
   ]
  },
  {
   "cell_type": "code",
   "execution_count": 14,
   "metadata": {},
   "outputs": [
    {
     "data": {
      "text/plain": [
       "2-element Vector{Int64}:\n",
       " 1\n",
       " 0"
      ]
     },
     "metadata": {},
     "output_type": "display_data"
    }
   ],
   "source": [
    "alpha*f(x) + beta*f(y)"
   ]
  },
  {
   "cell_type": "markdown",
   "metadata": {},
   "source": [
    "### 8.2 Linear function models\n",
    "**Price elasticity of demand.** Let us use a price elasticity of demand matrix to predict the demand for three products when the prices are changed a bit. Using this we can predict the change in total profit, given the manufacturing costs."
   ]
  },
  {
   "cell_type": "code",
   "execution_count": 15,
   "metadata": {},
   "outputs": [
    {
     "data": {
      "text/plain": [
       "77.51999999999998"
      ]
     },
     "metadata": {},
     "output_type": "display_data"
    }
   ],
   "source": [
    "p = [10, 20, 15];       # current prices\n",
    "d = [5.6, 1.5, 8.6];    # current demand (say in thousands)\n",
    "c = [6.5, 11.2, 9.8];   # cost to manufacture\n",
    "\n",
    "profit = (p-c)'*d       # current total profit"
   ]
  },
  {
   "cell_type": "code",
   "execution_count": 16,
   "metadata": {},
   "outputs": [
    {
     "data": {
      "text/plain": [
       "3×3 Matrix{Float64}:\n",
       " -0.3   0.1   -0.1\n",
       "  0.1  -0.5    0.05\n",
       " -0.1   0.05  -0.4"
      ]
     },
     "metadata": {},
     "output_type": "display_data"
    }
   ],
   "source": [
    "# demand elasticity matrix\n",
    "E = [-0.3 0.1 -0.1; 0.1 -0.5 0.05; -0.1 0.05 -0.4]"
   ]
  },
  {
   "cell_type": "code",
   "execution_count": 17,
   "metadata": {},
   "outputs": [
    {
     "data": {
      "text/plain": [
       "3-element Vector{Float64}:\n",
       " -0.1\n",
       "  0.05\n",
       " -0.06666666666666667"
      ]
     },
     "metadata": {},
     "output_type": "display_data"
    }
   ],
   "source": [
    "p_new = [9, 21, 14];    # proposed new prices\n",
    "delta_p = (p_new-p)./p  # fractional change in prices"
   ]
  },
  {
   "cell_type": "code",
   "execution_count": 18,
   "metadata": {},
   "outputs": [
    {
     "data": {
      "text/plain": [
       "3-element Vector{Float64}:\n",
       "  0.04166666666666667\n",
       " -0.03833333333333334\n",
       "  0.03916666666666667"
      ]
     },
     "metadata": {},
     "output_type": "display_data"
    }
   ],
   "source": [
    "delta_d = E*delta_p     # predicted fractional change in demand"
   ]
  },
  {
   "cell_type": "code",
   "execution_count": 20,
   "metadata": {},
   "outputs": [
    {
     "data": {
      "text/plain": [
       "3-element Vector{Float64}:\n",
       " 5.833333333333333\n",
       " 1.4425\n",
       " 8.936833333333333"
      ]
     },
     "metadata": {},
     "output_type": "display_data"
    }
   ],
   "source": [
    "d_new = d .*(1 .+delta_d) # predicted new demand"
   ]
  },
  {
   "cell_type": "code",
   "execution_count": 21,
   "metadata": {},
   "outputs": [
    {
     "data": {
      "text/plain": [
       "(66.25453333333333, 77.51999999999998)"
      ]
     },
     "metadata": {},
     "output_type": "display_data"
    }
   ],
   "source": [
    "profit_new = (p_new-c)'*d_new # predicted new profit\n",
    "\n",
    "profit_new, profit"
   ]
  },
  {
   "cell_type": "markdown",
   "metadata": {},
   "source": [
    "If we trust the linear demand elasticity model, we should not make these price changes."
   ]
  },
  {
   "cell_type": "markdown",
   "metadata": {},
   "source": [
    "\n",
    "**Taylor approximation.** Consider the nonlinear function $f : R^2 → R^2$ given by\n",
    "$$\n",
    "f(x) =\n",
    "\\begin{bmatrix}\n",
    "‖x − a‖\\\\\n",
    "‖x − b‖\n",
    "\\end{bmatrix}\n",
    "=\n",
    "\\begin{bmatrix} \n",
    "\\sqrt{(x_1 − a_1)^2 + (x_2 − a_2)^2}\\\\\n",
    "\\sqrt{(x_1 − b_1)^2 + (x_2 − b_2)^2}\n",
    "\\end{bmatrix}\n",
    ".\n",
    "$$\n",
    "\n",
    "The two components of $f$ give the distance of $x$ to the points $a$ and $b$. The function is differentiable, except when $x = a$ or $x = b$. Its derivative or $Jacobian$ matrix is given by\n",
    "\n",
    "$$\n",
    "Df(z) =\n",
    "\\begin{bmatrix}\n",
    "\\frac{∂f_1}{∂x_1}(z) & \\frac{∂f_1}{∂x_2}(z) \\\\\n",
    "\\frac{∂f_2}{∂x_1}(z) & \\frac{∂f_2}{∂x_2}(z)\n",
    "\\end{bmatrix}\n",
    " = \n",
    "\\begin{bmatrix}\n",
    "\\frac{‖z_1 − a_1‖}{‖z − a‖} & \\frac{‖z_2 − a_2‖}{‖z − a‖} \\\\\n",
    "\\frac{‖z_1 − b_1‖}{‖z − b‖} & \\frac{‖z_2 − b_2‖}{‖z − b‖} \n",
    "\\end{bmatrix}\n",
    ".\n",
    "$$\n",
    "Let us form the $Taylor$ approximation of $f$ for some specific values of $a$, $b$, and $z$, and then check it against the true value of $f$ at a few points near $z$."
   ]
  },
  {
   "cell_type": "code",
   "execution_count": 22,
   "metadata": {},
   "outputs": [
    {
     "data": {
      "text/plain": [
       "2-element Vector{Float64}:\n",
       " 0.9055385138137417\n",
       " 1.2727922061357855"
      ]
     },
     "metadata": {},
     "output_type": "display_data"
    }
   ],
   "source": [
    "f(x) = [norm(x-a), norm(x-b)];\n",
    "Df(z) = [(z-a)' / norm(z-a) ; (z-b)' / norm(z-b)];\n",
    "\n",
    "f_hat(x) = f(z) + Df(z)*(x-z);\n",
    "\n",
    "a = [1, 0]; b = [1, 1]; z = [0, 0];\n",
    "f([0.1, 0.1])"
   ]
  },
  {
   "cell_type": "code",
   "execution_count": 23,
   "metadata": {},
   "outputs": [
    {
     "data": {
      "text/plain": [
       "2-element Vector{Float64}:\n",
       " 0.9\n",
       " 1.2727922061357857"
      ]
     },
     "metadata": {},
     "output_type": "display_data"
    }
   ],
   "source": [
    "f_hat([0.1, 0.1])"
   ]
  },
  {
   "cell_type": "code",
   "execution_count": 26,
   "metadata": {},
   "outputs": [
    {
     "data": {
      "text/plain": [
       "2-element Vector{Float64}:\n",
       " 0.7071067811865476\n",
       " 0.7071067811865476"
      ]
     },
     "metadata": {},
     "output_type": "display_data"
    }
   ],
   "source": [
    "f([0.5, 0.5])"
   ]
  },
  {
   "cell_type": "code",
   "execution_count": 27,
   "metadata": {},
   "outputs": [
    {
     "data": {
      "text/plain": [
       "2-element Vector{Float64}:\n",
       " 0.5\n",
       " 0.7071067811865477"
      ]
     },
     "metadata": {},
     "output_type": "display_data"
    }
   ],
   "source": [
    "f_hat([0.5, 0.5])"
   ]
  },
  {
   "cell_type": "markdown",
   "metadata": {},
   "source": [
    "**Regression model**. We revisit the regression model for the house sales data in Section [2.3](https://web.stanford.edu/~boyd/vmls/vmls.pdf#section*.192). The model is\n",
    "\n",
    "$$\n",
    "ŷ = x^Tβ + v = β_1x_1 + β_2x_2 + v\n",
    "$$\n",
    "\n",
    "where $ŷ$ is the predicted house sale price, $x_1$ is the house area in $1000$ square feet, and $x_2$ is the number of bedrooms. \n",
    "\n",
    "In the following code we construct the $2×774$ data matrix $X$ and vector of outcomes $y^d$, for the $N = 774$ examples in the data set. We then calculate the regression model predictions $ŷ^d$, the prediction errors $r^d$, and the $RMS$ prediction error."
   ]
  },
  {
   "cell_type": "code",
   "execution_count": 28,
   "metadata": {},
   "outputs": [
    {
     "data": {
      "text/plain": [
       "(774, (2, 774))"
      ]
     },
     "metadata": {},
     "output_type": "display_data"
    }
   ],
   "source": [
    "# parameters in regression model\n",
    "beta = [148.73, -18.85]; v = 54.40;\n",
    "\n",
    "D = house_sales_data();\n",
    "\n",
    "yd = D[\"price\"]; # vector of outcomes\n",
    "N = length(yd)\n",
    "\n",
    "X = [D[\"area\"] D[\"beds\"]]';\n",
    "N, size(X) "
   ]
  },
  {
   "cell_type": "code",
   "execution_count": 29,
   "metadata": {},
   "outputs": [
    {
     "data": {
      "text/plain": [
       "74.84571862623022"
      ]
     },
     "metadata": {},
     "output_type": "display_data"
    }
   ],
   "source": [
    "ydhat = X'*beta .+ v;   # vector of predicted outcomes\n",
    "rd = yd - ydhat;        # vector of predicted errors\n",
    "rms(rd)                 # RMS prediction error"
   ]
  },
  {
   "cell_type": "code",
   "execution_count": 30,
   "metadata": {},
   "outputs": [
    {
     "data": {
      "text/plain": [
       "112.78216159756506"
      ]
     },
     "metadata": {},
     "output_type": "display_data"
    }
   ],
   "source": [
    "# Compare with standard deviation of prices\n",
    "stdev(yd)"
   ]
  },
  {
   "cell_type": "markdown",
   "metadata": {},
   "source": [
    "### 8.3 Systems of linear equations\n",
    "**Balancing chemical reactions.** We verify the linear balancing equations on page [155](https://web.stanford.edu/~boyd/vmls/vmls.pdf#section*.192)\n",
    "of VMLS, for the simple example of electrolysis of water."
   ]
  },
  {
   "cell_type": "code",
   "execution_count": 31,
   "metadata": {},
   "outputs": [
    {
     "data": {
      "text/plain": [
       "2-element Vector{Int64}:\n",
       " 0\n",
       " 0"
      ]
     },
     "metadata": {},
     "output_type": "display_data"
    }
   ],
   "source": [
    "R = [2; 1]\n",
    "P = [2 0; 0 2]\n",
    "\n",
    "# Check balancing coefficients [2,2,1]\n",
    "coeff = [2, 2, 1];\n",
    "[R -P]*coeff"
   ]
  }
 ],
 "metadata": {
  "kernelspec": {
   "display_name": "Julia 1.8.0",
   "language": "julia",
   "name": "julia-1.8"
  },
  "language_info": {
   "file_extension": ".jl",
   "mimetype": "application/julia",
   "name": "julia",
   "version": "1.8.0"
  }
 },
 "nbformat": 4,
 "nbformat_minor": 2
}
