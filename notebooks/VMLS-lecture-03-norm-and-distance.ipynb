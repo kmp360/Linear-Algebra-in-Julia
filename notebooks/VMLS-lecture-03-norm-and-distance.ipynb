{
 "cells": [
  {
   "cell_type": "markdown",
   "metadata": {},
   "source": [
    "## Chapter 03 -- Norm and distance\n",
    "\n",
    "Modified by kmp 2022\n",
    "\n",
    "Sources:\n",
    "\n",
    "https://web.stanford.edu/~boyd/vmls/\n",
    "\n",
    "https://github.com/vbartle/VMLS-Companions\n",
    "\n",
    "Based on \"Boyd and Vandenberghe, 2021, Introduction to Applied Linear Algebra: Vectors, Matrices, and Least Squares - Julia Language Companion\" https://web.stanford.edu/~boyd/vmls/vmls-julia-companion.pdf\n"
   ]
  },
  {
   "cell_type": "code",
   "execution_count": null,
   "metadata": {},
   "outputs": [],
   "source": [
    "using LinearAlgebra\n",
    "using VMLS"
   ]
  },
  {
   "cell_type": "markdown",
   "metadata": {},
   "source": [
    "\n",
    "### 3.1 Norm\n",
    "\n",
    "The norm $‖x‖$ is written in Julia as `norm(x)`. (It can be evaluated several other ways, too.) The `norm` function is contained in the Julia package `LinearAlgebra`, so you must install and then add this package to use it; see page ix. "
   ]
  },
  {
   "cell_type": "code",
   "execution_count": null,
   "metadata": {},
   "outputs": [],
   "source": [
    "x = [2, -1, 2]\n",
    "norm(x), sqrt(x'*x), sqrt(sum(x.^2))"
   ]
  },
  {
   "cell_type": "markdown",
   "metadata": {},
   "source": [
    "**Triangle inequality.** Let us check the triangle inequality, $‖x+ y‖ ≤ ‖x‖+ ‖y‖$, for some specific values of $x$ and $y$."
   ]
  },
  {
   "cell_type": "code",
   "execution_count": null,
   "metadata": {},
   "outputs": [],
   "source": [
    "x, y = randn(10), randn(10)\n",
    "lhs = norm(x+y)\n",
    "rhs = norm(x) + norm(y)\n",
    "lhs, rhs, lhs <= rhs"
   ]
  },
  {
   "cell_type": "markdown",
   "metadata": {},
   "source": [
    "**RMS value.** The RMS value of a vector $x$ is `rms(x)` $= \\frac{‖x‖}{\\sqrt{n}}$. In Julia, this is expressed as `norm(x)/sqrt(length(x))`. The VMLS package contains this function, so you can use it once you have installed this package.\n",
    "\n",
    "Let us define a vector which represents a signal, i.e., the value of some quantity at uniformly spaced time instances, and find its RMS value. The following code plots the signal, its average value, and two constant signals at `avg(x) ± rms(x)` (Figure [3.1])."
   ]
  },
  {
   "cell_type": "code",
   "execution_count": null,
   "metadata": {},
   "outputs": [],
   "source": [
    "rms(x) = norm(x) / sqrt(length(x))\n",
    "t = 0:0.01:1                      # sampled times\n",
    "x = cos.(8*t) - 2*sin.(11*t);\n",
    "avg(x)"
   ]
  },
  {
   "cell_type": "code",
   "execution_count": null,
   "metadata": {},
   "outputs": [],
   "source": [
    "rms(x)"
   ]
  },
  {
   "cell_type": "code",
   "execution_count": null,
   "metadata": {},
   "outputs": [],
   "source": [
    "using Plots\n",
    "\n",
    "plot(t, x, size = (300,300))\n",
    "\n",
    "plot!(t, avg(x)*ones(length(x)))\n",
    "plot!(t, (avg(x)+rms(x))*ones(length(x)), color = :green)\n",
    "plot!(t, (avg(x)-rms(x))*ones(length(x)), color = :green)\n",
    "plot!(legend = false)"
   ]
  },
  {
   "cell_type": "markdown",
   "metadata": {},
   "source": [
    "**Figure 3.1** A signal $x$. The horizontal lines show $avg(x) + rms(x)$, $avg(x)$ and $avg(x)− rms(x)$."
   ]
  },
  {
   "cell_type": "markdown",
   "metadata": {},
   "source": [
    "**Chebyshev inequality.** The Chebyshev inequality states that the number of entries of an $n$-vector $x$ that have absolute value at least $a$ is no more than $\\frac{‖x‖^2}{a^2} = n rms(x)^2/a^2$. If this number is, say, $12.15$, we can conclude that no more that $12$ entries have absolute value at least $a$, since the number of entries is an integer. So the Chebyshev bound can be improved to be $floor(‖x‖^2/a)$, where $floor(u)$ is the integer part of a positive number. To define a function with the Chebyshev bound, including the floor function improvement, and apply the bound to the signal found above, for a specific value of $a$."
   ]
  },
  {
   "cell_type": "code",
   "execution_count": null,
   "metadata": {},
   "outputs": [],
   "source": [
    "# Define Chebyshev bound function\n",
    "cheb_bound(x,a) = floor(norm(x)^2/a);\n",
    "a = 1.5;\n",
    "println(\"Chebyshev bound: $(cheb_bound(x,a))\")"
   ]
  },
  {
   "cell_type": "code",
   "execution_count": null,
   "metadata": {},
   "outputs": [],
   "source": [
    "println(\"Number of entries of x with |x[i]| >= a: $(sum(abs.(x) .>= a))\")"
   ]
  },
  {
   "cell_type": "markdown",
   "metadata": {},
   "source": [
    "In the last line, the expression `abs.(x) .>= a` creates an array with entries that are Boolean, i.e., `true` or `false`, depending on whether the corresponding entry of `x` satisfies the inequality. When we sum the vector of Booleans, they are automatically converted to (re-cast as) the numbers `1` and `0`, respectively."
   ]
  },
  {
   "cell_type": "markdown",
   "metadata": {},
   "source": [
    "### 3.2 Euclidean Distance\n",
    "\n",
    "The Euclidean distance between two vectors is $dist(x, y) = ‖x − y‖$. This is written in Julia as **`norm(x-y)`**. The distance between the pairs of the vectors $u, v,$ and $w$ are given by:"
   ]
  },
  {
   "cell_type": "code",
   "execution_count": null,
   "metadata": {},
   "outputs": [],
   "source": [
    "u = [1.8, 2.0, -3.7, 4.7];\n",
    "v = [0.6, 2.1, 1.9, -1.4];\n",
    "w = [2.0, 1.9, -4.0, 4.6];\n",
    "norm(u-v), norm(u-w), norm(v-w)"
   ]
  },
  {
   "cell_type": "markdown",
   "metadata": {},
   "source": [
    "We can see that $u$ and $w$ are much closer to each other than $u$ and $v$, or $v$ and $w$.\n",
    "\n",
    "**Nearest neighbor.** We define a function that calculates the nearest neighbor of a vector in a list of vectors, and try it on the points in Figure [3.3](https://web.stanford.edu/~boyd/vmls/vmls.pdf#figure.3.3) of VMLS."
   ]
  },
  {
   "cell_type": "code",
   "execution_count": null,
   "metadata": {},
   "outputs": [],
   "source": [
    "nearest_neighbor(x,z) = z[ \n",
    "\n",
    "    argmin([norm(x-y) for y in z]) # array comprehension syntax\n",
    "   \n",
    "    ]\n",
    "\n",
    "z = ([2,1], [7,2], [5.5,4], [4,8], [1,5], [9,6])\n",
    "\n",
    "nearest_neighbor([5,6], z)"
   ]
  },
  {
   "cell_type": "code",
   "execution_count": null,
   "metadata": {},
   "outputs": [],
   "source": [
    "nearest_neighbor([3,3], z)"
   ]
  },
  {
   "cell_type": "markdown",
   "metadata": {},
   "source": [
    "On the first line, the expression `[norm(x-y) for y in z]` uses a convenient **`comprehension`** construction in Julia. Here `z` is a list of vectors, and the expression expands to an array with elements `norm(x-z[1])`, `norm(x-z[2]), . . . .` The function **`argmin`** applied to this array returns the index of the smallest element. \n",
    "\n",
    "**De-meaning a vector.** We refer to the vector `x − avg(x)1` as the de-meaned version of `x`."
   ]
  },
  {
   "cell_type": "code",
   "execution_count": null,
   "metadata": {},
   "outputs": [],
   "source": [
    "de_mean(x) = x .- avg(x)     # Define de-mean function\n",
    "x = [1, -2.2, 3]\n",
    "\n",
    "avg(x), de_mean(x), avg(de_mean(x))"
   ]
  },
  {
   "cell_type": "markdown",
   "metadata": {},
   "source": [
    "### 3.3 Standard deviation\n",
    "\n",
    "**Standard deviation.** We can define a function that corresponds to the VMLS definition of the standard deviation of a vector, $std(x) =$ $\\frac{‖x − avg(x)1‖}{\\sqrt{n}}$, where $n$ is the length of the vector."
   ]
  },
  {
   "cell_type": "code",
   "execution_count": null,
   "metadata": {},
   "outputs": [],
   "source": [
    "x = rand(100)\n",
    "\n",
    "# VMLS definition of std\n",
    "stdev(x) = norm(x.-avg(x))/sqrt(length(x))\n",
    "\n",
    "stdev(x)"
   ]
  },
  {
   "cell_type": "markdown",
   "metadata": {},
   "source": [
    "This function is in the VMLS package, so you can use it once youhave installed this package. Julia’s **Statistics package** has a similar function, **`std(x)`**, which computes the value $\\frac{‖x − avg(x)1‖}{\\sqrt{n − 1}}$, where $n$ is the length of $x$.) \n",
    "\n",
    "**Return and risk.** We evaluate the mean return and risk, measured by standard deviation, of the four time series Figure [3.4](https://web.stanford.edu/~boyd/vmls/vmls.pdf#figure.3.4) of VMLS."
   ]
  },
  {
   "cell_type": "code",
   "execution_count": null,
   "metadata": {},
   "outputs": [],
   "source": [
    "a = ones(10)\n",
    "b = [ 5, 1, -2, 3, 6, 3, -1, 3, 4, 1 ]\n",
    "c = [ 5, 7, -2, 2, -3, 1, -1, 2, 7, 8 ]\n",
    "d = [ -1, -3, -4, -3, 7, -1, 0, 3, 9, 5 ]\n",
    "\n",
    "[(\"char, avg, std\"),\n",
    "(\"a\", avg(a), stdev(a)), \n",
    "(\"b\", avg(b), stdev(b)),\n",
    "(\"c\", avg(c), stdev(c)),\n",
    "(\"d\", avg(d), stdev(d))]"
   ]
  },
  {
   "cell_type": "markdown",
   "metadata": {},
   "source": [
    "**Standardizing a vector.** If a vector $x$ is not constant (i.e., at least two of its entries are different), we can standardize it, by subtracting its mean and dividing by its standard deviation. The resulting standardized vector has mean value zero and RMS value one. Its entries are called $z-scores$. We will define a standardize function, and then check it with a random vector."
   ]
  },
  {
   "cell_type": "code",
   "execution_count": null,
   "metadata": {},
   "outputs": [],
   "source": [
    "function standardize(x)\n",
    "    x_tilde = x .- avg(x)   # De-meaned vector\n",
    "    return x_tilde/rms(x_tilde)\n",
    "end"
   ]
  },
  {
   "cell_type": "code",
   "execution_count": null,
   "metadata": {},
   "outputs": [],
   "source": [
    "x = rand(1000)\n",
    "z = standardize(x)\n",
    "\n",
    "[(\"x:\", avg(x), rms(x)), (\"z:\", avg(z), rms(z))]"
   ]
  },
  {
   "cell_type": "markdown",
   "metadata": {},
   "source": [
    "### 3.4 Angle\n",
    "**Angle.** Let’s define a function that computes the angle between two vectors. We will call it ang because Julia already includes a function angle (for the phase angle of a complex number)."
   ]
  },
  {
   "cell_type": "code",
   "execution_count": null,
   "metadata": {},
   "outputs": [],
   "source": [
    "# Define angle function, which returns radians\n",
    "ang(x,y) = acos(x'*y/(norm(x)*norm(y)));\n",
    "a = [1,2,-1]; b=[2,0,-3];\n",
    "\n",
    "[(ang(a,b),\":angle in radians\"), \n",
    "(ang(a,b)*(360/(2*pi)), \":angle in degrees\")]"
   ]
  },
  {
   "cell_type": "markdown",
   "metadata": {},
   "source": [
    "**Correlation coefficient.** The correlation coefficient between two vectors $a$ and $b$ (with nonzero standard deviation) is defined as $$ρ = \\frac{ã^Tb̃}{‖ã‖‖b̃‖},$$ where $ã$ and $b̃$ are the de-meaned versions of $a$ and $b$, respectively. There is no built-in function for correlation, so we can define one. We use function to calculate the correlation coefficients of the three pairs of vectors in Figure [3.8](https://web.stanford.edu/~boyd/vmls/vmls.pdf#figure.3.8) in VMLS."
   ]
  },
  {
   "cell_type": "code",
   "execution_count": null,
   "metadata": {},
   "outputs": [],
   "source": [
    "function correl_coef(a,b)\n",
    "    a_tilde = a .- avg(a)\n",
    "    b_tilde = b .- avg(b)\n",
    "    return (a_tilde'*b_tilde)/(norm(a_tilde)*norm(b_tilde))\n",
    "end"
   ]
  },
  {
   "cell_type": "code",
   "execution_count": null,
   "metadata": {},
   "outputs": [],
   "source": [
    "a0 = [4.4, 9.4, 15.4, 12.4, 10.4, 1.4, -4.6, -5.6, -0.6, 7.4];\n",
    "b0 = [6.2, 11.2, 14.2, 14.2, 8.2, 2.2, -3.8, -4.8, -1.8, 4.2];\n",
    "a1 = [4.1, 10.1, 15.1, 13.1, 7.1, 2.1, -2.9, -5.9, 0.1, 7.1];\n",
    "b1 = [5.5, -0.5, -4.5, -3.5, 1.5, 7.5, 13.5, 14.5, 11.5, 4.5];\n",
    "a2 = [-5.0, 0.0, 5.0, 8.0, 13.0, 11.0, 1.0, 6.0, 4.0, 7.0];\n",
    "b2 = [5.8, 0.8, 7.8, 9.8, 0.8, 11.8, 10.8, 5.8, -0.2, -3.2];"
   ]
  },
  {
   "cell_type": "code",
   "execution_count": null,
   "metadata": {},
   "outputs": [],
   "source": [
    "[(\"0\",correl_coef(a0,b0)),\n",
    "\n",
    "(\"1\",correl_coef(a1,b1)),\n",
    "\n",
    "(\"2\",correl_coef(a2,b2))]"
   ]
  },
  {
   "cell_type": "markdown",
   "metadata": {},
   "source": [
    "The correlation coefficients of the three pairs of vectors are $96.8\\%, −98.8\\%$, and $0.4\\%$.\n",
    "\n",
    "### 3.5 Complexity \n",
    "Let’s check that the time to compute the correlation coefficient of two $n$-vectors is approximately linear in $n$."
   ]
  },
  {
   "cell_type": "code",
   "execution_count": null,
   "metadata": {},
   "outputs": [],
   "source": [
    "x0 = randn(10^6); y0 = randn(10^6);\n",
    "x1 = randn(10^7); y1 = randn(10^7);\n",
    "\n",
    "@time correl_coef(x0,y0), @time correl_coef(x1,y1)"
   ]
  }
 ],
 "metadata": {
  "kernelspec": {
   "display_name": "Julia 1.8.0",
   "language": "julia",
   "name": "julia-1.8"
  },
  "language_info": {
   "file_extension": ".jl",
   "mimetype": "application/julia",
   "name": "julia",
   "version": "1.8.0"
  }
 },
 "nbformat": 4,
 "nbformat_minor": 2
}
