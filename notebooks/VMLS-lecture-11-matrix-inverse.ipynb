{
 "cells": [
  {
   "cell_type": "markdown",
   "metadata": {},
   "source": [
    "## Chapter 11 -- Matrix inverse\n",
    "\n",
    "Modified by kmp 2022\n",
    "\n",
    "Sources:\n",
    "\n",
    "https://web.stanford.edu/~boyd/vmls/\n",
    "\n",
    "https://github.com/vbartle/VMLS-Companions\n",
    "\n",
    "Based on \"Boyd and Vandenberghe, 2021, Introduction to Applied Linear Algebra: Vectors, Matrices, and Least Squares - Julia Language Companion\" https://web.stanford.edu/~boyd/vmls/vmls-julia-companion.pdf\n"
   ]
  },
  {
   "cell_type": "code",
   "execution_count": 1,
   "metadata": {},
   "outputs": [],
   "source": [
    "using LinearAlgebra\n",
    "using VMLS"
   ]
  },
  {
   "cell_type": "markdown",
   "metadata": {},
   "source": [
    "### 11.1 Left and right inverses\n",
    "\n",
    "We will see later how to find a left or right inverse, when one exists."
   ]
  },
  {
   "cell_type": "code",
   "execution_count": 2,
   "metadata": {},
   "outputs": [
    {
     "data": {
      "text/plain": [
       "3×2 Matrix{Int64}:\n",
       " -3  -4\n",
       "  4   6\n",
       "  1   1"
      ]
     },
     "metadata": {},
     "output_type": "display_data"
    }
   ],
   "source": [
    "A = [-3 -4; 4 6; 1 1]\n",
    "B = [-11 -10 16; 7 8 -11]/9     # left inverse of A\n",
    "C = [0 -1 6; 0 1 -4]/2          # another left inverse of A;\n",
    "A"
   ]
  },
  {
   "cell_type": "code",
   "execution_count": 3,
   "metadata": {},
   "outputs": [
    {
     "data": {
      "text/plain": [
       "2×3 Matrix{Float64}:\n",
       " -1.22222   -1.11111    1.77778\n",
       "  0.777778   0.888889  -1.22222"
      ]
     },
     "metadata": {},
     "output_type": "display_data"
    }
   ],
   "source": [
    "B"
   ]
  },
  {
   "cell_type": "code",
   "execution_count": 4,
   "metadata": {},
   "outputs": [
    {
     "data": {
      "text/plain": [
       "2×3 Matrix{Float64}:\n",
       " 0.0  -0.5   3.0\n",
       " 0.0   0.5  -2.0"
      ]
     },
     "metadata": {},
     "output_type": "display_data"
    }
   ],
   "source": [
    "C"
   ]
  },
  {
   "cell_type": "code",
   "execution_count": 6,
   "metadata": {},
   "outputs": [
    {
     "data": {
      "text/plain": [
       "([1.0 0.0; -4.440892098500626e-16 0.9999999999999996], [1.0 0.0; 0.0 1.0])"
      ]
     },
     "metadata": {},
     "output_type": "display_data"
    }
   ],
   "source": [
    "B*A, C*A"
   ]
  },
  {
   "cell_type": "markdown",
   "metadata": {},
   "source": [
    "### 11.2 Inverse\n",
    "\n",
    "If `A` is invertible, its inverse is given by **`inv(A)`** (or alternatively by **`A^-1`**). You will get an error if `A` is not invertible or not square."
   ]
  },
  {
   "cell_type": "code",
   "execution_count": 7,
   "metadata": {},
   "outputs": [
    {
     "data": {
      "text/plain": [
       "3×3 Matrix{Float64}:\n",
       " 1.0  0.0          0.0\n",
       " 0.0  1.0          2.77556e-17\n",
       " 0.0  5.55112e-17  1.0"
      ]
     },
     "metadata": {},
     "output_type": "display_data"
    }
   ],
   "source": [
    "A = [1 -2 3; 0 2 2; -4 -4 -4]\n",
    "B = inv(A)\n",
    "B*A"
   ]
  },
  {
   "cell_type": "code",
   "execution_count": 8,
   "metadata": {},
   "outputs": [
    {
     "data": {
      "text/plain": [
       "3×3 Matrix{Float64}:\n",
       "  1.0           1.11022e-16  0.0\n",
       "  5.55112e-17   1.0          1.38778e-17\n",
       " -1.11022e-16  -2.22045e-16  1.0"
      ]
     },
     "metadata": {},
     "output_type": "display_data"
    }
   ],
   "source": [
    "A*B"
   ]
  },
  {
   "cell_type": "markdown",
   "metadata": {},
   "source": [
    "**Dual basis.** The next example illustrates the **`dual basis`** provided by the rows of the inverse $B = A^{−1}$. We calculate the expansion $x = (b^T_1 x)a_1 + · · ·+ (b^T_nx)a_n$ for a $3×3$ example (see page [205](https://web.stanford.edu/~boyd/vmls/vmls.pdf#section*.249) of VMLS)."
   ]
  },
  {
   "cell_type": "code",
   "execution_count": 9,
   "metadata": {},
   "outputs": [
    {
     "data": {
      "text/plain": [
       "3×3 Matrix{Int64}:\n",
       " 1   0   1\n",
       " 4  -3  -4\n",
       " 1  -1  -2"
      ]
     },
     "metadata": {},
     "output_type": "display_data"
    }
   ],
   "source": [
    "A = [1 0 1; 4 -3 -4; 1 -1 -2]"
   ]
  },
  {
   "cell_type": "code",
   "execution_count": 10,
   "metadata": {},
   "outputs": [
    {
     "data": {
      "text/plain": [
       "3×3 Matrix{Float64}:\n",
       "  2.0  -1.0   3.0\n",
       "  4.0  -3.0   8.0\n",
       " -1.0   1.0  -3.0"
      ]
     },
     "metadata": {},
     "output_type": "display_data"
    }
   ],
   "source": [
    "B = inv(A)"
   ]
  },
  {
   "cell_type": "code",
   "execution_count": 11,
   "metadata": {},
   "outputs": [
    {
     "data": {
      "text/plain": [
       "3-element Vector{Float64}:\n",
       "  0.2\n",
       " -0.3\n",
       "  1.2"
      ]
     },
     "metadata": {},
     "output_type": "display_data"
    }
   ],
   "source": [
    "x = [0.2, -0.3, 1.2]"
   ]
  },
  {
   "cell_type": "code",
   "execution_count": 12,
   "metadata": {},
   "outputs": [
    {
     "data": {
      "text/plain": [
       "3-element Vector{Float64}:\n",
       "  0.20000000000000018\n",
       " -0.3000000000000007\n",
       "  1.1999999999999984"
      ]
     },
     "metadata": {},
     "output_type": "display_data"
    }
   ],
   "source": [
    "rhs = (B[1,:]'*x) * A[:,1] + (B[2,:]'*x) * A[:,2] + (B[3,:]'*x) * A[:,3]"
   ]
  },
  {
   "cell_type": "markdown",
   "metadata": {},
   "source": [
    "**Inverse via QR factorization.** The inverse of a matrix $A$ can be computed from\n",
    "its $QR$ factorization $A = QR$ via the formula $A^{−1} = R^{−1}Q^T$."
   ]
  },
  {
   "cell_type": "code",
   "execution_count": 13,
   "metadata": {},
   "outputs": [
    {
     "data": {
      "text/plain": [
       "3×3 Matrix{Float64}:\n",
       " -1.19381   1.24713   -0.542915\n",
       "  0.842956  1.49964   -0.228319\n",
       " -1.04219   0.563949   0.0320488"
      ]
     },
     "metadata": {},
     "output_type": "display_data"
    }
   ],
   "source": [
    "A = randn(3,3)\n",
    "inv(A)"
   ]
  },
  {
   "cell_type": "code",
   "execution_count": 14,
   "metadata": {},
   "outputs": [
    {
     "data": {
      "text/plain": [
       "3×3 Matrix{Float64}:\n",
       " -1.19381   1.24713   -0.542915\n",
       "  0.842956  1.49964   -0.228319\n",
       " -1.04219   0.563949   0.0320488"
      ]
     },
     "metadata": {},
     "output_type": "display_data"
    }
   ],
   "source": [
    "Q, R = qr(A)\n",
    "Q = Matrix(Q)\n",
    "inv(R)*Q'"
   ]
  },
  {
   "cell_type": "code",
   "execution_count": 16,
   "metadata": {},
   "outputs": [
    {
     "data": {
      "text/plain": [
       "3×3 Matrix{Float64}:\n",
       " 1.33227e-15  8.88178e-16  4.44089e-16\n",
       " 4.44089e-16  4.44089e-16  2.498e-16\n",
       " 6.66134e-16  4.44089e-16  2.498e-16"
      ]
     },
     "metadata": {},
     "output_type": "display_data"
    }
   ],
   "source": [
    "diff = inv(A) .- inv(R)*Q'\n",
    "[abs(x) for x in diff]      # array comprehension"
   ]
  },
  {
   "cell_type": "markdown",
   "metadata": {},
   "source": [
    "### 11.3 Solving linear equations\n",
    "**Back substitution.** Let us first implement back substitution (VMLS Algorithm [11.1](https://web.stanford.edu/~boyd/vmls/vmls.pdf#algorithmctr.11.1)) in Julia and check it. You will not need this function, because Julia has a better implementation of it built in via the **`backslash operator`** discussed below. But we give it here to demonstrate that it works:"
   ]
  },
  {
   "cell_type": "code",
   "execution_count": 17,
   "metadata": {},
   "outputs": [
    {
     "data": {
      "text/plain": [
       "back_subst (generic function with 1 method)"
      ]
     },
     "metadata": {},
     "output_type": "display_data"
    }
   ],
   "source": [
    "function back_subst(R,b)\n",
    "    n = length(b)\n",
    "    x = zeros(n)\n",
    "    for i = n:-1:1\n",
    "        x[i] = (b[i] - R[i,i+1:n]'*x[i+1:n]) / R[i,i]\n",
    "    end\n",
    "    return x\n",
    "end"
   ]
  },
  {
   "cell_type": "code",
   "execution_count": 18,
   "metadata": {},
   "outputs": [
    {
     "data": {
      "text/plain": [
       "4×4 Matrix{Float64}:\n",
       " 0.62204   1.95664  -0.458488   0.0791376\n",
       " 0.0      -2.27323  -0.836473  -0.211147\n",
       " 0.0       0.0       1.35155   -0.235142\n",
       " 0.0       0.0       0.0       -0.394621"
      ]
     },
     "metadata": {},
     "output_type": "display_data"
    }
   ],
   "source": [
    "R = triu(randn(4,4))    # random 4x4 upper triangular matrix"
   ]
  },
  {
   "cell_type": "code",
   "execution_count": 19,
   "metadata": {},
   "outputs": [
    {
     "data": {
      "text/plain": [
       "1.6653345369377348e-16"
      ]
     },
     "metadata": {},
     "output_type": "display_data"
    }
   ],
   "source": [
    "b = rand(4)\n",
    "x = back_subst(R,b)\n",
    "norm(R*x-b)"
   ]
  },
  {
   "cell_type": "markdown",
   "metadata": {},
   "source": [
    "The function **`triu`** gives the upper triangular part of a matrix, i.e., it zeros out the entries below the diagonal. \n",
    "\n",
    "**Backslash notation.** The Julia command for solving a set of linear equations $$Ax = b$$ is `x=A\\b`. This is faster than `x = inv(A)*b`, which first computes the inverse of $A$ and then multiplies it with $b$."
   ]
  },
  {
   "cell_type": "code",
   "execution_count": 21,
   "metadata": {},
   "outputs": [
    {
     "name": "stdout",
     "output_type": "stream",
     "text": [
      "  0.698973 seconds (6 allocations: 190.811 MiB, 8.46% gc time)\n"
     ]
    },
    {
     "data": {
      "text/plain": [
       "1.7212171984493084e-8"
      ]
     },
     "metadata": {},
     "output_type": "display_data"
    }
   ],
   "source": [
    "n = 5000\n",
    "A = randn(n,n)  # random set of equations\n",
    "b = randn(n) \n",
    "@time x1 = A\\b;\n",
    "norm(b-A*x1)"
   ]
  },
  {
   "cell_type": "code",
   "execution_count": 22,
   "metadata": {},
   "outputs": [
    {
     "name": "stdout",
     "output_type": "stream",
     "text": [
      "  2.408225 seconds (8 allocations: 193.253 MiB)\n"
     ]
    },
    {
     "data": {
      "text/plain": [
       "2.105871286086316e-8"
      ]
     },
     "metadata": {},
     "output_type": "display_data"
    }
   ],
   "source": [
    "@time x2 = inv(A)*b;\n",
    "norm(b-A*x2)"
   ]
  },
  {
   "cell_type": "markdown",
   "metadata": {},
   "source": [
    "**Julia chooses a suitable algorithm for solving the equation after checking the properties of $A$.** For example, it will use back substitution if $A$ is lower triangular. This explains the result in the following timing experiment."
   ]
  },
  {
   "cell_type": "code",
   "execution_count": 26,
   "metadata": {},
   "outputs": [
    {
     "name": "stdout",
     "output_type": "stream",
     "text": [
      "  0.016989 seconds (2 allocations: 39.109 KiB)\n"
     ]
    },
    {
     "name": "stdout",
     "output_type": "stream",
     "text": [
      "  0.639808 seconds (6 allocations: 190.811 MiB)\n"
     ]
    },
    {
     "name": "stdout",
     "output_type": "stream",
     "text": [
      "  0.065965 seconds (2 allocations: 78.172 KiB)"
     ]
    },
    {
     "name": "stdout",
     "output_type": "stream",
     "text": [
      "\n",
      "  4.371659 seconds (6 allocations: 763.092 MiB)\n"
     ]
    }
   ],
   "source": [
    "n = 5000\n",
    "b = randn(n)\n",
    "A = tril(randn(n,n))    # random lower triangular matrix\n",
    "@time x = A\\b;\n",
    "\n",
    "A = randn(n,n)          # random square matrix\n",
    "@time x = A\\b;\n",
    "\n",
    "n = 10000\n",
    "b = randn(n)\n",
    "\n",
    "A = tril(randn(n,n))\n",
    "@time x = A\\b\n",
    "\n",
    "A = randn(n,n)\n",
    "@time x = A\\b;"
   ]
  },
  {
   "cell_type": "markdown",
   "metadata": {},
   "source": [
    "When we double the size from $n = 5000$ to $n = 10000$, the solution time for the triangular equation increases by a factor of\n",
    "about four, consistent with the $n^2$ complexity of backsubstitution. \n",
    "\n",
    "For the general square system, the solution times increases by a factor of roughly eight, as we would expect given the order $n^3$ complexity.\n",
    "\n",
    "**Factor-solve methods for multiple right-hand sides.** A linear equation is solved by first factorizing $A$ and then solving several simpler equations with the factors of $A$. This is referred to as a **factor-solve scheme**. An important application is the solution of multiple linear equations with the same coefficient matrix and different right-hand sides."
   ]
  },
  {
   "cell_type": "code",
   "execution_count": 28,
   "metadata": {},
   "outputs": [
    {
     "name": "stdout",
     "output_type": "stream",
     "text": [
      "  0.672138 seconds (9 allocations: 190.850 MiB)\n"
     ]
    },
    {
     "name": "stdout",
     "output_type": "stream",
     "text": [
      "  0.649140 seconds (9 allocations: 190.850 MiB)\n"
     ]
    },
    {
     "name": "stdout",
     "output_type": "stream",
     "text": [
      "  1.472051 seconds (20 allocations: 381.775 MiB, 10.49% gc time)\n"
     ]
    },
    {
     "name": "stdout",
     "output_type": "stream",
     "text": [
      "  0.671622 seconds (6 allocations: 190.849 MiB)\n"
     ]
    }
   ],
   "source": [
    "n = 5000\n",
    "A = randn(n,n)\n",
    "B = randn(n,2)\n",
    "\n",
    "# Solve with right-hand side B[:,1]\n",
    "@time x1 = A \\ B[:,1];\n",
    "\n",
    "# Solve with right-hand side B[:,2]\n",
    "@time x2 = A \\ B[:,2];\n",
    "\n",
    "# Naive approach for solving A*X = B\n",
    "@time X = [ A\\B[:,1] A\\B[:,2] ];\n",
    "\n",
    "# Factor-solve approach\n",
    "@time X = A \\ B;"
   ]
  },
  {
   "cell_type": "markdown",
   "metadata": {},
   "source": [
    "The factor-solve approach finds the solutions for the two right-hand sides in roughly\n",
    "the same time as the solution for one right-hand side. The solution time with the\n",
    "naïve approach is twice the time for one right-hand side.\n",
    "\n",
    "### 11.4 Examples\n",
    "**Polynomial interpolation.** We compute the interpolating polynomials in Figure [11.1](https://web.stanford.edu/~boyd/vmls/vmls.pdf#figure.11.1) of VMLS. The following code uses the functions vandermonde and linspace from the `VMLS` package. \n",
    "\n",
    "The function **`linspace(a,b,n)`** returns a vector with `n` equally spaced numbers in the interval [a, b]. The result is shown in Figure 11.1."
   ]
  },
  {
   "cell_type": "code",
   "execution_count": 29,
   "metadata": {},
   "outputs": [
    {
     "data": {
      "text/plain": [
       "4×4 Matrix{Float64}:\n",
       " 1.0  -1.1  1.21  -1.331\n",
       " 1.0  -0.4  0.16  -0.064\n",
       " 1.0   0.2  0.04   0.008\n",
       " 1.0   0.8  0.64   0.512"
      ]
     },
     "metadata": {},
     "output_type": "display_data"
    }
   ],
   "source": [
    "t = [-1.1, -0.4, 0.2, 0.8]\n",
    "A = vandermonde(t, 4)"
   ]
  },
  {
   "cell_type": "code",
   "execution_count": 30,
   "metadata": {},
   "outputs": [
    {
     "data": {
      "text/plain": [
       "4-element Vector{Float64}:\n",
       "  1.2109568793779317\n",
       " -0.8883105198894669\n",
       " -1.1096651886125566\n",
       "  1.3864790180579647"
      ]
     },
     "metadata": {},
     "output_type": "display_data"
    }
   ],
   "source": [
    "b1 = [ -1.0, 1.3, 1.0, 0.5 ]\n",
    "c1 = A \\ b1"
   ]
  },
  {
   "cell_type": "code",
   "execution_count": 31,
   "metadata": {},
   "outputs": [
    {
     "data": {
      "text/plain": [
       "4-element Vector{Float64}:\n",
       " -1.5412891202364887\n",
       " -3.1090546880020584\n",
       "  3.3384743911059704\n",
       "  3.695135274082644"
      ]
     },
     "metadata": {},
     "output_type": "display_data"
    }
   ],
   "source": [
    "b2 = [ 1.0, 0.0, -2.0, 0 ]\n",
    "c2 = A \\ b2"
   ]
  },
  {
   "cell_type": "code",
   "execution_count": 40,
   "metadata": {},
   "outputs": [
    {
     "data": {
      "image/png": "[encoded data removed]",
      "image/svg+xml": "<?xml version=\"1.0\" encoding=\"utf-8\"?>\n<svg xmlns=\"http://www.w3.org/2000/svg\" xmlns:xlink=\"http://www.w3.org/1999/xlink\" width=\"400\" height=\"200\" viewBox=\"0 0 1600 800\">\n<defs>\n  <clipPath id=\"clip8100\">\n    <rect x=\"0\" y=\"0\" width=\"1600\" height=\"800\"/>\n  </clipPath>\n</defs>\n<path clip-path=\"url(#clip8100)\" d=\"\nM0 800 L1600 800 L1600 0 L0 0  Z\n  \" fill=\"#ffffff\" fill-rule=\"evenodd\" fill-opacity=\"1\"/>\n<defs>\n  <clipPath id=\"clip8101\">\n    <rect x=\"320\" y=\"0\" width=\"1121\" height=\"800\"/>\n  </clipPath>\n</defs>\n<path clip-path=\"url(#clip8100)\" d=\"\nM116.885 686.128 L1552.76 686.128 L1552.76 47.2441 L116.885 47.2441  Z\n  \" fill=\"#ffffff\" fill-rule=\"evenodd\" fill-opacity=\"1\"/>\n<defs>\n  <clipPath id=\"clip8102\">\n    <rect x=\"116\" y=\"47\" width=\"1437\" height=\"640\"/>\n  </clipPath>\n</defs>\n<polyline clip-path=\"url(#clip8102)\" style=\"stroke:#000000; stroke-width:2; stroke-opacity:0.1; fill:none\" points=\"\n  270.406,686.128 270.406,47.2441 \n  \"/>\n<polyline clip-path=\"url(#clip8102)\" style=\"stroke:#000000; stroke-width:2; stroke-opacity:0.1; fill:none\" points=\"\n  552.613,686.128 552.613,47.2441 \n  \"/>\n<polyline clip-path=\"url(#clip8102)\" style=\"stroke:#000000; stroke-width:2; stroke-opacity:0.1; fill:none\" points=\"\n  834.821,686.128 834.821,47.2441 \n  \"/>\n<polyline clip-path=\"url(#clip8102)\" style=\"stroke:#000000; stroke-width:2; stroke-opacity:0.1; fill:none\" points=\"\n  1117.03,686.128 1117.03,47.2441 \n  \"/>\n<polyline clip-path=\"url(#clip8102)\" style=\"stroke:#000000; stroke-width:2; stroke-opacity:0.1; fill:none\" points=\"\n  1399.24,686.128 1399.24,47.2441 \n  \"/>\n<polyline clip-path=\"url(#clip8102)\" style=\"stroke:#000000; stroke-width:2; stroke-opacity:0.1; fill:none\" points=\"\n  116.885,662.452 1552.76,662.452 \n  \"/>\n<polyline clip-path=\"url(#clip8102)\" style=\"stroke:#000000; stroke-width:2; stroke-opacity:0.1; fill:none\" points=\"\n  116.885,511.671 1552.76,511.671 \n  \"/>\n<polyline clip-path=\"url(#clip8102)\" style=\"stroke:#000000; stroke-width:2; stroke-opacity:0.1; fill:none\" points=\"\n  116.885,360.89 1552.76,360.89 \n  \"/>\n<polyline clip-path=\"url(#clip8102)\" style=\"stroke:#000000; stroke-width:2; stroke-opacity:0.1; fill:none\" points=\"\n  116.885,210.109 1552.76,210.109 \n  \"/>\n<polyline clip-path=\"url(#clip8102)\" style=\"stroke:#000000; stroke-width:2; stroke-opacity:0.1; fill:none\" points=\"\n  116.885,59.3278 1552.76,59.3278 \n  \"/>\n<polyline clip-path=\"url(#clip8100)\" style=\"stroke:#000000; stroke-width:4; stroke-opacity:1; fill:none\" points=\"\n  116.885,686.128 1552.76,686.128 \n  \"/>\n<polyline clip-path=\"url(#clip8100)\" style=\"stroke:#000000; stroke-width:4; stroke-opacity:1; fill:none\" points=\"\n  116.885,686.128 116.885,47.2441 \n  \"/>\n<polyline clip-path=\"url(#clip8100)\" style=\"stroke:#000000; stroke-width:4; stroke-opacity:1; fill:none\" points=\"\n  270.406,686.128 270.406,678.461 \n  \"/>\n<polyline clip-path=\"url(#clip8100)\" style=\"stroke:#000000; stroke-width:4; stroke-opacity:1; fill:none\" points=\"\n  552.613,686.128 552.613,678.461 \n  \"/>\n<polyline clip-path=\"url(#clip8100)\" style=\"stroke:#000000; stroke-width:4; stroke-opacity:1; fill:none\" points=\"\n  834.821,686.128 834.821,678.461 \n  \"/>\n<polyline clip-path=\"url(#clip8100)\" style=\"stroke:#000000; stroke-width:4; stroke-opacity:1; fill:none\" points=\"\n  1117.03,686.128 1117.03,678.461 \n  \"/>\n<polyline clip-path=\"url(#clip8100)\" style=\"stroke:#000000; stroke-width:4; stroke-opacity:1; fill:none\" points=\"\n  1399.24,686.128 1399.24,678.461 \n  \"/>\n<polyline clip-path=\"url(#clip8100)\" style=\"stroke:#000000; stroke-width:4; stroke-opacity:1; fill:none\" points=\"\n  116.885,662.452 134.116,662.452 \n  \"/>\n<polyline clip-path=\"url(#clip8100)\" style=\"stroke:#000000; stroke-width:4; stroke-opacity:1; fill:none\" points=\"\n  116.885,511.671 134.116,511.671 \n  \"/>\n<polyline clip-path=\"url(#clip8100)\" style=\"stroke:#000000; stroke-width:4; stroke-opacity:1; fill:none\" points=\"\n  116.885,360.89 134.116,360.89 \n  \"/>\n<polyline clip-path=\"url(#clip8100)\" style=\"stroke:#000000; stroke-width:4; stroke-opacity:1; fill:none\" points=\"\n  116.885,210.109 134.116,210.109 \n  \"/>\n<polyline clip-path=\"url(#clip8100)\" style=\"stroke:#000000; stroke-width:4; stroke-opacity:1; fill:none\" points=\"\n  116.885,59.3278 134.116,59.3278 \n  \"/>\n<path clip-path=\"url(#clip8100)\" d=\"M 0 0 M232.791 720.716 L245.267 720.716 L245.267 724.512 L232.791 724.512 L232.791 720.716 Z\" fill=\"#000000\" fill-rule=\"evenodd\" fill-opacity=\"1\" /><path clip-path=\"url(#clip8100)\" d=\"M 0 0 M251.147 731.665 L258.786 731.665 L258.786 705.299 L250.476 706.966 L250.476 702.707 L258.74 701.04 L263.415 701.04 L263.415 731.665 L271.054 731.665 L271.054 735.6 L251.147 735.6 L251.147 731.665 Z\" fill=\"#000000\" fill-rule=\"evenodd\" fill-opacity=\"1\" /><path clip-path=\"url(#clip8100)\" d=\"M 0 0 M276.124 729.72 L281.008 729.72 L281.008 735.6 L276.124 735.6 L276.124 729.72 Z\" fill=\"#000000\" fill-rule=\"evenodd\" fill-opacity=\"1\" /><path clip-path=\"url(#clip8100)\" d=\"M 0 0 M296.077 704.119 Q292.466 704.119 290.638 707.683 Q288.832 711.225 288.832 718.355 Q288.832 725.461 290.638 729.026 Q292.466 732.567 296.077 732.567 Q299.712 732.567 301.517 729.026 Q303.346 725.461 303.346 718.355 Q303.346 711.225 301.517 707.683 Q299.712 704.119 296.077 704.119 M296.077 700.415 Q301.887 700.415 304.943 705.021 Q308.022 709.605 308.022 718.355 Q308.022 727.081 304.943 731.688 Q301.887 736.271 296.077 736.271 Q290.267 736.271 287.189 731.688 Q284.133 727.081 284.133 718.355 Q284.133 709.605 287.189 705.021 Q290.267 700.415 296.077 700.415 Z\" fill=\"#000000\" fill-rule=\"evenodd\" fill-opacity=\"1\" /><path clip-path=\"url(#clip8100)\" d=\"M 0 0 M514.882 720.716 L527.359 720.716 L527.359 724.512 L514.882 724.512 L514.882 720.716 Z\" fill=\"#000000\" fill-rule=\"evenodd\" fill-opacity=\"1\" /><path clip-path=\"url(#clip8100)\" d=\"M 0 0 M542.428 704.119 Q538.817 704.119 536.989 707.683 Q535.183 711.225 535.183 718.355 Q535.183 725.461 536.989 729.026 Q538.817 732.567 542.428 732.567 Q546.063 732.567 547.868 729.026 Q549.697 725.461 549.697 718.355 Q549.697 711.225 547.868 707.683 Q546.063 704.119 542.428 704.119 M542.428 700.415 Q548.238 700.415 551.294 705.021 Q554.373 709.605 554.373 718.355 Q554.373 727.081 551.294 731.688 Q548.238 736.271 542.428 736.271 Q536.618 736.271 533.539 731.688 Q530.484 727.081 530.484 718.355 Q530.484 709.605 533.539 705.021 Q536.618 700.415 542.428 700.415 Z\" fill=\"#000000\" fill-rule=\"evenodd\" fill-opacity=\"1\" /><path clip-path=\"url(#clip8100)\" d=\"M 0 0 M559.442 729.72 L564.326 729.72 L564.326 735.6 L559.442 735.6 L559.442 729.72 Z\" fill=\"#000000\" fill-rule=\"evenodd\" fill-opacity=\"1\" /><path clip-path=\"url(#clip8100)\" d=\"M 0 0 M569.442 701.04 L587.798 701.04 L587.798 704.975 L573.724 704.975 L573.724 713.447 Q574.743 713.1 575.761 712.938 Q576.78 712.753 577.798 712.753 Q583.585 712.753 586.965 715.924 Q590.345 719.095 590.345 724.512 Q590.345 730.091 586.873 733.192 Q583.4 736.271 577.081 736.271 Q574.905 736.271 572.636 735.901 Q570.391 735.53 567.984 734.79 L567.984 730.091 Q570.067 731.225 572.289 731.78 Q574.511 732.336 576.988 732.336 Q580.993 732.336 583.331 730.23 Q585.669 728.123 585.669 724.512 Q585.669 720.901 583.331 718.794 Q580.993 716.688 576.988 716.688 Q575.113 716.688 573.238 717.105 Q571.386 717.521 569.442 718.401 L569.442 701.04 Z\" fill=\"#000000\" fill-rule=\"evenodd\" fill-opacity=\"1\" /><path clip-path=\"url(#clip8100)\" d=\"M 0 0 M816.337 704.119 Q812.726 704.119 810.897 707.683 Q809.092 711.225 809.092 718.355 Q809.092 725.461 810.897 729.026 Q812.726 732.567 816.337 732.567 Q819.971 732.567 821.777 729.026 Q823.605 725.461 823.605 718.355 Q823.605 711.225 821.777 707.683 Q819.971 704.119 816.337 704.119 M816.337 700.415 Q822.147 700.415 825.203 705.021 Q828.281 709.605 828.281 718.355 Q828.281 727.081 825.203 731.688 Q822.147 736.271 816.337 736.271 Q810.527 736.271 807.448 731.688 Q804.393 727.081 804.393 718.355 Q804.393 709.605 807.448 705.021 Q810.527 700.415 816.337 700.415 Z\" fill=\"#000000\" fill-rule=\"evenodd\" fill-opacity=\"1\" /><path clip-path=\"url(#clip8100)\" d=\"M 0 0 M833.351 729.72 L838.235 729.72 L838.235 735.6 L833.351 735.6 L833.351 729.72 Z\" fill=\"#000000\" fill-rule=\"evenodd\" fill-opacity=\"1\" /><path clip-path=\"url(#clip8100)\" d=\"M 0 0 M853.304 704.119 Q849.693 704.119 847.865 707.683 Q846.059 711.225 846.059 718.355 Q846.059 725.461 847.865 729.026 Q849.693 732.567 853.304 732.567 Q856.939 732.567 858.744 729.026 Q860.573 725.461 860.573 718.355 Q860.573 711.225 858.744 707.683 Q856.939 704.119 853.304 704.119 M853.304 700.415 Q859.115 700.415 862.17 705.021 Q865.249 709.605 865.249 718.355 Q865.249 727.081 862.17 731.688 Q859.115 736.271 853.304 736.271 Q847.494 736.271 844.416 731.688 Q841.36 727.081 841.36 718.355 Q841.36 709.605 844.416 705.021 Q847.494 700.415 853.304 700.415 Z\" fill=\"#000000\" fill-rule=\"evenodd\" fill-opacity=\"1\" /><path clip-path=\"url(#clip8100)\" d=\"M 0 0 M1099.04 704.119 Q1095.43 704.119 1093.6 707.683 Q1091.8 711.225 1091.8 718.355 Q1091.8 725.461 1093.6 729.026 Q1095.43 732.567 1099.04 732.567 Q1102.68 732.567 1104.48 729.026 Q1106.31 725.461 1106.31 718.355 Q1106.31 711.225 1104.48 707.683 Q1102.68 704.119 1099.04 704.119 M1099.04 700.415 Q1104.85 700.415 1107.91 705.021 Q1110.99 709.605 1110.99 718.355 Q1110.99 727.081 1107.91 731.688 Q1104.85 736.271 1099.04 736.271 Q1093.23 736.271 1090.15 731.688 Q1087.1 727.081 1087.1 718.355 Q1087.1 709.605 1090.15 705.021 Q1093.23 700.415 1099.04 700.415 Z\" fill=\"#000000\" fill-rule=\"evenodd\" fill-opacity=\"1\" /><path clip-path=\"url(#clip8100)\" d=\"M 0 0 M1116.06 729.72 L1120.94 729.72 L1120.94 735.6 L1116.06 735.6 L1116.06 729.72 Z\" fill=\"#000000\" fill-rule=\"evenodd\" fill-opacity=\"1\" /><path clip-path=\"url(#clip8100)\" d=\"M 0 0 M1126.06 701.04 L1144.41 701.04 L1144.41 704.975 L1130.34 704.975 L1130.34 713.447 Q1131.36 713.1 1132.38 712.938 Q1133.39 712.753 1134.41 712.753 Q1140.2 712.753 1143.58 715.924 Q1146.96 719.095 1146.96 724.512 Q1146.96 730.091 1143.49 733.192 Q1140.01 736.271 1133.69 736.271 Q1131.52 736.271 1129.25 735.901 Q1127 735.53 1124.6 734.79 L1124.6 730.091 Q1126.68 731.225 1128.9 731.78 Q1131.13 732.336 1133.6 732.336 Q1137.61 732.336 1139.94 730.23 Q1142.28 728.123 1142.28 724.512 Q1142.28 720.901 1139.94 718.794 Q1137.61 716.688 1133.6 716.688 Q1131.73 716.688 1129.85 717.105 Q1128 717.521 1126.06 718.401 L1126.06 701.04 Z\" fill=\"#000000\" fill-rule=\"evenodd\" fill-opacity=\"1\" /><path clip-path=\"url(#clip8100)\" d=\"M 0 0 M1371.13 731.665 L1378.77 731.665 L1378.77 705.299 L1370.46 706.966 L1370.46 702.707 L1378.73 701.04 L1383.4 701.04 L1383.4 731.665 L1391.04 731.665 L1391.04 735.6 L1371.13 735.6 L1371.13 731.665 Z\" fill=\"#000000\" fill-rule=\"evenodd\" fill-opacity=\"1\" /><path clip-path=\"url(#clip8100)\" d=\"M 0 0 M1396.11 729.72 L1400.99 729.72 L1400.99 735.6 L1396.11 735.6 L1396.11 729.72 Z\" fill=\"#000000\" fill-rule=\"evenodd\" fill-opacity=\"1\" /><path clip-path=\"url(#clip8100)\" d=\"M 0 0 M1416.06 704.119 Q1412.45 704.119 1410.62 707.683 Q1408.82 711.225 1408.82 718.355 Q1408.82 725.461 1410.62 729.026 Q1412.45 732.567 1416.06 732.567 Q1419.7 732.567 1421.5 729.026 Q1423.33 725.461 1423.33 718.355 Q1423.33 711.225 1421.5 707.683 Q1419.7 704.119 1416.06 704.119 M1416.06 700.415 Q1421.87 700.415 1424.93 705.021 Q1428.01 709.605 1428.01 718.355 Q1428.01 727.081 1424.93 731.688 Q1421.87 736.271 1416.06 736.271 Q1410.25 736.271 1407.17 731.688 Q1404.12 727.081 1404.12 718.355 Q1404.12 709.605 1407.17 705.021 Q1410.25 700.415 1416.06 700.415 Z\" fill=\"#000000\" fill-rule=\"evenodd\" fill-opacity=\"1\" /><path clip-path=\"url(#clip8100)\" d=\"M 0 0 M62.9921 664.847 L75.4689 664.847 L75.4689 668.644 L62.9921 668.644 L62.9921 664.847 Z\" fill=\"#000000\" fill-rule=\"evenodd\" fill-opacity=\"1\" /><path clip-path=\"url(#clip8100)\" d=\"M 0 0 M84.5661 675.796 L100.885 675.796 L100.885 679.732 L78.9411 679.732 L78.9411 675.796 Q81.6031 673.042 86.1864 668.412 Q90.7929 663.759 91.9735 662.417 Q94.2188 659.894 95.0984 658.158 Q96.0012 656.398 96.0012 654.709 Q96.0012 651.954 94.0568 650.218 Q92.1355 648.482 89.0337 648.482 Q86.8346 648.482 84.3809 649.246 Q81.9504 650.01 79.1726 651.56 L79.1726 646.838 Q81.9967 645.704 84.4503 645.125 Q86.904 644.547 88.9411 644.547 Q94.3114 644.547 97.5058 647.232 Q100.7 649.917 100.7 654.408 Q100.7 656.537 99.8901 658.459 Q99.103 660.357 96.9966 662.949 Q96.4179 663.621 93.316 666.838 Q90.2142 670.033 84.5661 675.796 Z\" fill=\"#000000\" fill-rule=\"evenodd\" fill-opacity=\"1\" /><path clip-path=\"url(#clip8100)\" d=\"M 0 0 M88.9411 497.469 Q85.33 497.469 83.5013 501.034 Q81.6957 504.576 81.6957 511.705 Q81.6957 518.812 83.5013 522.377 Q85.33 525.918 88.9411 525.918 Q92.5753 525.918 94.3808 522.377 Q96.2095 518.812 96.2095 511.705 Q96.2095 504.576 94.3808 501.034 Q92.5753 497.469 88.9411 497.469 M88.9411 493.766 Q94.7512 493.766 97.8068 498.372 Q100.885 502.955 100.885 511.705 Q100.885 520.432 97.8068 525.039 Q94.7512 529.622 88.9411 529.622 Q83.1309 529.622 80.0522 525.039 Q76.9967 520.432 76.9967 511.705 Q76.9967 502.955 80.0522 498.372 Q83.1309 493.766 88.9411 493.766 Z\" fill=\"#000000\" fill-rule=\"evenodd\" fill-opacity=\"1\" /><path clip-path=\"url(#clip8100)\" d=\"M 0 0 M84.5661 374.235 L100.885 374.235 L100.885 378.17 L78.9411 378.17 L78.9411 374.235 Q81.6031 371.48 86.1864 366.85 Q90.7929 362.198 91.9735 360.855 Q94.2188 358.332 95.0984 356.596 Q96.0012 354.836 96.0012 353.147 Q96.0012 350.392 94.0568 348.656 Q92.1355 346.92 89.0337 346.92 Q86.8346 346.92 84.3809 347.684 Q81.9504 348.448 79.1726 349.999 L79.1726 345.276 Q81.9967 344.142 84.4503 343.563 Q86.904 342.985 88.9411 342.985 Q94.3114 342.985 97.5058 345.67 Q100.7 348.355 100.7 352.846 Q100.7 354.975 99.8901 356.897 Q99.103 358.795 96.9966 361.387 Q96.4179 362.059 93.316 365.276 Q90.2142 368.471 84.5661 374.235 Z\" fill=\"#000000\" fill-rule=\"evenodd\" fill-opacity=\"1\" /><path clip-path=\"url(#clip8100)\" d=\"M 0 0 M91.3022 196.903 L79.4967 215.352 L91.3022 215.352 L91.3022 196.903 M90.0753 192.829 L95.9549 192.829 L95.9549 215.352 L100.885 215.352 L100.885 219.241 L95.9549 219.241 L95.9549 227.389 L91.3022 227.389 L91.3022 219.241 L75.7004 219.241 L75.7004 214.727 L90.0753 192.829 Z\" fill=\"#000000\" fill-rule=\"evenodd\" fill-opacity=\"1\" /><path clip-path=\"url(#clip8100)\" d=\"M 0 0 M89.3577 57.4644 Q86.2096 57.4644 84.3578 59.6172 Q82.5291 61.7699 82.5291 65.5199 Q82.5291 69.2467 84.3578 71.4226 Q86.2096 73.5754 89.3577 73.5754 Q92.5059 73.5754 94.3346 71.4226 Q96.1864 69.2467 96.1864 65.5199 Q96.1864 61.7699 94.3346 59.6172 Q92.5059 57.4644 89.3577 57.4644 M98.6401 42.8117 L98.6401 47.0709 Q96.8808 46.2376 95.0753 45.7978 Q93.2929 45.358 91.5336 45.358 Q86.904 45.358 84.4503 48.483 Q82.0198 51.6079 81.6726 57.9274 Q83.0383 55.9135 85.0985 54.8487 Q87.1587 53.7607 89.6355 53.7607 Q94.8438 53.7607 97.8531 56.932 Q100.885 60.0801 100.885 65.5199 Q100.885 70.8439 97.7373 74.0615 Q94.5892 77.2791 89.3577 77.2791 Q83.3624 77.2791 80.1911 72.6958 Q77.0198 68.0893 77.0198 59.3625 Q77.0198 51.1681 80.9087 46.307 Q84.7976 41.4228 91.3485 41.4228 Q93.1077 41.4228 94.8901 41.77 Q96.6956 42.1172 98.6401 42.8117 Z\" fill=\"#000000\" fill-rule=\"evenodd\" fill-opacity=\"1\" /><polyline clip-path=\"url(#clip8102)\" style=\"stroke:#009af9; stroke-width:4; stroke-opacity:1; fill:none\" points=\"\n  157.523,641.103 158.879,639.699 160.235,638.301 161.591,636.908 162.947,635.52 164.303,634.138 165.659,632.76 167.015,631.388 168.371,630.022 169.727,628.66 \n  171.083,627.304 172.439,625.953 173.795,624.607 175.151,623.267 176.507,621.931 177.863,620.601 179.218,619.276 180.574,617.956 181.93,616.641 183.286,615.332 \n  184.642,614.027 185.998,612.728 187.354,611.434 188.71,610.145 190.066,608.861 191.422,607.582 192.778,606.308 194.134,605.04 195.49,603.776 196.846,602.518 \n  198.202,601.264 199.558,600.016 200.914,598.772 202.27,597.534 203.626,596.301 204.982,595.073 206.338,593.849 207.693,592.631 209.049,591.418 210.405,590.209 \n  211.761,589.006 213.117,587.808 214.473,586.614 215.829,585.426 217.185,584.242 218.541,583.063 219.897,581.89 221.253,580.721 222.609,579.557 223.965,578.398 \n  225.321,577.244 226.677,576.095 228.033,574.95 229.389,573.811 230.745,572.676 232.101,571.546 233.457,570.421 234.812,569.301 236.168,568.186 237.524,567.075 \n  238.88,565.969 240.236,564.868 241.592,563.772 242.948,562.681 244.304,561.594 245.66,560.512 247.016,559.435 248.372,558.362 249.728,557.295 251.084,556.232 \n  252.44,555.173 253.796,554.12 255.152,553.071 256.508,552.027 257.864,550.987 259.22,549.952 260.576,548.922 261.931,547.896 263.287,546.875 264.643,545.859 \n  265.999,544.848 267.355,543.84 268.711,542.838 270.067,541.84 271.423,540.847 272.779,539.858 274.135,538.874 275.491,537.894 276.847,536.919 278.203,535.949 \n  279.559,534.983 280.915,534.022 282.271,533.065 283.627,532.112 284.983,531.164 286.339,530.221 287.695,529.282 289.051,528.348 290.406,527.418 291.762,526.492 \n  293.118,525.571 294.474,524.655 295.83,523.742 297.186,522.835 298.542,521.931 299.898,521.032 301.254,520.138 302.61,519.248 303.966,518.362 305.322,517.48 \n  306.678,516.603 308.034,515.731 309.39,514.862 310.746,513.998 312.102,513.139 313.458,512.283 314.814,511.432 316.17,510.585 317.525,509.743 318.881,508.905 \n  320.237,508.071 321.593,507.241 322.949,506.416 324.305,505.595 325.661,504.778 327.017,503.965 328.373,503.157 329.729,502.352 331.085,501.552 332.441,500.757 \n  333.797,499.965 335.153,499.177 336.509,498.394 337.865,497.615 339.221,496.84 340.577,496.069 341.933,495.302 343.289,494.54 344.644,493.781 346,493.027 \n  347.356,492.277 348.712,491.531 350.068,490.789 351.424,490.051 352.78,489.317 354.136,488.587 355.492,487.861 356.848,487.139 358.204,486.421 359.56,485.708 \n  360.916,484.998 362.272,484.292 363.628,483.59 364.984,482.893 366.34,482.199 367.696,481.509 369.052,480.823 370.408,480.141 371.763,479.464 373.119,478.79 \n  374.475,478.119 375.831,477.453 377.187,476.791 378.543,476.133 379.899,475.478 381.255,474.828 382.611,474.181 383.967,473.538 385.323,472.899 386.679,472.264 \n  388.035,471.633 389.391,471.005 390.747,470.382 392.103,469.762 393.459,469.146 394.815,468.534 396.171,467.925 397.527,467.321 398.883,466.72 400.238,466.123 \n  401.594,465.529 402.95,464.94 404.306,464.354 405.662,463.772 407.018,463.193 408.374,462.618 409.73,462.047 411.086,461.48 412.442,460.916 413.798,460.357 \n  415.154,459.8 416.51,459.248 417.866,458.699 419.222,458.153 420.578,457.611 421.934,457.073 423.29,456.539 424.646,456.008 426.002,455.481 427.357,454.957 \n  428.713,454.437 430.069,453.92 431.425,453.407 432.781,452.898 434.137,452.392 435.493,451.89 436.849,451.391 438.205,450.895 439.561,450.404 440.917,449.915 \n  442.273,449.43 443.629,448.949 444.985,448.471 446.341,447.997 447.697,447.526 449.053,447.058 450.409,446.594 451.765,446.134 453.121,445.676 454.476,445.223 \n  455.832,444.772 457.188,444.325 458.544,443.882 459.9,443.442 461.256,443.005 462.612,442.571 463.968,442.141 465.324,441.714 466.68,441.291 468.036,440.871 \n  469.392,440.454 470.748,440.04 472.104,439.63 473.46,439.223 474.816,438.82 476.172,438.419 477.528,438.022 478.884,437.628 480.24,437.238 481.596,436.85 \n  482.951,436.466 484.307,436.085 485.663,435.708 487.019,435.333 488.375,434.962 489.731,434.594 491.087,434.229 492.443,433.867 493.799,433.509 495.155,433.153 \n  496.511,432.801 497.867,432.452 499.223,432.106 500.579,431.763 501.935,431.423 503.291,431.086 504.647,430.753 506.003,430.422 507.359,430.095 508.715,429.771 \n  510.07,429.449 511.426,429.131 512.782,428.816 514.138,428.504 515.494,428.194 516.85,427.888 518.206,427.585 519.562,427.285 520.918,426.988 522.274,426.694 \n  523.63,426.402 524.986,426.114 526.342,425.829 527.698,425.546 529.054,425.267 530.41,424.99 531.766,424.717 533.122,424.446 534.478,424.178 535.834,423.913 \n  537.189,423.651 538.545,423.392 539.901,423.136 541.257,422.883 542.613,422.632 543.969,422.384 545.325,422.14 546.681,421.897 548.037,421.658 549.393,421.422 \n  550.749,421.188 552.105,420.957 553.461,420.729 554.817,420.504 556.173,420.281 557.529,420.062 558.885,419.844 560.241,419.63 561.597,419.419 562.953,419.21 \n  564.309,419.004 565.664,418.8 567.02,418.599 568.376,418.401 569.732,418.206 571.088,418.013 572.444,417.823 573.8,417.635 575.156,417.451 576.512,417.269 \n  577.868,417.089 579.224,416.912 580.58,416.738 581.936,416.566 583.292,416.397 584.648,416.23 586.004,416.066 587.36,415.905 588.716,415.746 590.072,415.59 \n  591.428,415.436 592.783,415.284 594.139,415.136 595.495,414.989 596.851,414.846 598.207,414.704 599.563,414.566 600.919,414.429 602.275,414.296 603.631,414.164 \n  604.987,414.035 606.343,413.909 607.699,413.785 609.055,413.663 610.411,413.544 611.767,413.427 613.123,413.313 614.479,413.201 615.835,413.091 617.191,412.984 \n  618.547,412.879 619.902,412.776 621.258,412.676 622.614,412.578 623.97,412.482 625.326,412.389 626.682,412.298 628.038,412.21 629.394,412.123 630.75,412.039 \n  632.106,411.957 633.462,411.878 634.818,411.801 636.174,411.726 637.53,411.653 638.886,411.582 640.242,411.514 641.598,411.448 642.954,411.384 644.31,411.322 \n  645.666,411.263 647.021,411.205 648.377,411.15 649.733,411.097 651.089,411.046 652.445,410.997 653.801,410.951 655.157,410.906 656.513,410.864 657.869,410.824 \n  659.225,410.786 660.581,410.75 661.937,410.716 663.293,410.684 664.649,410.654 666.005,410.626 667.361,410.601 668.717,410.577 670.073,410.555 671.429,410.536 \n  672.785,410.518 674.141,410.502 675.496,410.489 676.852,410.477 678.208,410.468 679.564,410.46 680.92,410.454 682.276,410.45 683.632,410.449 684.988,410.449 \n  686.344,410.451 687.7,410.455 689.056,410.461 690.412,410.468 691.768,410.478 693.124,410.49 694.48,410.503 695.836,410.518 697.192,410.536 698.548,410.555 \n  699.904,410.575 701.26,410.598 702.615,410.623 703.971,410.649 705.327,410.677 706.683,410.707 708.039,410.739 709.395,410.772 710.751,410.807 712.107,410.844 \n  713.463,410.883 714.819,410.924 716.175,410.966 717.531,411.01 718.887,411.056 720.243,411.103 721.599,411.152 722.955,411.203 724.311,411.255 725.667,411.309 \n  727.023,411.365 728.379,411.423 729.734,411.482 731.09,411.543 732.446,411.605 733.802,411.669 735.158,411.735 736.514,411.802 737.87,411.871 739.226,411.941 \n  740.582,412.013 741.938,412.087 743.294,412.162 744.65,412.238 746.006,412.317 747.362,412.396 748.718,412.478 750.074,412.56 751.43,412.645 752.786,412.73 \n  754.142,412.818 755.498,412.907 756.854,412.997 758.209,413.089 759.565,413.182 760.921,413.276 762.277,413.372 763.633,413.47 764.989,413.569 766.345,413.669 \n  767.701,413.771 769.057,413.874 770.413,413.979 771.769,414.084 773.125,414.192 774.481,414.3 775.837,414.41 777.193,414.522 778.549,414.634 779.905,414.748 \n  781.261,414.864 782.617,414.98 783.973,415.098 785.328,415.217 786.684,415.338 788.04,415.46 789.396,415.583 790.752,415.707 792.108,415.832 793.464,415.959 \n  794.82,416.087 796.176,416.216 797.532,416.347 798.888,416.479 800.244,416.611 801.6,416.745 802.956,416.881 804.312,417.017 805.668,417.155 807.024,417.293 \n  808.38,417.433 809.736,417.574 811.092,417.716 812.447,417.859 813.803,418.004 815.159,418.149 816.515,418.296 817.871,418.443 819.227,418.592 820.583,418.742 \n  821.939,418.892 823.295,419.044 824.651,419.197 826.007,419.351 827.363,419.506 828.719,419.662 830.075,419.819 831.431,419.977 832.787,420.136 834.143,420.296 \n  835.499,420.457 836.855,420.618 838.211,420.781 839.567,420.945 840.922,421.11 842.278,421.275 843.634,421.442 844.99,421.609 846.346,421.778 847.702,421.947 \n  849.058,422.117 850.414,422.288 851.77,422.46 853.126,422.632 854.482,422.806 855.838,422.98 857.194,423.156 858.55,423.332 859.906,423.509 861.262,423.686 \n  862.618,423.865 863.974,424.044 865.33,424.224 866.686,424.405 868.041,424.586 869.397,424.769 870.753,424.952 872.109,425.135 873.465,425.32 874.821,425.505 \n  876.177,425.691 877.533,425.878 878.889,426.065 880.245,426.253 881.601,426.442 882.957,426.631 884.313,426.821 885.669,427.012 887.025,427.203 888.381,427.395 \n  889.737,427.588 891.093,427.781 892.449,427.975 893.805,428.169 895.16,428.364 896.516,428.56 897.872,428.756 899.228,428.952 900.584,429.15 901.94,429.347 \n  903.296,429.546 904.652,429.744 906.008,429.944 907.364,430.144 908.72,430.344 910.076,430.545 911.432,430.746 912.788,430.948 914.144,431.15 915.5,431.353 \n  916.856,431.556 918.212,431.76 919.568,431.964 920.924,432.168 922.279,432.373 923.635,432.578 924.991,432.784 926.347,432.99 927.703,433.197 929.059,433.404 \n  930.415,433.611 931.771,433.818 933.127,434.026 934.483,434.234 935.839,434.443 937.195,434.652 938.551,434.861 939.907,435.07 941.263,435.28 942.619,435.49 \n  943.975,435.7 945.331,435.911 946.687,436.122 948.043,436.333 949.399,436.544 950.754,436.756 952.11,436.968 953.466,437.18 954.822,437.392 956.178,437.604 \n  957.534,437.817 958.89,438.03 960.246,438.242 961.602,438.456 962.958,438.669 964.314,438.882 965.67,439.096 967.026,439.309 968.382,439.523 969.738,439.737 \n  971.094,439.951 972.45,440.165 973.806,440.379 975.162,440.593 976.518,440.808 977.873,441.022 979.229,441.236 980.585,441.451 981.941,441.665 983.297,441.88 \n  984.653,442.094 986.009,442.309 987.365,442.523 988.721,442.738 990.077,442.952 991.433,443.167 992.789,443.381 994.145,443.596 995.501,443.81 996.857,444.024 \n  998.213,444.238 999.569,444.452 1000.92,444.666 1002.28,444.88 1003.64,445.094 1004.99,445.308 1006.35,445.521 1007.7,445.735 1009.06,445.948 1010.42,446.161 \n  1011.77,446.374 1013.13,446.587 1014.48,446.799 1015.84,447.012 1017.2,447.224 1018.55,447.436 1019.91,447.648 1021.26,447.859 1022.62,448.071 1023.98,448.282 \n  1025.33,448.493 1026.69,448.703 1028.04,448.914 1029.4,449.124 1030.76,449.333 1032.11,449.543 1033.47,449.752 1034.82,449.961 1036.18,450.17 1037.54,450.378 \n  1038.89,450.586 1040.25,450.793 1041.6,451 1042.96,451.207 1044.32,451.414 1045.67,451.62 1047.03,451.826 1048.38,452.031 1049.74,452.236 1051.09,452.44 \n  1052.45,452.644 1053.81,452.848 1055.16,453.051 1056.52,453.254 1057.87,453.456 1059.23,453.658 1060.59,453.86 1061.94,454.061 1063.3,454.261 1064.65,454.461 \n  1066.01,454.66 1067.37,454.859 1068.72,455.057 1070.08,455.255 1071.43,455.453 1072.79,455.649 1074.15,455.845 1075.5,456.041 1076.86,456.236 1078.21,456.431 \n  1079.57,456.624 1080.93,456.818 1082.28,457.01 1083.64,457.202 1084.99,457.394 1086.35,457.584 1087.71,457.774 1089.06,457.964 1090.42,458.153 1091.77,458.341 \n  1093.13,458.528 1094.49,458.715 1095.84,458.901 1097.2,459.086 1098.55,459.271 1099.91,459.455 1101.26,459.638 1102.62,459.82 1103.98,460.002 1105.33,460.183 \n  1106.69,460.363 1108.04,460.542 1109.4,460.721 1110.76,460.898 1112.11,461.075 1113.47,461.251 1114.82,461.427 1116.18,461.601 1117.54,461.775 1118.89,461.948 \n  1120.25,462.119 1121.6,462.291 1122.96,462.461 1124.32,462.63 1125.67,462.798 1127.03,462.966 1128.38,463.133 1129.74,463.298 1131.1,463.463 1132.45,463.627 \n  1133.81,463.79 1135.16,463.952 1136.52,464.113 1137.88,464.273 1139.23,464.432 1140.59,464.59 1141.94,464.747 1143.3,464.903 1144.66,465.058 1146.01,465.212 \n  1147.37,465.365 1148.72,465.517 1150.08,465.668 1151.44,465.818 1152.79,465.966 1154.15,466.114 1155.5,466.261 1156.86,466.406 1158.21,466.551 1159.57,466.694 \n  1160.93,466.836 1162.28,466.977 1163.64,467.117 1164.99,467.256 1166.35,467.394 1167.71,467.53 1169.06,467.666 1170.42,467.8 1171.77,467.933 1173.13,468.064 \n  1174.49,468.195 1175.84,468.324 1177.2,468.452 1178.55,468.579 1179.91,468.705 1181.27,468.829 1182.62,468.953 1183.98,469.074 1185.33,469.195 1186.69,469.314 \n  1188.05,469.432 1189.4,469.549 1190.76,469.665 1192.11,469.779 1193.47,469.891 1194.83,470.003 1196.18,470.113 1197.54,470.222 1198.89,470.329 1200.25,470.435 \n  1201.61,470.54 1202.96,470.643 1204.32,470.745 1205.67,470.846 1207.03,470.945 1208.39,471.042 1209.74,471.138 1211.1,471.233 1212.45,471.326 1213.81,471.418 \n  1215.16,471.509 1216.52,471.598 1217.88,471.685 1219.23,471.771 1220.59,471.855 1221.94,471.938 1223.3,472.02 1224.66,472.1 1226.01,472.178 1227.37,472.255 \n  1228.72,472.33 1230.08,472.404 1231.44,472.476 1232.79,472.547 1234.15,472.616 1235.5,472.683 1236.86,472.749 1238.22,472.813 1239.57,472.875 1240.93,472.936 \n  1242.28,472.996 1243.64,473.053 1245,473.109 1246.35,473.164 1247.71,473.216 1249.06,473.267 1250.42,473.316 1251.78,473.364 1253.13,473.41 1254.49,473.454 \n  1255.84,473.496 1257.2,473.537 1258.56,473.576 1259.91,473.613 1261.27,473.648 1262.62,473.682 1263.98,473.714 1265.34,473.744 1266.69,473.772 1268.05,473.799 \n  1269.4,473.824 1270.76,473.846 1272.11,473.867 1273.47,473.887 1274.83,473.904 1276.18,473.919 1277.54,473.933 1278.89,473.945 1280.25,473.955 1281.61,473.963 \n  1282.96,473.969 1284.32,473.973 1285.67,473.975 1287.03,473.975 1288.39,473.974 1289.74,473.97 1291.1,473.965 1292.45,473.957 1293.81,473.948 1295.17,473.936 \n  1296.52,473.923 1297.88,473.907 1299.23,473.89 1300.59,473.871 1301.95,473.849 1303.3,473.826 1304.66,473.8 1306.01,473.773 1307.37,473.743 1308.73,473.711 \n  1310.08,473.678 1311.44,473.642 1312.79,473.604 1314.15,473.564 1315.51,473.522 1316.86,473.477 1318.22,473.431 1319.57,473.383 1320.93,473.332 1322.28,473.279 \n  1323.64,473.224 1325,473.167 1326.35,473.108 1327.71,473.046 1329.06,472.982 1330.42,472.917 1331.78,472.848 1333.13,472.778 1334.49,472.706 1335.84,472.631 \n  1337.2,472.554 1338.56,472.474 1339.91,472.393 1341.27,472.309 1342.62,472.223 1343.98,472.134 1345.34,472.044 1346.69,471.951 1348.05,471.855 1349.4,471.758 \n  1350.76,471.658 1352.12,471.555 1353.47,471.451 1354.83,471.344 1356.18,471.234 1357.54,471.122 1358.9,471.008 1360.25,470.891 1361.61,470.772 1362.96,470.651 \n  1364.32,470.527 1365.68,470.401 1367.03,470.272 1368.39,470.141 1369.74,470.008 1371.1,469.872 1372.46,469.733 1373.81,469.592 1375.17,469.448 1376.52,469.302 \n  1377.88,469.154 1379.23,469.003 1380.59,468.849 1381.95,468.693 1383.3,468.535 1384.66,468.373 1386.01,468.21 1387.37,468.043 1388.73,467.874 1390.08,467.703 \n  1391.44,467.529 1392.79,467.352 1394.15,467.173 1395.51,466.991 1396.86,466.806 1398.22,466.619 1399.57,466.429 1400.93,466.237 1402.29,466.042 1403.64,465.844 \n  1405,465.643 1406.35,465.44 1407.71,465.234 1409.07,465.026 1410.42,464.814 1411.78,464.6 1413.13,464.383 1414.49,464.164 1415.85,463.942 1417.2,463.717 \n  1418.56,463.489 1419.91,463.258 1421.27,463.025 1422.63,462.789 1423.98,462.55 1425.34,462.308 1426.69,462.063 1428.05,461.816 1429.41,461.566 1430.76,461.312 \n  1432.12,461.056 1433.47,460.798 1434.83,460.536 1436.18,460.271 1437.54,460.004 1438.9,459.733 1440.25,459.46 1441.61,459.184 1442.96,458.905 1444.32,458.623 \n  1445.68,458.338 1447.03,458.05 1448.39,457.759 1449.74,457.465 1451.1,457.168 1452.46,456.868 1453.81,456.565 1455.17,456.259 1456.52,455.95 1457.88,455.638 \n  1459.24,455.323 1460.59,455.006 1461.95,454.685 1463.3,454.36 1464.66,454.033 1466.02,453.703 1467.37,453.37 1468.73,453.033 1470.08,452.694 1471.44,452.351 \n  1472.8,452.006 1474.15,451.657 1475.51,451.305 1476.86,450.95 1478.22,450.591 1479.58,450.23 1480.93,449.865 1482.29,449.498 1483.64,449.127 1485,448.752 \n  1486.35,448.375 1487.71,447.994 1489.07,447.611 1490.42,447.224 1491.78,446.833 1493.13,446.44 1494.49,446.043 1495.85,445.643 1497.2,445.24 1498.56,444.833 \n  1499.91,444.423 1501.27,444.01 1502.63,443.594 1503.98,443.174 1505.34,442.751 1506.69,442.324 1508.05,441.894 1509.41,441.461 1510.76,441.025 1512.12,440.585 \n  \n  \"/>\n<circle clip-path=\"url(#clip8102)\" cx=\"213.965\" cy=\"587.061\" r=\"14\" fill=\"#e26f46\" fill-rule=\"evenodd\" fill-opacity=\"1\" stroke=\"#000000\" stroke-opacity=\"1\" stroke-width=\"1.6\"/>\n<circle clip-path=\"url(#clip8102)\" cx=\"609.055\" cy=\"413.663\" r=\"14\" fill=\"#e26f46\" fill-rule=\"evenodd\" fill-opacity=\"1\" stroke=\"#000000\" stroke-opacity=\"1\" stroke-width=\"1.6\"/>\n<circle clip-path=\"url(#clip8102)\" cx=\"947.704\" cy=\"436.28\" r=\"14\" fill=\"#e26f46\" fill-rule=\"evenodd\" fill-opacity=\"1\" stroke=\"#000000\" stroke-opacity=\"1\" stroke-width=\"1.6\"/>\n<circle clip-path=\"url(#clip8102)\" cx=\"1286.35\" cy=\"473.975\" r=\"14\" fill=\"#e26f46\" fill-rule=\"evenodd\" fill-opacity=\"1\" stroke=\"#000000\" stroke-opacity=\"1\" stroke-width=\"1.6\"/>\n<polyline clip-path=\"url(#clip8102)\" style=\"stroke:#3da44d; stroke-width:4; stroke-opacity:1; fill:none\" points=\"\n  157.523,465.548 158.879,464.675 160.235,463.811 161.591,462.956 162.947,462.109 164.303,461.271 165.659,460.442 167.015,459.621 168.371,458.808 169.727,458.004 \n  171.083,457.208 172.439,456.421 173.795,455.643 175.151,454.872 176.507,454.11 177.863,453.357 179.218,452.611 180.574,451.874 181.93,451.146 183.286,450.425 \n  184.642,449.713 185.998,449.009 187.354,448.313 188.71,447.626 190.066,446.946 191.422,446.275 192.778,445.611 194.134,444.956 195.49,444.309 196.846,443.67 \n  198.202,443.038 199.558,442.415 200.914,441.8 202.27,441.193 203.626,440.593 204.982,440.002 206.338,439.418 207.693,438.842 209.049,438.274 210.405,437.714 \n  211.761,437.161 213.117,436.617 214.473,436.08 215.829,435.55 217.185,435.029 218.541,434.515 219.897,434.008 221.253,433.51 222.609,433.018 223.965,432.535 \n  225.321,432.059 226.677,431.59 228.033,431.129 229.389,430.676 230.745,430.229 232.101,429.791 233.457,429.359 234.812,428.935 236.168,428.519 237.524,428.109 \n  238.88,427.707 240.236,427.313 241.592,426.925 242.948,426.545 244.304,426.172 245.66,425.806 247.016,425.447 248.372,425.096 249.728,424.752 251.084,424.414 \n  252.44,424.084 253.796,423.761 255.152,423.445 256.508,423.135 257.864,422.833 259.22,422.538 260.576,422.25 261.931,421.968 263.287,421.694 264.643,421.426 \n  265.999,421.165 267.355,420.912 268.711,420.664 270.067,420.424 271.423,420.19 272.779,419.963 274.135,419.743 275.491,419.53 276.847,419.323 278.203,419.122 \n  279.559,418.929 280.915,418.742 282.271,418.561 283.627,418.387 284.983,418.22 286.339,418.059 287.695,417.904 289.051,417.756 290.406,417.615 291.762,417.479 \n  293.118,417.35 294.474,417.228 295.83,417.112 297.186,417.002 298.542,416.898 299.898,416.801 301.254,416.71 302.61,416.625 303.966,416.546 305.322,416.474 \n  306.678,416.408 308.034,416.347 309.39,416.293 310.746,416.245 312.102,416.203 313.458,416.167 314.814,416.137 316.17,416.113 317.525,416.095 318.881,416.083 \n  320.237,416.077 321.593,416.076 322.949,416.082 324.305,416.093 325.661,416.111 327.017,416.134 328.373,416.162 329.729,416.197 331.085,416.237 332.441,416.283 \n  333.797,416.335 335.153,416.392 336.509,416.455 337.865,416.524 339.221,416.598 340.577,416.678 341.933,416.763 343.289,416.854 344.644,416.95 346,417.052 \n  347.356,417.159 348.712,417.272 350.068,417.39 351.424,417.513 352.78,417.642 354.136,417.776 355.492,417.915 356.848,418.06 358.204,418.21 359.56,418.365 \n  360.916,418.526 362.272,418.691 363.628,418.862 364.984,419.038 366.34,419.219 367.696,419.405 369.052,419.597 370.408,419.793 371.763,419.994 373.119,420.201 \n  374.475,420.412 375.831,420.628 377.187,420.849 378.543,421.076 379.899,421.307 381.255,421.543 382.611,421.783 383.967,422.029 385.323,422.279 386.679,422.534 \n  388.035,422.794 389.391,423.059 390.747,423.328 392.103,423.602 393.459,423.881 394.815,424.165 396.171,424.452 397.527,424.745 398.883,425.042 400.238,425.344 \n  401.594,425.65 402.95,425.961 404.306,426.276 405.662,426.595 407.018,426.92 408.374,427.248 409.73,427.581 411.086,427.918 412.442,428.26 413.798,428.605 \n  415.154,428.956 416.51,429.31 417.866,429.669 419.222,430.031 420.578,430.399 421.934,430.77 423.29,431.145 424.646,431.525 426.002,431.908 427.357,432.296 \n  428.713,432.688 430.069,433.084 431.425,433.483 432.781,433.887 434.137,434.295 435.493,434.707 436.849,435.122 438.205,435.542 439.561,435.965 440.917,436.393 \n  442.273,436.824 443.629,437.259 444.985,437.697 446.341,438.14 447.697,438.586 449.053,439.036 450.409,439.489 451.765,439.947 453.121,440.407 454.476,440.872 \n  455.832,441.34 457.188,441.812 458.544,442.287 459.9,442.766 461.256,443.248 462.612,443.734 463.968,444.223 465.324,444.715 466.68,445.211 468.036,445.711 \n  469.392,446.214 470.748,446.72 472.104,447.229 473.46,447.742 474.816,448.258 476.172,448.777 477.528,449.299 478.884,449.825 480.24,450.354 481.596,450.886 \n  482.951,451.421 484.307,451.959 485.663,452.501 487.019,453.045 488.375,453.593 489.731,454.143 491.087,454.696 492.443,455.253 493.799,455.812 495.155,456.374 \n  496.511,456.94 497.867,457.508 499.223,458.079 500.579,458.652 501.935,459.229 503.291,459.808 504.647,460.39 506.003,460.975 507.359,461.563 508.715,462.153 \n  510.07,462.746 511.426,463.341 512.782,463.94 514.138,464.54 515.494,465.144 516.85,465.75 518.206,466.358 519.562,466.969 520.918,467.582 522.274,468.198 \n  523.63,468.817 524.986,469.437 526.342,470.06 527.698,470.686 529.054,471.314 530.41,471.944 531.766,472.576 533.122,473.211 534.478,473.848 535.834,474.487 \n  537.189,475.129 538.545,475.772 539.901,476.418 541.257,477.066 542.613,477.716 543.969,478.368 545.325,479.022 546.681,479.678 548.037,480.336 549.393,480.997 \n  550.749,481.659 552.105,482.323 553.461,482.989 554.817,483.657 556.173,484.327 557.529,484.999 558.885,485.672 560.241,486.347 561.597,487.025 562.953,487.704 \n  564.309,488.384 565.664,489.067 567.02,489.751 568.376,490.436 569.732,491.124 571.088,491.813 572.444,492.503 573.8,493.195 575.156,493.889 576.512,494.584 \n  577.868,495.281 579.224,495.98 580.58,496.679 581.936,497.38 583.292,498.083 584.648,498.787 586.004,499.492 587.36,500.199 588.716,500.907 590.072,501.616 \n  591.428,502.327 592.783,503.039 594.139,503.752 595.495,504.466 596.851,505.182 598.207,505.898 599.563,506.616 600.919,507.335 602.275,508.055 603.631,508.776 \n  604.987,509.498 606.343,510.221 607.699,510.946 609.055,511.671 610.411,512.397 611.767,513.124 613.123,513.852 614.479,514.58 615.835,515.31 617.191,516.041 \n  618.547,516.772 619.902,517.504 621.258,518.237 622.614,518.97 623.97,519.705 625.326,520.44 626.682,521.175 628.038,521.912 629.394,522.649 630.75,523.386 \n  632.106,524.124 633.462,524.863 634.818,525.602 636.174,526.342 637.53,527.083 638.886,527.823 640.242,528.564 641.598,529.306 642.954,530.048 644.31,530.79 \n  645.666,531.533 647.021,532.276 648.377,533.02 649.733,533.763 651.089,534.507 652.445,535.251 653.801,535.995 655.157,536.74 656.513,537.485 657.869,538.23 \n  659.225,538.975 660.581,539.72 661.937,540.465 663.293,541.21 664.649,541.955 666.005,542.7 667.361,543.445 668.717,544.191 670.073,544.936 671.429,545.681 \n  672.785,546.426 674.141,547.17 675.496,547.915 676.852,548.659 678.208,549.403 679.564,550.147 680.92,550.891 682.276,551.635 683.632,552.378 684.988,553.12 \n  686.344,553.863 687.7,554.605 689.056,555.347 690.412,556.088 691.768,556.829 693.124,557.569 694.48,558.309 695.836,559.049 697.192,559.788 698.548,560.526 \n  699.904,561.264 701.26,562.001 702.615,562.737 703.971,563.473 705.327,564.208 706.683,564.943 708.039,565.677 709.395,566.41 710.751,567.142 712.107,567.874 \n  713.463,568.604 714.819,569.334 716.175,570.063 717.531,570.791 718.887,571.519 720.243,572.245 721.599,572.97 722.955,573.695 724.311,574.418 725.667,575.141 \n  727.023,575.862 728.379,576.582 729.734,577.302 731.09,578.02 732.446,578.737 733.802,579.452 735.158,580.167 736.514,580.88 737.87,581.593 739.226,582.304 \n  740.582,583.013 741.938,583.722 743.294,584.429 744.65,585.135 746.006,585.839 747.362,586.542 748.718,587.244 750.074,587.944 751.43,588.642 752.786,589.34 \n  754.142,590.035 755.498,590.729 756.854,591.422 758.209,592.113 759.565,592.803 760.921,593.49 762.277,594.177 763.633,594.861 764.989,595.544 766.345,596.225 \n  767.701,596.905 769.057,597.582 770.413,598.258 771.769,598.932 773.125,599.604 774.481,600.275 775.837,600.943 777.193,601.61 778.549,602.275 779.905,602.937 \n  781.261,603.598 782.617,604.257 783.973,604.914 785.328,605.568 786.684,606.221 788.04,606.872 789.396,607.52 790.752,608.166 792.108,608.811 793.464,609.453 \n  794.82,610.093 796.176,610.73 797.532,611.365 798.888,611.999 800.244,612.629 801.6,613.258 802.956,613.884 804.312,614.508 805.668,615.129 807.024,615.748 \n  808.38,616.365 809.736,616.979 811.092,617.591 812.447,618.2 813.803,618.806 815.159,619.41 816.515,620.012 817.871,620.611 819.227,621.207 820.583,621.801 \n  821.939,622.392 823.295,622.98 824.651,623.566 826.007,624.149 827.363,624.729 828.719,625.306 830.075,625.881 831.431,626.452 832.787,627.021 834.143,627.587 \n  835.499,628.15 836.855,628.711 838.211,629.268 839.567,629.822 840.922,630.373 842.278,630.922 843.634,631.467 844.99,632.009 846.346,632.548 847.702,633.084 \n  849.058,633.617 850.414,634.147 851.77,634.673 853.126,635.197 854.482,635.717 855.838,636.234 857.194,636.748 858.55,637.258 859.906,637.765 861.262,638.269 \n  862.618,638.769 863.974,639.266 865.33,639.76 866.686,640.25 868.041,640.737 869.397,641.22 870.753,641.699 872.109,642.176 873.465,642.648 874.821,643.117 \n  876.177,643.583 877.533,644.045 878.889,644.503 880.245,644.958 881.601,645.409 882.957,645.856 884.313,646.299 885.669,646.739 887.025,647.175 888.381,647.607 \n  889.737,648.036 891.093,648.46 892.449,648.881 893.805,649.298 895.16,649.71 896.516,650.119 897.872,650.524 899.228,650.925 900.584,651.322 901.94,651.715 \n  903.296,652.104 904.652,652.489 906.008,652.869 907.364,653.246 908.72,653.618 910.076,653.987 911.432,654.351 912.788,654.711 914.144,655.066 915.5,655.418 \n  916.856,655.765 918.212,656.107 919.568,656.446 920.924,656.78 922.279,657.11 923.635,657.435 924.991,657.756 926.347,658.072 927.703,658.384 929.059,658.692 \n  930.415,658.995 931.771,659.293 933.127,659.587 934.483,659.876 935.839,660.161 937.195,660.441 938.551,660.716 939.907,660.987 941.263,661.253 942.619,661.514 \n  943.975,661.771 945.331,662.023 946.687,662.27 948.043,662.512 949.399,662.749 950.754,662.981 952.11,663.209 953.466,663.432 954.822,663.649 956.178,663.862 \n  957.534,664.07 958.89,664.273 960.246,664.47 961.602,664.663 962.958,664.851 964.314,665.033 965.67,665.211 967.026,665.383 968.382,665.55 969.738,665.712 \n  971.094,665.869 972.45,666.02 973.806,666.166 975.162,666.307 976.518,666.443 977.873,666.573 979.229,666.698 980.585,666.818 981.941,666.932 983.297,667.04 \n  984.653,667.144 986.009,667.242 987.365,667.334 988.721,667.421 990.077,667.502 991.433,667.578 992.789,667.648 994.145,667.713 995.501,667.772 996.857,667.825 \n  998.213,667.872 999.569,667.914 1000.92,667.951 1002.28,667.981 1003.64,668.006 1004.99,668.025 1006.35,668.038 1007.7,668.045 1009.06,668.046 1010.42,668.042 \n  1011.77,668.031 1013.13,668.015 1014.48,667.993 1015.84,667.964 1017.2,667.93 1018.55,667.89 1019.91,667.844 1021.26,667.791 1022.62,667.733 1023.98,667.668 \n  1025.33,667.597 1026.69,667.52 1028.04,667.437 1029.4,667.348 1030.76,667.252 1032.11,667.151 1033.47,667.042 1034.82,666.928 1036.18,666.807 1037.54,666.68 \n  1038.89,666.547 1040.25,666.407 1041.6,666.261 1042.96,666.108 1044.32,665.949 1045.67,665.784 1047.03,665.611 1048.38,665.433 1049.74,665.248 1051.09,665.056 \n  1052.45,664.857 1053.81,664.652 1055.16,664.441 1056.52,664.222 1057.87,663.997 1059.23,663.766 1060.59,663.527 1061.94,663.282 1063.3,663.03 1064.65,662.771 \n  1066.01,662.505 1067.37,662.233 1068.72,661.953 1070.08,661.667 1071.43,661.374 1072.79,661.074 1074.15,660.766 1075.5,660.452 1076.86,660.131 1078.21,659.803 \n  1079.57,659.468 1080.93,659.125 1082.28,658.776 1083.64,658.419 1084.99,658.055 1086.35,657.684 1087.71,657.306 1089.06,656.921 1090.42,656.528 1091.77,656.128 \n  1093.13,655.721 1094.49,655.306 1095.84,654.885 1097.2,654.455 1098.55,654.019 1099.91,653.575 1101.26,653.123 1102.62,652.664 1103.98,652.198 1105.33,651.724 \n  1106.69,651.242 1108.04,650.753 1109.4,650.257 1110.76,649.753 1112.11,649.241 1113.47,648.721 1114.82,648.194 1116.18,647.659 1117.54,647.117 1118.89,646.567 \n  1120.25,646.009 1121.6,645.443 1122.96,644.869 1124.32,644.288 1125.67,643.698 1127.03,643.101 1128.38,642.496 1129.74,641.883 1131.1,641.262 1132.45,640.633 \n  1133.81,639.996 1135.16,639.351 1136.52,638.698 1137.88,638.037 1139.23,637.368 1140.59,636.691 1141.94,636.006 1143.3,635.312 1144.66,634.611 1146.01,633.901 \n  1147.37,633.183 1148.72,632.456 1150.08,631.722 1151.44,630.979 1152.79,630.227 1154.15,629.468 1155.5,628.7 1156.86,627.924 1158.21,627.139 1159.57,626.346 \n  1160.93,625.544 1162.28,624.734 1163.64,623.915 1164.99,623.088 1166.35,622.253 1167.71,621.408 1169.06,620.555 1170.42,619.694 1171.77,618.824 1173.13,617.945 \n  1174.49,617.058 1175.84,616.161 1177.2,615.257 1178.55,614.343 1179.91,613.42 1181.27,612.489 1182.62,611.549 1183.98,610.6 1185.33,609.642 1186.69,608.676 \n  1188.05,607.7 1189.4,606.716 1190.76,605.722 1192.11,604.72 1193.47,603.708 1194.83,602.688 1196.18,601.658 1197.54,600.619 1198.89,599.571 1200.25,598.515 \n  1201.61,597.448 1202.96,596.373 1204.32,595.289 1205.67,594.195 1207.03,593.092 1208.39,591.98 1209.74,590.859 1211.1,589.728 1212.45,588.588 1213.81,587.438 \n  1215.16,586.279 1216.52,585.111 1217.88,583.933 1219.23,582.746 1220.59,581.55 1221.94,580.343 1223.3,579.128 1224.66,577.903 1226.01,576.668 1227.37,575.423 \n  1228.72,574.17 1230.08,572.906 1231.44,571.633 1232.79,570.35 1234.15,569.057 1235.5,567.755 1236.86,566.443 1238.22,565.121 1239.57,563.789 1240.93,562.447 \n  1242.28,561.096 1243.64,559.735 1245,558.364 1246.35,556.982 1247.71,555.591 1249.06,554.191 1250.42,552.78 1251.78,551.359 1253.13,549.928 1254.49,548.487 \n  1255.84,547.035 1257.2,545.574 1258.56,544.103 1259.91,542.621 1261.27,541.13 1262.62,539.628 1263.98,538.116 1265.34,536.593 1266.69,535.061 1268.05,533.518 \n  1269.4,531.965 1270.76,530.401 1272.11,528.827 1273.47,527.243 1274.83,525.648 1276.18,524.043 1277.54,522.428 1278.89,520.802 1280.25,519.165 1281.61,517.518 \n  1282.96,515.861 1284.32,514.193 1285.67,512.514 1287.03,510.825 1288.39,509.125 1289.74,507.414 1291.1,505.693 1292.45,503.961 1293.81,502.218 1295.17,500.465 \n  1296.52,498.7 1297.88,496.925 1299.23,495.139 1300.59,493.343 1301.95,491.535 1303.3,489.717 1304.66,487.887 1306.01,486.047 1307.37,484.196 1308.73,482.333 \n  1310.08,480.46 1311.44,478.576 1312.79,476.681 1314.15,474.774 1315.51,472.857 1316.86,470.928 1318.22,468.988 1319.57,467.037 1320.93,465.075 1322.28,463.102 \n  1323.64,461.117 1325,459.121 1326.35,457.114 1327.71,455.096 1329.06,453.066 1330.42,451.025 1331.78,448.972 1333.13,446.909 1334.49,444.833 1335.84,442.747 \n  1337.2,440.648 1338.56,438.539 1339.91,436.417 1341.27,434.285 1342.62,432.14 1343.98,429.984 1345.34,427.817 1346.69,425.638 1348.05,423.447 1349.4,421.244 \n  1350.76,419.03 1352.12,416.804 1353.47,414.567 1354.83,412.317 1356.18,410.056 1357.54,407.783 1358.9,405.498 1360.25,403.201 1361.61,400.893 1362.96,398.572 \n  1364.32,396.24 1365.68,393.895 1367.03,391.539 1368.39,389.17 1369.74,386.79 1371.1,384.397 1372.46,381.993 1373.81,379.576 1375.17,377.147 1376.52,374.707 \n  1377.88,372.254 1379.23,369.788 1380.59,367.311 1381.95,364.821 1383.3,362.319 1384.66,359.805 1386.01,357.278 1387.37,354.739 1388.73,352.188 1390.08,349.625 \n  1391.44,347.049 1392.79,344.46 1394.15,341.859 1395.51,339.246 1396.86,336.62 1398.22,333.982 1399.57,331.331 1400.93,328.668 1402.29,325.992 1403.64,323.303 \n  1405,320.602 1406.35,317.888 1407.71,315.162 1409.07,312.422 1410.42,309.67 1411.78,306.906 1413.13,304.128 1414.49,301.338 1415.85,298.535 1417.2,295.719 \n  1418.56,292.89 1419.91,290.049 1421.27,287.194 1422.63,284.327 1423.98,281.446 1425.34,278.553 1426.69,275.646 1428.05,272.727 1429.41,269.794 1430.76,266.849 \n  1432.12,263.89 1433.47,260.919 1434.83,257.934 1436.18,254.936 1437.54,251.924 1438.9,248.9 1440.25,245.862 1441.61,242.811 1442.96,239.747 1444.32,236.67 \n  1445.68,233.579 1447.03,230.475 1448.39,227.357 1449.74,224.226 1451.1,221.082 1452.46,217.924 1453.81,214.753 1455.17,211.568 1456.52,208.37 1457.88,205.158 \n  1459.24,201.933 1460.59,198.694 1461.95,195.441 1463.3,192.175 1464.66,188.896 1466.02,185.602 1467.37,182.295 1468.73,178.974 1470.08,175.639 1471.44,172.291 \n  1472.8,168.929 1474.15,165.553 1475.51,162.163 1476.86,158.76 1478.22,155.342 1479.58,151.911 1480.93,148.465 1482.29,145.006 1483.64,141.533 1485,138.046 \n  1486.35,134.544 1487.71,131.029 1489.07,127.5 1490.42,123.956 1491.78,120.398 1493.13,116.827 1494.49,113.241 1495.85,109.641 1497.2,106.027 1498.56,102.398 \n  1499.91,98.7554 1501.27,95.0984 1502.63,91.4271 1503.98,87.7414 1505.34,84.0415 1506.69,80.3272 1508.05,76.5984 1509.41,72.8553 1510.76,69.0977 1512.12,65.3257 \n  \n  \"/>\n<path clip-path=\"url(#clip8102)\" d=\"M197.965 420.28 L197.965 452.28 L229.965 452.28 L229.965 420.28 L197.965 420.28 Z\" fill=\"#c271d2\" fill-rule=\"evenodd\" fill-opacity=\"1\" stroke=\"#000000\" stroke-opacity=\"1\" stroke-width=\"1.6\"/>\n<path clip-path=\"url(#clip8102)\" d=\"M593.055 495.671 L593.055 527.671 L625.055 527.671 L625.055 495.671 L593.055 495.671 Z\" fill=\"#c271d2\" fill-rule=\"evenodd\" fill-opacity=\"1\" stroke=\"#000000\" stroke-opacity=\"1\" stroke-width=\"1.6\"/>\n<path clip-path=\"url(#clip8102)\" d=\"M931.704 646.452 L931.704 678.452 L963.704 678.452 L963.704 646.452 L931.704 646.452 Z\" fill=\"#c271d2\" fill-rule=\"evenodd\" fill-opacity=\"1\" stroke=\"#000000\" stroke-opacity=\"1\" stroke-width=\"1.6\"/>\n<path clip-path=\"url(#clip8102)\" d=\"M1270.35 495.671 L1270.35 527.671 L1302.35 527.671 L1302.35 495.671 L1270.35 495.671 Z\" fill=\"#c271d2\" fill-rule=\"evenodd\" fill-opacity=\"1\" stroke=\"#000000\" stroke-opacity=\"1\" stroke-width=\"1.6\"/>\n</svg>\n",
      "text/html": [
       "<?xml version=\"1.0\" encoding=\"utf-8\"?>\n",
       "<svg xmlns=\"http://www.w3.org/2000/svg\" xmlns:xlink=\"http://www.w3.org/1999/xlink\" width=\"400\" height=\"200\" viewBox=\"0 0 1600 800\">\n",
       "<defs>\n",
       "  <clipPath id=\"clip8400\">\n",
       "    <rect x=\"0\" y=\"0\" width=\"1600\" height=\"800\"/>\n",
       "  </clipPath>\n",
       "</defs>\n",
       "<path clip-path=\"url(#clip8400)\" d=\"\n",
       "M0 800 L1600 800 L1600 0 L0 0  Z\n",
       "  \" fill=\"#ffffff\" fill-rule=\"evenodd\" fill-opacity=\"1\"/>\n",
       "<defs>\n",
       "  <clipPath id=\"clip8401\">\n",
       "    <rect x=\"320\" y=\"0\" width=\"1121\" height=\"800\"/>\n",
       "  </clipPath>\n",
       "</defs>\n",
       "<path clip-path=\"url(#clip8400)\" d=\"\n",
       "M116.885 703.088 L1552.76 703.088 L1552.76 47.2441 L116.885 47.2441  Z\n",
       "  \" fill=\"#ffffff\" fill-rule=\"evenodd\" fill-opacity=\"1\"/>\n",
       "<defs>\n",
       "  <clipPath id=\"clip8402\">\n",
       "    <rect x=\"116\" y=\"47\" width=\"1437\" height=\"657\"/>\n",
       "  </clipPath>\n",
       "</defs>\n",
       "<polyline clip-path=\"url(#clip8402)\" style=\"stroke:#000000; stroke-width:2; stroke-opacity:0.1; fill:none\" points=\"\n",
       "  270.406,703.088 270.406,47.2441 \n",
       "  \"/>\n",
       "<polyline clip-path=\"url(#clip8402)\" style=\"stroke:#000000; stroke-width:2; stroke-opacity:0.1; fill:none\" points=\"\n",
       "  552.613,703.088 552.613,47.2441 \n",
       "  \"/>\n",
       "<polyline clip-path=\"url(#clip8402)\" style=\"stroke:#000000; stroke-width:2; stroke-opacity:0.1; fill:none\" points=\"\n",
       "  834.821,703.088 834.821,47.2441 \n",
       "  \"/>\n",
       "<polyline clip-path=\"url(#clip8402)\" style=\"stroke:#000000; stroke-width:2; stroke-opacity:0.1; fill:none\" points=\"\n",
       "  1117.03,703.088 1117.03,47.2441 \n",
       "  \"/>\n",
       "<polyline clip-path=\"url(#clip8402)\" style=\"stroke:#000000; stroke-width:2; stroke-opacity:0.1; fill:none\" points=\"\n",
       "  1399.24,703.088 1399.24,47.2441 \n",
       "  \"/>\n",
       "<polyline clip-path=\"url(#clip8402)\" style=\"stroke:#000000; stroke-width:2; stroke-opacity:0.1; fill:none\" points=\"\n",
       "  116.885,678.783 1552.76,678.783 \n",
       "  \"/>\n",
       "<polyline clip-path=\"url(#clip8402)\" style=\"stroke:#000000; stroke-width:2; stroke-opacity:0.1; fill:none\" points=\"\n",
       "  116.885,523.999 1552.76,523.999 \n",
       "  \"/>\n",
       "<polyline clip-path=\"url(#clip8402)\" style=\"stroke:#000000; stroke-width:2; stroke-opacity:0.1; fill:none\" points=\"\n",
       "  116.885,369.216 1552.76,369.216 \n",
       "  \"/>\n",
       "<polyline clip-path=\"url(#clip8402)\" style=\"stroke:#000000; stroke-width:2; stroke-opacity:0.1; fill:none\" points=\"\n",
       "  116.885,214.432 1552.76,214.432 \n",
       "  \"/>\n",
       "<polyline clip-path=\"url(#clip8402)\" style=\"stroke:#000000; stroke-width:2; stroke-opacity:0.1; fill:none\" points=\"\n",
       "  116.885,59.6486 1552.76,59.6486 \n",
       "  \"/>\n",
       "<polyline clip-path=\"url(#clip8400)\" style=\"stroke:#000000; stroke-width:4; stroke-opacity:1; fill:none\" points=\"\n",
       "  116.885,703.088 1552.76,703.088 \n",
       "  \"/>\n",
       "<polyline clip-path=\"url(#clip8400)\" style=\"stroke:#000000; stroke-width:4; stroke-opacity:1; fill:none\" points=\"\n",
       "  116.885,703.088 116.885,47.2441 \n",
       "  \"/>\n",
       "<polyline clip-path=\"url(#clip8400)\" style=\"stroke:#000000; stroke-width:4; stroke-opacity:1; fill:none\" points=\"\n",
       "  270.406,703.088 270.406,695.218 \n",
       "  \"/>\n",
       "<polyline clip-path=\"url(#clip8400)\" style=\"stroke:#000000; stroke-width:4; stroke-opacity:1; fill:none\" points=\"\n",
       "  552.613,703.088 552.613,695.218 \n",
       "  \"/>\n",
       "<polyline clip-path=\"url(#clip8400)\" style=\"stroke:#000000; stroke-width:4; stroke-opacity:1; fill:none\" points=\"\n",
       "  834.821,703.088 834.821,695.218 \n",
       "  \"/>\n",
       "<polyline clip-path=\"url(#clip8400)\" style=\"stroke:#000000; stroke-width:4; stroke-opacity:1; fill:none\" points=\"\n",
       "  1117.03,703.088 1117.03,695.218 \n",
       "  \"/>\n",
       "<polyline clip-path=\"url(#clip8400)\" style=\"stroke:#000000; stroke-width:4; stroke-opacity:1; fill:none\" points=\"\n",
       "  1399.24,703.088 1399.24,695.218 \n",
       "  \"/>\n",
       "<polyline clip-path=\"url(#clip8400)\" style=\"stroke:#000000; stroke-width:4; stroke-opacity:1; fill:none\" points=\"\n",
       "  116.885,678.783 134.116,678.783 \n",
       "  \"/>\n",
       "<polyline clip-path=\"url(#clip8400)\" style=\"stroke:#000000; stroke-width:4; stroke-opacity:1; fill:none\" points=\"\n",
       "  116.885,523.999 134.116,523.999 \n",
       "  \"/>\n",
       "<polyline clip-path=\"url(#clip8400)\" style=\"stroke:#000000; stroke-width:4; stroke-opacity:1; fill:none\" points=\"\n",
       "  116.885,369.216 134.116,369.216 \n",
       "  \"/>\n",
       "<polyline clip-path=\"url(#clip8400)\" style=\"stroke:#000000; stroke-width:4; stroke-opacity:1; fill:none\" points=\"\n",
       "  116.885,214.432 134.116,214.432 \n",
       "  \"/>\n",
       "<polyline clip-path=\"url(#clip8400)\" style=\"stroke:#000000; stroke-width:4; stroke-opacity:1; fill:none\" points=\"\n",
       "  116.885,59.6486 134.116,59.6486 \n",
       "  \"/>\n",
       "<path clip-path=\"url(#clip8400)\" d=\"M 0 0 M232.791 737.676 L245.267 737.676 L245.267 741.472 L232.791 741.472 L232.791 737.676 Z\" fill=\"#000000\" fill-rule=\"evenodd\" fill-opacity=\"1\" /><path clip-path=\"url(#clip8400)\" d=\"M 0 0 M251.147 748.625 L258.786 748.625 L258.786 722.259 L250.476 723.926 L250.476 719.667 L258.74 718 L263.415 718 L263.415 748.625 L271.054 748.625 L271.054 752.56 L251.147 752.56 L251.147 748.625 Z\" fill=\"#000000\" fill-rule=\"evenodd\" fill-opacity=\"1\" /><path clip-path=\"url(#clip8400)\" d=\"M 0 0 M276.124 746.68 L281.008 746.68 L281.008 752.56 L276.124 752.56 L276.124 746.68 Z\" fill=\"#000000\" fill-rule=\"evenodd\" fill-opacity=\"1\" /><path clip-path=\"url(#clip8400)\" d=\"M 0 0 M296.077 721.079 Q292.466 721.079 290.638 724.643 Q288.832 728.185 288.832 735.315 Q288.832 742.421 290.638 745.986 Q292.466 749.527 296.077 749.527 Q299.712 749.527 301.517 745.986 Q303.346 742.421 303.346 735.315 Q303.346 728.185 301.517 724.643 Q299.712 721.079 296.077 721.079 M296.077 717.375 Q301.887 717.375 304.943 721.981 Q308.022 726.565 308.022 735.315 Q308.022 744.041 304.943 748.648 Q301.887 753.231 296.077 753.231 Q290.267 753.231 287.189 748.648 Q284.133 744.041 284.133 735.315 Q284.133 726.565 287.189 721.981 Q290.267 717.375 296.077 717.375 Z\" fill=\"#000000\" fill-rule=\"evenodd\" fill-opacity=\"1\" /><path clip-path=\"url(#clip8400)\" d=\"M 0 0 M514.882 737.676 L527.359 737.676 L527.359 741.472 L514.882 741.472 L514.882 737.676 Z\" fill=\"#000000\" fill-rule=\"evenodd\" fill-opacity=\"1\" /><path clip-path=\"url(#clip8400)\" d=\"M 0 0 M542.428 721.079 Q538.817 721.079 536.989 724.643 Q535.183 728.185 535.183 735.315 Q535.183 742.421 536.989 745.986 Q538.817 749.527 542.428 749.527 Q546.063 749.527 547.868 745.986 Q549.697 742.421 549.697 735.315 Q549.697 728.185 547.868 724.643 Q546.063 721.079 542.428 721.079 M542.428 717.375 Q548.238 717.375 551.294 721.981 Q554.373 726.565 554.373 735.315 Q554.373 744.041 551.294 748.648 Q548.238 753.231 542.428 753.231 Q536.618 753.231 533.539 748.648 Q530.484 744.041 530.484 735.315 Q530.484 726.565 533.539 721.981 Q536.618 717.375 542.428 717.375 Z\" fill=\"#000000\" fill-rule=\"evenodd\" fill-opacity=\"1\" /><path clip-path=\"url(#clip8400)\" d=\"M 0 0 M559.442 746.68 L564.326 746.68 L564.326 752.56 L559.442 752.56 L559.442 746.68 Z\" fill=\"#000000\" fill-rule=\"evenodd\" fill-opacity=\"1\" /><path clip-path=\"url(#clip8400)\" d=\"M 0 0 M569.442 718 L587.798 718 L587.798 721.935 L573.724 721.935 L573.724 730.407 Q574.743 730.06 575.761 729.898 Q576.78 729.713 577.798 729.713 Q583.585 729.713 586.965 732.884 Q590.345 736.055 590.345 741.472 Q590.345 747.051 586.873 750.152 Q583.4 753.231 577.081 753.231 Q574.905 753.231 572.636 752.861 Q570.391 752.49 567.984 751.75 L567.984 747.051 Q570.067 748.185 572.289 748.74 Q574.511 749.296 576.988 749.296 Q580.993 749.296 583.331 747.19 Q585.669 745.083 585.669 741.472 Q585.669 737.861 583.331 735.754 Q580.993 733.648 576.988 733.648 Q575.113 733.648 573.238 734.065 Q571.386 734.481 569.442 735.361 L569.442 718 Z\" fill=\"#000000\" fill-rule=\"evenodd\" fill-opacity=\"1\" /><path clip-path=\"url(#clip8400)\" d=\"M 0 0 M816.337 721.079 Q812.726 721.079 810.897 724.643 Q809.092 728.185 809.092 735.315 Q809.092 742.421 810.897 745.986 Q812.726 749.527 816.337 749.527 Q819.971 749.527 821.777 745.986 Q823.605 742.421 823.605 735.315 Q823.605 728.185 821.777 724.643 Q819.971 721.079 816.337 721.079 M816.337 717.375 Q822.147 717.375 825.203 721.981 Q828.281 726.565 828.281 735.315 Q828.281 744.041 825.203 748.648 Q822.147 753.231 816.337 753.231 Q810.527 753.231 807.448 748.648 Q804.393 744.041 804.393 735.315 Q804.393 726.565 807.448 721.981 Q810.527 717.375 816.337 717.375 Z\" fill=\"#000000\" fill-rule=\"evenodd\" fill-opacity=\"1\" /><path clip-path=\"url(#clip8400)\" d=\"M 0 0 M833.351 746.68 L838.235 746.68 L838.235 752.56 L833.351 752.56 L833.351 746.68 Z\" fill=\"#000000\" fill-rule=\"evenodd\" fill-opacity=\"1\" /><path clip-path=\"url(#clip8400)\" d=\"M 0 0 M853.304 721.079 Q849.693 721.079 847.865 724.643 Q846.059 728.185 846.059 735.315 Q846.059 742.421 847.865 745.986 Q849.693 749.527 853.304 749.527 Q856.939 749.527 858.744 745.986 Q860.573 742.421 860.573 735.315 Q860.573 728.185 858.744 724.643 Q856.939 721.079 853.304 721.079 M853.304 717.375 Q859.115 717.375 862.17 721.981 Q865.249 726.565 865.249 735.315 Q865.249 744.041 862.17 748.648 Q859.115 753.231 853.304 753.231 Q847.494 753.231 844.416 748.648 Q841.36 744.041 841.36 735.315 Q841.36 726.565 844.416 721.981 Q847.494 717.375 853.304 717.375 Z\" fill=\"#000000\" fill-rule=\"evenodd\" fill-opacity=\"1\" /><path clip-path=\"url(#clip8400)\" d=\"M 0 0 M1099.04 721.079 Q1095.43 721.079 1093.6 724.643 Q1091.8 728.185 1091.8 735.315 Q1091.8 742.421 1093.6 745.986 Q1095.43 749.527 1099.04 749.527 Q1102.68 749.527 1104.48 745.986 Q1106.31 742.421 1106.31 735.315 Q1106.31 728.185 1104.48 724.643 Q1102.68 721.079 1099.04 721.079 M1099.04 717.375 Q1104.85 717.375 1107.91 721.981 Q1110.99 726.565 1110.99 735.315 Q1110.99 744.041 1107.91 748.648 Q1104.85 753.231 1099.04 753.231 Q1093.23 753.231 1090.15 748.648 Q1087.1 744.041 1087.1 735.315 Q1087.1 726.565 1090.15 721.981 Q1093.23 717.375 1099.04 717.375 Z\" fill=\"#000000\" fill-rule=\"evenodd\" fill-opacity=\"1\" /><path clip-path=\"url(#clip8400)\" d=\"M 0 0 M1116.06 746.68 L1120.94 746.68 L1120.94 752.56 L1116.06 752.56 L1116.06 746.68 Z\" fill=\"#000000\" fill-rule=\"evenodd\" fill-opacity=\"1\" /><path clip-path=\"url(#clip8400)\" d=\"M 0 0 M1126.06 718 L1144.41 718 L1144.41 721.935 L1130.34 721.935 L1130.34 730.407 Q1131.36 730.06 1132.38 729.898 Q1133.39 729.713 1134.41 729.713 Q1140.2 729.713 1143.58 732.884 Q1146.96 736.055 1146.96 741.472 Q1146.96 747.051 1143.49 750.152 Q1140.01 753.231 1133.69 753.231 Q1131.52 753.231 1129.25 752.861 Q1127 752.49 1124.6 751.75 L1124.6 747.051 Q1126.68 748.185 1128.9 748.74 Q1131.13 749.296 1133.6 749.296 Q1137.61 749.296 1139.94 747.19 Q1142.28 745.083 1142.28 741.472 Q1142.28 737.861 1139.94 735.754 Q1137.61 733.648 1133.6 733.648 Q1131.73 733.648 1129.85 734.065 Q1128 734.481 1126.06 735.361 L1126.06 718 Z\" fill=\"#000000\" fill-rule=\"evenodd\" fill-opacity=\"1\" /><path clip-path=\"url(#clip8400)\" d=\"M 0 0 M1371.13 748.625 L1378.77 748.625 L1378.77 722.259 L1370.46 723.926 L1370.46 719.667 L1378.73 718 L1383.4 718 L1383.4 748.625 L1391.04 748.625 L1391.04 752.56 L1371.13 752.56 L1371.13 748.625 Z\" fill=\"#000000\" fill-rule=\"evenodd\" fill-opacity=\"1\" /><path clip-path=\"url(#clip8400)\" d=\"M 0 0 M1396.11 746.68 L1400.99 746.68 L1400.99 752.56 L1396.11 752.56 L1396.11 746.68 Z\" fill=\"#000000\" fill-rule=\"evenodd\" fill-opacity=\"1\" /><path clip-path=\"url(#clip8400)\" d=\"M 0 0 M1416.06 721.079 Q1412.45 721.079 1410.62 724.643 Q1408.82 728.185 1408.82 735.315 Q1408.82 742.421 1410.62 745.986 Q1412.45 749.527 1416.06 749.527 Q1419.7 749.527 1421.5 745.986 Q1423.33 742.421 1423.33 735.315 Q1423.33 728.185 1421.5 724.643 Q1419.7 721.079 1416.06 721.079 M1416.06 717.375 Q1421.87 717.375 1424.93 721.981 Q1428.01 726.565 1428.01 735.315 Q1428.01 744.041 1424.93 748.648 Q1421.87 753.231 1416.06 753.231 Q1410.25 753.231 1407.17 748.648 Q1404.12 744.041 1404.12 735.315 Q1404.12 726.565 1407.17 721.981 Q1410.25 717.375 1416.06 717.375 Z\" fill=\"#000000\" fill-rule=\"evenodd\" fill-opacity=\"1\" /><path clip-path=\"url(#clip8400)\" d=\"M 0 0 M62.9921 681.179 L75.4689 681.179 L75.4689 684.975 L62.9921 684.975 L62.9921 681.179 Z\" fill=\"#000000\" fill-rule=\"evenodd\" fill-opacity=\"1\" /><path clip-path=\"url(#clip8400)\" d=\"M 0 0 M84.5661 692.128 L100.885 692.128 L100.885 696.063 L78.9411 696.063 L78.9411 692.128 Q81.6031 689.373 86.1864 684.744 Q90.7929 680.091 91.9735 678.748 Q94.2188 676.225 95.0984 674.489 Q96.0012 672.73 96.0012 671.04 Q96.0012 668.285 94.0568 666.549 Q92.1355 664.813 89.0337 664.813 Q86.8346 664.813 84.3809 665.577 Q81.9504 666.341 79.1726 667.892 L79.1726 663.17 Q81.9967 662.035 84.4503 661.457 Q86.904 660.878 88.9411 660.878 Q94.3114 660.878 97.5058 663.563 Q100.7 666.248 100.7 670.739 Q100.7 672.869 99.8901 674.79 Q99.103 676.688 96.9966 679.281 Q96.4179 679.952 93.316 683.17 Q90.2142 686.364 84.5661 692.128 Z\" fill=\"#000000\" fill-rule=\"evenodd\" fill-opacity=\"1\" /><path clip-path=\"url(#clip8400)\" d=\"M 0 0 M88.9411 509.798 Q85.33 509.798 83.5013 513.363 Q81.6957 516.905 81.6957 524.034 Q81.6957 531.141 83.5013 534.705 Q85.33 538.247 88.9411 538.247 Q92.5753 538.247 94.3808 534.705 Q96.2095 531.141 96.2095 524.034 Q96.2095 516.905 94.3808 513.363 Q92.5753 509.798 88.9411 509.798 M88.9411 506.094 Q94.7512 506.094 97.8068 510.701 Q100.885 515.284 100.885 524.034 Q100.885 532.761 97.8068 537.367 Q94.7512 541.951 88.9411 541.951 Q83.1309 541.951 80.0522 537.367 Q76.9967 532.761 76.9967 524.034 Q76.9967 515.284 80.0522 510.701 Q83.1309 506.094 88.9411 506.094 Z\" fill=\"#000000\" fill-rule=\"evenodd\" fill-opacity=\"1\" /><path clip-path=\"url(#clip8400)\" d=\"M 0 0 M84.5661 382.561 L100.885 382.561 L100.885 386.496 L78.9411 386.496 L78.9411 382.561 Q81.6031 379.806 86.1864 375.176 Q90.7929 370.524 91.9735 369.181 Q94.2188 366.658 95.0984 364.922 Q96.0012 363.163 96.0012 361.473 Q96.0012 358.718 94.0568 356.982 Q92.1355 355.246 89.0337 355.246 Q86.8346 355.246 84.3809 356.01 Q81.9504 356.774 79.1726 358.325 L79.1726 353.602 Q81.9967 352.468 84.4503 351.89 Q86.904 351.311 88.9411 351.311 Q94.3114 351.311 97.5058 353.996 Q100.7 356.681 100.7 361.172 Q100.7 363.302 99.8901 365.223 Q99.103 367.121 96.9966 369.714 Q96.4179 370.385 93.316 373.602 Q90.2142 376.797 84.5661 382.561 Z\" fill=\"#000000\" fill-rule=\"evenodd\" fill-opacity=\"1\" /><path clip-path=\"url(#clip8400)\" d=\"M 0 0 M91.3022 201.226 L79.4967 219.675 L91.3022 219.675 L91.3022 201.226 M90.0753 197.152 L95.9549 197.152 L95.9549 219.675 L100.885 219.675 L100.885 223.564 L95.9549 223.564 L95.9549 231.712 L91.3022 231.712 L91.3022 223.564 L75.7004 223.564 L75.7004 219.05 L90.0753 197.152 Z\" fill=\"#000000\" fill-rule=\"evenodd\" fill-opacity=\"1\" /><path clip-path=\"url(#clip8400)\" d=\"M 0 0 M89.3577 57.7852 Q86.2096 57.7852 84.3578 59.9379 Q82.5291 62.0907 82.5291 65.8407 Q82.5291 69.5675 84.3578 71.7434 Q86.2096 73.8962 89.3577 73.8962 Q92.5059 73.8962 94.3346 71.7434 Q96.1864 69.5675 96.1864 65.8407 Q96.1864 62.0907 94.3346 59.9379 Q92.5059 57.7852 89.3577 57.7852 M98.6401 43.1325 L98.6401 47.3917 Q96.8808 46.5584 95.0753 46.1186 Q93.2929 45.6788 91.5336 45.6788 Q86.904 45.6788 84.4503 48.8037 Q82.0198 51.9287 81.6726 58.2481 Q83.0383 56.2342 85.0985 55.1694 Q87.1587 54.0815 89.6355 54.0815 Q94.8438 54.0815 97.8531 57.2528 Q100.885 60.4009 100.885 65.8407 Q100.885 71.1647 97.7373 74.3823 Q94.5892 77.5999 89.3577 77.5999 Q83.3624 77.5999 80.1911 73.0166 Q77.0198 68.4101 77.0198 59.6833 Q77.0198 51.4889 80.9087 46.6278 Q84.7976 41.7436 91.3485 41.7436 Q93.1077 41.7436 94.8901 42.0908 Q96.6956 42.438 98.6401 43.1325 Z\" fill=\"#000000\" fill-rule=\"evenodd\" fill-opacity=\"1\" /><polyline clip-path=\"url(#clip8402)\" style=\"stroke:#009af9; stroke-width:4; stroke-opacity:1; fill:none\" points=\"\n",
       "  157.523,656.868 158.879,655.427 160.235,653.991 161.591,652.561 162.947,651.137 164.303,649.717 165.659,648.304 167.015,646.895 168.371,645.492 169.727,644.095 \n",
       "  171.083,642.702 172.439,641.316 173.795,639.934 175.151,638.558 176.507,637.187 177.863,635.821 179.218,634.461 180.574,633.106 181.93,631.757 183.286,630.412 \n",
       "  184.642,629.073 185.998,627.74 187.354,626.411 188.71,625.088 190.066,623.77 191.422,622.457 192.778,621.149 194.134,619.847 195.49,618.55 196.846,617.258 \n",
       "  198.202,615.971 199.558,614.69 200.914,613.414 202.27,612.142 203.626,610.876 204.982,609.615 206.338,608.36 207.693,607.109 209.049,605.863 210.405,604.623 \n",
       "  211.761,603.388 213.117,602.158 214.473,600.932 215.829,599.712 217.185,598.497 218.541,597.287 219.897,596.083 221.253,594.883 222.609,593.688 223.965,592.498 \n",
       "  225.321,591.313 226.677,590.134 228.033,588.959 229.389,587.789 230.745,586.624 232.101,585.464 233.457,584.31 234.812,583.16 236.168,582.015 237.524,580.875 \n",
       "  238.88,579.739 240.236,578.609 241.592,577.484 242.948,576.364 244.304,575.248 245.66,574.137 247.016,573.032 248.372,571.931 249.728,570.835 251.084,569.743 \n",
       "  252.44,568.657 253.796,567.575 255.152,566.499 256.508,565.427 257.864,564.36 259.22,563.297 260.576,562.24 261.931,561.187 263.287,560.139 264.643,559.096 \n",
       "  265.999,558.057 267.355,557.023 268.711,555.994 270.067,554.97 271.423,553.95 272.779,552.935 274.135,551.925 275.491,550.919 276.847,549.919 278.203,548.922 \n",
       "  279.559,547.931 280.915,546.944 282.271,545.961 283.627,544.984 284.983,544.011 286.339,543.042 287.695,542.079 289.051,541.119 290.406,540.165 291.762,539.215 \n",
       "  293.118,538.269 294.474,537.328 295.83,536.392 297.186,535.46 298.542,534.532 299.898,533.61 301.254,532.691 302.61,531.778 303.966,530.868 305.322,529.963 \n",
       "  306.678,529.063 308.034,528.167 309.39,527.276 310.746,526.389 312.102,525.506 313.458,524.628 314.814,523.755 316.17,522.885 317.525,522.021 318.881,521.16 \n",
       "  320.237,520.304 321.593,519.452 322.949,518.605 324.305,517.762 325.661,516.924 327.017,516.089 328.373,515.259 329.729,514.434 331.085,513.613 332.441,512.796 \n",
       "  333.797,511.983 335.153,511.175 336.509,510.37 337.865,509.571 339.221,508.775 340.577,507.984 341.933,507.197 343.289,506.414 344.644,505.635 346,504.861 \n",
       "  347.356,504.091 348.712,503.325 350.068,502.563 351.424,501.805 352.78,501.052 354.136,500.303 355.492,499.558 356.848,498.817 358.204,498.08 359.56,497.347 \n",
       "  360.916,496.619 362.272,495.894 363.628,495.174 364.984,494.458 366.34,493.745 367.696,493.037 369.052,492.333 370.408,491.633 371.763,490.937 373.119,490.245 \n",
       "  374.475,489.558 375.831,488.874 377.187,488.194 378.543,487.518 379.899,486.846 381.255,486.178 382.611,485.515 383.967,484.855 385.323,484.199 386.679,483.547 \n",
       "  388.035,482.899 389.391,482.255 390.747,481.614 392.103,480.978 393.459,480.346 394.815,479.717 396.171,479.093 397.527,478.472 398.883,477.855 400.238,477.242 \n",
       "  401.594,476.633 402.95,476.028 404.306,475.427 405.662,474.829 407.018,474.235 408.374,473.645 409.73,473.059 411.086,472.477 412.442,471.898 413.798,471.323 \n",
       "  415.154,470.752 416.51,470.185 417.866,469.621 419.222,469.061 420.578,468.505 421.934,467.953 423.29,467.404 424.646,466.859 426.002,466.318 427.357,465.78 \n",
       "  428.713,465.246 430.069,464.716 431.425,464.189 432.781,463.666 434.137,463.147 435.493,462.631 436.849,462.119 438.205,461.611 439.561,461.106 440.917,460.605 \n",
       "  442.273,460.107 443.629,459.613 444.985,459.122 446.341,458.635 447.697,458.152 449.053,457.672 450.409,457.196 451.765,456.723 453.121,456.253 454.476,455.788 \n",
       "  455.832,455.325 457.188,454.866 458.544,454.411 459.9,453.959 461.256,453.511 462.612,453.066 463.968,452.624 465.324,452.186 466.68,451.751 468.036,451.32 \n",
       "  469.392,450.892 470.748,450.468 472.104,450.047 473.46,449.629 474.816,449.214 476.172,448.804 477.528,448.396 478.884,447.992 480.24,447.591 481.596,447.193 \n",
       "  482.951,446.799 484.307,446.408 485.663,446.02 487.019,445.636 488.375,445.254 489.731,444.877 491.087,444.502 492.443,444.131 493.799,443.763 495.155,443.398 \n",
       "  496.511,443.036 497.867,442.678 499.223,442.323 500.579,441.97 501.935,441.622 503.291,441.276 504.647,440.934 506.003,440.594 507.359,440.258 508.715,439.925 \n",
       "  510.07,439.595 511.426,439.269 512.782,438.945 514.138,438.625 515.494,438.307 516.85,437.993 518.206,437.682 519.562,437.374 520.918,437.068 522.274,436.766 \n",
       "  523.63,436.468 524.986,436.172 526.342,435.879 527.698,435.589 529.054,435.302 530.41,435.018 531.766,434.737 533.122,434.459 534.478,434.185 535.834,433.913 \n",
       "  537.189,433.644 538.545,433.378 539.901,433.115 541.257,432.855 542.613,432.597 543.969,432.343 545.325,432.092 546.681,431.843 548.037,431.598 549.393,431.355 \n",
       "  550.749,431.115 552.105,430.878 553.461,430.644 554.817,430.413 556.173,430.184 557.529,429.958 558.885,429.736 560.241,429.516 561.597,429.298 562.953,429.084 \n",
       "  564.309,428.872 565.664,428.663 567.02,428.457 568.376,428.254 569.732,428.053 571.088,427.856 572.444,427.66 573.8,427.468 575.156,427.278 576.512,427.091 \n",
       "  577.868,426.907 579.224,426.725 580.58,426.546 581.936,426.37 583.292,426.196 584.648,426.025 586.004,425.857 587.36,425.691 588.716,425.528 590.072,425.368 \n",
       "  591.428,425.21 592.783,425.055 594.139,424.902 595.495,424.752 596.851,424.604 598.207,424.459 599.563,424.317 600.919,424.177 602.275,424.039 603.631,423.905 \n",
       "  604.987,423.772 606.343,423.642 607.699,423.515 609.055,423.39 610.411,423.268 611.767,423.148 613.123,423.03 614.479,422.915 615.835,422.803 617.191,422.693 \n",
       "  618.547,422.585 619.902,422.48 621.258,422.377 622.614,422.276 623.97,422.178 625.326,422.082 626.682,421.989 628.038,421.898 629.394,421.809 630.75,421.723 \n",
       "  632.106,421.639 633.462,421.557 634.818,421.478 636.174,421.401 637.53,421.326 638.886,421.254 640.242,421.184 641.598,421.116 642.954,421.05 644.31,420.987 \n",
       "  645.666,420.926 647.021,420.867 648.377,420.81 649.733,420.756 651.089,420.704 652.445,420.654 653.801,420.606 655.157,420.56 656.513,420.517 657.869,420.476 \n",
       "  659.225,420.436 660.581,420.399 661.937,420.365 663.293,420.332 664.649,420.301 666.005,420.273 667.361,420.246 668.717,420.222 670.073,420.2 671.429,420.18 \n",
       "  672.785,420.162 674.141,420.146 675.496,420.132 676.852,420.12 678.208,420.11 679.564,420.102 680.92,420.096 682.276,420.092 683.632,420.09 684.988,420.091 \n",
       "  686.344,420.093 687.7,420.097 689.056,420.103 690.412,420.111 691.768,420.121 693.124,420.133 694.48,420.146 695.836,420.162 697.192,420.18 698.548,420.199 \n",
       "  699.904,420.221 701.26,420.244 702.615,420.269 703.971,420.296 705.327,420.325 706.683,420.356 708.039,420.388 709.395,420.422 710.751,420.459 712.107,420.497 \n",
       "  713.463,420.536 714.819,420.578 716.175,420.621 717.531,420.666 718.887,420.713 720.243,420.762 721.599,420.812 722.955,420.865 724.311,420.918 725.667,420.974 \n",
       "  727.023,421.031 728.379,421.09 729.734,421.151 731.09,421.213 732.446,421.277 733.802,421.343 735.158,421.41 736.514,421.479 737.87,421.55 739.226,421.622 \n",
       "  740.582,421.696 741.938,421.772 743.294,421.849 744.65,421.928 746.006,422.008 747.362,422.09 748.718,422.173 750.074,422.258 751.43,422.345 752.786,422.433 \n",
       "  754.142,422.522 755.498,422.614 756.854,422.706 758.209,422.8 759.565,422.896 760.921,422.993 762.277,423.092 763.633,423.192 764.989,423.293 766.345,423.396 \n",
       "  767.701,423.501 769.057,423.607 770.413,423.714 771.769,423.823 773.125,423.933 774.481,424.044 775.837,424.157 777.193,424.271 778.549,424.387 779.905,424.504 \n",
       "  781.261,424.623 782.617,424.742 783.973,424.863 785.328,424.986 786.684,425.109 788.04,425.234 789.396,425.361 790.752,425.488 792.108,425.617 793.464,425.747 \n",
       "  794.82,425.879 796.176,426.011 797.532,426.145 798.888,426.28 800.244,426.417 801.6,426.554 802.956,426.693 804.312,426.833 805.668,426.974 807.024,427.117 \n",
       "  808.38,427.26 809.736,427.405 811.092,427.551 812.447,427.698 813.803,427.846 815.159,427.995 816.515,428.146 817.871,428.297 819.227,428.45 820.583,428.603 \n",
       "  821.939,428.758 823.295,428.914 824.651,429.071 826.007,429.229 827.363,429.388 828.719,429.548 830.075,429.709 831.431,429.872 832.787,430.035 834.143,430.199 \n",
       "  835.499,430.364 836.855,430.53 838.211,430.697 839.567,430.865 840.922,431.034 842.278,431.204 843.634,431.375 844.99,431.547 846.346,431.72 847.702,431.894 \n",
       "  849.058,432.068 850.414,432.244 851.77,432.42 853.126,432.598 854.482,432.776 855.838,432.955 857.194,433.135 858.55,433.315 859.906,433.497 861.262,433.679 \n",
       "  862.618,433.863 863.974,434.047 865.33,434.231 866.686,434.417 868.041,434.603 869.397,434.791 870.753,434.978 872.109,435.167 873.465,435.357 874.821,435.547 \n",
       "  876.177,435.738 877.533,435.929 878.889,436.121 880.245,436.314 881.601,436.508 882.957,436.703 884.313,436.898 885.669,437.093 887.025,437.29 888.381,437.487 \n",
       "  889.737,437.684 891.093,437.883 892.449,438.082 893.805,438.281 895.16,438.481 896.516,438.682 897.872,438.883 899.228,439.085 900.584,439.288 901.94,439.491 \n",
       "  903.296,439.694 904.652,439.898 906.008,440.103 907.364,440.308 908.72,440.514 910.076,440.72 911.432,440.927 912.788,441.134 914.144,441.342 915.5,441.55 \n",
       "  916.856,441.758 918.212,441.967 919.568,442.177 920.924,442.387 922.279,442.597 923.635,442.808 924.991,443.019 926.347,443.23 927.703,443.442 929.059,443.655 \n",
       "  930.415,443.867 931.771,444.08 933.127,444.294 934.483,444.507 935.839,444.722 937.195,444.936 938.551,445.151 939.907,445.366 941.263,445.581 942.619,445.797 \n",
       "  943.975,446.013 945.331,446.229 946.687,446.445 948.043,446.662 949.399,446.879 950.754,447.096 952.11,447.313 953.466,447.531 954.822,447.749 956.178,447.967 \n",
       "  957.534,448.185 958.89,448.403 960.246,448.622 961.602,448.841 962.958,449.06 964.314,449.279 965.67,449.498 967.026,449.717 968.382,449.937 969.738,450.156 \n",
       "  971.094,450.376 972.45,450.596 973.806,450.815 975.162,451.035 976.518,451.255 977.873,451.475 979.229,451.696 980.585,451.916 981.941,452.136 983.297,452.356 \n",
       "  984.653,452.576 986.009,452.796 987.365,453.017 988.721,453.237 990.077,453.457 991.433,453.677 992.789,453.897 994.145,454.117 995.501,454.337 996.857,454.557 \n",
       "  998.213,454.777 999.569,454.997 1000.92,455.216 1002.28,455.436 1003.64,455.655 1004.99,455.875 1006.35,456.094 1007.7,456.313 1009.06,456.532 1010.42,456.751 \n",
       "  1011.77,456.969 1013.13,457.188 1014.48,457.406 1015.84,457.624 1017.2,457.842 1018.55,458.059 1019.91,458.277 1021.26,458.494 1022.62,458.711 1023.98,458.928 \n",
       "  1025.33,459.144 1026.69,459.36 1028.04,459.576 1029.4,459.792 1030.76,460.007 1032.11,460.222 1033.47,460.437 1034.82,460.652 1036.18,460.866 1037.54,461.079 \n",
       "  1038.89,461.293 1040.25,461.506 1041.6,461.719 1042.96,461.931 1044.32,462.143 1045.67,462.355 1047.03,462.566 1048.38,462.777 1049.74,462.987 1051.09,463.197 \n",
       "  1052.45,463.406 1053.81,463.615 1055.16,463.824 1056.52,464.032 1057.87,464.24 1059.23,464.447 1060.59,464.654 1061.94,464.86 1063.3,465.066 1064.65,465.271 \n",
       "  1066.01,465.476 1067.37,465.68 1068.72,465.883 1070.08,466.086 1071.43,466.289 1072.79,466.491 1074.15,466.692 1075.5,466.893 1076.86,467.093 1078.21,467.293 \n",
       "  1079.57,467.492 1080.93,467.69 1082.28,467.888 1083.64,468.085 1084.99,468.282 1086.35,468.477 1087.71,468.672 1089.06,468.867 1090.42,469.061 1091.77,469.254 \n",
       "  1093.13,469.446 1094.49,469.638 1095.84,469.829 1097.2,470.019 1098.55,470.208 1099.91,470.397 1101.26,470.585 1102.62,470.772 1103.98,470.959 1105.33,471.145 \n",
       "  1106.69,471.329 1108.04,471.514 1109.4,471.697 1110.76,471.879 1112.11,472.061 1113.47,472.242 1114.82,472.422 1116.18,472.601 1117.54,472.779 1118.89,472.956 \n",
       "  1120.25,473.133 1121.6,473.308 1122.96,473.483 1124.32,473.657 1125.67,473.83 1127.03,474.002 1128.38,474.173 1129.74,474.343 1131.1,474.512 1132.45,474.68 \n",
       "  1133.81,474.848 1135.16,475.014 1136.52,475.179 1137.88,475.343 1139.23,475.507 1140.59,475.669 1141.94,475.83 1143.3,475.99 1144.66,476.149 1146.01,476.307 \n",
       "  1147.37,476.465 1148.72,476.621 1150.08,476.775 1151.44,476.929 1152.79,477.082 1154.15,477.234 1155.5,477.384 1156.86,477.533 1158.21,477.682 1159.57,477.829 \n",
       "  1160.93,477.975 1162.28,478.12 1163.64,478.263 1164.99,478.406 1166.35,478.547 1167.71,478.687 1169.06,478.826 1170.42,478.964 1171.77,479.1 1173.13,479.236 \n",
       "  1174.49,479.37 1175.84,479.502 1177.2,479.634 1178.55,479.764 1179.91,479.893 1181.27,480.021 1182.62,480.147 1183.98,480.272 1185.33,480.396 1186.69,480.519 \n",
       "  1188.05,480.64 1189.4,480.76 1190.76,480.878 1192.11,480.995 1193.47,481.111 1194.83,481.226 1196.18,481.339 1197.54,481.45 1198.89,481.561 1200.25,481.669 \n",
       "  1201.61,481.777 1202.96,481.883 1204.32,481.987 1205.67,482.091 1207.03,482.192 1208.39,482.292 1209.74,482.391 1211.1,482.488 1212.45,482.584 1213.81,482.679 \n",
       "  1215.16,482.771 1216.52,482.863 1217.88,482.952 1219.23,483.041 1220.59,483.127 1221.94,483.212 1223.3,483.296 1224.66,483.378 1226.01,483.459 1227.37,483.537 \n",
       "  1228.72,483.615 1230.08,483.69 1231.44,483.764 1232.79,483.837 1234.15,483.908 1235.5,483.977 1236.86,484.044 1238.22,484.11 1239.57,484.174 1240.93,484.237 \n",
       "  1242.28,484.298 1243.64,484.357 1245,484.414 1246.35,484.47 1247.71,484.524 1249.06,484.576 1250.42,484.627 1251.78,484.676 1253.13,484.723 1254.49,484.768 \n",
       "  1255.84,484.812 1257.2,484.853 1258.56,484.893 1259.91,484.932 1261.27,484.968 1262.62,485.002 1263.98,485.035 1265.34,485.066 1266.69,485.095 1268.05,485.122 \n",
       "  1269.4,485.148 1270.76,485.171 1272.11,485.193 1273.47,485.212 1274.83,485.23 1276.18,485.246 1277.54,485.26 1278.89,485.272 1280.25,485.282 1281.61,485.29 \n",
       "  1282.96,485.297 1284.32,485.301 1285.67,485.303 1287.03,485.303 1288.39,485.302 1289.74,485.298 1291.1,485.292 1292.45,485.285 1293.81,485.275 1295.17,485.263 \n",
       "  1296.52,485.25 1297.88,485.234 1299.23,485.216 1300.59,485.196 1301.95,485.174 1303.3,485.15 1304.66,485.124 1306.01,485.095 1307.37,485.065 1308.73,485.032 \n",
       "  1310.08,484.998 1311.44,484.961 1312.79,484.922 1314.15,484.881 1315.51,484.838 1316.86,484.792 1318.22,484.745 1319.57,484.695 1320.93,484.643 1322.28,484.589 \n",
       "  1323.64,484.532 1325,484.474 1326.35,484.413 1327.71,484.35 1329.06,484.284 1330.42,484.217 1331.78,484.147 1333.13,484.074 1334.49,484 1335.84,483.923 \n",
       "  1337.2,483.844 1338.56,483.763 1339.91,483.679 1341.27,483.593 1342.62,483.504 1343.98,483.414 1345.34,483.321 1346.69,483.225 1348.05,483.127 1349.4,483.027 \n",
       "  1350.76,482.924 1352.12,482.819 1353.47,482.712 1354.83,482.602 1356.18,482.489 1357.54,482.375 1358.9,482.257 1360.25,482.138 1361.61,482.016 1362.96,481.891 \n",
       "  1364.32,481.764 1365.68,481.634 1367.03,481.502 1368.39,481.368 1369.74,481.23 1371.1,481.091 1372.46,480.948 1373.81,480.804 1375.17,480.656 1376.52,480.507 \n",
       "  1377.88,480.354 1379.23,480.199 1380.59,480.041 1381.95,479.881 1383.3,479.718 1384.66,479.553 1386.01,479.385 1387.37,479.214 1388.73,479.041 1390.08,478.865 \n",
       "  1391.44,478.686 1392.79,478.504 1394.15,478.32 1395.51,478.134 1396.86,477.944 1398.22,477.752 1399.57,477.557 1400.93,477.36 1402.29,477.159 1403.64,476.956 \n",
       "  1405,476.75 1406.35,476.542 1407.71,476.33 1409.07,476.116 1410.42,475.899 1411.78,475.68 1413.13,475.457 1414.49,475.232 1415.85,475.003 1417.2,474.772 \n",
       "  1418.56,474.539 1419.91,474.302 1421.27,474.062 1422.63,473.82 1423.98,473.574 1425.34,473.326 1426.69,473.075 1428.05,472.821 1429.41,472.564 1430.76,472.304 \n",
       "  1432.12,472.042 1433.47,471.776 1434.83,471.507 1436.18,471.236 1437.54,470.961 1438.9,470.683 1440.25,470.403 1441.61,470.119 1442.96,469.833 1444.32,469.543 \n",
       "  1445.68,469.251 1447.03,468.955 1448.39,468.656 1449.74,468.355 1451.1,468.05 1452.46,467.742 1453.81,467.431 1455.17,467.117 1456.52,466.8 1457.88,466.48 \n",
       "  1459.24,466.156 1460.59,465.83 1461.95,465.501 1463.3,465.168 1464.66,464.832 1466.02,464.493 1467.37,464.151 1468.73,463.806 1470.08,463.457 1471.44,463.105 \n",
       "  1472.8,462.75 1474.15,462.392 1475.51,462.031 1476.86,461.667 1478.22,461.299 1479.58,460.928 1480.93,460.553 1482.29,460.176 1483.64,459.795 1485,459.411 \n",
       "  1486.35,459.024 1487.71,458.633 1489.07,458.239 1490.42,457.842 1491.78,457.441 1493.13,457.037 1494.49,456.63 1495.85,456.219 1497.2,455.805 1498.56,455.388 \n",
       "  1499.91,454.967 1501.27,454.543 1502.63,454.115 1503.98,453.684 1505.34,453.25 1506.69,452.812 1508.05,452.371 1509.41,451.926 1510.76,451.478 1512.12,451.027 \n",
       "  \n",
       "  \"/>\n",
       "<circle clip-path=\"url(#clip8402)\" cx=\"213.965\" cy=\"601.391\" r=\"14\" fill=\"#e26f46\" fill-rule=\"evenodd\" fill-opacity=\"1\" stroke=\"#000000\" stroke-opacity=\"1\" stroke-width=\"1.6\"/>\n",
       "<circle clip-path=\"url(#clip8402)\" cx=\"609.055\" cy=\"423.39\" r=\"14\" fill=\"#e26f46\" fill-rule=\"evenodd\" fill-opacity=\"1\" stroke=\"#000000\" stroke-opacity=\"1\" stroke-width=\"1.6\"/>\n",
       "<circle clip-path=\"url(#clip8402)\" cx=\"947.704\" cy=\"446.608\" r=\"14\" fill=\"#e26f46\" fill-rule=\"evenodd\" fill-opacity=\"1\" stroke=\"#000000\" stroke-opacity=\"1\" stroke-width=\"1.6\"/>\n",
       "<circle clip-path=\"url(#clip8402)\" cx=\"1286.35\" cy=\"485.304\" r=\"14\" fill=\"#e26f46\" fill-rule=\"evenodd\" fill-opacity=\"1\" stroke=\"#000000\" stroke-opacity=\"1\" stroke-width=\"1.6\"/>\n",
       "<polyline clip-path=\"url(#clip8402)\" style=\"stroke:#3da44d; stroke-width:4; stroke-opacity:1; fill:none\" points=\"\n",
       "  157.523,476.652 158.879,475.756 160.235,474.87 161.591,473.992 162.947,473.122 164.303,472.262 165.659,471.411 167.015,470.568 168.371,469.734 169.727,468.908 \n",
       "  171.083,468.092 172.439,467.284 173.795,466.484 175.151,465.693 176.507,464.911 177.863,464.138 179.218,463.372 180.574,462.616 181.93,461.868 183.286,461.128 \n",
       "  184.642,460.397 185.998,459.674 187.354,458.96 188.71,458.254 190.066,457.557 191.422,456.867 192.778,456.187 194.134,455.514 195.49,454.849 196.846,454.193 \n",
       "  198.202,453.545 199.558,452.906 200.914,452.274 202.27,451.651 203.626,451.035 204.982,450.428 206.338,449.829 207.693,449.238 209.049,448.655 210.405,448.079 \n",
       "  211.761,447.512 213.117,446.953 214.473,446.402 215.829,445.858 217.185,445.323 218.541,444.795 219.897,444.276 221.253,443.764 222.609,443.259 223.965,442.763 \n",
       "  225.321,442.274 226.677,441.793 228.033,441.32 229.389,440.854 230.745,440.396 232.101,439.946 233.457,439.503 234.812,439.068 236.168,438.64 237.524,438.22 \n",
       "  238.88,437.807 240.236,437.402 241.592,437.004 242.948,436.614 244.304,436.231 245.66,435.856 247.016,435.487 248.372,435.127 249.728,434.773 251.084,434.427 \n",
       "  252.44,434.088 253.796,433.756 255.152,433.431 256.508,433.114 257.864,432.804 259.22,432.501 260.576,432.205 261.931,431.916 263.287,431.634 264.643,431.359 \n",
       "  265.999,431.092 267.355,430.831 268.711,430.577 270.067,430.33 271.423,430.091 272.779,429.858 274.135,429.632 275.491,429.412 276.847,429.2 278.203,428.994 \n",
       "  279.559,428.796 280.915,428.604 282.271,428.418 283.627,428.24 284.983,428.068 286.339,427.902 287.695,427.744 289.051,427.592 290.406,427.446 291.762,427.308 \n",
       "  293.118,427.175 294.474,427.05 295.83,426.93 297.186,426.818 298.542,426.711 299.898,426.611 301.254,426.518 302.61,426.431 303.966,426.35 305.322,426.276 \n",
       "  306.678,426.207 308.034,426.146 309.39,426.09 310.746,426.041 312.102,425.998 313.458,425.961 314.814,425.93 316.17,425.905 317.525,425.887 318.881,425.874 \n",
       "  320.237,425.868 321.593,425.868 322.949,425.873 324.305,425.885 325.661,425.903 327.017,425.926 328.373,425.956 329.729,425.991 331.085,426.033 332.441,426.08 \n",
       "  333.797,426.133 335.153,426.192 336.509,426.256 337.865,426.327 339.221,426.403 340.577,426.485 341.933,426.572 343.289,426.666 344.644,426.764 346,426.869 \n",
       "  347.356,426.979 348.712,427.095 350.068,427.216 351.424,427.342 352.78,427.475 354.136,427.612 355.492,427.755 356.848,427.904 358.204,428.058 359.56,428.217 \n",
       "  360.916,428.382 362.272,428.552 363.628,428.727 364.984,428.908 366.34,429.094 367.696,429.285 369.052,429.481 370.408,429.683 371.763,429.889 373.119,430.101 \n",
       "  374.475,430.318 375.831,430.54 377.187,430.767 378.543,430.999 379.899,431.237 381.255,431.479 382.611,431.726 383.967,431.978 385.323,432.235 386.679,432.497 \n",
       "  388.035,432.764 389.391,433.036 390.747,433.312 392.103,433.593 393.459,433.879 394.815,434.17 396.171,434.466 397.527,434.766 398.883,435.071 400.238,435.381 \n",
       "  401.594,435.695 402.95,436.014 404.306,436.338 405.662,436.666 407.018,436.998 408.374,437.336 409.73,437.677 411.086,438.023 412.442,438.374 413.798,438.729 \n",
       "  415.154,439.089 416.51,439.452 417.866,439.821 419.222,440.193 420.578,440.57 421.934,440.951 423.29,441.336 424.646,441.726 426.002,442.12 427.357,442.518 \n",
       "  428.713,442.92 430.069,443.326 431.425,443.737 432.781,444.151 434.137,444.57 435.493,444.992 436.849,445.419 438.205,445.85 439.561,446.284 440.917,446.723 \n",
       "  442.273,447.166 443.629,447.612 444.985,448.062 446.341,448.517 447.697,448.975 449.053,449.436 450.409,449.902 451.765,450.371 453.121,450.844 454.476,451.321 \n",
       "  455.832,451.802 457.188,452.286 458.544,452.774 459.9,453.265 461.256,453.76 462.612,454.259 463.968,454.761 465.324,455.267 466.68,455.776 468.036,456.289 \n",
       "  469.392,456.805 470.748,457.324 472.104,457.847 473.46,458.374 474.816,458.903 476.172,459.436 477.528,459.973 478.884,460.512 480.24,461.055 481.596,461.601 \n",
       "  482.951,462.151 484.307,462.703 485.663,463.259 487.019,463.818 488.375,464.38 489.731,464.945 491.087,465.513 492.443,466.084 493.799,466.658 495.155,467.235 \n",
       "  496.511,467.816 497.867,468.399 499.223,468.985 500.579,469.574 501.935,470.166 503.291,470.76 504.647,471.358 506.003,471.958 507.359,472.561 508.715,473.167 \n",
       "  510.07,473.776 511.426,474.387 512.782,475.001 514.138,475.618 515.494,476.237 516.85,476.859 518.206,477.484 519.562,478.111 520.918,478.741 522.274,479.373 \n",
       "  523.63,480.008 524.986,480.645 526.342,481.285 527.698,481.927 529.054,482.571 530.41,483.218 531.766,483.867 533.122,484.519 534.478,485.173 535.834,485.829 \n",
       "  537.189,486.487 538.545,487.148 539.901,487.811 541.257,488.476 542.613,489.143 543.969,489.813 545.325,490.484 546.681,491.158 548.037,491.833 549.393,492.511 \n",
       "  550.749,493.191 552.105,493.873 553.461,494.556 554.817,495.242 556.173,495.93 557.529,496.619 558.885,497.311 560.241,498.004 561.597,498.699 562.953,499.396 \n",
       "  564.309,500.095 565.664,500.795 567.02,501.497 568.376,502.201 569.732,502.907 571.088,503.614 572.444,504.323 573.8,505.034 575.156,505.746 576.512,506.46 \n",
       "  577.868,507.175 579.224,507.892 580.58,508.61 581.936,509.33 583.292,510.051 584.648,510.774 586.004,511.498 587.36,512.223 588.716,512.95 590.072,513.678 \n",
       "  591.428,514.408 592.783,515.139 594.139,515.871 595.495,516.604 596.851,517.338 598.207,518.074 599.563,518.811 600.919,519.549 602.275,520.288 603.631,521.028 \n",
       "  604.987,521.769 606.343,522.512 607.699,523.255 609.055,523.999 610.411,524.745 611.767,525.491 613.123,526.238 614.479,526.986 615.835,527.735 617.191,528.485 \n",
       "  618.547,529.236 619.902,529.988 621.258,530.74 622.614,531.493 623.97,532.247 625.326,533.001 626.682,533.757 628.038,534.512 629.394,535.269 630.75,536.026 \n",
       "  632.106,536.784 633.462,537.542 634.818,538.301 636.174,539.061 637.53,539.82 638.886,540.581 640.242,541.342 641.598,542.103 642.954,542.865 644.31,543.627 \n",
       "  645.666,544.389 647.021,545.152 648.377,545.915 649.733,546.678 651.089,547.442 652.445,548.206 653.801,548.97 655.157,549.734 656.513,550.499 657.869,551.263 \n",
       "  659.225,552.028 660.581,552.793 661.937,553.558 663.293,554.323 664.649,555.088 666.005,555.853 667.361,556.618 668.717,557.383 670.073,558.148 671.429,558.912 \n",
       "  672.785,559.677 674.141,560.441 675.496,561.206 676.852,561.97 678.208,562.734 679.564,563.498 680.92,564.261 682.276,565.024 683.632,565.787 684.988,566.55 \n",
       "  686.344,567.312 687.7,568.074 689.056,568.835 690.412,569.596 691.768,570.356 693.124,571.117 694.48,571.876 695.836,572.635 697.192,573.394 698.548,574.152 \n",
       "  699.904,574.909 701.26,575.666 702.615,576.422 703.971,577.177 705.327,577.932 706.683,578.686 708.039,579.439 709.395,580.192 710.751,580.943 712.107,581.694 \n",
       "  713.463,582.445 714.819,583.194 716.175,583.942 717.531,584.69 718.887,585.436 720.243,586.182 721.599,586.926 722.955,587.67 724.311,588.413 725.667,589.154 \n",
       "  727.023,589.895 728.379,590.634 729.734,591.373 731.09,592.11 732.446,592.846 733.802,593.581 735.158,594.314 736.514,595.047 737.87,595.778 739.226,596.508 \n",
       "  740.582,597.236 741.938,597.963 743.294,598.689 744.65,599.414 746.006,600.137 747.362,600.858 748.718,601.579 750.074,602.297 751.43,603.014 752.786,603.73 \n",
       "  754.142,604.444 755.498,605.157 756.854,605.868 758.209,606.577 759.565,607.285 760.921,607.991 762.277,608.696 763.633,609.398 764.989,610.099 766.345,610.799 \n",
       "  767.701,611.496 769.057,612.192 770.413,612.885 771.769,613.577 773.125,614.267 774.481,614.956 775.837,615.642 777.193,616.326 778.549,617.009 779.905,617.689 \n",
       "  781.261,618.367 782.617,619.043 783.973,619.718 785.328,620.39 786.684,621.06 788.04,621.728 789.396,622.393 790.752,623.057 792.108,623.718 793.464,624.377 \n",
       "  794.82,625.034 796.176,625.689 797.532,626.341 798.888,626.991 800.244,627.638 801.6,628.283 802.956,628.926 804.312,629.567 805.668,630.205 807.024,630.84 \n",
       "  808.38,631.473 809.736,632.103 811.092,632.731 812.447,633.357 813.803,633.979 815.159,634.599 816.515,635.217 817.871,635.832 819.227,636.444 820.583,637.053 \n",
       "  821.939,637.66 823.295,638.264 824.651,638.865 826.007,639.463 827.363,640.059 828.719,640.652 830.075,641.241 831.431,641.828 832.787,642.412 834.143,642.993 \n",
       "  835.499,643.571 836.855,644.146 838.211,644.718 839.567,645.287 840.922,645.853 842.278,646.416 843.634,646.976 844.99,647.532 846.346,648.086 847.702,648.636 \n",
       "  849.058,649.183 850.414,649.727 851.77,650.268 853.126,650.805 854.482,651.339 855.838,651.869 857.194,652.397 858.55,652.921 859.906,653.441 861.262,653.958 \n",
       "  862.618,654.472 863.974,654.982 865.33,655.489 866.686,655.992 868.041,656.492 869.397,656.988 870.753,657.48 872.109,657.969 873.465,658.454 874.821,658.936 \n",
       "  876.177,659.414 877.533,659.888 878.889,660.358 880.245,660.825 881.601,661.288 882.957,661.747 884.313,662.202 885.669,662.654 887.025,663.101 888.381,663.545 \n",
       "  889.737,663.984 891.093,664.42 892.449,664.852 893.805,665.28 895.16,665.704 896.516,666.123 897.872,666.539 899.228,666.951 900.584,667.358 901.94,667.762 \n",
       "  903.296,668.161 904.652,668.556 906.008,668.947 907.364,669.333 908.72,669.715 910.076,670.094 911.432,670.467 912.788,670.837 914.144,671.202 915.5,671.562 \n",
       "  916.856,671.919 918.212,672.271 919.568,672.618 920.924,672.961 922.279,673.299 923.635,673.633 924.991,673.963 926.347,674.288 927.703,674.608 929.059,674.923 \n",
       "  930.415,675.234 931.771,675.541 933.127,675.842 934.483,676.139 935.839,676.432 937.195,676.719 938.551,677.002 939.907,677.28 941.263,677.553 942.619,677.821 \n",
       "  943.975,678.084 945.331,678.343 946.687,678.596 948.043,678.845 949.399,679.088 950.754,679.327 952.11,679.561 953.466,679.789 954.822,680.013 956.178,680.231 \n",
       "  957.534,680.444 958.89,680.652 960.246,680.855 961.602,681.053 962.958,681.246 964.314,681.433 965.67,681.615 967.026,681.792 968.382,681.964 969.738,682.13 \n",
       "  971.094,682.291 972.45,682.446 973.806,682.596 975.162,682.741 976.518,682.88 977.873,683.014 979.229,683.142 980.585,683.265 981.941,683.382 983.297,683.494 \n",
       "  984.653,683.6 986.009,683.7 987.365,683.795 988.721,683.884 990.077,683.968 991.433,684.045 992.789,684.118 994.145,684.184 995.501,684.244 996.857,684.299 \n",
       "  998.213,684.348 999.569,684.391 1000.92,684.428 1002.28,684.459 1003.64,684.485 1004.99,684.504 1006.35,684.517 1007.7,684.525 1009.06,684.526 1010.42,684.522 \n",
       "  1011.77,684.511 1013.13,684.494 1014.48,684.471 1015.84,684.442 1017.2,684.407 1018.55,684.366 1019.91,684.318 1021.26,684.264 1022.62,684.204 1023.98,684.138 \n",
       "  1025.33,684.065 1026.69,683.986 1028.04,683.901 1029.4,683.809 1030.76,683.711 1032.11,683.607 1033.47,683.496 1034.82,683.378 1036.18,683.255 1037.54,683.124 \n",
       "  1038.89,682.987 1040.25,682.844 1041.6,682.694 1042.96,682.537 1044.32,682.373 1045.67,682.203 1047.03,682.027 1048.38,681.843 1049.74,681.653 1051.09,681.456 \n",
       "  1052.45,681.253 1053.81,681.042 1055.16,680.825 1056.52,680.601 1057.87,680.37 1059.23,680.132 1060.59,679.887 1061.94,679.635 1063.3,679.377 1064.65,679.111 \n",
       "  1066.01,678.838 1067.37,678.558 1068.72,678.272 1070.08,677.978 1071.43,677.677 1072.79,677.369 1074.15,677.053 1075.5,676.731 1076.86,676.401 1078.21,676.064 \n",
       "  1079.57,675.72 1080.93,675.368 1082.28,675.01 1083.64,674.644 1084.99,674.27 1086.35,673.889 1087.71,673.501 1089.06,673.105 1090.42,672.702 1091.77,672.292 \n",
       "  1093.13,671.874 1094.49,671.448 1095.84,671.015 1097.2,670.575 1098.55,670.126 1099.91,669.67 1101.26,669.207 1102.62,668.736 1103.98,668.257 1105.33,667.771 \n",
       "  1106.69,667.276 1108.04,666.774 1109.4,666.264 1110.76,665.747 1112.11,665.222 1113.47,664.688 1114.82,664.147 1116.18,663.598 1117.54,663.041 1118.89,662.476 \n",
       "  1120.25,661.903 1121.6,661.323 1122.96,660.734 1124.32,660.137 1125.67,659.532 1127.03,658.919 1128.38,658.298 1129.74,657.669 1131.1,657.031 1132.45,656.386 \n",
       "  1133.81,655.732 1135.16,655.07 1136.52,654.399 1137.88,653.721 1139.23,653.034 1140.59,652.339 1141.94,651.635 1143.3,650.923 1144.66,650.203 1146.01,649.474 \n",
       "  1147.37,648.737 1148.72,647.991 1150.08,647.237 1151.44,646.475 1152.79,645.703 1154.15,644.924 1155.5,644.135 1156.86,643.338 1158.21,642.533 1159.57,641.719 \n",
       "  1160.93,640.896 1162.28,640.064 1163.64,639.224 1164.99,638.375 1166.35,637.517 1167.71,636.65 1169.06,635.775 1170.42,634.89 1171.77,633.997 1173.13,633.095 \n",
       "  1174.49,632.184 1175.84,631.264 1177.2,630.335 1178.55,629.397 1179.91,628.45 1181.27,627.494 1182.62,626.529 1183.98,625.555 1185.33,624.572 1186.69,623.58 \n",
       "  1188.05,622.578 1189.4,621.568 1190.76,620.548 1192.11,619.519 1193.47,618.48 1194.83,617.433 1196.18,616.376 1197.54,615.309 1198.89,614.234 1200.25,613.149 \n",
       "  1201.61,612.054 1202.96,610.951 1204.32,609.837 1205.67,608.715 1207.03,607.582 1208.39,606.441 1209.74,605.289 1211.1,604.129 1212.45,602.958 1213.81,601.778 \n",
       "  1215.16,600.589 1216.52,599.389 1217.88,598.18 1219.23,596.962 1220.59,595.733 1221.94,594.495 1223.3,593.247 1224.66,591.99 1226.01,590.722 1227.37,589.445 \n",
       "  1228.72,588.157 1230.08,586.86 1231.44,585.553 1232.79,584.236 1234.15,582.909 1235.5,581.572 1236.86,580.225 1238.22,578.868 1239.57,577.501 1240.93,576.124 \n",
       "  1242.28,574.737 1243.64,573.339 1245,571.932 1246.35,570.514 1247.71,569.086 1249.06,567.648 1250.42,566.2 1251.78,564.741 1253.13,563.272 1254.49,561.793 \n",
       "  1255.84,560.303 1257.2,558.803 1258.56,557.293 1259.91,555.772 1261.27,554.241 1262.62,552.699 1263.98,551.147 1265.34,549.584 1266.69,548.011 1268.05,546.427 \n",
       "  1269.4,544.832 1270.76,543.227 1272.11,541.612 1273.47,539.985 1274.83,538.348 1276.18,536.701 1277.54,535.042 1278.89,533.373 1280.25,531.693 1281.61,530.002 \n",
       "  1282.96,528.301 1284.32,526.588 1285.67,524.865 1287.03,523.131 1288.39,521.386 1289.74,519.63 1291.1,517.863 1292.45,516.085 1293.81,514.296 1295.17,512.496 \n",
       "  1296.52,510.685 1297.88,508.863 1299.23,507.029 1300.59,505.185 1301.95,503.329 1303.3,501.463 1304.66,499.585 1306.01,497.696 1307.37,495.795 1308.73,493.883 \n",
       "  1310.08,491.961 1311.44,490.026 1312.79,488.081 1314.15,486.124 1315.51,484.155 1316.86,482.175 1318.22,480.184 1319.57,478.181 1320.93,476.167 1322.28,474.141 \n",
       "  1323.64,472.104 1325,470.055 1326.35,467.995 1327.71,465.923 1329.06,463.839 1330.42,461.744 1331.78,459.637 1333.13,457.518 1334.49,455.388 1335.84,453.246 \n",
       "  1337.2,451.092 1338.56,448.926 1339.91,446.748 1341.27,444.559 1342.62,442.358 1343.98,440.145 1345.34,437.92 1346.69,435.683 1348.05,433.434 1349.4,431.173 \n",
       "  1350.76,428.9 1352.12,426.615 1353.47,424.318 1354.83,422.008 1356.18,419.687 1357.54,417.354 1358.9,415.008 1360.25,412.651 1361.61,410.281 1362.96,407.899 \n",
       "  1364.32,405.504 1365.68,403.097 1367.03,400.679 1368.39,398.247 1369.74,395.804 1371.1,393.348 1372.46,390.879 1373.81,388.398 1375.17,385.905 1376.52,383.399 \n",
       "  1377.88,380.881 1379.23,378.351 1380.59,375.807 1381.95,373.252 1383.3,370.683 1384.66,368.102 1386.01,365.509 1387.37,362.902 1388.73,360.283 1390.08,357.652 \n",
       "  1391.44,355.007 1392.79,352.35 1394.15,349.68 1395.51,346.998 1396.86,344.302 1398.22,341.594 1399.57,338.873 1400.93,336.139 1402.29,333.392 1403.64,330.632 \n",
       "  1405,327.859 1406.35,325.073 1407.71,322.274 1409.07,319.462 1410.42,316.637 1411.78,313.799 1413.13,310.948 1414.49,308.083 1415.85,305.206 1417.2,302.315 \n",
       "  1418.56,299.411 1419.91,296.494 1421.27,293.564 1422.63,290.62 1423.98,287.663 1425.34,284.693 1426.69,281.71 1428.05,278.713 1429.41,275.702 1430.76,272.679 \n",
       "  1432.12,269.641 1433.47,266.591 1434.83,263.527 1436.18,260.449 1437.54,257.358 1438.9,254.253 1440.25,251.135 1441.61,248.003 1442.96,244.857 1444.32,241.698 \n",
       "  1445.68,238.525 1447.03,235.339 1448.39,232.138 1449.74,228.924 1451.1,225.697 1452.46,222.455 1453.81,219.2 1455.17,215.93 1456.52,212.647 1457.88,209.35 \n",
       "  1459.24,206.039 1460.59,202.714 1461.95,199.375 1463.3,196.023 1464.66,192.656 1466.02,189.275 1467.37,185.88 1468.73,182.471 1470.08,179.048 1471.44,175.611 \n",
       "  1472.8,172.159 1474.15,168.694 1475.51,165.214 1476.86,161.72 1478.22,158.212 1479.58,154.689 1480.93,151.152 1482.29,147.601 1483.64,144.036 1485,140.456 \n",
       "  1486.35,136.862 1487.71,133.253 1489.07,129.63 1490.42,125.992 1491.78,122.34 1493.13,118.674 1494.49,114.993 1495.85,111.297 1497.2,107.587 1498.56,103.862 \n",
       "  1499.91,100.123 1501.27,96.3687 1502.63,92.6 1503.98,88.8165 1505.34,85.0183 1506.69,81.2054 1508.05,77.3777 1509.41,73.5352 1510.76,69.6779 1512.12,65.8057 \n",
       "  \n",
       "  \"/>\n",
       "<path clip-path=\"url(#clip8402)\" d=\"M197.965 430.608 L197.965 462.608 L229.965 462.608 L229.965 430.608 L197.965 430.608 Z\" fill=\"#c271d2\" fill-rule=\"evenodd\" fill-opacity=\"1\" stroke=\"#000000\" stroke-opacity=\"1\" stroke-width=\"1.6\"/>\n",
       "<path clip-path=\"url(#clip8402)\" d=\"M593.055 507.999 L593.055 539.999 L625.055 539.999 L625.055 507.999 L593.055 507.999 Z\" fill=\"#c271d2\" fill-rule=\"evenodd\" fill-opacity=\"1\" stroke=\"#000000\" stroke-opacity=\"1\" stroke-width=\"1.6\"/>\n",
       "<path clip-path=\"url(#clip8402)\" d=\"M931.704 662.783 L931.704 694.783 L963.704 694.783 L963.704 662.783 L931.704 662.783 Z\" fill=\"#c271d2\" fill-rule=\"evenodd\" fill-opacity=\"1\" stroke=\"#000000\" stroke-opacity=\"1\" stroke-width=\"1.6\"/>\n",
       "<path clip-path=\"url(#clip8402)\" d=\"M1270.35 507.999 L1270.35 539.999 L1302.35 539.999 L1302.35 507.999 L1270.35 507.999 Z\" fill=\"#c271d2\" fill-rule=\"evenodd\" fill-opacity=\"1\" stroke=\"#000000\" stroke-opacity=\"1\" stroke-width=\"1.6\"/>\n",
       "</svg>\n"
      ],
      "text/plain": [
       "Plot{Plots.GRBackend() n=4}"
      ]
     },
     "metadata": {},
     "output_type": "display_data"
    }
   ],
   "source": [
    "using Plots\n",
    "\n",
    "ts = linspace(-1.2, 1.2, 1000)\n",
    "p1 = c1[1] .+ c1[2]*ts + c1[3]*ts.^2 + c1[4]*ts.^3\n",
    "plot(ts, p1, size = [400, 200], label = false)\n",
    "\n",
    "scatter!(t, b1, label = false)\n",
    "p2 = c2[1] .+ c2[2]*ts + c2[3]*ts.^2 + c2[4]*ts.^3\n",
    "\n",
    "plot!(ts, p2,label = false)\n",
    "scatter!(t, b2, marker = :square, label = false)"
   ]
  },
  {
   "cell_type": "markdown",
   "metadata": {},
   "source": [
    "**Figure 11.1** Cubic interpolants through two sets of points, shown as circles\n",
    "and squares."
   ]
  },
  {
   "cell_type": "markdown",
   "metadata": {},
   "source": [
    "### 11.5 Pseudo-inverse\n",
    "\n",
    "In Julia, the **pseudo-inverse** of a matrix `A` is obtained with **`pinv(A)`**. We compute the pseudo-inverse for the example on page [216](https://web.stanford.edu/~boyd/vmls/vmls.pdf#section*.270) of VMLS using the **`pinv`** function, and via the formula $A† = R^{−1}Q^{T}$ , where $A = QR$ is the $QR$ factorization of $A$. "
   ]
  },
  {
   "cell_type": "code",
   "execution_count": 41,
   "metadata": {},
   "outputs": [
    {
     "data": {
      "text/plain": [
       "2×3 Matrix{Float64}:\n",
       " -1.22222   -1.11111    1.77778\n",
       "  0.777778   0.888889  -1.22222"
      ]
     },
     "metadata": {},
     "output_type": "display_data"
    }
   ],
   "source": [
    "A = [-3 -4; 4 6; 1 1]\n",
    "pinv(A)"
   ]
  },
  {
   "cell_type": "code",
   "execution_count": 43,
   "metadata": {},
   "outputs": [
    {
     "data": {
      "text/plain": [
       "3×2 Matrix{Float64}:\n",
       " -0.588348  -0.457604\n",
       "  0.784465  -0.522976\n",
       "  0.196116   0.719092"
      ]
     },
     "metadata": {},
     "output_type": "display_data"
    }
   ],
   "source": [
    "Q, R = qr(A)\n",
    "Q = Matrix(Q)"
   ]
  },
  {
   "cell_type": "code",
   "execution_count": 44,
   "metadata": {},
   "outputs": [
    {
     "data": {
      "text/plain": [
       "2×2 Matrix{Float64}:\n",
       " 5.09902   7.2563\n",
       " 0.0      -0.588348"
      ]
     },
     "metadata": {},
     "output_type": "display_data"
    }
   ],
   "source": [
    "R"
   ]
  },
  {
   "cell_type": "code",
   "execution_count": 45,
   "metadata": {},
   "outputs": [
    {
     "data": {
      "text/plain": [
       "2×3 Matrix{Float64}:\n",
       " -1.22222   -1.11111    1.77778\n",
       "  0.777778   0.888889  -1.22222"
      ]
     },
     "metadata": {},
     "output_type": "display_data"
    }
   ],
   "source": [
    "R \\ Q'      # pseudo-inverse from QR factors"
   ]
  },
  {
   "cell_type": "code",
   "execution_count": null,
   "metadata": {},
   "outputs": [],
   "source": []
  }
 ],
 "metadata": {
  "kernelspec": {
   "display_name": "Julia 1.8.0",
   "language": "julia",
   "name": "julia-1.8"
  },
  "language_info": {
   "file_extension": ".jl",
   "mimetype": "application/julia",
   "name": "julia",
   "version": "1.8.0"
  }
 },
 "nbformat": 4,
 "nbformat_minor": 2
}
