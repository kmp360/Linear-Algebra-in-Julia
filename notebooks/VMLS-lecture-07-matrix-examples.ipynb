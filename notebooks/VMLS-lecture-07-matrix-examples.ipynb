{
 "cells": [
  {
   "cell_type": "markdown",
   "metadata": {},
   "source": [
    "## Chapter 07 -- Matrix examples\n",
    "\n",
    "Modified by kmp 2022\n",
    "\n",
    "Sources:\n",
    "\n",
    "https://web.stanford.edu/~boyd/vmls/\n",
    "\n",
    "https://github.com/vbartle/VMLS-Companions\n",
    "\n",
    "Based on \"Boyd and Vandenberghe, 2021, Introduction to Applied Linear Algebra: Vectors, Matrices, and Least Squares - Julia Language Companion\" https://web.stanford.edu/~boyd/vmls/vmls-julia-companion.pdf\n"
   ]
  },
  {
   "cell_type": "code",
   "execution_count": 1,
   "metadata": {},
   "outputs": [],
   "source": [
    "using LinearAlgebra\n",
    "using VMLS"
   ]
  },
  {
   "cell_type": "markdown",
   "metadata": {},
   "source": [
    "### 7.1 Geometric transformations\n",
    "\n",
    "The plane-rotation matrix, that rotates a set of points $π/3$ radians ($60^{\\circ}$), is given by:"
   ]
  },
  {
   "cell_type": "code",
   "execution_count": 2,
   "metadata": {},
   "outputs": [
    {
     "data": {
      "text/plain": [
       "2×2 Array{Float64,2}:\n",
       " 0.5       -0.866025\n",
       " 0.866025   0.5     "
      ]
     },
     "execution_count": 2,
     "metadata": {},
     "output_type": "execute_result"
    }
   ],
   "source": [
    "Rot(theta) = [cos(theta) -sin(theta); sin(theta) cos(theta)]\n",
    "\n",
    "R = Rot(pi/3)"
   ]
  },
  {
   "cell_type": "code",
   "execution_count": 3,
   "metadata": {},
   "outputs": [
    {
     "data": {
      "image/svg+xml": "<?xml version=\"1.0\" encoding=\"utf-8\"?>\n<svg xmlns=\"http://www.w3.org/2000/svg\" xmlns:xlink=\"http://www.w3.org/1999/xlink\" width=\"500\" height=\"500\" viewBox=\"0 0 2000 2000\">\n<defs>\n  <clipPath id=\"clip1500\">\n    <rect x=\"0\" y=\"0\" width=\"2000\" height=\"2000\"/>\n  </clipPath>\n</defs>\n<polygon clip-path=\"url(#clip1500)\" points=\"\n0,2000 2000,2000 2000,0 0,0 \n  \" fill=\"#ffffff\" fill-rule=\"evenodd\" fill-opacity=\"1\"/>\n<defs>\n  <clipPath id=\"clip1501\">\n    <rect x=\"400\" y=\"200\" width=\"1401\" height=\"1401\"/>\n  </clipPath>\n</defs>\n<polygon clip-path=\"url(#clip1500)\" points=\"\n153.898,1887.47 1952.76,1887.47 1952.76,47.2441 153.898,47.2441 \n  \" fill=\"#ffffff\" fill-rule=\"evenodd\" fill-opacity=\"1\"/>\n<defs>\n  <clipPath id=\"clip1502\">\n    <rect x=\"153\" y=\"47\" width=\"1800\" height=\"1841\"/>\n  </clipPath>\n</defs>\n<polyline clip-path=\"url(#clip1502)\" style=\"stroke:#000000; stroke-width:2; stroke-opacity:0.1; fill:none\" points=\"\n  235.664,1887.47 235.664,47.2441 \n  \"/>\n<polyline clip-path=\"url(#clip1502)\" style=\"stroke:#000000; stroke-width:2; stroke-opacity:0.1; fill:none\" points=\"\n  644.496,1887.47 644.496,47.2441 \n  \"/>\n<polyline clip-path=\"url(#clip1502)\" style=\"stroke:#000000; stroke-width:2; stroke-opacity:0.1; fill:none\" points=\"\n  1053.33,1887.47 1053.33,47.2441 \n  \"/>\n<polyline clip-path=\"url(#clip1502)\" style=\"stroke:#000000; stroke-width:2; stroke-opacity:0.1; fill:none\" points=\"\n  1462.16,1887.47 1462.16,47.2441 \n  \"/>\n<polyline clip-path=\"url(#clip1502)\" style=\"stroke:#000000; stroke-width:2; stroke-opacity:0.1; fill:none\" points=\"\n  1870.99,1887.47 1870.99,47.2441 \n  \"/>\n<polyline clip-path=\"url(#clip1502)\" style=\"stroke:#000000; stroke-width:2; stroke-opacity:0.1; fill:none\" points=\"\n  153.898,1803.83 1952.76,1803.83 \n  \"/>\n<polyline clip-path=\"url(#clip1502)\" style=\"stroke:#000000; stroke-width:2; stroke-opacity:0.1; fill:none\" points=\"\n  153.898,1385.59 1952.76,1385.59 \n  \"/>\n<polyline clip-path=\"url(#clip1502)\" style=\"stroke:#000000; stroke-width:2; stroke-opacity:0.1; fill:none\" points=\"\n  153.898,967.359 1952.76,967.359 \n  \"/>\n<polyline clip-path=\"url(#clip1502)\" style=\"stroke:#000000; stroke-width:2; stroke-opacity:0.1; fill:none\" points=\"\n  153.898,549.125 1952.76,549.125 \n  \"/>\n<polyline clip-path=\"url(#clip1502)\" style=\"stroke:#000000; stroke-width:2; stroke-opacity:0.1; fill:none\" points=\"\n  153.898,130.891 1952.76,130.891 \n  \"/>\n<polyline clip-path=\"url(#clip1500)\" style=\"stroke:#000000; stroke-width:4; stroke-opacity:1; fill:none\" points=\"\n  153.898,1887.47 1952.76,1887.47 \n  \"/>\n<polyline clip-path=\"url(#clip1500)\" style=\"stroke:#000000; stroke-width:4; stroke-opacity:1; fill:none\" points=\"\n  153.898,1887.47 153.898,47.2441 \n  \"/>\n<polyline clip-path=\"url(#clip1500)\" style=\"stroke:#000000; stroke-width:4; stroke-opacity:1; fill:none\" points=\"\n  235.664,1887.47 235.664,1859.87 \n  \"/>\n<polyline clip-path=\"url(#clip1500)\" style=\"stroke:#000000; stroke-width:4; stroke-opacity:1; fill:none\" points=\"\n  644.496,1887.47 644.496,1859.87 \n  \"/>\n<polyline clip-path=\"url(#clip1500)\" style=\"stroke:#000000; stroke-width:4; stroke-opacity:1; fill:none\" points=\"\n  1053.33,1887.47 1053.33,1859.87 \n  \"/>\n<polyline clip-path=\"url(#clip1500)\" style=\"stroke:#000000; stroke-width:4; stroke-opacity:1; fill:none\" points=\"\n  1462.16,1887.47 1462.16,1859.87 \n  \"/>\n<polyline clip-path=\"url(#clip1500)\" style=\"stroke:#000000; stroke-width:4; stroke-opacity:1; fill:none\" points=\"\n  1870.99,1887.47 1870.99,1859.87 \n  \"/>\n<polyline clip-path=\"url(#clip1500)\" style=\"stroke:#000000; stroke-width:4; stroke-opacity:1; fill:none\" points=\"\n  153.898,1803.83 180.881,1803.83 \n  \"/>\n<polyline clip-path=\"url(#clip1500)\" style=\"stroke:#000000; stroke-width:4; stroke-opacity:1; fill:none\" points=\"\n  153.898,1385.59 180.881,1385.59 \n  \"/>\n<polyline clip-path=\"url(#clip1500)\" style=\"stroke:#000000; stroke-width:4; stroke-opacity:1; fill:none\" points=\"\n  153.898,967.359 180.881,967.359 \n  \"/>\n<polyline clip-path=\"url(#clip1500)\" style=\"stroke:#000000; stroke-width:4; stroke-opacity:1; fill:none\" points=\"\n  153.898,549.125 180.881,549.125 \n  \"/>\n<polyline clip-path=\"url(#clip1500)\" style=\"stroke:#000000; stroke-width:4; stroke-opacity:1; fill:none\" points=\"\n  153.898,130.891 180.881,130.891 \n  \"/>\n<g clip-path=\"url(#clip1500)\">\n<text style=\"fill:#000000; fill-opacity:1; font-family:Arial,Helvetica Neue,Helvetica,sans-serif; font-size:48px; text-anchor:middle;\" transform=\"rotate(0, 235.664, 1939.47)\" x=\"235.664\" y=\"1939.47\">0.0</text>\n</g>\n<g clip-path=\"url(#clip1500)\">\n<text style=\"fill:#000000; fill-opacity:1; font-family:Arial,Helvetica Neue,Helvetica,sans-serif; font-size:48px; text-anchor:middle;\" transform=\"rotate(0, 644.496, 1939.47)\" x=\"644.496\" y=\"1939.47\">0.5</text>\n</g>\n<g clip-path=\"url(#clip1500)\">\n<text style=\"fill:#000000; fill-opacity:1; font-family:Arial,Helvetica Neue,Helvetica,sans-serif; font-size:48px; text-anchor:middle;\" transform=\"rotate(0, 1053.33, 1939.47)\" x=\"1053.33\" y=\"1939.47\">1.0</text>\n</g>\n<g clip-path=\"url(#clip1500)\">\n<text style=\"fill:#000000; fill-opacity:1; font-family:Arial,Helvetica Neue,Helvetica,sans-serif; font-size:48px; text-anchor:middle;\" transform=\"rotate(0, 1462.16, 1939.47)\" x=\"1462.16\" y=\"1939.47\">1.5</text>\n</g>\n<g clip-path=\"url(#clip1500)\">\n<text style=\"fill:#000000; fill-opacity:1; font-family:Arial,Helvetica Neue,Helvetica,sans-serif; font-size:48px; text-anchor:middle;\" transform=\"rotate(0, 1870.99, 1939.47)\" x=\"1870.99\" y=\"1939.47\">2.0</text>\n</g>\n<g clip-path=\"url(#clip1500)\">\n<text style=\"fill:#000000; fill-opacity:1; font-family:Arial,Helvetica Neue,Helvetica,sans-serif; font-size:48px; text-anchor:end;\" transform=\"rotate(0, 133.898, 1821.33)\" x=\"133.898\" y=\"1821.33\">0.0</text>\n</g>\n<g clip-path=\"url(#clip1500)\">\n<text style=\"fill:#000000; fill-opacity:1; font-family:Arial,Helvetica Neue,Helvetica,sans-serif; font-size:48px; text-anchor:end;\" transform=\"rotate(0, 133.898, 1403.09)\" x=\"133.898\" y=\"1403.09\">0.5</text>\n</g>\n<g clip-path=\"url(#clip1500)\">\n<text style=\"fill:#000000; fill-opacity:1; font-family:Arial,Helvetica Neue,Helvetica,sans-serif; font-size:48px; text-anchor:end;\" transform=\"rotate(0, 133.898, 984.859)\" x=\"133.898\" y=\"984.859\">1.0</text>\n</g>\n<g clip-path=\"url(#clip1500)\">\n<text style=\"fill:#000000; fill-opacity:1; font-family:Arial,Helvetica Neue,Helvetica,sans-serif; font-size:48px; text-anchor:end;\" transform=\"rotate(0, 133.898, 566.625)\" x=\"133.898\" y=\"566.625\">1.5</text>\n</g>\n<g clip-path=\"url(#clip1500)\">\n<text style=\"fill:#000000; fill-opacity:1; font-family:Arial,Helvetica Neue,Helvetica,sans-serif; font-size:48px; text-anchor:end;\" transform=\"rotate(0, 133.898, 148.391)\" x=\"133.898\" y=\"148.391\">2.0</text>\n</g>\n<circle clip-path=\"url(#clip1502)\" style=\"fill:#000000; stroke:none; fill-opacity:1\" cx=\"1053.33\" cy=\"1803.83\" r=\"18\"/>\n<circle clip-path=\"url(#clip1502)\" style=\"fill:#009af9; stroke:none; fill-opacity:1\" cx=\"1053.33\" cy=\"1803.83\" r=\"14\"/>\n<circle clip-path=\"url(#clip1502)\" style=\"fill:#000000; stroke:none; fill-opacity:1\" cx=\"1462.16\" cy=\"1803.83\" r=\"18\"/>\n<circle clip-path=\"url(#clip1502)\" style=\"fill:#009af9; stroke:none; fill-opacity:1\" cx=\"1462.16\" cy=\"1803.83\" r=\"14\"/>\n<circle clip-path=\"url(#clip1502)\" style=\"fill:#000000; stroke:none; fill-opacity:1\" cx=\"1870.99\" cy=\"1803.83\" r=\"18\"/>\n<circle clip-path=\"url(#clip1502)\" style=\"fill:#009af9; stroke:none; fill-opacity:1\" cx=\"1870.99\" cy=\"1803.83\" r=\"14\"/>\n<circle clip-path=\"url(#clip1502)\" style=\"fill:#000000; stroke:none; fill-opacity:1\" cx=\"1053.33\" cy=\"1594.71\" r=\"18\"/>\n<circle clip-path=\"url(#clip1502)\" style=\"fill:#009af9; stroke:none; fill-opacity:1\" cx=\"1053.33\" cy=\"1594.71\" r=\"14\"/>\n<circle clip-path=\"url(#clip1502)\" style=\"fill:#000000; stroke:none; fill-opacity:1\" cx=\"1462.16\" cy=\"1594.71\" r=\"18\"/>\n<circle clip-path=\"url(#clip1502)\" style=\"fill:#009af9; stroke:none; fill-opacity:1\" cx=\"1462.16\" cy=\"1594.71\" r=\"14\"/>\n<circle clip-path=\"url(#clip1502)\" style=\"fill:#000000; stroke:none; fill-opacity:1\" cx=\"1053.33\" cy=\"1385.59\" r=\"18\"/>\n<circle clip-path=\"url(#clip1502)\" style=\"fill:#009af9; stroke:none; fill-opacity:1\" cx=\"1053.33\" cy=\"1385.59\" r=\"14\"/>\n<circle clip-path=\"url(#clip1502)\" style=\"fill:#000000; stroke:none; fill-opacity:1\" cx=\"644.496\" cy=\"1079.42\" r=\"18\"/>\n<circle clip-path=\"url(#clip1502)\" style=\"fill:#e26f46; stroke:none; fill-opacity:1\" cx=\"644.496\" cy=\"1079.42\" r=\"14\"/>\n<circle clip-path=\"url(#clip1502)\" style=\"fill:#000000; stroke:none; fill-opacity:1\" cx=\"848.911\" cy=\"717.223\" r=\"18\"/>\n<circle clip-path=\"url(#clip1502)\" style=\"fill:#e26f46; stroke:none; fill-opacity:1\" cx=\"848.911\" cy=\"717.223\" r=\"14\"/>\n<circle clip-path=\"url(#clip1502)\" style=\"fill:#000000; stroke:none; fill-opacity:1\" cx=\"1053.33\" cy=\"355.022\" r=\"18\"/>\n<circle clip-path=\"url(#clip1502)\" style=\"fill:#e26f46; stroke:none; fill-opacity:1\" cx=\"1053.33\" cy=\"355.022\" r=\"14\"/>\n<circle clip-path=\"url(#clip1502)\" style=\"fill:#000000; stroke:none; fill-opacity:1\" cx=\"467.466\" cy=\"974.866\" r=\"18\"/>\n<circle clip-path=\"url(#clip1502)\" style=\"fill:#e26f46; stroke:none; fill-opacity:1\" cx=\"467.466\" cy=\"974.866\" r=\"14\"/>\n<circle clip-path=\"url(#clip1502)\" style=\"fill:#000000; stroke:none; fill-opacity:1\" cx=\"671.882\" cy=\"612.665\" r=\"18\"/>\n<circle clip-path=\"url(#clip1502)\" style=\"fill:#e26f46; stroke:none; fill-opacity:1\" cx=\"671.882\" cy=\"612.665\" r=\"14\"/>\n<circle clip-path=\"url(#clip1502)\" style=\"fill:#000000; stroke:none; fill-opacity:1\" cx=\"290.437\" cy=\"870.308\" r=\"18\"/>\n<circle clip-path=\"url(#clip1502)\" style=\"fill:#e26f46; stroke:none; fill-opacity:1\" cx=\"290.437\" cy=\"870.308\" r=\"14\"/>\n</svg>\n"
     },
     "execution_count": 3,
     "metadata": {},
     "output_type": "execute_result"
    }
   ],
   "source": [
    "# array of 2-D points\n",
    "points = [[1,0], [1.5,0], [2,0], [1,0.25], [1.5, 0.25], [1,.5]]\n",
    "\n",
    "# rotated points by comprehension\n",
    "rpoints = [R*p for p in points]\n",
    "\n",
    "using Plots # plot original and rotated points\n",
    "\n",
    "scatter([c[1] for c in points], [c[2] for c in points])\n",
    "scatter!([c[1] for c in rpoints], [c[2] for c in rpoints])\n",
    "plot!(lims = (-0.1, 2.1), size = (500,500), legend = false)"
   ]
  },
  {
   "cell_type": "markdown",
   "metadata": {},
   "source": [
    "**Figure 7.1** Counterclockwise rotation by 60 degrees applied to six points.\n",
    "\n",
    "### 7.2 Selectors\n",
    "**Reverser matrix.** The reverser matrix can be created from an identity matrix by reversing the order of its rows. The Julia command **`reverse(A, dims=1)`** reverses the order of the rows of a matrix; **`flipdim(A, dims=2)`** reverses the order of the columns. \n",
    "\n",
    "Multiplying a vector with a reverser matrix is the same as reversing the order of its entries directly."
   ]
  },
  {
   "cell_type": "code",
   "execution_count": 4,
   "metadata": {},
   "outputs": [
    {
     "data": {
      "text/plain": [
       "reverser (generic function with 1 method)"
      ]
     },
     "execution_count": 4,
     "metadata": {},
     "output_type": "execute_result"
    }
   ],
   "source": [
    "reverser(n) = reverse(eye(n), dims=1)"
   ]
  },
  {
   "cell_type": "code",
   "execution_count": 5,
   "metadata": {},
   "outputs": [
    {
     "data": {
      "text/plain": [
       "5×5 Array{Float64,2}:\n",
       " 0.0  0.0  0.0  0.0  1.0\n",
       " 0.0  0.0  0.0  1.0  0.0\n",
       " 0.0  0.0  1.0  0.0  0.0\n",
       " 0.0  1.0  0.0  0.0  0.0\n",
       " 1.0  0.0  0.0  0.0  0.0"
      ]
     },
     "execution_count": 5,
     "metadata": {},
     "output_type": "execute_result"
    }
   ],
   "source": [
    "A = reverser(5)"
   ]
  },
  {
   "cell_type": "code",
   "execution_count": 6,
   "metadata": {},
   "outputs": [
    {
     "data": {
      "text/plain": [
       "5-element Array{Float64,1}:\n",
       " 5.0\n",
       " 4.0\n",
       " 3.0\n",
       " 2.0\n",
       " 1.0"
      ]
     },
     "execution_count": 6,
     "metadata": {},
     "output_type": "execute_result"
    }
   ],
   "source": [
    "x = [1., 2., 3., 4., 5.]\n",
    "\n",
    "A*x # reverse x by multiplying with reverser matrix"
   ]
  },
  {
   "cell_type": "code",
   "execution_count": 7,
   "metadata": {},
   "outputs": [
    {
     "data": {
      "text/plain": [
       "5-element Array{Float64,1}:\n",
       " 5.0\n",
       " 4.0\n",
       " 3.0\n",
       " 2.0\n",
       " 1.0"
      ]
     },
     "execution_count": 7,
     "metadata": {},
     "output_type": "execute_result"
    }
   ],
   "source": [
    "reverse(x) # reverse x directly"
   ]
  },
  {
   "cell_type": "markdown",
   "metadata": {},
   "source": [
    "**Permutation matrix.** Let us create a permutation matrix and use it to permute the entries of a vector. \n",
    "\n",
    "In Julia, there is no reason to create a matrix to carry out the permutation, since we can do the same thing directly by passing in the permuted indexes to the vector."
   ]
  },
  {
   "cell_type": "code",
   "execution_count": 2,
   "metadata": {},
   "outputs": [
    {
     "data": {
      "text/plain": [
       "3×2 Matrix{Float64}:\n",
       "  2.4   2.4\n",
       "  0.2   0.2\n",
       " -1.7  -1.7"
      ]
     },
     "metadata": {},
     "output_type": "display_data"
    }
   ],
   "source": [
    "A = [0 0 1; 1 0 0; 0 1 0]\n",
    "x = [0.2, -1.7, 2.4]\n",
    "\n",
    "y = A*x # permutes entries of x to [x[3],x[1],x[2]]\n",
    "\n",
    "z = x[[3, 1, 2]] # same using permuted indices\n",
    "\n",
    "hcat(y, z)"
   ]
  },
  {
   "cell_type": "markdown",
   "metadata": {},
   "source": [
    "### 7.3 Incidence matrix\n",
    "**Incidence matrix of a graph.** We create the incidence matrix of the network shown in Figure [7.3](https://web.stanford.edu/~boyd/vmls/vmls.pdf#figure.7.3) in VMLS. "
   ]
  },
  {
   "cell_type": "code",
   "execution_count": 5,
   "metadata": {},
   "outputs": [
    {
     "data": {
      "text/plain": [
       "4×5 Matrix{Int64}:\n",
       " -1  -1   0   1   0\n",
       "  1   0  -1   0   0\n",
       "  0   0   1  -1  -1\n",
       "  0   1   0   0   1"
      ]
     },
     "metadata": {},
     "output_type": "display_data"
    }
   ],
   "source": [
    " A = [-1 -1 0 1 0; 1 0 -1 0 0 ; 0 0 1 -1 -1; 0 1 0 0 1]"
   ]
  },
  {
   "cell_type": "code",
   "execution_count": 6,
   "metadata": {},
   "outputs": [
    {
     "data": {
      "text/plain": [
       "5-element Vector{Int64}:\n",
       "  1\n",
       " -1\n",
       "  1\n",
       "  0\n",
       "  1"
      ]
     },
     "metadata": {},
     "output_type": "display_data"
    }
   ],
   "source": [
    "xcirc = [1, -1, 1, 0, 1] # a circulation"
   ]
  },
  {
   "cell_type": "code",
   "execution_count": 7,
   "metadata": {},
   "outputs": [
    {
     "data": {
      "text/plain": [
       "4-element Vector{Int64}:\n",
       " 0\n",
       " 0\n",
       " 0\n",
       " 0"
      ]
     },
     "metadata": {},
     "output_type": "display_data"
    }
   ],
   "source": [
    "A*xcirc"
   ]
  },
  {
   "cell_type": "code",
   "execution_count": 8,
   "metadata": {},
   "outputs": [
    {
     "data": {
      "text/plain": [
       "4-element Vector{Float64}:\n",
       " 1.1102230246251565e-16\n",
       " 0.0\n",
       " 0.0\n",
       " 0.0"
      ]
     },
     "metadata": {},
     "output_type": "display_data"
    }
   ],
   "source": [
    "s = [1, 0, -1,0] # source vector\n",
    "x = [0.6, 0.3, 0.6, -0.1, -0.3]; # flow vector\n",
    "A*x + s # total inflow at each node"
   ]
  },
  {
   "cell_type": "markdown",
   "metadata": {},
   "source": [
    "**Dirichlet energy.** On page [135](https://web.stanford.edu/~boyd/vmls/vmls.pdf#section*.172) of VMLS we compute the **Dirichlet energy** of two potential vectors associated with the graph of Figure [7.2](https://web.stanford.edu/~boyd/vmls/vmls.pdf#figure.7.2) in VMLS."
   ]
  },
  {
   "cell_type": "code",
   "execution_count": 9,
   "metadata": {},
   "outputs": [
    {
     "data": {
      "text/plain": [
       "4×5 Matrix{Int64}:\n",
       " -1  -1   0   1   0\n",
       "  1   0  -1   0   0\n",
       "  0   0   1  -1  -1\n",
       "  0   1   0   0   1"
      ]
     },
     "metadata": {},
     "output_type": "display_data"
    }
   ],
   "source": [
    "A = [-1 -1 0 1 0; 1 0 -1 0 0; 0 0 1 -1 -1; 0 1 0 0 1]"
   ]
  },
  {
   "cell_type": "code",
   "execution_count": 12,
   "metadata": {},
   "outputs": [
    {
     "data": {
      "text/plain": [
       "4-element Vector{Int64}:\n",
       " 1\n",
       " 2\n",
       " 2\n",
       " 1"
      ]
     },
     "metadata": {},
     "output_type": "display_data"
    }
   ],
   "source": [
    "vsmooth = [1, 2, 2, 1]"
   ]
  },
  {
   "cell_type": "code",
   "execution_count": 11,
   "metadata": {},
   "outputs": [
    {
     "data": {
      "text/plain": [
       "4-element Vector{Int64}:\n",
       "  1\n",
       " -1\n",
       "  2\n",
       " -1"
      ]
     },
     "metadata": {},
     "output_type": "display_data"
    }
   ],
   "source": [
    "vrough = [1, -1, 2, -1]"
   ]
  },
  {
   "cell_type": "code",
   "execution_count": 13,
   "metadata": {},
   "outputs": [
    {
     "data": {
      "text/plain": [
       "(2.9999999999999996, 27.0)"
      ]
     },
     "metadata": {},
     "output_type": "display_data"
    }
   ],
   "source": [
    "norm(A'*vsmooth)^2, norm(A'*vrough)^2 # Dirichlet energy"
   ]
  },
  {
   "cell_type": "markdown",
   "metadata": {},
   "source": [
    "### 7.4 Convolution\n",
    "The Julia package **`DSP` (Digital Signal Processing)** includes a convolution function **`conv`**. After adding this package, **`conv(a,b)`** can be used to compute the convolution of the vectors `a` and `b`. Let’s use this to find the coefficients of the polynomial \n",
    "$$\n",
    "p(x) = (1 + x)(2 − x+ x^2)(1 + x− 2x^2) = 2 + 3x− 3x^2 − x^3 + x^4 − 2x^5.\n",
    "$$"
   ]
  },
  {
   "cell_type": "code",
   "execution_count": 14,
   "metadata": {
    "collapsed": true
   },
   "outputs": [
    {
     "name": "stderr",
     "output_type": "stream",
     "text": [
      "\u001b[32m\u001b[1m    Updating\u001b[22m\u001b[39m registry at `C:\\Users\\kmpetersson\\.julia\\registries\\General.toml`\n"
     ]
    },
    {
     "name": "stderr",
     "output_type": "stream",
     "text": [
      "\u001b[32m\u001b[1m   Resolving\u001b[22m\u001b[39m package versions..."
     ]
    },
    {
     "name": "stderr",
     "output_type": "stream",
     "text": [
      "\n"
     ]
    },
    {
     "name": "stderr",
     "output_type": "stream",
     "text": [
      "\u001b[32m\u001b[1m   Installed\u001b[22m\u001b[39m MKL_jll ───── v2022.1.0+0\n"
     ]
    },
    {
     "name": "stderr",
     "output_type": "stream",
     "text": [
      "\u001b[32m\u001b[1m   Installed\u001b[22m\u001b[39m DSP ───────── v0.7.7\n",
      "\u001b[32m\u001b[1m   Installed\u001b[22m\u001b[39m Polynomials ─ v3.2.0\n"
     ]
    },
    {
     "name": "stderr",
     "output_type": "stream",
     "text": [
      "\u001b[32m\u001b[1m    Updating\u001b[22m\u001b[39m `C:\\Users\\kmpetersson\\.julia\\environments\\v1.8\\Project.toml`\n",
      " \u001b[90m [717857b8] \u001b[39m\u001b[92m+ DSP v0.7.7\u001b[39m\n",
      "\u001b[32m\u001b[1m    Updating\u001b[22m\u001b[39m `C:\\Users\\kmpetersson\\.julia\\environments\\v1.8\\Manifest.toml`\n"
     ]
    },
    {
     "name": "stderr",
     "output_type": "stream",
     "text": [
      " \u001b[90m [717857b8] \u001b[39m\u001b[92m+ DSP v0.7.7\u001b[39m\n",
      " \u001b[90m [7a1cc6ca] \u001b[39m\u001b[92m+ FFTW v1.5.0\u001b[39m\n",
      " \u001b[90m [f27b6e38] \u001b[39m\u001b[92m+ Polynomials v3.2.0\u001b[39m\n",
      " \u001b[90m [f5851436] \u001b[39m\u001b[92m+ FFTW_jll v3.3.10+0\u001b[39m\n",
      " \u001b[90m [1d5cc7b8] \u001b[39m\u001b[92m+ IntelOpenMP_jll v2018.0.3+2\u001b[39m\n",
      " \u001b[90m [856f044c] \u001b[39m\u001b[92m+ MKL_jll v2022.1.0+0\u001b[39m\n",
      " \u001b[90m [4af54fe1] \u001b[39m\u001b[92m+ LazyArtifacts\u001b[39m"
     ]
    },
    {
     "name": "stderr",
     "output_type": "stream",
     "text": [
      "\n",
      "\u001b[32m\u001b[1mPrecompiling\u001b[22m\u001b[39m "
     ]
    },
    {
     "name": "stderr",
     "output_type": "stream",
     "text": [
      "project...\n"
     ]
    },
    {
     "name": "stderr",
     "output_type": "stream",
     "text": [
      "\u001b[32m  ✓ \u001b[39m\u001b[90mIntelOpenMP_jll\u001b[39m\n"
     ]
    },
    {
     "name": "stderr",
     "output_type": "stream",
     "text": [
      "\u001b[32m  ✓ \u001b[39m\u001b[90mFFTW_jll\u001b[39m\n"
     ]
    },
    {
     "name": "stderr",
     "output_type": "stream",
     "text": [
      "\u001b[32m  ✓ \u001b[39m\u001b[90mMKL_jll\u001b[39m\n"
     ]
    },
    {
     "name": "stderr",
     "output_type": "stream",
     "text": [
      "\u001b[32m  ✓ \u001b[39m\u001b[90mPolynomials\u001b[39m\n"
     ]
    },
    {
     "name": "stderr",
     "output_type": "stream",
     "text": [
      "\u001b[32m  ✓ \u001b[39m\u001b[90mFFTW\u001b[39m\n"
     ]
    },
    {
     "name": "stderr",
     "output_type": "stream",
     "text": [
      "\u001b[32m  ✓ \u001b[39mDSP\n"
     ]
    },
    {
     "name": "stderr",
     "output_type": "stream",
     "text": [
      "  6 dependencies successfully precompiled in 9 seconds. 129 already precompiled. 1 skipped during auto due to previous errors.\n"
     ]
    }
   ],
   "source": [
    "#import Pkg; Pkg.add(\"DSP\")"
   ]
  },
  {
   "cell_type": "code",
   "execution_count": 15,
   "metadata": {},
   "outputs": [
    {
     "data": {
      "text/plain": [
       "6-element Vector{Int64}:\n",
       "  2\n",
       "  3\n",
       " -3\n",
       " -1\n",
       "  1\n",
       " -2"
      ]
     },
     "metadata": {},
     "output_type": "display_data"
    }
   ],
   "source": [
    "using DSP\n",
    "\n",
    "a = [1, 1]       # coefficients of 1+x\n",
    "b = [2, -1, 1]    # coefficients of 2-x+x^2\n",
    "c = [1, 1, -2]    # coefficients of 1+x-2x^2\n",
    "d = conv(conv(a,b),c) # coefficients of product"
   ]
  },
  {
   "cell_type": "markdown",
   "metadata": {},
   "source": [
    "Let us write a function that creates a $Toeplitz$ matrix, and check it against the **`conv`** function. We will also see that Julia is using the very efficient method for computing the convolution.\n",
    "\n",
    "To construct the $Toeplitz$ matrix $T(b)$ defined in equation ([7.3](https://web.stanford.edu/~boyd/vmls/vmls.pdf#equation.7.4.3)) of VMLS, we first create a zero matrix of the correct dimensions $((n + m − 1) × n)$ and then add the coefficients $b_i$, one by one. \n",
    "\n",
    "Single-index indexing comes in handy for this purpose. The single-index indexes of the elements $b_i$ in the matrix $T(b)$ are $i, i+m+ n, i+ 2(m+n),..., i+(n−1)(m+ n)$. "
   ]
  },
  {
   "cell_type": "code",
   "execution_count": 16,
   "metadata": {},
   "outputs": [
    {
     "data": {
      "text/plain": [
       "6×4 Matrix{Float64}:\n",
       " -1.0   0.0   0.0   0.0\n",
       "  2.0  -1.0   0.0   0.0\n",
       "  3.0   2.0  -1.0   0.0\n",
       "  0.0   3.0   2.0  -1.0\n",
       "  0.0   0.0   3.0   2.0\n",
       "  0.0   0.0   0.0   3.0"
      ]
     },
     "metadata": {},
     "output_type": "display_data"
    }
   ],
   "source": [
    "function toeplitz(b, n)\n",
    "    m = length(b)\n",
    "    T = zeros(n+m-1, n)\n",
    "    for i=1:m\n",
    "        T[i : n+m : end] .= b[i]\n",
    "    end\n",
    "    return T\n",
    "end\n",
    "\n",
    "b = [-1,2,3]; a = [-2,3,-1,1];\n",
    "\n",
    "Tb = toeplitz(b, length(a))"
   ]
  },
  {
   "cell_type": "code",
   "execution_count": 17,
   "metadata": {},
   "outputs": [
    {
     "data": {
      "text/plain": [
       "([2.0, -7.0, 1.0, 6.0, -1.0, 3.0], [2, -7, 1, 6, -1, 3])"
      ]
     },
     "metadata": {},
     "output_type": "display_data"
    }
   ],
   "source": [
    "Tb*a, conv(b,a)"
   ]
  },
  {
   "cell_type": "code",
   "execution_count": 18,
   "metadata": {},
   "outputs": [
    {
     "name": "stdout",
     "output_type": "stream",
     "text": [
      "  0.086813 seconds (80.60 k allocations: 65.270 MiB, 11.16% gc time, 33.79% compilation time)\n",
      "  0.010876 seconds (128 allocations: 163.359 KiB, 32.85% compilation time)"
     ]
    },
    {
     "name": "stdout",
     "output_type": "stream",
     "text": [
      "\n"
     ]
    },
    {
     "data": {
      "text/plain": [
       "1.5196124589642094e-12"
      ]
     },
     "metadata": {},
     "output_type": "display_data"
    }
   ],
   "source": [
    "m = 2000; n = 2000;\n",
    "b = randn(n); a=randn(m);\n",
    "\n",
    "@time ctoep = toeplitz(b,n)*a;\n",
    "@time cconv = conv(a,b);\n",
    "\n",
    "norm(ctoep - cconv)"
   ]
  }
 ],
 "metadata": {
  "kernelspec": {
   "display_name": "Julia 1.8.0",
   "language": "julia",
   "name": "julia-1.8"
  },
  "language_info": {
   "file_extension": ".jl",
   "mimetype": "application/julia",
   "name": "julia",
   "version": "1.8.0"
  }
 },
 "nbformat": 4,
 "nbformat_minor": 2
}
